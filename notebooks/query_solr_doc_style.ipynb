{
 "cells": [
  {
   "cell_type": "code",
   "execution_count": 3,
   "outputs": [],
   "source": [
    "import json\n",
    "import random\n",
    "from collections import Counter\n",
    "from pathlib import Path\n",
    "from typing import Optional, Dict\n",
    "\n",
    "import matplotlib.pyplot as plt\n",
    "import numpy as np\n",
    "import pysolr\n",
    "from pydantic import BaseModel\n",
    "from tqdm import tqdm\n",
    "\n",
    "from data_loading import load_search_terms\n",
    "from models import SearchTerm"
   ],
   "metadata": {
    "collapsed": false
   }
  },
  {
   "cell_type": "code",
   "execution_count": 4,
   "outputs": [],
   "source": [
    "class Match(BaseModel):\n",
    "    mention: SearchTerm\n",
    "    match: Optional[Dict] = None\n",
    "    matched_string: Optional[str] = None\n",
    "\n",
    "\n",
    "solr_special_chars = '+ - && || ! ( ) { } [ ] ^ \" ~ * ? : /'.split()"
   ],
   "metadata": {
    "collapsed": false
   }
  },
  {
   "cell_type": "code",
   "execution_count": 5,
   "outputs": [
    {
     "data": {
      "text/plain": "'{\\n  \"responseHeader\":{\\n    \"zkConnected\":null,\\n    \"status\":0,\\n    \"QTime\":10,\\n    \"params\":{\\n      \"q\":\"{!lucene}*:*\",\\n      \"distrib\":\"false\",\\n      \"df\":\"_text_\",\\n      \"rows\":\"10\",\\n      \"echoParams\":\"all\",\\n      \"rid\":\"localhost-1\"}},\\n  \"status\":\"OK\"}\\n'"
     },
     "execution_count": 5,
     "metadata": {},
     "output_type": "execute_result"
    }
   ],
   "source": [
    "solr = pysolr.Solr('http://localhost:8983/solr/wumls-single-doc-valued',\n",
    "                   always_commit=False)\n",
    "# solr = pysolr.Solr('http://localhost:8983/solr/wumls-multi-valued', always_commit=False)\n",
    "solr.ping()"
   ],
   "metadata": {
    "collapsed": false
   }
  },
  {
   "cell_type": "code",
   "execution_count": 6,
   "outputs": [],
   "source": [
    "def show_search_score_proportion(matches):\n",
    "    nums_matched = []\n",
    "    scores = [match.match['score'] for match in matches]\n",
    "    x = np.linspace(min(scores), max(scores), 10)\n",
    "    for threshold in x:\n",
    "        num_matched = len([match for match in matches if match.match['score'] > threshold])\n",
    "        nums_matched.append(num_matched / len(matches))\n",
    "\n",
    "    fig, ax = plt.subplots()\n",
    "    ax.plot(x, nums_matched)\n",
    "    ax.set_xlabel(\"score threshold\")\n",
    "    ax.set_ylabel(\"% matched\")\n",
    "    ax.grid()\n",
    "    plt.show()\n"
   ],
   "metadata": {
    "collapsed": false
   }
  },
  {
   "cell_type": "code",
   "execution_count": 7,
   "outputs": [],
   "source": [
    "distances = {True: 1, False: 2}\n",
    "\n",
    "\n",
    "def add_tilde_to_search_terms(term):\n",
    "    return \" AND \".join([s + f\"~{distances[len(s) < 4]}\" for s in term.split(\" \")])"
   ],
   "metadata": {
    "collapsed": false
   }
  },
  {
   "cell_type": "code",
   "execution_count": 8,
   "outputs": [
    {
     "name": "stdout",
     "output_type": "stream",
     "text": [
      "{'cui': ['C0232488'], 'source': ['MDRGER'], 'language': ['GER'], 'name': ['Kolik, Kolik, KOLIK ABDOMINAL, Kolik abdominal, abdominale Kolik'], 'index_term': ['kolik, kolik abdominal, abdominal kolik, kolik, kolik abdominal, abdominale kolik'], 'id': 'c6e9cabb-6279-406e-b740-b7ac0c7d9cf3', '_version_': 1760196500712849435, 'score': 8.273389}\n",
      "{'cui': ['C0266836'], 'source': ['MDRGER'], 'language': ['GER'], 'name': ['infantile Kolik, infantile Kolik, infantile Kolik, Kolik beim Saeugling, Dreimonatskolik, Kolik infantil'], 'index_term': ['infantil kolik, kolik beim saeugling, kolik infantil, dreimonatskolik, kolik beim saeugling, infantile kolik, kolik infantil, dreimonatskolik'], 'id': '01fb3f21-9b6f-4125-a75e-e42d51ab0794', '_version_': 1760196500842872833, 'score': 7.7050924}\n"
     ]
    }
   ],
   "source": [
    "search_term = \"kolik\"\n",
    "# results = solr.search(q=f\"index_term_str:{add_tilde_to_search_terms(search_term)}\", fl=\"*\", rows=10)\n",
    "results = solr.search(q=f\"index_term:{search_term}\", fl=\"*,score\", rows=2)\n",
    "for res in results:\n",
    "    print(res)"
   ],
   "metadata": {
    "collapsed": false
   }
  },
  {
   "cell_type": "code",
   "execution_count": 9,
   "outputs": [],
   "source": [
    "search_terms = load_search_terms()"
   ],
   "metadata": {
    "collapsed": false
   }
  },
  {
   "cell_type": "code",
   "execution_count": 10,
   "outputs": [
    {
     "data": {
      "text/plain": "SearchTerm(annotation=Annotation(tech_term=None, lay_term='Blähungen', type=<TermType.LAY: 'LAY'>, span_start=86, span_end=95, synonyms=['Flatulenzen'], id=6992), stems={'blahung', 'wind', 'luftansammlung im darm', 'blah', 'blaehung', 'meteorismu', 'flatulenz', 'meteorisnu'})"
     },
     "execution_count": 10,
     "metadata": {},
     "output_type": "execute_result"
    }
   ],
   "source": [
    "search_terms.terms[0]"
   ],
   "metadata": {
    "collapsed": false
   }
  },
  {
   "cell_type": "code",
   "execution_count": 11,
   "outputs": [
    {
     "name": "stderr",
     "output_type": "stream",
     "text": [
      "100%|██████████| 7390/7390 [03:23<00:00, 36.39it/s]\n"
     ]
    }
   ],
   "source": [
    "def filter_results_by_common_cuis(results):\n",
    "    cuis = [d['cui'][0] for d in results]\n",
    "    counter = Counter(cuis)\n",
    "    most_common_match_cui = counter.most_common()[0][0]\n",
    "    most_common_match = next(d for d in results if d['cui'][0] == most_common_match_cui)\n",
    "    return most_common_match\n",
    "\n",
    "# matched, not_matched = [], []\n",
    "# for term in tqdm(search_terms.terms):\n",
    "#     try:\n",
    "#         res = solr.search(q=f\"index_term:{' '.join(term.stems)}\", fl=\"*,score\", rows=1)\n",
    "#     except pysolr.SolrError:\n",
    "#         continue\n",
    "#     if not res:\n",
    "#         not_matched.append(Match(mention=term))\n",
    "#     else:\n",
    "#         matched.append(Match(mention=term, match=list(res)[0]))   \n",
    "        \n",
    "matched, not_matched = [], []\n",
    "for term in tqdm(search_terms.terms):\n",
    "    # simple, not weighted majority vote for cui\n",
    "    results = []\n",
    "    for stem in term.stems:\n",
    "        # for char in solr_special_chars:\n",
    "        #     stem = stem.replace(char, '\\\\' + char)\n",
    "        try:\n",
    "            res = solr.search(q=f\"index_term:{stem}\", fl=\"*,score\", rows=1)\n",
    "        except pysolr.SolrError:\n",
    "            continue\n",
    "        if not res:\n",
    "            # print('no res found')\n",
    "            continue\n",
    "        # print('found res')\n",
    "        top_result = list(res)[0]\n",
    "        # if top_result['score'] < .5:\n",
    "        #     continue\n",
    "        top_result['stem'] = stem\n",
    "        results.append(top_result)\n",
    "    if results:\n",
    "        most_common_match = filter_results_by_common_cuis(results=results)\n",
    "        matched.append(Match(mention=term, match=most_common_match, matched_string=most_common_match['stem']))\n",
    "    else:\n",
    "        not_matched.append(Match(mention=term))"
   ],
   "metadata": {
    "collapsed": false
   }
  },
  {
   "cell_type": "code",
   "execution_count": null,
   "outputs": [],
   "source": [
    "path = Path('matched_doc_style.json')\n",
    "if path.exists():\n",
    "    print(\"path exists\")\n",
    "else:\n",
    "    with open(path, 'w') as fp:\n",
    "        json.dump([match.json() for match in matched], fp)"
   ],
   "metadata": {
    "collapsed": false
   }
  },
  {
   "cell_type": "code",
   "execution_count": null,
   "outputs": [],
   "source": [
    "path = Path('not_matched_doc_style.json')\n",
    "if path.exists():\n",
    "    print(\"path exists\")\n",
    "else:\n",
    "    with open(path, 'w') as fp:\n",
    "        json.dump([match.json() for match in not_matched], fp)"
   ],
   "metadata": {
    "collapsed": false
   }
  },
  {
   "cell_type": "code",
   "execution_count": 12,
   "outputs": [
    {
     "name": "stdout",
     "output_type": "stream",
     "text": [
      "len(matched)=7311\n",
      "len(not_matched)=79\n"
     ]
    }
   ],
   "source": [
    "print(f\"{len(matched)=}\")\n",
    "print(f\"{len(not_matched)=}\")\n"
   ],
   "metadata": {
    "collapsed": false
   }
  },
  {
   "cell_type": "code",
   "execution_count": 13,
   "outputs": [],
   "source": [
    "# path = Path('matched_doc_style.json')\n",
    "# with open(path, 'r') as fp:\n",
    "#     matched_loaded = json.load(fp)\n",
    "# matched_loaded = [Match.parse_obj(json.loads(match)) for match in matched_loaded]\n",
    "matched_loaded = matched"
   ],
   "metadata": {
    "collapsed": false
   }
  },
  {
   "cell_type": "code",
   "execution_count": 13,
   "outputs": [],
   "source": [],
   "metadata": {
    "collapsed": false
   }
  },
  {
   "cell_type": "code",
   "execution_count": 14,
   "outputs": [
    {
     "data": {
      "text/plain": "<Figure size 640x480 with 1 Axes>",
      "image/png": "[encoded data removed]"
     },
     "metadata": {},
     "output_type": "display_data"
    }
   ],
   "source": [
    "show_search_score_proportion(matched_loaded)"
   ],
   "metadata": {
    "collapsed": false
   }
  },
  {
   "cell_type": "code",
   "execution_count": 15,
   "outputs": [
    {
     "name": "stdout",
     "output_type": "stream",
     "text": [
      "spiegelung  matched with  ['endoskopie, endoskopie nnb, spiegelung, endoskopie, endoskopie nnb, spiegelung'] (score = 7.453394)\n",
      "\n",
      "sein orga sind all betroff  matched with  ['traurig sein, traurig sein'] (score = 6.6380305)\n",
      "\n",
      "karzinom  matched with  ['epidermoid karzinom, plattenepithelkarzinom, karzinom squamo, karzinom, flachzellig, karzinom, plattenepithel-, karzinom epidermoid, karzinom, epidermoid-, karzinom, plattenepithelial, karzinom squamoes, plattenepithelkarzinom, epidermoides karzinom, karzinom, plattenepithel-, karzinom epidermoid, karzinom, epidermoid-, karzinom, flachzelliges, karzinom, plattenepitheliales'] (score = 4.631187)\n",
      "\n",
      "druck auf dem brustkorb  matched with  ['druck, druck'] (score = 5.6850624)\n",
      "\n",
      "magenschleimhautentzuendung  matched with  ['magenentzundung, gastriti nnb, magenentzuendung, gastriti, gastritis, nich naeh bezeich, magenschleimhautentzundung, entzuendung, mag, magenschleimhautentzuendung, magenkatarrh, gastritis, magenentzuendung, magenentzündung, gastritis, nicht naeher bezeichnet, magenschleimhautentzündung, entzuendung, magen, magenschleimhautentzuendung, magenkatarrh, gastritis nnb'] (score = 4.695339)\n",
      "\n",
      "dol  matched with  ['phlegmasia coerulea dol, phlegmasia cerulea dol, phlegmasia coerulea dolens, phlegmasia cerulea dolens'] (score = 6.6698203)\n",
      "\n",
      "flussig stuhl  matched with  ['brennstoffe, flussig, brennstoffe, flüssige'] (score = 5.9911966)\n",
      "\n",
      "eiweiss im uri ausscheid  matched with  ['eiweiss ak.igg:aknz:pkt:ser:q, eiweiss ak.igg:aknz:pkt:ser:qn'] (score = 6.6851597)\n",
      "\n",
      "schmerz im nierenbereich  matched with  ['schmerz nnb, schmerz, schmerz nnb, schmerz'] (score = 5.001539)\n",
      "\n",
      "appendix vermiformi  matched with  ['wurmfortsatz, appendix, wurmfortsatz, appendix'] (score = 6.5936756)\n",
      "\n"
     ]
    }
   ],
   "source": [
    "def print_n_matches(matches, n=10):\n",
    "    for matched_item in random.sample(matches, n):\n",
    "        annotation = matched_item.mention.annotation\n",
    "        synonyms_from_tlc = matched_item.mention.stems\n",
    "        original_mention = annotation.get_mention()\n",
    "        matched_string = matched_item.matched_string if matched_item.matched_string else synonyms_from_tlc\n",
    "        print(matched_string, \" matched with \", matched_item.match['index_term'],\n",
    "              f\"(score = {matched_item.match['score']})\")\n",
    "        print()\n",
    "\n",
    "\n",
    "print_n_matches(matched_loaded)"
   ],
   "metadata": {
    "collapsed": false
   }
  },
  {
   "cell_type": "code",
   "execution_count": 18,
   "outputs": [
    {
     "name": "stdout",
     "output_type": "stream",
     "text": [
      "4750 / 7311\n",
      "maschi  matched with  ['lebenserhal maschi, lebenserhaltende maschine'] (score = 5.600058)\n",
      "\n",
      "brenn beim pinkel  matched with  ['brenn, fuehl brenn, brenn nnb, gefuehl brennend, brennen nnb, brennen'] (score = 5.3378315)\n",
      "\n",
      "atopisch ekzem  matched with  ['atopie, atopisch, atopie, atopisch'] (score = 6.5936756)\n",
      "\n",
      "appendix vermiformi  matched with  ['wurmfortsatz, appendix, wurmfortsatz, appendix'] (score = 6.5936756)\n",
      "\n",
      "lumbago  matched with  ['aku lumbago, akuter lumbago'] (score = 7.617442)\n",
      "\n",
      "pneumonie  matched with  ['pneumonie eosinophil, eosinophil pneumonie, pneumonie, eosinophil, pneumonie eosinophile, eosinophile pneumonie, pneumonie, eosinophile'] (score = 5.3194695)\n",
      "\n",
      "vertigo  matched with  ['vertigo objektiv, vertigo objektiv'] (score = 6.910166)\n",
      "\n",
      "suppositorium  matched with  ['zapfch, zapfch (gaumen), suppositorium, staphyl, gaumenzapfch, uvula, gaumenzäpfchen, staphyle, zäpfchen (gaumen), suppositorium, zäpfchen, uvula'] (score = 6.3367305)\n",
      "\n",
      "bewegungsschmerz  matched with  ['bewegungsschmerz, bewegungsschmerz'] (score = 9.047806)\n",
      "\n",
      "flussig stuhl  matched with  ['brennstoffe, flussig, brennstoffe, flüssige'] (score = 5.9911966)\n",
      "\n"
     ]
    }
   ],
   "source": [
    "threshold = 5  \n",
    "cutoff_matches = [match for match in matched_loaded if match.match['score'] > threshold]\n",
    "below_cutoff = [match for match in matched_loaded if match.match['score'] <= threshold]\n",
    "print(len(cutoff_matches), '/', len(matched_loaded))\n",
    "print_n_matches(cutoff_matches)"
   ],
   "metadata": {
    "collapsed": false
   }
  },
  {
   "cell_type": "code",
   "execution_count": 19,
   "outputs": [
    {
     "name": "stdout",
     "output_type": "stream",
     "text": [
      "psychisch verfassung dara schuld  matched with  ['unterbringung psychisch krank, unterbringung psychisch kranker'] (score = 4.4948196)\n",
      "\n",
      "vomitu  matched with  ['vomitio, erbrech, vomitu, erbrach, erbrech nnb, emesi, vomitio, vomitus, erbrach, erbrechen nnb, emesis, erbrechen'] (score = 4.417637)\n",
      "\n",
      "ursach  matched with  ['multifaktoriell ursach, multifaktorielle ursache'] (score = 3.8189948)\n",
      "\n",
      "karzinom  matched with  ['epidermoid karzinom, plattenepithelkarzinom, karzinom squamo, karzinom, flachzellig, karzinom, plattenepithel-, karzinom epidermoid, karzinom, epidermoid-, karzinom, plattenepithelial, karzinom squamoes, plattenepithelkarzinom, epidermoides karzinom, karzinom, plattenepithel-, karzinom epidermoid, karzinom, epidermoid-, karzinom, flachzelliges, karzinom, plattenepitheliales'] (score = 4.631187)\n",
      "\n",
      "niernstei  matched with  ['nierenkonkrement, nierenstei nnb, niernstei, nierenstei, nephrolith, calculi renal, nierenstein, nierenkonkremente, nierenkonkrement, calculi renales, niernstein, nierensteine, nephrolith, nierenstein nnb'] (score = 3.8776312)\n",
      "\n",
      "schaedlich  matched with  ['schadlich unkraut, schaedlich unkraut, schaedlich unkraeut, schädliches unkraut, schaedliche unkraeuter, schädliche unkräuter, schaedliches unkraut'] (score = 4.8308144)\n",
      "\n",
      "entzundlich  matched with  ['entzuendlich darmerkrankung, entzuendlich darmerkrankung nnb, ibd, entzundlich darmkrankheit, entzuendliche darmerkrankung, entzündliche darmkrankheiten, entzuendliche darmerkrankung nnb, ibd'] (score = 3.4127412)\n",
      "\n",
      "harnleit  matched with  ['harnleit uebergangszellkarzinom, urothelzellkarzinom des harnleit, uebergangszellkarzinom des harnleit, harnleiter uebergangszellkarzinom, uebergangszellkarzinom des harnleiters, urothelzellkarzinom des harnleiters'] (score = 4.9325266)\n",
      "\n",
      "nier schlech funktionier  matched with  ['nier, nieren, niere'] (score = 4.127403)\n",
      "\n",
      "anu praeternaturali  matched with  ['anu pra, anu praeternaturali, anus praeter, anus praeternaturalis'] (score = 4.982936)\n",
      "\n"
     ]
    }
   ],
   "source": [
    "print_n_matches(below_cutoff)"
   ],
   "metadata": {
    "collapsed": false
   }
  },
  {
   "cell_type": "code",
   "execution_count": null,
   "outputs": [],
   "source": [],
   "metadata": {
    "collapsed": false
   }
  }
 ],
 "metadata": {
  "kernelspec": {
   "display_name": "Python 3",
   "language": "python",
   "name": "python3"
  },
  "language_info": {
   "codemirror_mode": {
    "name": "ipython",
    "version": 2
   },
   "file_extension": ".py",
   "mimetype": "text/x-python",
   "name": "python",
   "nbconvert_exporter": "python",
   "pygments_lexer": "ipython2",
   "version": "2.7.6"
  }
 },
 "nbformat": 4,
 "nbformat_minor": 0
}
