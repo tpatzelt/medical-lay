{
 "cells": [
  {
   "cell_type": "code",
   "execution_count": 4,
   "metadata": {
    "collapsed": true,
    "ExecuteTime": {
     "end_time": "2023-06-17T12:55:59.213099033Z",
     "start_time": "2023-06-17T12:55:59.169956804Z"
    }
   },
   "outputs": [],
   "source": [
    "from tqdm import tqdm\n",
    "import csv\n",
    "import numpy as np\n",
    "from src.config import TLCPaths\n",
    "import json "
   ]
  },
  {
   "cell_type": "code",
   "execution_count": 5,
   "outputs": [],
   "source": [
    "with open(TLCPaths.project_data_path.joinpath(\"mention_and_cui.json\"), \"r\") as f:\n",
    "    data = json.load(f)\n",
    "    X = data[\"X\"]\n",
    "    Y = data[\"Y\"]"
   ],
   "metadata": {
    "collapsed": false,
    "ExecuteTime": {
     "end_time": "2023-06-17T12:55:59.566253489Z",
     "start_time": "2023-06-17T12:55:59.558440115Z"
    }
   }
  },
  {
   "cell_type": "code",
   "execution_count": 6,
   "outputs": [],
   "source": [
    "import sqlite3\n",
    "\n",
    "db_path = \"/home/tim/PycharmProjects/py-umls/databases/umls.db\"\n",
    "db = sqlite3.connect(db_path)\n",
    "cur = db.cursor()"
   ],
   "metadata": {
    "collapsed": false,
    "ExecuteTime": {
     "end_time": "2023-06-17T12:56:00.296916477Z",
     "start_time": "2023-06-17T12:56:00.287245020Z"
    }
   }
  },
  {
   "cell_type": "code",
   "execution_count": 7,
   "outputs": [
    {
     "name": "stdout",
     "output_type": "stream",
     "text": [
      "('C0000005', 'ENG', 'MSH', 'PEP', '(131)I-Macroaggregated Albumin', 'T116|T121|T130')\n",
      "('C0000039', 'ENG', 'MTH', 'PN', '1,2-dipalmitoylphosphatidylcholine', 'T109|T121')\n",
      "('C0000039', 'ENG', 'MSH', 'MH', '1,2-Dipalmitoylphosphatidylcholine', 'T109|T121')\n",
      "('C0000039', 'ENG', 'MSH', 'PM', '1,2 Dipalmitoylphosphatidylcholine', 'T109|T121')\n",
      "('C0000052', 'ENG', 'MTH', 'PN', '1,4-alpha-Glucan Branching Enzyme', 'T116|T126')\n"
     ]
    }
   ],
   "source": [
    "for res in cur.execute(\"SELECT * FROM descriptions WHERE LAT = 'ENG' LIMIT 5\"):\n",
    "    print(res)"
   ],
   "metadata": {
    "collapsed": false,
    "ExecuteTime": {
     "end_time": "2023-06-17T12:56:10.639576716Z",
     "start_time": "2023-06-17T12:56:10.628935674Z"
    }
   }
  },
  {
   "cell_type": "code",
   "execution_count": 19,
   "outputs": [
    {
     "name": "stderr",
     "output_type": "stream",
     "text": [
      "100%|██████████| 381/381 [00:00<00:00, 32274.95it/s]"
     ]
    },
    {
     "name": "stdout",
     "output_type": "stream",
     "text": [
      "331 ['T184']\n"
     ]
    },
    {
     "name": "stderr",
     "output_type": "stream",
     "text": [
      "\n"
     ]
    }
   ],
   "source": [
    "cui = \"C0005903\"\n",
    "def get_semantic_types(cuis):\n",
    "    semantic_types = dict()\n",
    "    for identifier in tqdm(cuis):\n",
    "        sql = f\"SELECT * FROM descriptions WHERE CUI = ? LIMIT 1\"\n",
    "        \n",
    "        try:\n",
    "            res = next(cur.execute(sql, (identifier,)))[-1]\n",
    "            semantic_types[identifier] = res.split(\"|\")\n",
    "        except StopIteration:\n",
    "            print('Semantic type for cui ' + \"'\" + str(identifier) + \"'\" + ' not found')\n",
    "    return semantic_types\n",
    "\n",
    "semantic_types = get_semantic_types(Y)\n",
    "print(len(semantic_types), semantic_types[Y[0]])"
   ],
   "metadata": {
    "collapsed": false,
    "ExecuteTime": {
     "end_time": "2023-06-17T13:15:50.709239817Z",
     "start_time": "2023-06-17T13:15:50.687771473Z"
    }
   }
  },
  {
   "cell_type": "code",
   "execution_count": 24,
   "outputs": [
    {
     "name": "stdout",
     "output_type": "stream",
     "text": [
      "{'T007', 'T060', 'T184', 'T061', 'T048', 'T040', 'T025', 'T059', 'T001', 'T038', 'T037', 'T093', 'T130', 'T109', 'T190', 'T024', 'T123', 'T029', 'T191', 'T047', 'T116', 'T073', 'T020', 'T033', 'T070', 'T121', 'T074', 'T046', 'T131', 'T058', 'T031', 'T091', 'T022', 'T125', 'T023'}\n"
     ]
    }
   ],
   "source": [
    "unique_semantic_types = set()\n",
    "for s_types in semantic_types.values():\n",
    "    for s_type in s_types:\n",
    "        unique_semantic_types.add(s_type)\n",
    "print(unique_semantic_types)"
   ],
   "metadata": {
    "collapsed": false,
    "ExecuteTime": {
     "end_time": "2023-06-17T13:17:34.705852427Z",
     "start_time": "2023-06-17T13:17:34.666070263Z"
    }
   }
  },
  {
   "cell_type": "code",
   "execution_count": 32,
   "outputs": [
    {
     "name": "stdout",
     "output_type": "stream",
     "text": [
      "['Bacterium', 'Diagnostic Procedure', 'Sign or Symptom', 'Therapeutic or Preventive Procedure', 'Mental or Behavioral Dysfunction', 'Organism Function', 'Cell', 'Laboratory Procedure', 'Organism', 'Biologic Function', 'Injury or Poisoning', 'Health Care Related Organization', 'Indicator, Reagent, or Diagnostic Aid', 'Organic Chemical', 'Anatomical Abnormality', 'Tissue', 'Biologically Active Substance', 'Body Location or Region', 'Neoplastic Process', 'Disease or Syndrome', 'Amino Acid, Peptide, or Protein', 'Manufactured Object', 'Acquired Abnormality', 'Finding', 'Natural Phenomenon or Process', 'Pharmacologic Substance', 'Medical Device', 'Pathologic Function', 'Hazardous or Poisonous Substance', 'Health Care Activity', 'Body Substance', 'Biomedical Occupation or Discipline', 'Body System', 'Hormone', 'Body Part, Organ, or Organ Component']\n"
     ]
    }
   ],
   "source": [
    "import requests\n",
    "UMLS_KEY = \"43f9234c-4977-45f6-a440-2dda1b43d919\"\n",
    "\n",
    "s_type_names = []\n",
    "for s_type in unique_semantic_types:\n",
    "    query_url = f\"https://uts-ws.nlm.nih.gov/rest/semantic-network/2022AB/TUI/{s_type}?apiKey={UMLS_KEY}\"\n",
    "    try:\n",
    "        name = requests.get(query_url).json()[\"result\"][\"name\"]\n",
    "    except KeyError:\n",
    "        name = \"unknown\"\n",
    "        print(f\"Unknown semantic type: {s_type}\")\n",
    "    s_type_names.append(name)\n",
    "print(s_type_names)"
   ],
   "metadata": {
    "collapsed": false,
    "ExecuteTime": {
     "end_time": "2023-06-17T13:36:12.395291185Z",
     "start_time": "2023-06-17T13:35:37.322796475Z"
    }
   }
  },
  {
   "cell_type": "code",
   "execution_count": null,
   "outputs": [],
   "source": [],
   "metadata": {
    "collapsed": false
   }
  }
 ],
 "metadata": {
  "kernelspec": {
   "display_name": "Python 3",
   "language": "python",
   "name": "python3"
  },
  "language_info": {
   "codemirror_mode": {
    "name": "ipython",
    "version": 2
   },
   "file_extension": ".py",
   "mimetype": "text/x-python",
   "name": "python",
   "nbconvert_exporter": "python",
   "pygments_lexer": "ipython2",
   "version": "2.7.6"
  }
 },
 "nbformat": 4,
 "nbformat_minor": 0
}
