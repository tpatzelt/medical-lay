{
 "cells": [
  {
   "cell_type": "code",
   "execution_count": 11,
   "outputs": [],
   "source": [
    "import json\n",
    "import time\n",
    "from collections import Counter\n",
    "\n",
    "import pysolr\n",
    "from tqdm import tqdm\n",
    "from config import TLCPaths\n",
    "from models import Match\n",
    "from data_loading import load_search_terms"
   ],
   "metadata": {
    "collapsed": false,
    "ExecuteTime": {
     "start_time": "2023-04-03T09:46:14.801720Z",
     "end_time": "2023-04-03T09:46:14.846942Z"
    }
   }
  },
  {
   "cell_type": "code",
   "execution_count": 3,
   "outputs": [
    {
     "data": {
      "text/plain": "'{\\n  \"responseHeader\":{\\n    \"zkConnected\":null,\\n    \"status\":0,\\n    \"QTime\":15,\\n    \"params\":{\\n      \"q\":\"{!lucene}*:*\",\\n      \"distrib\":\"false\",\\n      \"df\":\"_text_\",\\n      \"rows\":\"10\",\\n      \"echoParams\":\"all\",\\n      \"rid\":\"localhost-1\"}},\\n  \"status\":\"OK\"}\\n'"
     },
     "execution_count": 3,
     "metadata": {},
     "output_type": "execute_result"
    }
   ],
   "source": [
    "solr = pysolr.Solr('http://localhost:8983/solr/wumls-single-valued-deduplicated',\n",
    "                   always_commit=False)\n",
    "# solr = pysolr.Solr('http://localhost:8983/solr/wumls-multi-valued', always_commit=False)\n",
    "solr.ping()"
   ],
   "metadata": {
    "collapsed": false,
    "ExecuteTime": {
     "start_time": "2023-04-03T09:31:28.345775Z",
     "end_time": "2023-04-03T09:31:28.397248Z"
    }
   }
  },
  {
   "cell_type": "code",
   "execution_count": 4,
   "outputs": [],
   "source": [
    "def create_query_with_edit_distance(term):\n",
    "    return \"{!func}strdist('\" + term + \"',index_term,edit)\"\n",
    "\n",
    "\n",
    "def filter_results_by_common_cuis(results):\n",
    "    cuis = [d['cui'][0] for d in results]\n",
    "    counter = Counter(cuis)\n",
    "    most_common_match_cui = counter.most_common()[0][0]\n",
    "    most_common_match = next(d for d in results if d['cui'][0] == most_common_match_cui)\n",
    "    return most_common_match\n",
    "\n",
    "\n",
    "def filter_results_by_highest_score(results):\n",
    "    score = 0\n",
    "    top_result = None\n",
    "    for result in results:\n",
    "        if result[\"score\"] > score:\n",
    "            top_result = result\n",
    "            score = result[\"score\"]\n",
    "    return top_result\n"
   ],
   "metadata": {
    "collapsed": false,
    "ExecuteTime": {
     "start_time": "2023-04-03T09:31:29.811224Z",
     "end_time": "2023-04-03T09:31:29.839684Z"
    }
   }
  },
  {
   "cell_type": "code",
   "execution_count": 5,
   "outputs": [
    {
     "name": "stdout",
     "output_type": "stream",
     "text": [
      "{'cui': ['C0034186'], 'source': ['MDRGER'], 'language': ['GER'], 'name': ['Pyelonephritis'], 'index_term': ['pyelonephriti'], 'id': 'c8b1ada1-826d-46fa-a6fb-186add6196a1', '_version_': 1760194257981800490, 'score': 5.497966}\n",
      "{'cui': ['C0022667'], 'source': ['MSHGER'], 'language': ['GER'], 'name': ['Nekrotisierende Pyelonephritis'], 'index_term': ['nekrotisier pyelonephriti'], 'id': '0fd0839d-370c-4761-8ea2-676e0c654d9f', '_version_': 1760194257740627992, 'score': 4.649174}\n"
     ]
    }
   ],
   "source": [
    "search_term = \"pyelonephriti\"\n",
    "results = solr.search(q=f\"index_term:{search_term}\", fl=\"*, score\", rows=2)\n",
    "for res in results:\n",
    "    print(res)"
   ],
   "metadata": {
    "collapsed": false,
    "ExecuteTime": {
     "start_time": "2023-04-03T09:31:31.683549Z",
     "end_time": "2023-04-03T09:31:31.731328Z"
    }
   }
  },
  {
   "cell_type": "code",
   "execution_count": 7,
   "outputs": [],
   "source": [
    "with open('search_terms_single_and_ids.json', 'r') as fp:\n",
    "    terms_and_ids = json.load(fp)"
   ],
   "metadata": {
    "collapsed": false,
    "ExecuteTime": {
     "start_time": "2023-04-03T09:32:08.542377Z",
     "end_time": "2023-04-03T09:32:08.590906Z"
    }
   }
  },
  {
   "cell_type": "code",
   "execution_count": 10,
   "outputs": [
    {
     "name": "stderr",
     "output_type": "stream",
     "text": [
      "100%|██████████| 998/998 [10:48<00:00,  1.54it/s]\n"
     ]
    }
   ],
   "source": [
    "all_results = []\n",
    "for stem in tqdm(terms_and_ids):\n",
    "    try:\n",
    "        res = solr.search(q=create_query_with_edit_distance(term=stem), fl=\"*,score\", rows=1)\n",
    "    except pysolr.SolrError:\n",
    "        continue\n",
    "    top_result = list(res)[0]\n",
    "    top_result['stem'] = stem\n",
    "    all_results.append(top_result)"
   ],
   "metadata": {
    "collapsed": false,
    "ExecuteTime": {
     "start_time": "2023-04-03T09:34:56.247678Z",
     "end_time": "2023-04-03T09:45:44.327354Z"
    }
   }
  },
  {
   "cell_type": "code",
   "execution_count": 31,
   "outputs": [
    {
     "data": {
      "text/plain": "{'cui': ['C0034186'],\n 'source': ['MDRGER'],\n 'language': ['GER'],\n 'name': ['Pyelonephritis'],\n 'index_term': ['pyelonephriti'],\n 'id': 'c8b1ada1-826d-46fa-a6fb-186add6196a1',\n '_version_': 1760194257981800490,\n 'score': 1.0,\n 'stem': 'pyelonephriti'}"
     },
     "execution_count": 31,
     "metadata": {},
     "output_type": "execute_result"
    }
   ],
   "source": [
    "all_results[0]"
   ],
   "metadata": {
    "collapsed": false,
    "ExecuteTime": {
     "start_time": "2023-04-03T10:06:37.648581Z",
     "end_time": "2023-04-03T10:06:37.694644Z"
    }
   }
  },
  {
   "cell_type": "code",
   "execution_count": 33,
   "outputs": [
    {
     "data": {
      "text/plain": "0"
     },
     "execution_count": 33,
     "metadata": {},
     "output_type": "execute_result"
    }
   ],
   "source": [
    "sum(['cui' not in res for res in all_results])"
   ],
   "metadata": {
    "collapsed": false,
    "ExecuteTime": {
     "start_time": "2023-04-03T10:07:02.550007Z",
     "end_time": "2023-04-03T10:07:02.590563Z"
    }
   }
  },
  {
   "cell_type": "code",
   "execution_count": 34,
   "outputs": [
    {
     "name": "stderr",
     "output_type": "stream",
     "text": [
      "100%|██████████| 998/998 [00:00<00:00, 536380.75it/s]\n"
     ]
    }
   ],
   "source": [
    "matched, not_matched = [], []\n",
    "for result in tqdm(all_results):\n",
    "    \n",
    "    if result:\n",
    "        matched.append(result)\n",
    "    else:\n",
    "        not_matched.append(result) # solr always matches"
   ],
   "metadata": {
    "collapsed": false,
    "ExecuteTime": {
     "start_time": "2023-04-03T10:07:32.354937Z",
     "end_time": "2023-04-03T10:07:32.400157Z"
    }
   }
  },
  {
   "cell_type": "code",
   "execution_count": 35,
   "outputs": [
    {
     "name": "stdout",
     "output_type": "stream",
     "text": [
      "len(matched)=998\n",
      "len(not_matched)=0\n"
     ]
    }
   ],
   "source": [
    "print(f\"{len(matched)=}\")\n",
    "print(f\"{len(not_matched)=}\")"
   ],
   "metadata": {
    "collapsed": false,
    "ExecuteTime": {
     "start_time": "2023-04-03T10:07:33.596047Z",
     "end_time": "2023-04-03T10:07:33.624318Z"
    }
   }
  },
  {
   "cell_type": "code",
   "execution_count": 36,
   "outputs": [],
   "source": [
    "path = TLCPaths.project_data_path.joinpath(f'matched_solr_{time.strftime(\"%Y%m%d-%H%M%S\")}.json')\n",
    "with open(path, 'w') as fp:\n",
    "    json.dump([match for match in matched], fp)"
   ],
   "metadata": {
    "collapsed": false,
    "ExecuteTime": {
     "start_time": "2023-04-03T10:07:34.612750Z",
     "end_time": "2023-04-03T10:07:34.648596Z"
    }
   }
  },
  {
   "cell_type": "code",
   "execution_count": 37,
   "outputs": [],
   "source": [
    "path = TLCPaths.project_data_path.joinpath(\n",
    "    f'not_matched_solr_{time.strftime(\"%Y%m%d-%H%M%S\")}.json')\n",
    "with open(path, 'w') as fp:\n",
    "    json.dump([match for match in not_matched], fp)"
   ],
   "metadata": {
    "collapsed": false,
    "ExecuteTime": {
     "start_time": "2023-04-03T10:07:35.072159Z",
     "end_time": "2023-04-03T10:07:35.074679Z"
    }
   }
  },
  {
   "cell_type": "code",
   "execution_count": null,
   "outputs": [],
   "source": [],
   "metadata": {
    "collapsed": false
   }
  }
 ],
 "metadata": {
  "kernelspec": {
   "display_name": "Python 3",
   "language": "python",
   "name": "python3"
  },
  "language_info": {
   "codemirror_mode": {
    "name": "ipython",
    "version": 2
   },
   "file_extension": ".py",
   "mimetype": "text/x-python",
   "name": "python",
   "nbconvert_exporter": "python",
   "pygments_lexer": "ipython2",
   "version": "2.7.6"
  }
 },
 "nbformat": 4,
 "nbformat_minor": 0
}
