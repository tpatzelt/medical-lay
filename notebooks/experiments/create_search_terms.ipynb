{
 "cells": [
  {
   "cell_type": "code",
   "execution_count": 1,
   "metadata": {
    "collapsed": true,
    "ExecuteTime": {
     "start_time": "2023-04-06T09:15:53.238856Z",
     "end_time": "2023-04-06T09:15:53.273554Z"
    }
   },
   "outputs": [],
   "source": [
    "import config\n",
    "from data_loading import create_tlc_json_files, load_search_terms, create_search_terms_json_file"
   ]
  },
  {
   "cell_type": "code",
   "execution_count": 2,
   "outputs": [
    {
     "name": "stderr",
     "output_type": "stream",
     "text": [
      "100%|██████████| 3996/3996 [00:07<00:00, 502.50it/s]\n"
     ]
    }
   ],
   "source": [
    "samples = create_tlc_json_files()"
   ],
   "metadata": {
    "collapsed": false,
    "ExecuteTime": {
     "start_time": "2023-04-06T09:15:53.276592Z",
     "end_time": "2023-04-06T09:16:01.973837Z"
    }
   }
  },
  {
   "cell_type": "code",
   "execution_count": 3,
   "outputs": [
    {
     "name": "stderr",
     "output_type": "stream",
     "text": [
      "100%|██████████| 54612100/54612100 [00:32<00:00, 1687521.90it/s]\n",
      "100%|██████████| 54612100/54612100 [00:33<00:00, 1645575.62it/s]\n"
     ]
    }
   ],
   "source": [
    "_ = create_search_terms_json_file()\n"
   ],
   "metadata": {
    "collapsed": false,
    "ExecuteTime": {
     "start_time": "2023-04-06T09:16:01.975892Z",
     "end_time": "2023-04-06T09:17:08.849091Z"
    }
   }
  },
  {
   "cell_type": "code",
   "execution_count": 4,
   "outputs": [
    {
     "name": "stdout",
     "output_type": "stream",
     "text": [
      "search terms are now saved under /home/tim/PycharmProjects/medical-lay/data/tlc_search_terms.json\n"
     ]
    }
   ],
   "source": [
    "print(f\"search terms are now saved under {config.TLCPaths.search_term_file}\")"
   ],
   "metadata": {
    "collapsed": false,
    "ExecuteTime": {
     "start_time": "2023-04-06T09:17:08.850063Z",
     "end_time": "2023-04-06T09:17:08.853550Z"
    }
   }
  },
  {
   "cell_type": "code",
   "execution_count": 5,
   "outputs": [],
   "source": [
    "search_terms = load_search_terms()"
   ],
   "metadata": {
    "collapsed": false,
    "ExecuteTime": {
     "start_time": "2023-04-06T09:17:08.853954Z",
     "end_time": "2023-04-06T09:17:09.342421Z"
    }
   }
  },
  {
   "cell_type": "code",
   "execution_count": 6,
   "outputs": [
    {
     "name": "stdout",
     "output_type": "stream",
     "text": [
      "Hämatokrit zu niedrig Hämatokrit zu niedrig,\n",
      "schwachen  Krankheitsangst schwachen \n",
      "Krankheitsangst\n",
      "schmerzhafte Harnentleerung schmerzhafte\n",
      "Harnentleerung\n",
      "fielen die Haare büschelweise aus fielen die Haare büschelweise aus.\n",
      "Jetzt habe seit einer Woche Husten/Heiserkeit/ab und an Räuspern/ leichtes brennen auf der Zunge und ein wenig Schleim im Rachen Jetzt habe seit einer Woche Husten/Heiserkeit/ab und an Räuspern/ leichtes brennen auf der Zunge und ein wenig Schleim im Rachen.\n"
     ]
    }
   ],
   "source": [
    "# validate that sample spans are correct\n",
    "for sample in samples:\n",
    "    for annotation in sample.annotations:\n",
    "        annotation_mention = annotation.get_mention()\n",
    "        mention_by_spans = sample.text[annotation.span_start:annotation.span_end]\n",
    "        if annotation_mention != mention_by_spans:\n",
    "            print(annotation_mention, mention_by_spans)"
   ],
   "metadata": {
    "collapsed": false,
    "ExecuteTime": {
     "start_time": "2023-04-06T09:17:09.349781Z",
     "end_time": "2023-04-06T09:17:09.352842Z"
    }
   }
  },
  {
   "cell_type": "code",
   "execution_count": null,
   "outputs": [],
   "source": [],
   "metadata": {
    "collapsed": false
   }
  }
 ],
 "metadata": {
  "kernelspec": {
   "display_name": "Python 3",
   "language": "python",
   "name": "python3"
  },
  "language_info": {
   "codemirror_mode": {
    "name": "ipython",
    "version": 2
   },
   "file_extension": ".py",
   "mimetype": "text/x-python",
   "name": "python",
   "nbconvert_exporter": "python",
   "pygments_lexer": "ipython2",
   "version": "2.7.6"
  }
 },
 "nbformat": 4,
 "nbformat_minor": 0
}
