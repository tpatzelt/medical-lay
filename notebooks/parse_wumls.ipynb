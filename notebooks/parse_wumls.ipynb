{
 "cells": [
  {
   "cell_type": "code",
   "execution_count": 1,
   "metadata": {
    "collapsed": true
   },
   "outputs": [],
   "source": [
    "import csv\n",
    "from collections import defaultdict\n",
    "from pydantic import BaseModel\n",
    "from typing import List\n",
    "from cistem import  stem\n",
    "import json\n",
    "from collections import Counter\n",
    "from models import IntGenerator\n",
    "from pydantic import Field\n",
    "from config import TLCPaths\n",
    "from models import WUMLSEntry, WUMLSMultiValuedEntry"
   ]
  },
  {
   "cell_type": "code",
   "execution_count": 2,
   "outputs": [],
   "source": [
    "wumls_file = '/home/tim/MedicalLay/WUMLS/MRCONSO_WUMLS_GER.RRF'\n"
   ],
   "metadata": {
    "collapsed": false
   }
  },
  {
   "cell_type": "markdown",
   "source": [
    "## multi valued search fields in solr"
   ],
   "metadata": {
    "collapsed": false
   }
  },
  {
   "cell_type": "code",
   "execution_count": 3,
   "outputs": [],
   "source": [
    "entries = {}\n",
    "\n",
    "i = 0\n",
    "with open(wumls_file, newline='\\n') as csvfile:\n",
    "    spamreader = csv.reader(csvfile, delimiter='|')\n",
    "    for row in spamreader:\n",
    "        cui = row[0]\n",
    "        language = row[1]\n",
    "        source = row[11]\n",
    "        name = row[14]\n",
    "        if cui in entries:\n",
    "            entries[cui].names.append(name)\n",
    "        else:\n",
    "            entry = WUMLSMultiValuedEntry(cui=cui, language=language, names=[name], source=source)\n",
    "            entries[cui] = entry\n",
    "        \n",
    "        # if i == 10:\n",
    "        #     break\n",
    "        # i += 1"
   ],
   "metadata": {
    "collapsed": false
   }
  },
  {
   "cell_type": "code",
   "execution_count": 4,
   "outputs": [],
   "source": [
    "for cui, entry in entries.items():\n",
    "    index_terms = []\n",
    "    for name in entry.names:\n",
    "            index_terms.append(\" \".join([stem(word) for word in name.split(\" \")]))\n",
    "    entry.index_terms.extend(set(index_terms))\n",
    "    entry.index_terms.extend(set([name.lower() for name in entry.names])) "
   ],
   "metadata": {
    "collapsed": false
   }
  },
  {
   "cell_type": "code",
   "execution_count": 5,
   "outputs": [],
   "source": [
    "with open(TLCPaths.project_data_path.joinpath(\"wumls_index_terms_multi_valued.json\"), \"w\") as fp:\n",
    "    json.dump([entry.dict() for entry in entries.values()], fp)"
   ],
   "metadata": {
    "collapsed": false
   }
  },
  {
   "cell_type": "markdown",
   "source": [
    "## single valued search fields in solr"
   ],
   "metadata": {
    "collapsed": false
   }
  },
  {
   "cell_type": "code",
   "execution_count": 6,
   "outputs": [],
   "source": [
    "entries = []\n",
    "\n",
    "i = 0\n",
    "with open(wumls_file, newline='\\n') as csvfile:\n",
    "    spamreader = csv.reader(csvfile, delimiter='|')\n",
    "    for row in spamreader:\n",
    "        cui = row[0]\n",
    "        language = row[1]\n",
    "        source = row[11]\n",
    "        name = row[14]\n",
    "        \n",
    "        index_term = \" \".join([stem(word) for word in name.split(\" \")])\n",
    "        entry = WUMLSEntry(cui=cui, language=language, name=name, source=source, index_term=index_term)\n",
    "        entries.append(entry)\n",
    "        # if i == 10:\n",
    "        #     break\n",
    "        # i += 1"
   ],
   "metadata": {
    "collapsed": false
   }
  },
  {
   "cell_type": "code",
   "execution_count": 7,
   "outputs": [
    {
     "data": {
      "text/plain": "WUMLSEntry(cui='C0018563', source='WIKTIONARY', language='GER', name='hand', index_term='hand')"
     },
     "execution_count": 7,
     "metadata": {},
     "output_type": "execute_result"
    }
   ],
   "source": [
    "entries[0]"
   ],
   "metadata": {
    "collapsed": false
   }
  },
  {
   "cell_type": "code",
   "execution_count": 8,
   "outputs": [],
   "source": [
    "with open(TLCPaths.project_data_path.joinpath(\"wumls_index_terms_single_valued.json\"), \"w\") as fp:\n",
    "    json.dump([entry.dict() for entry in entries], fp)"
   ],
   "metadata": {
    "collapsed": false
   }
  },
  {
   "cell_type": "code",
   "execution_count": 9,
   "outputs": [],
   "source": [
    "uniques = {}\n",
    "duplicates = defaultdict(list)\n",
    "for entry in entries:\n",
    "    if entry.index_term in uniques:\n",
    "        if len(duplicates[entry.index_term]) == 0:\n",
    "            duplicates[entry.index_term].append(uniques[entry.index_term])\n",
    "        duplicates[entry.index_term].append(entry)\n",
    "    else:\n",
    "        uniques[entry.index_term] = entry"
   ],
   "metadata": {
    "collapsed": false
   }
  },
  {
   "cell_type": "code",
   "execution_count": 10,
   "outputs": [],
   "source": [
    "deduplicated = []\n",
    "for name, single_duplicates in duplicates.items():\n",
    "    cuis = [entry.cui for entry in single_duplicates]\n",
    "    cui_counts = Counter(cuis)\n",
    "    # print(cui_counts)\n",
    "    most_common_cui = list(cui_counts)[0]\n",
    "    common_entry = next(entry for entry in single_duplicates if entry.cui == most_common_cui)\n",
    "    deduplicated.append(common_entry)\n",
    "    "
   ],
   "metadata": {
    "collapsed": false
   }
  },
  {
   "cell_type": "code",
   "execution_count": 10,
   "outputs": [],
   "source": [],
   "metadata": {
    "collapsed": false
   }
  },
  {
   "cell_type": "code",
   "execution_count": 11,
   "outputs": [],
   "source": [
    "for entry in deduplicated:\n",
    "    uniques[entry.index_term] = entry"
   ],
   "metadata": {
    "collapsed": false
   }
  },
  {
   "cell_type": "code",
   "execution_count": 12,
   "outputs": [
    {
     "name": "stdout",
     "output_type": "stream",
     "text": [
      "178719 30726\n",
      "2.0\n"
     ]
    }
   ],
   "source": [
    "print(len(uniques), len(deduplicated))\n",
    "mean_dup_len = sum([len(x) for x in duplicates.items()]) / len(duplicates)\n",
    "print(mean_dup_len)"
   ],
   "metadata": {
    "collapsed": false
   }
  },
  {
   "cell_type": "code",
   "execution_count": 13,
   "outputs": [],
   "source": [
    "# for term, entry in uniques.items():\n",
    "#     dup = [d_entry for d_entry in uniques.values() if d_entry.name == term and entry != d_entry]\n",
    "#     if dup:\n",
    "#         print(entry, dup)"
   ],
   "metadata": {
    "collapsed": false
   }
  },
  {
   "cell_type": "code",
   "execution_count": 14,
   "outputs": [],
   "source": [
    "with open(TLCPaths.project_data_path.joinpath(\"wumls_index_terms_multi_valued_deduplicated.json\"), \"w\") as fp:\n",
    "    json.dump([entry.dict() for entry in uniques.values()], fp)"
   ],
   "metadata": {
    "collapsed": false
   }
  },
  {
   "cell_type": "code",
   "execution_count": 15,
   "outputs": [
    {
     "data": {
      "text/plain": "{'cui': 'C4087539',\n 'source': 'MDRGER',\n 'language': 'GER',\n 'name': 'Schlafstoerung durch Schichtarbeit',\n 'index_term': 'schlafstoerung durch schichtarbeit'}"
     },
     "execution_count": 15,
     "metadata": {},
     "output_type": "execute_result"
    }
   ],
   "source": [
    "entry.dict()"
   ],
   "metadata": {
    "collapsed": false
   }
  },
  {
   "cell_type": "markdown",
   "source": [
    "## document style valued search fields"
   ],
   "metadata": {
    "collapsed": false
   }
  },
  {
   "cell_type": "code",
   "execution_count": 16,
   "outputs": [],
   "source": [
    "entries = {}\n",
    "\n",
    "i = 0\n",
    "with open(wumls_file, newline='\\n') as csvfile:\n",
    "    spamreader = csv.reader(csvfile, delimiter='|')\n",
    "    for row in spamreader:\n",
    "        cui = row[0]\n",
    "        language = row[1]\n",
    "        source = row[11]\n",
    "        name = row[14]\n",
    "        if cui in entries:\n",
    "            entries[cui].names.append(name)\n",
    "        else:\n",
    "            entry = WUMLSMultiValuedEntry(cui=cui, language=language, names=[name], source=source)\n",
    "            entries[cui] = entry"
   ],
   "metadata": {
    "collapsed": false
   }
  },
  {
   "cell_type": "code",
   "execution_count": 17,
   "outputs": [],
   "source": [
    "for cui, entry in entries.items():\n",
    "    index_terms = []\n",
    "    for name in entry.names:\n",
    "            index_terms.append(\" \".join([stem(word) for word in name.split(\" \")]))\n",
    "    entry.index_terms.extend(set(index_terms))\n",
    "    entry.index_terms.extend(set([name.lower() for name in entry.names])) "
   ],
   "metadata": {
    "collapsed": false
   }
  },
  {
   "cell_type": "code",
   "execution_count": 10,
   "outputs": [],
   "source": [
    "doc_entries = []\n",
    "for cui, entry in entries.items():\n",
    "    joined_names = \", \".join(entry.names)\n",
    "    joined_index_terms = \", \".join(entry.index_terms)\n",
    "    entry = WUMLSEntry(cui=cui, language=entry.language, source=entry.source, name=joined_names, index_term=joined_index_terms)\n",
    "    doc_entries.append(entry)"
   ],
   "metadata": {
    "collapsed": false
   }
  },
  {
   "cell_type": "code",
   "execution_count": 11,
   "outputs": [
    {
     "data": {
      "text/plain": "'transferbericht:ergebnis:zeitpunkt:{setting}:dokument:hals-nasen-ohrenheilku, transferbericht:ergebnis:zeitpunkt:{setting}:dokument:hals-nasen-ohrenheilkunde'"
     },
     "execution_count": 11,
     "metadata": {},
     "output_type": "execute_result"
    }
   ],
   "source": [
    "entry.index_term"
   ],
   "metadata": {
    "collapsed": false
   }
  },
  {
   "cell_type": "code",
   "execution_count": 12,
   "outputs": [],
   "source": [
    "with open(\"/home/tim/MedicalLay/WUMLS/wumls_index_terms_single_doc_valued.json\", \"w\") as fp:\n",
    "    json.dump([entry.dict() for entry in doc_entries], fp)"
   ],
   "metadata": {
    "collapsed": false
   }
  },
  {
   "cell_type": "code",
   "execution_count": null,
   "outputs": [],
   "source": [],
   "metadata": {
    "collapsed": false
   }
  }
 ],
 "metadata": {
  "kernelspec": {
   "display_name": "Python 3",
   "language": "python",
   "name": "python3"
  },
  "language_info": {
   "codemirror_mode": {
    "name": "ipython",
    "version": 2
   },
   "file_extension": ".py",
   "mimetype": "text/x-python",
   "name": "python",
   "nbconvert_exporter": "python",
   "pygments_lexer": "ipython2",
   "version": "2.7.6"
  }
 },
 "nbformat": 4,
 "nbformat_minor": 0
}
