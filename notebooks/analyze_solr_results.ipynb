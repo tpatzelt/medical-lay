{
 "cells": [
  {
   "cell_type": "code",
   "execution_count": 25,
   "outputs": [],
   "source": [
    "import json\n",
    "import random\n",
    "from pathlib import Path\n",
    "\n",
    "import matplotlib.pyplot as plt\n",
    "import numpy as np\n",
    "from termcolor import colored\n",
    "\n",
    "from data_loading import load_tlc_samples\n",
    "from models import Match, SampleCollection\n",
    "from config import TLCPaths"
   ],
   "metadata": {
    "collapsed": false
   }
  },
  {
   "cell_type": "code",
   "execution_count": 26,
   "outputs": [],
   "source": [
    "def show_search_score_proportion(matches):\n",
    "    nums_matched = []\n",
    "    x = np.linspace(0, 1, 10)\n",
    "    for threshold in x:\n",
    "        num_matched = len([match for match in matches if match.match['score'] > threshold])\n",
    "        nums_matched.append(num_matched / len(matches))\n",
    "\n",
    "    fig, ax = plt.subplots()\n",
    "    ax.plot(x, nums_matched)\n",
    "    ax.set_xlabel(\"score threshold\")\n",
    "    ax.set_ylabel(\"% matched\")\n",
    "    ax.grid()\n",
    "    plt.show()\n"
   ],
   "metadata": {
    "collapsed": false
   }
  },
  {
   "cell_type": "code",
   "execution_count": 27,
   "outputs": [
    {
     "name": "stdout",
     "output_type": "stream",
     "text": [
      "matched_solr_TIME.json\n",
      "not_matched_solr_TIME.json\n"
     ]
    }
   ],
   "source": [
    "for file in TLCPaths.project_data_path.iterdir():\n",
    "    if \"matched_solr\" in str(file.name):\n",
    "        print(file.name)"
   ],
   "metadata": {
    "collapsed": false
   }
  },
  {
   "cell_type": "code",
   "execution_count": 28,
   "outputs": [],
   "source": [
    "matched_file_path = TLCPaths.project_data_path.joinpath(\"matched_solr_TIME.json\")\n",
    "not_matched_file_path = TLCPaths.project_data_path.joinpath(\"not_matched_solr_TIME.json\")\n",
    "# load the two json files \n",
    "with open(matched_file_path, \"r\") as f:\n",
    "    matched = [Match.parse_raw(x) for x in json.load(f)]\n",
    "with open(not_matched_file_path, \"r\") as f:\n",
    "    not_matched = [Match.parse_raw(x) for x in json.load(f)]"
   ],
   "metadata": {
    "collapsed": false
   }
  },
  {
   "cell_type": "code",
   "execution_count": 29,
   "outputs": [
    {
     "name": "stdout",
     "output_type": "stream",
     "text": [
      "len(matched)=7390\n",
      "len(not_matched)=0\n"
     ]
    }
   ],
   "source": [
    "print(f\"{len(matched)=}\")\n",
    "print(f\"{len(not_matched)=}\")\n"
   ],
   "metadata": {
    "collapsed": false
   }
  },
  {
   "cell_type": "code",
   "execution_count": 30,
   "outputs": [
    {
     "data": {
      "text/plain": "<Figure size 640x480 with 1 Axes>",
      "image/png": "[encoded data removed]"
     },
     "metadata": {},
     "output_type": "display_data"
    }
   ],
   "source": [
    "show_search_score_proportion(matched)"
   ],
   "metadata": {
    "collapsed": false
   }
  },
  {
   "cell_type": "code",
   "execution_count": 31,
   "outputs": [
    {
     "name": "stdout",
     "output_type": "stream",
     "text": [
      "spieglung  matched with  ['spiegelung'] (score = 0.9)\n",
      "\n",
      "hirnanhangsdru  matched with  ['hirnanhangsdru'] (score = 1.0)\n",
      "\n",
      "dialysepflicht  matched with  ['dialysebedingt komplikatio'] (score = 0.64285713)\n",
      "\n",
      "nausea  matched with  ['nausea'] (score = 1.0)\n",
      "\n",
      "gastriti  matched with  ['gastriti'] (score = 1.0)\n",
      "\n",
      "nierenbeckenenztundung  matched with  ['nierenpapillenentzuendung'] (score = 0.64)\n",
      "\n",
      "\\bollen\\ am after  matched with  ['gallenmangel'] (score = 0.46666664)\n",
      "\n",
      "ubergewich  matched with  ['ubergewicht'] (score = 0.9090909)\n",
      "\n",
      "kollik  matched with  ['kolik'] (score = 0.8333333)\n",
      "\n",
      "kreb  matched with  ['kreb'] (score = 1.0)\n",
      "\n"
     ]
    }
   ],
   "source": [
    "def print_n_matches(matches, n=10):\n",
    "    for matched_item in random.sample(matches, n):\n",
    "        annotation = matched_item.mention.annotation\n",
    "        synonyms_from_tlc = matched_item.mention.stems\n",
    "        # original_mention = annotation.get_mention()\n",
    "        matched_string = matched_item.matched_string if matched_item.matched_string else synonyms_from_tlc\n",
    "        print(matched_string, \" matched with \", matched_item.match['index_term'],\n",
    "              f\"(score = {matched_item.match['score']})\")\n",
    "        print()\n",
    "\n",
    "\n",
    "print_n_matches(matched)"
   ],
   "metadata": {
    "collapsed": false
   }
  },
  {
   "cell_type": "code",
   "execution_count": 32,
   "outputs": [
    {
     "name": "stdout",
     "output_type": "stream",
     "text": [
      "5244 / 7390\n",
      "not initially matched:  0\n",
      "nierensteinch  matched with  ['nierenstei'] (score = 0.7692308)\n",
      "\n",
      "appendiziti  matched with  ['appendiziti'] (score = 1.0)\n",
      "\n",
      "nausea  matched with  ['nausea'] (score = 1.0)\n",
      "\n",
      "nierenversag  matched with  ['terminal nierenversag'] (score = 1.0)\n",
      "\n",
      "ventriculu  matched with  ['volvulu ventriculi'] (score = 0.9)\n",
      "\n",
      "gastriti  matched with  ['gastriti'] (score = 1.0)\n",
      "\n",
      "gastriti  matched with  ['gastriti'] (score = 1.0)\n",
      "\n",
      "harnleiterschie  matched with  ['harnleiterschmerz'] (score = 0.8235294)\n",
      "\n",
      "odemato  matched with  ['odemato ophthalmopathie'] (score = 1.0)\n",
      "\n",
      "striktur  matched with  ['striktur'] (score = 1.0)\n",
      "\n"
     ]
    }
   ],
   "source": [
    "threshold = 0.69  # some false negatives with .7, so .69 seems to work good\n",
    "cutoff_matches = [match for match in matched if match.match['score'] > threshold]\n",
    "below_cutoff = [match for match in matched if match.match['score'] <= threshold]\n",
    "print(len(cutoff_matches), '/', len(matched))\n",
    "print(\"not initially matched: \", len(not_matched))\n",
    "print_n_matches(cutoff_matches)"
   ],
   "metadata": {
    "collapsed": false
   }
  },
  {
   "cell_type": "code",
   "execution_count": 36,
   "outputs": [
    {
     "name": "stdout",
     "output_type": "stream",
     "text": [
      "sehr hoh blutdruck  matched with  ['blutdruck'] (score = 0.5)\n",
      "\n",
      "nierenbeckenenztundung  matched with  ['nierenpapillenentzuendung'] (score = 0.64)\n",
      "\n",
      "rot blutkroperch  matched with  ['blutkorperch'] (score = 0.625)\n",
      "\n",
      "schrumpfnier \\(nephrozirrhose\\)  matched with  ['schimpansenretrovir'] (score = 0.4137931)\n",
      "\n",
      "dialysepflicht  matched with  ['dialysebedingt komplikatio'] (score = 0.64285713)\n",
      "\n",
      "nierenbeckenenztundung  matched with  ['nierenpapillenentzuendung'] (score = 0.64)\n",
      "\n",
      "sexualtrieb  matched with  ['sexualpili'] (score = 0.6363636)\n",
      "\n",
      "magen\\-darm\\-gripp  matched with  ['magengripp'] (score = 0.625)\n",
      "\n",
      "nierenbeckenenztundung  matched with  ['nierenpapillenentzuendung'] (score = 0.64)\n",
      "\n",
      "sehr haufig wasserlass  matched with  ['wasserlass'] (score = 0.45454544)\n",
      "\n"
     ]
    }
   ],
   "source": [
    "print_n_matches(below_cutoff)"
   ],
   "metadata": {
    "collapsed": false
   }
  },
  {
   "cell_type": "code",
   "execution_count": null,
   "outputs": [],
   "source": [
    "print_n_matches(not_matched)"
   ],
   "metadata": {
    "collapsed": false
   }
  },
  {
   "cell_type": "code",
   "execution_count": 33,
   "outputs": [],
   "source": [
    "# combine not matched by score and not matched by solr\n",
    "below_cutoff = not_matched + below_cutoff"
   ],
   "metadata": {
    "collapsed": false
   }
  },
  {
   "cell_type": "code",
   "execution_count": 34,
   "outputs": [
    {
     "name": "stdout",
     "output_type": "stream",
     "text": [
      "Unique matched terms = 1042\n",
      "Unique non-matched terms = 691\n"
     ]
    }
   ],
   "source": [
    "print(\n",
    "    f\"Unique matched terms = {len(set([term.mention.annotation.get_mention() for term in cutoff_matches]))}\")\n",
    "print(\n",
    "    f\"Unique non-matched terms = {len(set([term.mention.annotation.get_mention() for term in below_cutoff]))}\")\n"
   ],
   "metadata": {
    "collapsed": false
   }
  },
  {
   "cell_type": "code",
   "execution_count": 42,
   "outputs": [],
   "source": [
    "samples_to_annotate_path = TLCPaths.project_data_path.joinpath(\"samples_to_annotate.json\")\n",
    "samples_to_validate_path = TLCPaths.project_data_path.joinpath(\"samples_to_validate.json\")\n",
    "with open(samples_to_annotate_path, \"w\") as fp:\n",
    "    json.dump([sample.json() for sample in below_cutoff], fp)\n",
    "    \n",
    "with open(samples_to_validate_path, \"w\") as fp:\n",
    "    json.dump([sample.json() for sample in cutoff_matches], fp)"
   ],
   "metadata": {
    "collapsed": false
   }
  },
  {
   "cell_type": "markdown",
   "source": [
    "## Analyze not mached mentions"
   ],
   "metadata": {
    "collapsed": false
   }
  },
  {
   "cell_type": "code",
   "execution_count": 38,
   "outputs": [],
   "source": [
    "sample_collection = SampleCollection(load_tlc_samples())"
   ],
   "metadata": {
    "collapsed": false
   }
  },
  {
   "cell_type": "code",
   "execution_count": 40,
   "outputs": [
    {
     "name": "stdout",
     "output_type": "stream",
     "text": [
      "Thread: [Ist es wirklich eine \u001B[31mNierenbeckenentzündung\u001B[0m?]\n",
      "Text: [wenn du zu dem Facharzt gehst und sagst du hast Schmerzen dürfen!! sie dich nicht wegschicken ansonsten rede nochmal mit deiner Hausärztin das sie die praxis anruft und um einen früheren termin bittet]\n",
      "\n",
      "\n",
      "Thread: [\u001B[31mVerkleinerte NIeren\u001B[0m]\n",
      "Text: [Ein Nephrologe wäre für Dich zuständig. Lass' Dich nicht mit vagen Infos abspeisen.]\n",
      "\n",
      "\n",
      "Thread: [Unerklärliche Bauchschmerzen]\n",
      "Text: [Hallo!\n",
      "Auch ich dachte laut der Beschwerden von einigen von euch gleich an \u001B[31mGallensteine\u001B[0m.\n",
      "Beim Ultraschall muss man komplett nüchtern sein, d.h. nicht mal Wasser trinken vorher, sonst kann man bei der Gallenblase nichts erkennen. Es gibt auch Gallensteine in den Gallengängen, wobei leider eine Ultraschalluntersuchungen meistens nicht reicht um diese zu erkennen. Da kann man eine ERCP (Sp\\u00edegelung) machen.\n",
      "Obwohl ich aber glaube, dass sie eure Ärzte die einen Oberbauchultraschall bei euch gemacht haben, sich die Gallenblasen sicher genau angesehen haben, da die Beschwerden ja auch dafür in Frage kommen.]\n",
      "\n",
      "\n",
      "Thread: [Nierensteine/ -gries und Harndrang]\n",
      "Text: [Hallo Leute,\n",
      "ich \u001B[31mmuss seit 3 Tagen fast jede 10 Minuten auf Toilette\u001B[0m ohne das danach eine Erleichterung eintritt, eher im gegenteil. Der Harndrang wird schlimmer und es kommt ein ziehen und drücken im Genitalbereich und Blasenbereich hinzu. Jetzt war ich beim Urologen und der hat meinen Urinuntersuch (erhöhter Blutwert) und eine Ultraschaluntersuchung gemacht. Er meinete das es höchstwahrscheinlich Nierensteine sind oder Griess, auf dem Ultraschal konnte man aber nix sehen. Jetzt hat er mich zum Röntgen überwiesen. Was mich stutzig macht ist der ständige Harndrang. Bei Nierensteinen hat man doch keinen ständigen Harndrang sonder Schmerzen. Bei mir ist es genau umgekehrt.\n",
      "Kennt sich jemand damit aus ? oder hat jemand soetwas schon mal durchgemacht ?]\n",
      "\n",
      "\n",
      "Thread: [\u001B[31mNierenbeckenentzündung\u001B[0m oder nicht?]\n",
      "Text: [Danke für deine Antwort! Wie lange brauchen denn die Bakterien bei einer Kultur? Es war jetzt schon zweimal so, dass die Ärzte gesagt haben, die schicken es weg, da vermute ich mal, dass da im Labor eine Kultur angelegt wird? Das Ergebnis ist immer nach 2-3 Tagen da. Und beim ersten Mal war da wohl nichts auffälliges. Gestern wurde die zweite Probe weggeschickt, aber die Ärztin meinte, dass sie nicht sicher ist, ob man was sieht, weil der Urin nicht sehr konzentriert war. Kann es sein, dass man bei sehr verdünntem Urin GAR nichts mehr sieht? Bin schon langsam ziemlich verzweifelt.\n",
      "Niedergelassene Urologen gibt es hier nicht (bin im Ausland) und bis man zu einem im KH kommt, muss man wohl schon halb tot sein \n",
      " War bis jetzt immer beim Hausarzt und hab da nun eben das zweite AB bekommen. Ich habe jetzt zwar eine Überweisung für ein privates KH erkämpft, wo dann endlich die entsprechenden Untersuchungen gemacht werden, aber der Termin ist erst in 2 Wochen ]\n",
      "\n",
      "\n",
      "Thread: [Endlose Gastritis]\n",
      "Text: [Leider weiß ich auch nicht woher das starke \u001B[31mHerzklopfen\u001B[0m kommt. Tippe aber auch auf dem Magen weiß es aber nicht. Bin morgen wieder beim Arzt, mal schauen was er sagt.\n",
      "Zum Thema Ernährung: Naturjoghurt, Zwieback, Haferschleim, Kartoffelpüree (bekommt mir sehr gut), Reis, Zwieback, Leinsamen, gekochtes Gemüse(Fenchel, Brokoli, Karotten, Blumenkohl und Zuccini), Gemüsesuppen, vereinzelt Knäckebrot mit fettreduzierten Frischkäse und heller Wurst (Pute und Hähnchen). Des Weiteren Banane (bekommt mir auch gut), Apfel und Birne.\n",
      "Interessant ist auch das es Tage gibt wo ich denk, dass es besser wird und dann auf inmal aus dem Nichts wird es schlechter.]\n",
      "\n",
      "\n",
      "Thread: [\u001B[31mExtreme Luft im Bauch die nicht entweicht\u001B[0m]\n",
      "Text: [Hallo Lenz11,\n",
      "Hast du es schon mit LEFAX probiert?. Das wirkt nicht chemisch sondern physikalisch gegen Luftansammlungen im Darm. Es hat daher keine Nebenwirkungen und ist rezeptfrei.\n",
      "Das kannst du über mehrere Tage nehmen.\n",
      "Viel Glück\n",
      "Emax, das kann ich Literweise nehmen, nutzt null..]\n",
      "\n",
      "\n",
      "Thread: [Blasenentzüdung, und jetzt Nierenprobleme?]\n",
      "Text: [hallo ihr lieben!\n",
      "war gestern beim arzt wegen einer fortwärenden blasenentzündung, nehm jetzt seit gestern antibiotika... hab jetzt auch nicht mehr so ein \u001B[31mbrennen beim wasserlassen\u001B[0m, dennoch fühl ich mich nicht so prächtig. hab kein fieber, aber ziemliche rückenschmerzen auf der rechten seite und ziemliches kopfweh.\n",
      "gehört fieber immer dazu, wenn man eine nierenbeckenentzündung bekommt?\n",
      "bin fest am trinken, aber irgendwie hilfts doch nicht...\n",
      "soll ich nochmal zum arzt, obwohl ich erst dort war?\n",
      "lg simone]\n",
      "\n",
      "\n",
      "Thread: [Blasenentzüdung, und jetzt Nierenprobleme?]\n",
      "Text: [hallo ihr lieben!\n",
      "war gestern beim arzt wegen einer fortwärenden blasenentzündung, nehm jetzt seit gestern antibiotika... hab jetzt auch nicht mehr so ein brennen beim wasserlassen, dennoch fühl ich mich nicht so prächtig. hab kein fieber, aber ziemliche rückenschmerzen auf der rechten seite und ziemliches kopfweh.\n",
      "gehört fieber immer dazu, wenn man eine \u001B[31mnierenbeckenentzündung\u001B[0m bekommt?\n",
      "bin fest am trinken, aber irgendwie hilfts doch nicht...\n",
      "soll ich nochmal zum arzt, obwohl ich erst dort war?\n",
      "lg simone]\n",
      "\n",
      "\n",
      "Thread: [Ungewöhnlicher Toilettenverhalt und \u001B[31mNierenschmerzen\u001B[0m]\n",
      "Text: [[Dieser Beitrag war ursprünglich der Beginn eines eigenständigen Fadens]\n",
      "Hatte vorhin bereits eine Frage gestellt, nur nicht so gut formuliert. Ich kann seit heute kaum Wasser lassen. Bei einer Trinkmengr von ca 3l heute, kam den ganzen Tag nix und eben nur ein bisschen, welcher dazu noch sehr dunkel war. Schmerzen hab ich keine, letztes Jahr im November/Dezember liefen zwei Sonos wegen Flankenschmerzen, die Nieren waren ok. Was kann das sein? Niereninsuff., Versagen,.. ?]\n",
      "\n",
      "\n"
     ]
    }
   ],
   "source": [
    "for search_term in below_cutoff[:10]:\n",
    "    annotation = search_term.mention.annotation\n",
    "    sample = sample_collection.get_sample_by_annotation_id(annotation.id)\n",
    "    text = sample.text\n",
    "    colored_mention = colored(text[annotation.span_start:annotation.span_end], \"red\")\n",
    "    text_with_colors = text[:annotation.span_start] + colored_mention + text[annotation.span_end:]\n",
    "    print(text_with_colors)\n",
    "    print()"
   ],
   "metadata": {
    "collapsed": false
   }
  }
 ],
 "metadata": {
  "kernelspec": {
   "display_name": "Python 3",
   "language": "python",
   "name": "python3"
  },
  "language_info": {
   "codemirror_mode": {
    "name": "ipython",
    "version": 2
   },
   "file_extension": ".py",
   "mimetype": "text/x-python",
   "name": "python",
   "nbconvert_exporter": "python",
   "pygments_lexer": "ipython2",
   "version": "2.7.6"
  }
 },
 "nbformat": 4,
 "nbformat_minor": 0
}
