{
 "cells": [
  {
   "cell_type": "code",
   "execution_count": 4,
   "metadata": {
    "collapsed": true,
    "ExecuteTime": {
     "end_time": "2023-06-08T11:33:49.650822355Z",
     "start_time": "2023-06-08T11:33:48.091795993Z"
    }
   },
   "outputs": [],
   "source": [
    "from config import TLCPaths\n",
    "import jsonlines\n",
    "from src.data_loading import annotations"
   ]
  },
  {
   "cell_type": "code",
   "execution_count": 5,
   "outputs": [],
   "source": [
    "def get_data():\n",
    "    with jsonlines.open(TLCPaths.project_data_path.joinpath(\"TLC_validation_v4_dump.jsonl\")) as reader:\n",
    "        for obj in reader:\n",
    "            yield obj"
   ],
   "metadata": {
    "collapsed": false,
    "ExecuteTime": {
     "end_time": "2023-06-08T11:33:49.697976096Z",
     "start_time": "2023-06-08T11:33:49.694101083Z"
    }
   }
  },
  {
   "cell_type": "code",
   "execution_count": 6,
   "outputs": [],
   "source": [
    "annotations = list(get_data())"
   ],
   "metadata": {
    "collapsed": false,
    "ExecuteTime": {
     "end_time": "2023-06-08T11:33:49.700179080Z",
     "start_time": "2023-06-08T11:33:49.694368213Z"
    }
   }
  },
  {
   "cell_type": "code",
   "execution_count": 7,
   "outputs": [
    {
     "data": {
      "text/plain": "851.0"
     },
     "execution_count": 7,
     "metadata": {},
     "output_type": "execute_result"
    }
   ],
   "source": [
    "len(annotations) / 2"
   ],
   "metadata": {
    "collapsed": false,
    "ExecuteTime": {
     "end_time": "2023-06-08T11:33:49.706754711Z",
     "start_time": "2023-06-08T11:33:49.703323178Z"
    }
   }
  },
  {
   "cell_type": "code",
   "execution_count": 8,
   "outputs": [],
   "source": [
    "annotations1 = {}\n",
    "id1 = 'TLC-validation_v4-alon'\n",
    "annotations2 = {}\n",
    "id2 = 'TLC-validation_v4-selin'\n",
    "for annotation in annotations:\n",
    "    name = annotation[\"_input_hash\"]\n",
    "    a_id = annotation[\"_annotator_id\"]\n",
    "    if a_id == id1:\n",
    "        annotations1[name] = annotation\n",
    "    elif a_id == id2:\n",
    "        annotations2[name] = annotation\n",
    "    else:\n",
    "        print(\"unknown annotator id\", a_id)\n",
    "    \n",
    "    "
   ],
   "metadata": {
    "collapsed": false,
    "ExecuteTime": {
     "end_time": "2023-06-08T11:33:49.717138147Z",
     "start_time": "2023-06-08T11:33:49.707395199Z"
    }
   }
  },
  {
   "cell_type": "code",
   "execution_count": 9,
   "outputs": [],
   "source": [
    "same = []\n",
    "diff = []\n",
    "for name in annotations1:\n",
    "    ann1 = annotations1[name]\n",
    "    ann2 = annotations2[name]\n",
    "    if ann1[\"answer\"] == ann2[\"answer\"]:\n",
    "        same.append(name)\n",
    "    else:\n",
    "        diff.append(name)\n",
    "    "
   ],
   "metadata": {
    "collapsed": false,
    "ExecuteTime": {
     "end_time": "2023-06-08T11:33:49.743612306Z",
     "start_time": "2023-06-08T11:33:49.717605577Z"
    }
   }
  },
  {
   "cell_type": "code",
   "execution_count": 10,
   "outputs": [
    {
     "name": "stdout",
     "output_type": "stream",
     "text": [
      "571 261\n"
     ]
    }
   ],
   "source": [
    "print(len(same), len(diff))"
   ],
   "metadata": {
    "collapsed": false,
    "ExecuteTime": {
     "end_time": "2023-06-08T11:33:49.775050645Z",
     "start_time": "2023-06-08T11:33:49.729708739Z"
    }
   }
  },
  {
   "cell_type": "code",
   "execution_count": 11,
   "outputs": [
    {
     "data": {
      "text/plain": "{'text': 'Thread: [Unerklärliche Bauchschmerzen]\\nText: [Hallo!\\nAuch ich dachte laut der Beschwerden von einigen von euch gleich an Gallensteine.\\nBeim Ultraschall muss man komplett nüchtern sein, d.h. nicht mal Wasser trinken vorher, sonst kann man bei der Gallenblase nichts erkennen. Es gibt auch Gallensteine in den Gallengängen, wobei leider eine Ultraschalluntersuchungen meistens nicht reicht um diese zu erkennen. Da kann man eine ERCP (Sp\\\\u00edegelung) machen.\\nObwohl ich aber glaube, dass sie eure Ärzte die einen Oberbauchultraschall bei euch gemacht haben, sich die Gallenblasen sicher genau angesehen haben, da die Beschwerden ja auch dafür in Frage kommen.]\\n',\n 'spans': [{'start': 121, 'end': 133, 'label': 'Mention'}],\n 'html': '<b>C0008350</b>: Cholelithiasis: Vorhandensein oder Bildung von Gallensteinen im Gallentrakt, meist in der Gallenblase (CHOLECYSTOLITHIASIS) oder im Hauptgallengang (CHOLEDOCHOLITHIASIS).',\n 'annotation_ids': [6202, 6147, 4618],\n 'cui': 'C0008350',\n 'meta': {'url': 'https://uts.nlm.nih.gov/uts/umls/concept/C0008350'},\n '_input_hash': 1401678599,\n '_task_hash': -1479767773,\n '_view_id': 'blocks',\n 'answer': 'accept',\n '_timestamp': 1682059773,\n '_annotator_id': 'TLC-validation_v4-alon',\n '_session_id': 'TLC-validation_v4-alon'}"
     },
     "execution_count": 11,
     "metadata": {},
     "output_type": "execute_result"
    }
   ],
   "source": [
    "annotations[0]"
   ],
   "metadata": {
    "collapsed": false,
    "ExecuteTime": {
     "end_time": "2023-06-08T11:33:49.775452442Z",
     "start_time": "2023-06-08T11:33:49.770048755Z"
    }
   }
  },
  {
   "cell_type": "code",
   "execution_count": 12,
   "outputs": [
    {
     "name": "stdout",
     "output_type": "stream",
     "text": [
      "not accepted:  324 accepted:  508\n"
     ]
    }
   ],
   "source": [
    "not_accepted1 = []\n",
    "accepted1 = []\n",
    "for name, ann in annotations1.items():\n",
    "    if ann[\"answer\"] != \"accept\":\n",
    "        not_accepted1.append(name)\n",
    "    else:\n",
    "        accepted1.append(name)\n",
    "print(\"not accepted: \",len(not_accepted1), \"accepted: \", len(accepted1))\n",
    "    "
   ],
   "metadata": {
    "collapsed": false,
    "ExecuteTime": {
     "end_time": "2023-06-08T11:33:49.775794393Z",
     "start_time": "2023-06-08T11:33:49.770208519Z"
    }
   }
  },
  {
   "cell_type": "code",
   "execution_count": 13,
   "outputs": [
    {
     "name": "stdout",
     "output_type": "stream",
     "text": [
      "not accepted:  266 accepted:  566\n"
     ]
    }
   ],
   "source": [
    "not_accepted2 = []\n",
    "accepted2 = []\n",
    "for name, ann in annotations2.items():\n",
    "    if ann[\"answer\"] != \"accept\":\n",
    "        not_accepted2.append(name)\n",
    "    else:\n",
    "        accepted2.append(name)\n",
    "print(\"not accepted: \",len(not_accepted2), \"accepted: \", len(accepted2))"
   ],
   "metadata": {
    "collapsed": false,
    "ExecuteTime": {
     "end_time": "2023-06-08T11:33:49.858150984Z",
     "start_time": "2023-06-08T11:33:49.770294590Z"
    }
   }
  },
  {
   "cell_type": "code",
   "execution_count": 14,
   "outputs": [
    {
     "name": "stdout",
     "output_type": "stream",
     "text": [
      "both accepted:  436\n",
      "both discarded:  194\n"
     ]
    }
   ],
   "source": [
    "print(\"both accepted: \", len(set(accepted1).intersection(set(accepted2))))\n",
    "print(\"both discarded: \", len(set(not_accepted1).intersection(set(not_accepted2))))"
   ],
   "metadata": {
    "collapsed": false,
    "ExecuteTime": {
     "end_time": "2023-06-08T11:33:49.858675623Z",
     "start_time": "2023-06-08T11:33:49.814106392Z"
    }
   }
  },
  {
   "cell_type": "code",
   "execution_count": 15,
   "outputs": [
    {
     "name": "stdout",
     "output_type": "stream",
     "text": [
      "accepted1 but not accepted2:  72\n",
      "accepted2 but not accepted1:  130\n",
      "not_accepted1 but not_accepted2:  130\n",
      "not_accepted2 but not_accepted1:  72\n"
     ]
    }
   ],
   "source": [
    "print(\"accepted1 but not accepted2: \", len(set(accepted1).difference(set(accepted2))))\n",
    "print(\"accepted2 but not accepted1: \", len(set(accepted2).difference(set(accepted1))))\n",
    "\n",
    "print(\"not_accepted1 but not_accepted2: \", len(set(not_accepted1).difference(set(not_accepted2))))\n",
    "print(\"not_accepted2 but not_accepted1: \", len(set(not_accepted2).difference(set(not_accepted1))))"
   ],
   "metadata": {
    "collapsed": false,
    "ExecuteTime": {
     "end_time": "2023-06-08T11:33:49.859021289Z",
     "start_time": "2023-06-08T11:33:49.814278895Z"
    }
   }
  },
  {
   "cell_type": "code",
   "execution_count": 16,
   "outputs": [
    {
     "name": "stdout",
     "output_type": "stream",
     "text": [
      "Answers:  ignore - accept\n",
      "spermien jetzt einfrieren ->  <b>C0519952</b>: Kryokonservierung von Spermatozoen\n",
      "\n",
      "Answers:  ignore - accept\n",
      "Nierenbecken ->  <b>C0227666</b>: Nierenbecken: Die abgeflachte, trichterförmige Erweiterung, die den URETER mit den KIDNEY CALICES verbindet.\n",
      "\n",
      "Answers:  ignore - accept\n",
      "Blutdruck ->  <b>C0005823</b>: Blutdruck: DRUCK des BLUTES auf die ARTERIEN und andere BLUTGEFÄSSE.\n",
      "\n",
      "Answers:  ignore - accept\n",
      "Bluthochdruck ->  <b>C0020538</b>: Bluthochdruck-Krankheit: Das Vorhandensein eines chronisch erhöhten Drucks im systemischen arteriellen System. [HPO:probinson]\n",
      "\n",
      "Answers:  ignore - accept\n",
      "Schwitzen ->  <b>C1561530</b>: Probetyp - Schweiß\n",
      "\n",
      "Answers:  reject - accept\n",
      "Dialektischen Koma ->  <b>C1263960</b>: Diabetes mit Koma (Störung): Ein Zustand der Bewusstlosigkeit als Komplikation des Diabetes mellitus. Er tritt bei extremer HYPERGLYZEMIE oder extremer HYPOGLYZEMIE als Komplikation der INSULIN-Therapie auf.\n",
      "\n",
      "Answers:  ignore - accept\n",
      "gutartiger Tumor ->  <b>C0086692</b>: Gutartiges Neoplasma: Ein Neoplasma, das durch das Fehlen morphologischer Merkmale gekennzeichnet ist, die mit Malignität in Verbindung gebracht werden (schwere zytologische Atypien, Tumorzellnekrose und hohe Mitoserate). Gutartige Neoplasmen bleiben auf den ursprünglichen Wachstumsort beschränkt und metastasieren nicht an anderen anatomischen Stellen.\n",
      "\n",
      "Answers:  reject - accept\n",
      "Magersucht ->  <b>C0003125</b>: Magersucht (Anorexia nervosa): Eine Essstörung, die durch den Mangel oder Verlust von APPETIT gekennzeichnet ist, bekannt als ANOREXIE. Weitere Merkmale sind übermäßige Angst vor Übergewicht, ein gestörtes Körperbild, erheblicher Gewichtsverlust, die Weigerung, ein minimales Normalgewicht zu halten, und AMENORRHEA. Diese Störung tritt am häufigsten bei weiblichen Jugendlichen auf. (APA, Thesaurus of Psychological Index Terms, 1994)\n",
      "\n",
      "Answers:  accept - reject\n",
      "unentdeckte Entzündung ->  <b>C0151732</b>: Maskierte Infektion\n",
      "\n",
      "Answers:  accept - reject\n",
      "wiederkehrende Durchfälle ->  <b>C0401151</b>: Chronische Diarrhöe: Das Vorhandensein von chronischem Durchfall, der in der Regel als Durchfall verstanden wird, der seit mehr als 4 Wochen anhält. [HPO:probinson]\n",
      "\n",
      "Answers:  ignore - reject\n",
      "hochgewandert ->  <b>C1547175</b>: Sequenzierung - Aufsteigend: <p>Aufsteigende Reihenfolge.</p>\n",
      "\n",
      "Answers:  ignore - accept\n",
      "leichtem fieber ->  <b>C4324354</b>: Subfebrile\n",
      "\n",
      "Answers:  ignore - accept\n",
      "Nierenstau ->  <b>C0178879</b>: Obstruktion der ableitenden Harnwege: Blockierung des normalen Abflusses des Harnwegsinhalts.\n",
      "\n",
      "Answers:  ignore - accept\n",
      "Magen-Darm-Infekt ->  <b>C4082764</b>: Gastrointestinale Infektion: Wiederkehrende Infektionen des Magen-Darm-Trakts. [HPO:probinson]\n",
      "\n",
      "Answers:  reject - accept\n",
      "Entwässern ->  <b>C1550628</b>: Abfluss - SpecimenType\n",
      "\n",
      "Answers:  ignore - accept\n",
      "Narben ->  <b>C2004491</b>: Cicatrix: Das faserige Gewebe, das während des Prozesses der WUNDHEILUNG das normale Gewebe ersetzt.\n",
      "\n",
      "Answers:  ignore - reject\n",
      "Katheder ->  <b>C0007439</b>: Verweilkatheter: Katheter, die dazu bestimmt sind, über einen längeren Zeitraum in einem Organ oder einer Passage verbleiben zu können.\n",
      "\n",
      "Answers:  reject - accept\n",
      "Schwitzen ->  <b>C1561530</b>: Probetyp - Schweiß\n",
      "\n",
      "Answers:  accept - reject\n",
      "chronisch krank ->  <b>C2051413</b>: Patient erscheint chronisch krank\n",
      "\n",
      "Answers:  ignore - reject\n",
      "Brust Schmerzen ->  <b>C0002962</b>: Angina pectoris: Das Symptom des paroxysmalen Schmerzes als Folge einer myokardialen Ischämie, die in der Regel einen besonderen Charakter, eine besondere Lage und eine besondere Ausstrahlung hat. Man geht davon aus, dass es durch eine vorübergehende Stresssituation ausgelöst wird, in der der Sauerstoffbedarf des MyokarDIums die Versorgung durch den koronaren Kreislauf übersteigt.\n",
      "\n",
      "Answers:  ignore - accept\n",
      "NAG ->  <b>C1417593</b>: NAGLU-Gen\n",
      "\n",
      "Answers:  ignore - accept\n",
      "NGAL ->  <b>C2347341</b>: Lipocalin-2: Ein Lipocalin mit etwa 200 Aminosäuren, das als Eisentransporter fungiert und von Zellen des Knochenmarks und vielen anderen Zellen mit sekretorischen Funktionen exprimiert wird. Es ist an der APOPTOSIS beteiligt und kann als Teil der INNATIVEN IMMUNREAKTION das Wachstum pathogener Bakterien begrenzen.\n",
      "\n",
      "Answers:  ignore - accept\n",
      "normaler Blutdruck ->  <b>C2712122</b>: Normaler Blutdruck\n",
      "\n",
      "Answers:  ignore - accept\n",
      "Röntgen ->  <b>C1306645</b>: Einfaches Röntgenbild: Ein Bild, das auf einer strahlungsempfindlichen Oberfläche durch Röntgenstrahlung erzeugt wird, die eine Struktur durchdrungen und durchquert hat.\n",
      "\n",
      "Answers:  ignore - accept\n",
      "Glucose im Serum ->  <b>C0202041</b>: Blutzuckermessung, Serum: Eine quantitative Messung der in einer Serumprobe vorhandenen Glukosemenge.\n",
      "\n",
      "Answers:  ignore - accept\n",
      "Duodenalschleimhaut ->  <b>C0227284</b>: Zwölffingerdarmschleimhaut\n",
      "\n",
      "Answers:  ignore - reject\n",
      "MCU ->  <b>C1824637</b>: MCU-Gen\n",
      "\n",
      "Answers:  ignore - accept\n",
      "Herzfehler ->  <b>C0018798</b>: Angeborene Herzdefekte: Entwicklungsanomalien, die Strukturen des Herzens betreffen. Diese Defekte sind bei der Geburt vorhanden, können aber auch später im Leben entdeckt werden.\n",
      "\n",
      "Answers:  ignore - accept\n",
      "Diätologin ->  <b>C3536818</b>: Diätassistent: Speziell ausgebildete und zugelassene Personen in den Bereichen ERNÄHRUNGSWISSENSCHAFTEN und DIETETIK.\n",
      "\n",
      "Answers:  reject - accept\n",
      "angeborene Verengung ->  <b>C0332885</b>: angeborene Stenose\n",
      "\n",
      "Answers:  ignore - reject\n",
      "das Gefühl habe, in meiner Speiseröhre steckt ein Stock ->  <b>C0017168</b>: Gastroösophageale Refluxkrankheit: Rückfluss von Magensaft (GASTRISCHE SÄURE) und/oder Zwölffingerdarminhalt (BLÄSESÄURE; Pankreassaft) in den distalen ESOPHAGUS, häufig aufgrund einer Inkompetenz des NIEDRIGEN ESOPHAGEALEN SPHINZTERS.\n",
      "\n",
      "Answers:  reject - accept\n",
      "magen darm virus ->  <b>C0152517</b>: Virusbedingte Gastroenteritis: Gastroenteritis als Folge einer Virusinfektion.\n",
      "\n",
      "Answers:  accept - reject\n",
      "sehr hohen Blutdruck ->  <b>C0020546</b>: Bluthochdruck-Krise: Ein schwerer, akuter Anstieg des Blutdrucks, der zu einem Schlaganfall oder einer Myokardischämie führen kann.\n",
      "\n",
      "Answers:  accept - reject\n",
      "sehr hohen Blutdruck ->  <b>C0745136</b>: Bluthochdruck-Notfall\n",
      "\n",
      "Answers:  ignore - reject\n",
      "Alkal. Phosphatase ->  <b>C1834650</b>: MUSIKALISCHER WOHLKLANG\n",
      "\n",
      "Answers:  ignore - accept\n",
      "hals ein Pilz ->  <b>C0006849</b>: Orale Candidose: Infektion der Mundschleimhäute durch einen Pilz der Gattung CANDIDA. (Dorland, 27. Aufl.)\n",
      "\n",
      "Answers:  ignore - accept\n",
      "Extrasystolen ->  <b>C0340464</b>: Vorzeitiger Herzkomplex: Eine Gruppe von Herzrhythmusstörungen, bei denen die Herzkontraktionen nicht am SINOATRIALEN KNOCHEN eingeleitet werden. Sie umfassen sowohl atriale als auch ventrikuläre vorzeitige Schläge und werden auch als extra oder ektopische Herzschläge bezeichnet. Ihre Häufigkeit ist bei Herzkrankheiten erhöht.\n",
      "\n",
      "Answers:  ignore - reject\n",
      "Niere jetzt recht schmerzhaft ->  <b>C0423640</b>: Schmerzen in der rechten Flanke\n",
      "\n",
      "Answers:  ignore - reject\n",
      "Verwachsung ->  <b>C1293131</b>: Verfahren der Fusion: Verfahren zur strukturellen Verbindung von zwei benachbarten Strukturen\n",
      "\n",
      "Answers:  reject - accept\n",
      "Blinddarm ->  <b>C0003617</b>: Anhang: Eine wurmartige Blindröhrenverlängerung des CECUM.\n",
      "\n",
      "Answers:  ignore - reject\n",
      "koliken ->  <b>C0474368</b>: Schmerzen bei der Arbeit: Schmerzen im Zusammenhang mit der Geburtshilfe im Kindesalter. Er wird in erster Linie durch die Uteruskontraktion sowie durch Druck auf den CERVIX, die BLADDER und den GASTROINTESTINALEN TRACT verursacht. Wehenschmerzen treten meist in den ABDOMEN, im DARM und im RÜCKEN auf.\n",
      "\n",
      "Answers:  ignore - accept\n",
      "Bauchkrämpfe ->  <b>C0000729</b>: Unterleibskrämpfe: Eine Art von Unterleibsschmerzen, die durch ein Gefühl von Kontraktionen gekennzeichnet sind und typischerweise in ihrer Intensität schwanken. []\n",
      "\n",
      "Answers:  ignore - accept\n",
      "durchblutungsstörungen ->  <b>C0728936</b>: Störung des Kreislaufsystems\n",
      "\n",
      "Answers:  reject - accept\n",
      "Darmlähmung ->  <b>C0030446</b>: Paralytischer Ileus: Ein Ileus, der durch Bauch- oder Beckenoperationen, Infektionen, Erkrankungen der Muskeln und Nerven sowie durch Medikamente verursacht wird. Zu den Anzeichen und Symptomen gehören die eines Darmverschlusses.\n",
      "\n",
      "Answers:  ignore - accept\n",
      "Einläufe ->  <b>C1508324</b>: Ansicht Einlass\n",
      "\n",
      "Answers:  ignore - accept\n",
      "Besserung ->  <b>C2986411</b>: Verbesserung: Ein Zustand, der besser ist als ein früherer Zustand.\n",
      "\n",
      "Answers:  ignore - accept\n",
      "Narkose ->  <b>C0278134</b>: Abwesenheit von Empfindungen: Gefühlsverlust.\n",
      "\n",
      "Answers:  ignore - reject\n",
      "in Ordnung ->  <b>C1442989</b>: Standard (Qualifier): Regelmäßig und weit verbreitet.\n",
      "\n",
      "Answers:  ignore - accept\n",
      "ohne Befund ->  <b>C3898900</b>: Gesunde: Keine schwerwiegende Krankheit in der Vorgeschichte, einschließlich der Krankheit, die beim Probanden untersucht wird. []\n",
      "\n",
      "Answers:  ignore - reject\n",
      "schiene ->  <b>C0325736</b>: Rallidae\n",
      "\n",
      "Answers:  ignore - accept\n",
      "künstlichen Darmausgang ->  <b>C1611169</b>: Übernatürlicher Anus\n",
      "\n",
      "Answers:  accept - reject\n",
      "Kolik ->  <b>C0474368</b>: Schmerzen bei der Arbeit: Schmerzen im Zusammenhang mit der Geburtshilfe im Kindesalter. Er wird in erster Linie durch die Uteruskontraktion sowie durch Druck auf den CERVIX, die BLADDER und den GASTROINTESTINALEN TRACT verursacht. Wehenschmerzen treten meist in den ABDOMEN, im DARM und im RÜCKEN auf.\n",
      "\n",
      "Answers:  ignore - accept\n",
      "untergewichtig ->  <b>C0006625</b>: Kachexie: Allgemeiner schlechter Gesundheitszustand, Unterernährung und Gewichtsverlust, meist in Verbindung mit chronischen Krankheiten.\n",
      "\n",
      "Answers:  ignore - accept\n",
      "Nakose ->  <b>C0278134</b>: Abwesenheit von Empfindungen: Gefühlsverlust.\n",
      "\n",
      "Answers:  ignore - accept\n",
      "kurzatmig ->  <b>C0277854</b>: Dyspnoe\n",
      "\n",
      "Answers:  ignore - accept\n",
      "Nierensteinzertrümmerung ->  <b>C0015359</b>: Extrakorporale Stoßwellenlithotripsie: ein medizinisches Verfahren, bei dem Stoßwellen eingesetzt werden, um Steine zu zertrümmern, die sich in den Nieren, der Blase, den Harnleitern oder der Gallenblase gebildet haben\n",
      "\n",
      "Answers:  ignore - accept\n",
      "Abspecken ->  <b>C1262477</b>: Gewichtsverlust: Verringerung des bestehenden KÖRPERGEWICHTS.\n",
      "\n",
      "Answers:  ignore - accept\n",
      "Morbus-Ormond ->  <b>C0035357</b>: Retroperitoneale Fibrose: Ein langsam fortschreitender Zustand unbekannter Ätiologie, der durch die Ablagerung von fibrösem Gewebe im Retroperitonealraum gekennzeichnet ist, das die Harnleiter, die großen Gefäße, den Gallengang und andere Strukturen zusammendrückt. Wenn sie mit einem abdominalen Aortenaneurysma einhergeht, kann sie als chronische Periaortitis oder entzündliche perianeurysmale Fibrose bezeichnet werden.\n",
      "\n",
      "Answers:  ignore - accept\n",
      "schmerzhaft ->  <b>C0030193</b>: Schmerz: Eine unangenehme Empfindung, die durch schädliche Reize hervorgerufen wird, die von den NERVENENDEN der nozizeptiven Neuronen wahrgenommen werden.\n",
      "\n",
      "Answers:  reject - accept\n",
      "Betäubungsmittel ->  <b>C0027415</b>: Rauschgift: Mittel, die NARCOSIS auslösen. Zu den Narkotika gehören Mittel, die Schläfrigkeit oder induzierten Schlaf (STUPOR) hervorrufen; natürliche oder synthetische Derivate von OPIUM oder MORPHIN oder jede Substanz, die solche Wirkungen hat. Sie sind starke Auslöser von ANALGESIE und OPIOID-verwandten Störungen.\n",
      "\n",
      "Answers:  ignore - accept\n",
      "hormonproduzierender Tumor ->  <b>C0206754</b>: Neuroendokrine Tumore: Tumoren, deren Zellen sekretorische Granula besitzen und aus dem Neuroektoderm stammen, d. h. aus den Zellen des Ektoblasten oder Epiblasten, die das neuroendokrine System programmieren. Zu den gemeinsamen Eigenschaften der meisten neuroendokrinen Tumoren gehören die ektopische Hormonproduktion (häufig über APUD-ZELLEN), das Vorhandensein von tumorassoziierten Antigenen und die Isozyme.\n",
      "\n",
      "Answers:  ignore - accept\n",
      "Blasen / Harnleiterentzündung ->  <b>C0810320</b>: Zystitis und Urethritis\n",
      "\n",
      "Answers:  accept - reject\n",
      "kolikartigen ->  <b>C0022864</b>: Wehen (Entbindungen): Die wiederholte Kontraktion der Gebärmutter während der Geburt, die mit einer fortschreitenden Erweiterung des Gebärmutterhalses (CERVIX UTERI) einhergeht. Erfolgreiche Wehen führen zur Austreibung des FETUS und der PLACENTA. Geburtshilfliche Wehen können spontan oder eingeleitet sein (LABOR, INDUCED).\n",
      "\n",
      "Answers:  ignore - reject\n",
      "BEs ->  <b>C0026708</b>: Mukopolysaccharidose V: Eine autosomal rezessiv vererbte Störung, die die mildere Form der Mukopolysaccharidose Typ I darstellt. Sie ist durch einen Mangel des Enzyms alpha-L-Iduronidase gekennzeichnet. Zu den Anzeichen und Symptomen gehören ein breiter Mund mit vollen Lippen, eine trübe Hornhaut, die zur Erblindung führen kann, steife Gelenke und Hirsutismus.\n",
      "\n",
      "Answers:  ignore - reject\n",
      "im Serum ->  <b>C5575602</b>: Zellkultur-Serum: Die aus einem Tier gewonnene Serum-Blutfraktion, die als Bestandteil des Wachstumsmediums oder als Negativkontrolle oder Blockierungsmittel zur Verringerung des Hintergrunds bei Verfahren zur Untersuchung molekularer Wechselwirkungen verwendet werden kann.\n",
      "\n",
      "Answers:  ignore - accept\n",
      "verkeimt ->  <b>C0205279</b>: Verseucht\n",
      "\n",
      "Answers:  ignore - accept\n",
      "Ösophagitis ->  <b>C0014868</b>: Ösophagitis: Akute oder chronische Entzündung der Schleimhäute, verursacht durch BACTERIEN, Chemikalien oder TRAUMA.\n",
      "\n",
      "Answers:  ignore - accept\n",
      "Bauch-Ultraschall ->  <b>C2348813</b>: Transabdominale Ultraschalluntersuchung: Eine Methode der Ultraschallbildgebung, bei der die Ultraschallsonde gegen die Haut des Abdomens gedrückt wird, um ein Bild der Bauchorgane zu erzeugen.\n",
      "\n",
      "Answers:  accept - ignore\n",
      "Halsentzündung ->  <b>C0036689</b>: Halsentzündung durch Streptokokken: Entzündung des Rachens durch Streptococcus pyogenes.\n",
      "\n",
      "Answers:  accept - ignore\n",
      "Sodbrennen ->  <b>C0017168</b>: Gastroösophageale Refluxkrankheit: Rückfluss von Magensaft (GASTRISCHE SÄURE) und/oder Zwölffingerdarminhalt (BLÄSESÄURE; Pankreassaft) in den distalen ESOPHAGUS, häufig aufgrund einer Inkompetenz des NIEDRIGEN ESOPHAGEALEN SPHINZTERS.\n",
      "\n",
      "Answers:  ignore - accept\n",
      "vaginalen Infekten ->  <b>C0404521</b>: Infektiöse Vaginitis: Ein infektiöser Prozess, der die Vagina befällt. Zu den Symptomen gehören Schmerzen und eitriger Ausfluss.\n",
      "\n",
      "Answers:  ignore - reject\n",
      "zeugungsfähig ->  <b>C0232904</b>: befruchtet\n",
      "\n",
      "Answers:  ignore - accept\n",
      "meine Nieren arbeiten nicht mehr richtig ->  <b>C0022658</b>: Nierenkrankheiten: Pathologische Prozesse der KIDNEY oder ihrer Gewebebestandteile.\n",
      "\n",
      "Answers:  ignore - reject\n",
      "Nierenkrebs ->  <b>C1420092</b>: SLC12A3-Gen\n",
      "\n",
      "Answers:  ignore - reject\n",
      "Nierenentzündung ->  <b>C0024143</b>: Lupus Nephritis: Glomerulonephritis im Zusammenhang mit der Autoimmunerkrankung SYSTEMIC LUPUS ERYTHEMATOSUS. Die Lupusnephritis wird histologisch in 6 Klassen eingeteilt: Klasse I - normale Glomeruli, Klasse II - reine Mesangialveränderungen, Klasse III - fokale segmentale Glomerulonephritis, Klasse IV - diffuse Glomerulonephritis, Klasse V - diffuse membranöse Glomerulonephritis und Klasse VI - fortgeschrittene sklerosierende Glomerulonephritis (Klassifikation der Weltgesundheitsorganisation 1982).\n",
      "\n",
      "Answers:  accept - reject\n",
      "Hernie am Bauchnabel ->  <b>C0267716</b>: Inzisionshernie: Eine abdominale Hernie, die an einer Schwachstelle in der Bauchwand auftritt, die durch eine unvollständig verheilte Operationswunde entstanden ist. [HPO:probinson]\n",
      "\n",
      "Answers:  ignore - accept\n",
      "Entnahme von Gewebsproben ->  <b>C0005558</b>: Biopsie: Entnahme und pathologische Untersuchung von Präparaten aus dem lebenden Körper.\n",
      "\n",
      "Answers:  ignore - accept\n",
      "psychisch bedingt ->  <b>C0033931</b>: Psychophysiologische Störungen: Eine Gruppe von Störungen, die durch körperliche Symptome gekennzeichnet sind, die durch emotionale Faktoren beeinflusst werden und ein einzelnes Organsystem betreffen, das gewöhnlich unter der Kontrolle des AUTONOMEN NERVENSYSTEMS steht. (Amerikanisches psychiatrisches Glossar, 1988)\n",
      "\n",
      "Answers:  reject - ignore\n",
      "Diabetes insipidus ->  <b>C0011849</b>: Diabetes mellitus: Eine heterogene Gruppe von Erkrankungen, die durch HYPERGLYZEMIE und GLUCOSE INTOLERANZ gekennzeichnet sind.\n",
      "\n",
      "Answers:  accept - reject\n",
      "Dialyse ->  <b>C0011945</b>: Physikalische Dialyse: Ein Prozess der selektiven Diffusion durch eine Membran. Er wird normalerweise verwendet, um gelöste Stoffe mit niedrigem Molekulargewicht, die durch die Membran diffundieren, von kolloidalen und hochmolekularen Stoffen zu trennen, die dies nicht tun. (McGraw-Hill Dictionary of Scientific and Technical Terms, 4. Auflage)\n",
      "\n",
      "Answers:  reject - accept\n",
      "rote Urin ->  <b>C0239937</b>: Mikroskopische Hämaturie: Mikroskopische Hämaturie, die durch eine Peilstabuntersuchung oder eine mikroskopische Untersuchung des Urins festgestellt wird. [HPO:sdoelken]\n",
      "\n",
      "Answers:  ignore - reject\n",
      "Steine geholt werden ->  <b>C0036716</b>: Serielle Extraktion: Die selektive Extraktion von Milchzähnen in der Phase des Wechselgebisses in Übereinstimmung mit dem Zahnwechsel und dem Durchbruch der Zähne. Sie wird über einen längeren Zeitraum durchgeführt, um eine autonome Anpassung zu ermöglichen, damit die Zahnbögen während des Durchbruchs der seitlichen Schneidezähne, der Eckzähne und der Prämolaren nicht zu eng werden, was schließlich zur Extraktion der ersten Prämolaren führt. (Dorland, 28. Auflage)\n",
      "\n",
      "Answers:  accept - ignore\n",
      "Schwitzen ->  <b>C0700590</b>: Verstärktes Schwitzen: Abnormale übermäßige Transpiration (Schwitzen) trotz des Fehlens entsprechender Reize wie heißes und feuchtes Wetter. [HPO:probinson]\n",
      "\n",
      "Answers:  reject - ignore\n",
      "Schwitzen ->  <b>C2936326</b>: Wavelet-Analyse: Signal- und Datenverarbeitungsmethode, die die Zerlegung von Wavelets zur Annäherung, Schätzung oder Komprimierung von Signalen mit endlichen Zeit- und Frequenzbereichen verwendet. Es stellt ein Signal oder Daten in Form einer schnell abklingenden Wavelet-Reihe aus dem ursprünglichen Prototyp-Wavelet, dem sogenannten Mutter-Wavelet, dar. Dieser mathematische Algorithmus hat sich in der Biomedizin bei der Daten- und Signalverarbeitung zur Rauschunterdrückung und Audio-/Bildkompression (z. B. EEG und MRT) durchgesetzt.\n",
      "\n",
      "Answers:  ignore - accept\n",
      "Lipase erhöht ->  <b>C1963823</b>: Hyperlipasämie: Ein Labortestergebnis, das auf erhöhte Lipasewerte in einer biologischen Probe hinweist.\n",
      "\n",
      "Answers:  accept - ignore\n",
      "bluthochdruck ->  <b>C0020538</b>: Bluthochdruck-Krankheit: Das Vorhandensein eines chronisch erhöhten Drucks im systemischen arteriellen System. [HPO:probinson]\n",
      "\n",
      "Answers:  ignore - reject\n",
      "lebensbedrohlicher ->  <b>C0018197</b>: Granulom, tödliche Mittellinie: Ein Zustand, der durch Entzündung, Ulzeration und Perforation der Nase und des Gaumens mit fortschreitender Zerstörung der mittleren Gesichtsstrukturen gekennzeichnet ist. Dieses Syndrom kann sich bei verschiedenen Krankheiten manifestieren, darunter die nasale Form der EXTRANODALEN NK-T-ZELL-LYMPHOMA und die GRANULOMATOSE MIT POLYANGIITIS.\n",
      "\n",
      "Answers:  accept - reject\n",
      "schädigt auf Dauer jedenfalls die Nieren ->  <b>C0027726</b>: Nephrotisches Syndrom: Ein Zustand, der durch eine schwere PROTEINURIE von mehr als 3,5 g/Tag bei einem durchschnittlichen Erwachsenen gekennzeichnet ist. Der beträchtliche Verlust von Eiweiß im Urin führt zu Komplikationen wie HYPOPROTEINEMIE, generalisierter EDEMIE, HYPERTENSION und HYPERLIPIDEMIEN. Krankheiten, die mit dem nephrotischen Syndrom einhergehen, verursachen in der Regel eine chronische Nierenfunktionsstörung.\n",
      "\n",
      "Answers:  accept - reject\n",
      "helles Blut in der Toilettenschüssel und am Toilettenpapier ->  <b>C0019112</b>: Hämorrhoiden: Geschwollene Venen im unteren Teil des RECTUM oder ANUS. Hämorrhoiden können sich im Inneren des Anus (intern), unter der Haut um den Anus (extern) oder von innen nach außen aus dem Anus herausragen. Menschen mit Hämorrhoiden können Symptome wie Blutungen, Juckreiz und Schmerzen haben, müssen es aber nicht.\n",
      "\n",
      "Answers:  accept - ignore\n",
      "entzündliche oder nichtentzündliche glomeruläre Erkrankung ->  <b>C0017658</b>: Glomerulonephritis: Entzündung der Nierenglomeruli (KIDNEY GLOMERULUS), die nach der Art der glomerulären Verletzungen klassifiziert werden kann, einschließlich Antikörperablagerungen, Komplementaktivierung, Zellproliferation und Glomerulosklerose. Diese strukturellen und funktionellen Anomalien führen in der Regel zu Hämaturie, PROTEINURIE, HYPERTENSION und NIERENINSUFFIZIENZ.\n",
      "\n",
      "Answers:  reject - accept\n",
      "Prolaps ->  <b>C0033377</b>: Ptosis: Das Hervortreten eines Organs oder eines Teils eines Organs in eine natürliche oder künstliche Öffnung.\n",
      "\n",
      "Answers:  ignore - accept\n",
      "Flanken ->  <b>C0006205</b>: Breites Ligament: Eine breite Falte des Bauchfells, die sich von der Seite der Gebärmutter bis zur Beckenwand erstreckt.\n",
      "\n",
      "Answers:  ignore - reject\n",
      "etwa 2Trauben großen länglichen bollen genau an der poritze welcher sehr plötzlich über Nacht kam und sehr druck-berührungs und bewegungsempfindlicj ist ->  <b>C2717899</b>: Tiefe Venenthrombose der oberen Extremitäten: Tiefe Venenthrombose einer Vene der oberen Extremität (z. B. der Achselvene, der Subkutanvene und der Jugularvenen). Sie wird mit mechanischen Faktoren in Verbindung gebracht (tiefe Venenthrombose der oberen Extremitäten, primär), sekundär mit anderen anatomischen Faktoren (tiefe Venenthrombose der oberen Extremitäten, sekundär). Zu den Symptomen gehören plötzlich auftretende Schmerzen, Wärme, Rötung, Bläue und Schwellung des Arms.\n",
      "\n",
      "Answers:  reject - ignore\n",
      "einseitige Ernährung ->  <b>C0033677</b>: Protein-Energie-Mangelernährung: Der Mangel an ausreichender Energie oder Proteinen zur Deckung des Stoffwechselbedarfs des Körpers, der entweder auf eine unzureichende Proteinzufuhr mit der Nahrung, auf die Aufnahme von Nahrungsproteinen schlechter Qualität, auf einen erhöhten Bedarf aufgrund von Krankheiten oder auf erhöhte Nährstoffverluste zurückzuführen ist.\n",
      "\n",
      "Answers:  accept - reject\n",
      "renn aber immer noch wie verrückt aufs Klo ->  <b>C0241705</b>: Schwierigkeiten beim Wasserlassen\n",
      "\n",
      "Answers:  accept - reject\n",
      "erhöhtes Bilirubin ->  <b>C0017551</b>: Gilbert-Krankheit (Störung): Eine gutartige familiäre Störung, die autosomal dominant vererbt wird. Sie ist durch eine geringgradige chronische Hyperbilirubinämie mit erheblichen täglichen Schwankungen des Bilirubinspiegels gekennzeichnet.\n",
      "\n",
      "Answers:  accept - reject\n",
      "Entzündungen und wunde Stellen im Mund ->  <b>C0021368</b>: Entzündung: Ein pathologischer Prozess, der durch eine Verletzung oder Zerstörung von Geweben gekennzeichnet ist, die durch eine Vielzahl von zytologischen und chemischen Reaktionen verursacht wird. Er äußert sich in der Regel durch typische Anzeichen wie Schmerzen, Hitze, Rötung, Schwellung und Funktionsverlust.\n",
      "\n",
      "Answers:  reject - ignore\n",
      "chirurgischen Zusammenschluss einer Arterie und einer Vene ->  <b>C0162702</b>: Anlage eines ventrikulo-peritonealen Shunts: Chirurgische Schaffung einer Verbindung zwischen einem Hirnventrikel und dem Bauchfell mittels eines Kunststoffschlauchs, um die Drainage von Liquor zur Linderung eines Hydrocephalus zu ermöglichen. (Aus Dorland, 28. Auflage)\n",
      "\n",
      "Answers:  accept - reject\n",
      "seine Organe sind alle betroffen ->  <b>C0026766</b>: Multiples Organversagen: Ein fortschreitender Zustand, der in der Regel durch ein kombiniertes Versagen mehrerer Organe wie Lunge, Leber und Niere sowie einiger Gerinnungsmechanismen gekennzeichnet ist und in der Regel nach Verletzungen oder Operationen auftritt.\n",
      "\n",
      "Answers:  accept - reject\n",
      "Sexualtrieb ->  <b>C0011124</b>: Verminderte Libido: Vermindertes sexuelles Verlangen. []\n",
      "\n",
      "Answers:  accept - reject\n",
      "erektiler Dysfunktion ->  <b>C0156309</b>: Impotenz organischen Ursprungs\n",
      "\n",
      "Answers:  ignore - reject\n",
      "idiopathische ->  <b>C0398650</b>: Immunthrombozytopenische Purpura: Thrombozytopenie, die ohne toxische Exposition oder eine Krankheit auftritt, die mit einer verminderten Anzahl von Blutplättchen einhergeht. Sie wird durch Immunmechanismen vermittelt, in den meisten Fällen durch IMMUNOGLOBULIN G-Autoantikörper, die sich an Blutplättchen anlagern und anschließend von Makrophagen zerstört werden. Die Krankheit tritt in akuten (bei Kindern) und chronischen (bei Erwachsenen) Formen auf.\n",
      "\n",
      "Answers:  ignore - accept\n",
      "wurde die iere laporoskopisch angenäht ->  <b>C0194159</b>: Nephropexie\n",
      "\n",
      "Answers:  accept - reject\n",
      "puls in ruhe sehr langsam ist ->  <b>C0221047</b>: Bradykardie-Tachykardie-Syndrom\n",
      "\n",
      "Answers:  accept - reject\n",
      "atmung ist irgendwie langsam ->  <b>C3203358</b>: Hypoventilation: Eine Verringerung der Luftmenge, die in die Lungenbläschen eintritt.\n",
      "\n",
      "Answers:  accept - reject\n",
      "entleeren ->  <b>C0042034</b>: Urinieren: Ausscheidung von Urin, flüssigen Abfallstoffen, die von der Niere verarbeitet werden, aus dem Körper.\n",
      "\n",
      "Answers:  accept - reject\n",
      "Gallenentzündung ->  <b>C0008350</b>: Cholelithiasis: Vorhandensein oder Bildung von Gallensteinen im Gallentrakt, meist in der Gallenblase (CHOLECYSTOLITHIASIS) oder im Hauptgallengang (CHOLEDOCHOLITHIASIS).\n",
      "\n",
      "Answers:  reject - accept\n",
      "unentdeckter ->  <b>C0858996</b>: Symptom maskiert\n",
      "\n",
      "Answers:  accept - reject\n",
      "entzündung im dünndarm ->  <b>C0009319</b>: Colitis: Entzündung des Dickdarmabschnitts (INTESTINE, LARGE), meist mit Symptomen wie DIARRHEA (oft mit Blut und Schleim), ABDOMINALSCHMERZEN und FIEBER.\n",
      "\n",
      "Answers:  accept - reject\n",
      "überhaupt keine lebenden spermien mehr ->  <b>C0004509</b>: Azoospermie: Ein Zustand, in dem keine Spermien im Ejakulat vorhanden sind (SEMEN).\n",
      "\n",
      "Answers:  accept - reject\n",
      "einige lebende samenzellen ->  <b>C1610638</b>: Hypospermie\n",
      "\n",
      "Answers:  accept - reject\n",
      "Nierenbeckenenszündung ->  <b>C0034188</b>: Pyelonephritis, xanthogranulomatös: Eine chronisch entzündliche Erkrankung der Niere, die zu einer diffusen Nierenzerstörung, einer stark vergrößerten und funktionsunfähigen Niere in Verbindung mit NEPHROLITHIASIS und KIDNEY STONES führt.\n",
      "\n",
      "Answers:  accept - reject\n",
      "nierenentzündungen ->  <b>C0024143</b>: Lupus Nephritis: Glomerulonephritis im Zusammenhang mit der Autoimmunerkrankung SYSTEMIC LUPUS ERYTHEMATOSUS. Die Lupusnephritis wird histologisch in 6 Klassen eingeteilt: Klasse I - normale Glomeruli, Klasse II - reine Mesangialveränderungen, Klasse III - fokale segmentale Glomerulonephritis, Klasse IV - diffuse Glomerulonephritis, Klasse V - diffuse membranöse Glomerulonephritis und Klasse VI - fortgeschrittene sklerosierende Glomerulonephritis (Klassifikation der Weltgesundheitsorganisation 1982).\n",
      "\n",
      "Answers:  accept - reject\n",
      "Hyperplasie ->  <b>C0005959</b>: Hyperplasie des Knochenmarks: Zunahme der Anzahl blutbildender Zellen im Knochenmark. Sie kann alle oder einzelne hämatopoetische Zelllinien betreffen.\n",
      "\n",
      "Answers:  accept - reject\n",
      "Katheter am Hals ->  <b>C0007435</b>: Katheterisierung, zentralvenös: Einsetzen eines intravenösen Katheters in die Vena subclavia, Vena jugularis oder eine andere zentrale Vene.\n",
      "\n",
      "Answers:  accept - reject\n",
      "baldmöglichst ->  <b>C0085606</b>: Dringlichkeit des Harndrangs: Dranginkontinenz ist ein starker, plötzlicher Harndrang. [HPO:probinson, PMID:12559262]\n",
      "\n",
      "Answers:  reject - accept\n",
      "zertrümmern ->  <b>C0023878</b>: Lithotripsie: Die Zertrümmerung eines Konkrementes der Niere, des Harnleiters, der Blase oder der Gallenblase durch physikalische Kräfte, einschließlich der Zerkleinerung mit einem Lithotriptor durch einen Katheter. Fokussierter perkutaner Ultraschall und fokussierte hydraulische Stoßwellen können ohne Operation eingesetzt werden. Die Lithotripsie umfasst nicht das Auflösen von Steinen durch Säuren oder Litholyse. Lithotripsie mit Laser ist LITHOTRIPSIE, LASER.\n",
      "\n",
      "Answers:  ignore - reject\n",
      "die Nieren nicht mehr zu 100% arbeiten ->  <b>C0001403</b>: Addison-Krankheit: Eine Nebennierenerkrankung, die durch die fortschreitende Zerstörung der Nebennierenrinde gekennzeichnet ist und zu einer unzureichenden Produktion von ALDOSTERON und HYDROCORTISON führt. Zu den klinischen Symptomen gehören ANOREXIE, NAUSEA, GEWICHTSVERLUST, MUSKELSCHWÄCHE und HYPERPIGMENTIERUNG der Haut aufgrund des Anstiegs der zirkulierenden ACTH-Vorläuferhormone, die die MELANOCYTEN stimulieren.\n",
      "\n",
      "Answers:  accept - reject\n",
      "bauchspeicheldrüse ->  <b>C0183516</b>: Pankreas-Stent: Stents, die in den Bauchspeicheldrüsenhauptgang eingesetzt werden, um diesen zu stützen und/oder seine Durchgängigkeit zu erhalten. Diese Vorrichtungen können aus einem Metall- (z. B. einem maschenartigen Draht) oder Kunststoffrohr bestehen und sind in verschiedenen Formen und Größen sowie mit einer unterschiedlichen Anzahl von Widerhaken oder Pigtails erhältlich, um sich an bestimmte Abschnitte des Ganges anzupassen und/oder eine Migration zu verhindern. Die Stentoberfläche kann beschichtet sein, um dem Stent besondere Eigenschaften zu verleihen (z. B. wasserabweisend). Metallische Stents können entweder ballonexpandierbar oder selbstexpandierend sein, und sie können durch endoskopische oder perkutane transhepatische Verfahren eingesetzt werden. Bauchspeicheldrüsenstents werden verwendet, um Verengungen der Gänge zu öffnen, die durch bösartige Tumore oder gutartige Erkrankungen verursacht werden, und so den Fluss des Pankreassaftes zum Zwölffingerdarm wiederherzustellen.\n",
      "\n",
      "Answers:  ignore - accept\n",
      "Steine ->  <b>C0006736</b>: Rechensteine: Abnormale Konkremente, die meist in den Harn- und Gallenwegen auftreten und in der Regel aus Mineralsalzen bestehen. Auch Steine genannt.\n",
      "\n",
      "Answers:  accept - reject\n",
      "Luftansammlungen im Darm ->  <b>C1291077</b>: Blähungen im Bauchraum: Dehnung des Bauches, verbunden mit einem Völlegefühl.\n",
      "\n",
      "Answers:  accept - reject\n",
      "kolik ->  <b>C0036572</b>: Krampfanfälle: Klinische oder subklinische Störungen der kortikalen Funktion aufgrund einer plötzlichen, anormalen, übermäßigen und desorganisierten Entladung von Gehirnzellen. Zu den klinischen Erscheinungsformen gehören abnorme motorische, sensorische und psychische Phänomene. Wiederkehrende Anfälle werden gewöhnlich als EPILEPSIE oder \"Anfallsleiden\" bezeichnet.\n",
      "\n",
      "Answers:  accept - reject\n",
      "Stein ->  <b>C0022650</b>: Nierensteine: Steine in der Niere, die sich in der Regel im Urinsammelbereich der Niere (KIDNEY PELVIS) bilden. Sie sind unterschiedlich groß und enthalten meist KALZIUMOXALAT.\n",
      "\n",
      "Answers:  reject - accept\n",
      "bauch ->  <b>C0000726</b>: Unterleib: Der Teil des Körpers, der zwischen dem THORAX und dem PELVIS liegt.\n",
      "\n",
      "Answers:  ignore - accept\n",
      "Bauchfell ->  <b>C0230206</b>: Viszerales Peritoneum: Die seröse Membran, die die Oberfläche aller in der Peritonealhöhle befindlichen Organe bedeckt.\n",
      "\n",
      "Answers:  ignore - accept\n",
      "Nesselsucht ->  <b>C0042109</b>: Urtikaria: Eine vaskuläre Reaktion der Haut, die durch Erytheme und Quaddelbildung aufgrund einer lokalen Erhöhung der Gefäßdurchlässigkeit gekennzeichnet ist. Der ursächliche Mechanismus kann eine Allergie, eine Infektion oder Stress sein.\n",
      "\n",
      "Answers:  ignore - reject\n",
      "Blase ->  <b>C0005758</b>: Bulla: Eine mit Flüssigkeit gefüllte, erhabene, oft durchscheinende Läsion mit einem Durchmesser von mehr als 1 cm\n",
      "\n",
      "Answers:  accept - reject\n",
      "Lactose ->  <b>C0022947</b>: Lactone: Zyklische Ester von Hydroxycarbonsäuren, die eine 1-Oxacycloalkan-2-on-Struktur enthalten. Große cyclische Lactone mit mehr als einem Dutzend Atomen sind MACROLIDES.\n",
      "\n",
      "Answers:  ignore - reject\n",
      "Darmverschluss ->  <b>C0235764</b>: Paralytischer Ileus des Neugeborenen\n",
      "\n",
      "Answers:  reject - ignore\n",
      "Ileostomas ->  <b>C0041282</b>: Schlauch-Ileostomie\n",
      "\n",
      "Answers:  ignore - reject\n",
      "laktose ->  <b>C0022947</b>: Lactone: Zyklische Ester von Hydroxycarbonsäuren, die eine 1-Oxacycloalkan-2-on-Struktur enthalten. Große cyclische Lactone mit mehr als einem Dutzend Atomen sind MACROLIDES.\n",
      "\n",
      "Answers:  accept - reject\n",
      "Appetitlosigkeit ->  <b>C0003123</b>: Anorexie: Das Fehlen oder der Verlust des APPETITES, begleitet von einer Abneigung gegen Lebensmittel und der Unfähigkeit zu essen. Dies ist das charakteristische Merkmal der Erkrankung ANOREXIA NERVOSA.\n",
      "\n",
      "Answers:  reject - ignore\n",
      "eingeschränkte Nierenfunktion ->  <b>C0022661</b>: Nierenversagen, chronisch: Das Endstadium der CHRONISCHEN NIERENINSUFFIZIENZ. Sie ist gekennzeichnet durch eine schwere irreversible Nierenschädigung (gemessen an der PROTEINURIE) und die Verringerung der GLOMERULÄREN FILTRATIONSRATE auf weniger als 15 ml pro Minute (Kidney Foundation: Kidney Disease Outcome Quality Initiative, 2002). Diese Patienten benötigen im Allgemeinen eine HEMODIALYSE oder eine NIERENTRANSPLANTATION.\n",
      "\n",
      "Answers:  ignore - accept\n",
      "nennenswerte Anzahl Leukozyten vorhanden ->  <b>C0555120</b>: Urinmikroskopie Leukozyten vorhandener Befund: Das Vorhandensein von 10 oder mehr weißen Zellen pro Kubikmillimeter in einer Urinprobe, von 3 oder mehr weißen Zellen pro High-Power-Field im ungesponnenen Urin, ein positives Ergebnis bei der Gram-Färbung einer ungesponnenen Urinprobe oder ein positiver Leukozytenesterase-Test im Urin-Peilstab. [HPO:probinson, PMID:25760357]\n",
      "\n",
      "Answers:  accept - reject\n",
      "Beruhigung ->  <b>C0235194</b>: Übermäßige Beruhigung\n",
      "\n",
      "Answers:  accept - reject\n",
      "Becken ->  <b>C0227666</b>: Nierenbecken: Die abgeflachte, trichterförmige Erweiterung, die den URETER mit den KIDNEY CALICES verbindet.\n",
      "\n",
      "Answers:  ignore - accept\n",
      "Verspannungen ->  <b>C0877010</b>: Myogelose\n",
      "\n",
      "Answers:  reject - accept\n",
      "angeborene ->  <b>C0000772</b>: Mehrere angeborene Anomalien: Angeborene Anomalien, die mehr als ein Organ oder eine Körperstruktur betreffen.\n",
      "\n",
      "Answers:  reject - accept\n",
      "Harnstoff ->  <b>C0041945</b>: Urease: Ein Enzym, das die Umwandlung von Harnstoff und Wasser in Kohlendioxid und Ammoniak katalysiert. EC 3.5.1.5.\n",
      "\n",
      "Answers:  ignore - reject\n",
      "Reflux ->  <b>C0042580</b>: Vesiko-ureteraler Reflux: Rückfluss von Urin aus der Harnblase in den Harnleiter (URETER). Dies ist häufig auf eine Inkompetenz der vesikoureteralen Klappe zurückzuführen.\n",
      "\n",
      "Answers:  reject - accept\n",
      "Rachen ->  <b>C0031354</b>: Pharyngeale Struktur: Eine trichterförmige fibromuskuläre Röhre, die die Nahrung zum ESOPHAGUS und die Luft zum LARYNX und zu den LUNGEN leitet. Sie befindet sich hinter der Nasenhöhle, der Mundhöhle und der Kehlkopfhöhle und erstreckt sich von der Schädelbasis bis zum unteren Rand des Kiefergelenks (CRICOID CARTILAGE) auf der Vorderseite und bis zum unteren Rand des C6-Wirbels auf der Rückseite. Er ist unterteilt in den NASOPHARYNX, den OROPHARYNX und den HYPOPHARYNX (Laryngopharynx).\n",
      "\n",
      "Answers:  reject - accept\n",
      "lähmung ->  <b>C0030552</b>: Parese: Ein allgemeiner Begriff, der sich auf einen leichten bis mittleren Grad von Muskelschwäche bezieht und gelegentlich als Synonym für PARALYSIS (schwerer oder vollständiger Verlust der motorischen Funktion) verwendet wird. In der älteren Literatur bezog sich Parese oft speziell auf die paretische Neurosyphilis (siehe NEUROSYPHILIS). Die Begriffe \"allgemeine Parese\" und \"allgemeine Lähmung\" können immer noch diese Bedeutung haben. Die beidseitige Parese der unteren Extremitäten wird als PARAPARESIS bezeichnet.\n",
      "\n",
      "Answers:  accept - reject\n",
      "Einläufe ->  <b>C2936738</b>: Therapeutische Bewässerung: Das Waschen einer Körperhöhle oder -oberfläche mit fließendem Wasser oder einer Lösung zur Therapie oder Diagnose.\n",
      "\n",
      "Answers:  ignore - accept\n",
      "vorwölbung ->  <b>C0887879</b>: Erweiterungen der Zelloberfläche: Spezialisierte Strukturen der Zelle, die die Zellmembran verlängern und aus der Zelloberfläche herausragen.\n",
      "\n",
      "Answers:  ignore - reject\n",
      "Nervenschädigung ->  <b>C0029132</b>: Störung des Sehnervs: Erkrankungen, die zu einer Verletzung oder Funktionsstörung des zweiten Hirnnervs oder Sehnervs führen, der im Allgemeinen als Bestandteil des zentralen Nervensystems betrachtet wird. Eine Schädigung der Sehnervenfasern kann an oder in der Nähe ihres Ursprungs in der Netzhaut, in der Sehnervenscheibe oder im Nerv, im Chiasma opticum, im Sehnervengang oder in den seitlichen Geniculate-Kernen auftreten. Zu den klinischen Manifestationen gehören verminderte Sehschärfe und Kontrastempfindlichkeit, beeinträchtigtes Farbensehen und ein afferenter Pupillendefekt.\n",
      "\n",
      "Answers:  ignore - reject\n",
      "Lendenwirbelsäule ->  <b>C1868897</b>: Lumbales Syndrom\n",
      "\n",
      "Answers:  reject - accept\n",
      "Bauchschmerzen ->  <b>C0000737</b>: Unterleibsschmerzen: Gefühl des Unbehagens, der Bedrängnis oder des Schmerzes in der Bauchgegend.\n",
      "\n",
      "Answers:  reject - accept\n",
      "Striktur ->  <b>C1261287</b>: Stenose: Der Zustand, dass eine anatomische Struktur über die normalen Maße hinaus eingeengt ist.\n",
      "\n",
      "Answers:  reject - accept\n",
      "Organschall ->  <b>C0041618</b>: Ultrasonographie: Die Visualisierung tiefer Strukturen des Körpers durch Aufzeichnung der Reflexionen oder Echos von Ultraschallimpulsen, die in das Gewebe gerichtet werden. Bei der Verwendung von Ultraschall für bildgebende oder diagnostische Zwecke werden Frequenzen von 1,6 bis 10 Megahertz verwendet.\n",
      "\n",
      "Answers:  ignore - accept\n",
      "Zahlwurzelentzündung ->  <b>C0034103</b>: Pulpitis: Entzündung der DENTALPULP, die in der Regel auf eine bakterielle Infektion bei Karies, eine Zahnfraktur oder andere Bedingungen zurückzuführen ist, die die Pulpa einer bakteriellen Invasion aussetzen. Chemische Reizstoffe, thermische Faktoren, hyperämische Veränderungen und andere Faktoren können ebenfalls eine Pulpitis verursachen.\n",
      "\n",
      "Answers:  reject - accept\n",
      "Rauchen ->  <b>C0040336</b>: Tabakkonsumstörung: Tabakkonsum, der die Gesundheit oder das soziale Funktionieren einer Person beeinträchtigt. Tabakabhängigkeit ist eingeschlossen.\n",
      "\n",
      "Answers:  reject - accept\n",
      "fehlende Bewegung ->  <b>C0919574</b>: Verlängerte Ruhigstellung\n",
      "\n",
      "Answers:  reject - accept\n",
      "Internisten ->  <b>C0282111</b>: Internet: Ein loser Zusammenschluss von Computerkommunikationsnetzen in der ganzen Welt. Die Netze, aus denen das Internet besteht, sind durch mehrere Backbone-Netze miteinander verbunden. Das Internet ist aus dem ARPAnet-Projekt der US-Regierung hervorgegangen und wurde entwickelt, um den Informationsaustausch zu erleichtern.\n",
      "\n",
      "Answers:  reject - accept\n",
      "Hodenkrebs ->  <b>C0036631</b>: Seminom: Ein strahlenempfindliches, bösartiges Neoplasma des Hodens, von dem man annimmt, dass es sich von den primordialen Keimzellen der sexuell undifferenzierten embryonalen Keimdrüse ableitet. Es werden drei Varianten unterschieden: das klassische (typische), der häufigste Typ, das anaplastische und das spermatozytäre. Das klassische Seminom besteht aus ziemlich gut differenzierten Blättern oder Strängen einheitlicher polygonaler oder runder Zellen (Seminomzellen), wobei jede Zelle reichlich klares Zytoplasma, ausgeprägte Zellmembranen, einen zentral gelegenen runden Zellkern und einen oder mehrere Nukleoli aufweist. Bei der Frau tritt ein grob und histologisch identisches Neoplasma auf, das als Dysgerminom bezeichnet wird. (Dorland, 27. Aufl.)\n",
      "\n",
      "Answers:  reject - accept\n",
      "Galle ->  <b>C0005388</b>: Gallenflüssigkeit: Ein Emulgator, der in der Leber produziert und in das DUODENUM ausgeschieden wird. Seine Zusammensetzung umfasst BILDSÄUREN UND SALZE, CHOLESTEROL und ELEKTROLYTE. Es unterstützt die Verdauung von Fetten im Zwölffingerdarm.\n",
      "\n",
      "Answers:  accept - reject\n",
      "Oedeme ->  <b>C0002994</b>: Angioödem: Schwellungen, die das tiefe DERMIS-, subkutane oder submuköse Gewebe betreffen und ein lokalisiertes Ödem darstellen. Angioödeme treten häufig im Gesicht, an den Lippen, der Zunge und dem Kehlkopf auf.\n",
      "\n",
      "Answers:  reject - accept\n",
      "künstlichen Darmausgang ->  <b>C0341608</b>: Stomavarizen\n",
      "\n",
      "Answers:  ignore - reject\n",
      "Spiegelung ->  <b>C0184212</b>: Ureterorenoskop: Endoskope zur direkten Einführung in die Harnwege zur visuellen Untersuchung, Biopsie, Entfernung oder Zertrümmerung von Steinen und zur Behandlung von Läsionen im Inneren der Harnleiter und Nieren. Ureterorenoskope bestehen in der Regel aus einem Außenmantel, einem Beleuchtungssystem und einem Arbeitskanal für Katheter und operative Geräte; sie sind in der Regel flexibel.\n",
      "\n",
      "Answers:  accept - reject\n",
      "Antihistaminika ->  <b>C0019592</b>: Histamin-H1-Antagonisten: Arzneimittel, die selektiv an Histamin-H1-Rezeptoren binden, diese aber nicht aktivieren und dadurch die Wirkung von endogenem Histamin blockieren. Dazu gehören die klassischen Antihistaminika, die die Wirkung von Histamin hauptsächlich bei unmittelbarer Überempfindlichkeit antagonisieren oder verhindern. Sie wirken in den Bronchien, Kapillaren und einigen anderen glatten Muskeln und werden zur Vorbeugung oder Linderung von Reisekrankheit, saisonalem Schnupfen und allergischer Dermatitis sowie zur Erzeugung von Schläfrigkeit eingesetzt. Die Wirkungen der Blockade von H1-Rezeptoren des zentralen Nervensystems sind nicht so gut bekannt.\n",
      "\n",
      "Answers:  reject - accept\n",
      "fissur ->  <b>C3203359</b>: Riss: Gewaltsamer oder traumatischer Riss oder Bruch eines Organs oder anderer Weichteile des Körpers.\n",
      "\n",
      "Answers:  reject - accept\n",
      "gelb ->  <b>C0240962</b>: Skleraler Ikterus: Der konjunktivale Ikterus ist ein Zustand, bei dem sich das Weiße der Augen gelb färbt. Dies wird am häufigsten bei Patienten mit Lebererkrankungen beobachtet. []\n",
      "\n",
      "Answers:  accept - reject\n",
      "Fruktose ->  <b>C0485036</b>: Fruktose:SCnc:Pt:Sperma:Qn\n",
      "\n",
      "Answers:  ignore - accept\n",
      "stark geschädigter Leber ->  <b>C1306571</b>: Hepatische Insuffizienz: Zustände, in denen die Lebertätigkeit unter den Normalbereich fällt. Schwere Leberinsuffizienz kann zu Leberversagen oder zum Tod führen. Die Behandlung kann eine Lebertransplantation umfassen.\n",
      "\n",
      "Answers:  accept - reject\n",
      "stark geschädigter Leber ->  <b>C0023890</b>: Leberzirrhose: Lebererkrankung, bei der die normale Mikrozirkulation, die grobe vaskuläre Anatomie und die Leberarchitektur in unterschiedlichem Maße zerstört und verändert sind, wobei fibröse Septen regenerierte oder sich regenerierende parenchymatöse Knötchen umgeben.\n",
      "\n",
      "Answers:  accept - ignore\n",
      "Blasentumor ->  <b>C0278823</b>: Blasenkrebs im Stadium II AJCC v6 und v7: Stadium II umfasst: (T2a, N0, M0); (T2b, N0, M0). T2a: Der Tumor dringt in den oberflächlichen Muskel (innere Hälfte) ein. T2b: Der Tumor dringt in den tiefen Muskel ein (äußere Hälfte). N0: Keine regionalen Lymphknotenmetastasen. M0: Keine Fernmetastasen. (AJCC 6. und 7. Aufl.)\n",
      "\n",
      "Answers:  reject - accept\n",
      "Harnkultur ->  <b>C0430402</b>: Bakterielle Kultur (Verfahren)\n",
      "\n",
      "Answers:  ignore - reject\n",
      "Schlaganfall ->  <b>C0007785</b>: Zerebraler Infarkt: Die Bildung eines NECROSIS-Bereichs im CEREBRUM, der durch eine Insuffizienz des arteriellen oder venösen Blutflusses verursacht wird. Infarkte des Großhirns werden im Allgemeinen nach Hemisphäre (d. h. links oder rechts), Lappen (z. B. Frontallappeninfarkt), arterieller Verteilung (z. B. INFARKTION, ANTERIOR CEREBRAL ARTERY) und Ätiologie (z. B. embolischer Infarkt) klassifiziert.\n",
      "\n",
      "Answers:  reject - accept\n",
      "Orien lasse ->  <b>C0013428</b>: Dysurie: Schmerzhaftes Urinieren. Er ist oft mit Infektionen des unteren Harntrakts verbunden.\n",
      "\n",
      "Answers:  ignore - reject\n",
      "resektion ->  <b>C0206101</b>: Wiederholung eines Kaiserschnittes: Extraktion des Fötus durch abdominale Hysterotomie jederzeit nach einem vorangegangenen Kaiserschnitt.\n",
      "\n",
      "Answers:  ignore - reject\n",
      "resektion ->  <b>C1964013</b>: Nekrektomie\n",
      "\n",
      "Answers:  ignore - accept\n",
      "am offenen Bauch operieren ->  <b>C0023038</b>: Laparotomie: Einschnitt an der Seite des Bauches zwischen Rippen und Becken.\n",
      "\n",
      "Answers:  accept - reject\n",
      "Schleimlöser ->  <b>C0040349</b>: Tokolytische Wirkstoffe: Medikamente zur Verhinderung von vorzeitigen Wehen und unreifen Geburten durch Unterdrückung der Uteruskontraktionen (TOCOLYSIS). Zu den Mitteln, die zur Verzögerung der vorzeitigen Uterusaktivität eingesetzt werden, gehören Magnesiumsulfat, Beta-Mimetika, Oxytocin-Antagonisten, Kalziumkanal-Hemmer und adrenerge Beta-Rezeptor-Agonisten. Die Verwendung von intravenösem Alkohol als Tokolytikum ist inzwischen überholt.\n",
      "\n",
      "Answers:  accept - reject\n",
      "Urethers ->  <b>C0041964</b>: Urethan: Antineoplastisches Mittel, das auch als Veterinäranästhetikum verwendet wird. Es wurde auch als Zwischenprodukt in der organischen Synthese verwendet. Urethan steht im Verdacht, krebserregend zu sein.\n",
      "\n",
      "Answers:  accept - reject\n",
      "verkalkung ->  <b>C0036421</b>: Systemische Sklerodermie: Eine chronische Multisystemerkrankung des Bindegewebes. Sie ist gekennzeichnet durch Sklerose in der Haut, den Lungen, dem Herzen, dem gastrointestinalen Trakt, den KINDERN und dem muskuloskelettalen System. Weitere wichtige Merkmale sind erkrankte kleine BLUTGÄNGE und AUTOANTIKÖRPER. Die Erkrankung ist nach ihrem auffälligsten Merkmal (harte Haut) benannt und wird nach dem Ausmaß der Hautverdickung in Untergruppen eingeteilt: LIMITED SCLERODERMA und DIFFUSE SCLERODERMA.\n",
      "\n",
      "Answers:  ignore - accept\n",
      "zucker ->  <b>C0005802</b>: Blutzucker: Glukose im Blut.\n",
      "\n",
      "Answers:  ignore - accept\n",
      "Schwangerschaftsvergiftung ->  <b>C1321782</b>: Gestose\n",
      "\n",
      "Answers:  ignore - accept\n",
      "Bauchfelldyalise ->  <b>C0182222</b>: Peritonealdialyse Sterilverbindungseinheiten\n",
      "\n",
      "Answers:  ignore - accept\n",
      "die Entfernung der Gallenblase ->  <b>C0008320</b>: Verfahren der Cholezystektomie: Chirurgische Entfernung des GALLBLADDERs.\n",
      "\n",
      "Answers:  reject - ignore\n",
      "harmloser Riss ->  <b>C0240872</b>: Rektale Fissur\n",
      "\n",
      "Answers:  ignore - accept\n",
      "Prä-emptive ->  <b>C0445202</b>: Prophylaktisches Verhalten: Jeder Eingriff zur Vorbeugung von Krankheiten oder Infektionen.\n",
      "\n",
      "Answers:  ignore - accept\n",
      "CK ->  <b>C0151576</b>: Erhöhte Kreatinphosphokinase\n",
      "\n",
      "Answers:  reject - accept\n",
      "Glukose ->  <b>C0004076</b>: Glukosemessung, Urin\n",
      "\n",
      "Answers:  reject - accept\n",
      "Venenentzündung ->  <b>C0151847</b>: Phlebitis tief\n",
      "\n",
      "Answers:  reject - ignore\n",
      "krampfartige ->  <b>C0857334</b>: Qualität des kolikartigen Gefühls\n",
      "\n",
      "Answers:  ignore - accept\n",
      "Stein ->  <b>C0022650</b>: Nierensteine: Steine in der Niere, die sich in der Regel im Urinsammelbereich der Niere (KIDNEY PELVIS) bilden. Sie sind unterschiedlich groß und enthalten meist KALZIUMOXALAT.\n",
      "\n",
      "Answers:  reject - accept\n",
      "Schnupfen ->  <b>C1260880</b>: Rhinorrhoe: Vermehrter Schleimabgang aus der Nase. []\n",
      "\n",
      "Answers:  reject - ignore\n",
      "Schnupfen ->  <b>C0035455</b>: Rhinitis: Entzündung der NASAL MUCOSA, der Schleimhaut, die die Nasenhöhlen auskleidet.\n",
      "\n",
      "Answers:  ignore - accept\n",
      "Giftstoffe ->  <b>C0148323</b>: Shiga-Toxine: Eine Klasse von Toxinen, die die Proteinsynthese hemmen, indem sie die Interaktion von ribosomaler RNA (RNA, RIBOSOMAL) mit PEPTIDE ELONGATION FACTORS blockieren. Dazu gehören SHIGA TOXIN, das von SHIGELLA DYSENTERIAE produziert wird, und eine Vielzahl von Shiga-ähnlichen Toxinen, die von pathologischen Stämmen von ESCHERICHIA COLI wie ESCHERICHIA COLI O157 produziert werden.\n",
      "\n",
      "Answers:  ignore - reject\n",
      "Medikamente ->  <b>C0025141</b>: MEDLINE: Die führende bibliografische Datenbank des NATIONAL LIBRARY OF MEDICINE. MEDLINE® (MEDLARS Online) ist die wichtigste Untergruppe von PUBMED und kann auf der NLM-Website in PubMed oder dem NLM Gateway durchsucht werden. MEDLINE-Referenzen sind mit MEDICAL SUBJECT HEADINGS (MeSH) indexiert.\n",
      "\n",
      "Answers:  accept - reject\n",
      "Infektion eingefangen ->  <b>C0205721</b>: Infektionen, Krankenhaus: Mit dem Krankenhausaufenthalt zusammenhängende Infektion, die vor der Aufnahme nicht vorhanden war oder inkubiert wurde, aber im Allgemeinen mehr als 72 Stunden nach der Aufnahme auftritt\n",
      "\n",
      "Answers:  accept - reject\n",
      "Nierenpunktion ->  <b>C0194073</b>: Nierenbiopsie: Entnahme von Gewebe aus der Niere zur mikroskopischen Untersuchung.\n",
      "\n",
      "Answers:  ignore - accept\n",
      "Enddarm ->  <b>C0034896</b>: Rektum: Der distale Abschnitt des GROSSEN DARMES zwischen dem KOLON SIGMOID und dem ANALKANAL.\n",
      "\n",
      "Answers:  ignore - accept\n",
      "25-Hydroxy-Vitamin-D ->  <b>C0006657</b>: Calcifediol: Der wichtigste zirkulierende Metabolit von VITAMIN D3. Es wird in der LEBER produziert und ist der beste Indikator für die Vitamin-D-Speicher des Körpers. Es ist wirksam bei der Behandlung von RICKETS und OSTEOMALACIA, sowohl bei azotämischen als auch bei nicht azotämischen Patienten. Calcifediol hat auch mineralisierende Eigenschaften.\n",
      "\n",
      "Answers:  reject - accept\n",
      "Schulterblatt ->  <b>C0036277</b>: Knochenstruktur des Schulterblatts: Er wird auch als Schulterblatt bezeichnet und ist ein flacher, dreieckiger Knochen, von dem ein Paar den hinteren Teil des Schultergürtels bildet.\n",
      "\n",
      "Answers:  reject - ignore\n",
      "eGFR ->  <b>C0242982</b>: c-erbB-1 Proto-Onkogene\n",
      "\n",
      "Answers:  ignore - accept\n",
      "Benommenheitsgefühl ->  <b>C0013144</b>: Schläfrigkeit: Exzessive Tagesmüdigkeit. [HPO:probinson]\n",
      "\n",
      "Answers:  reject - ignore\n",
      "vergrößert ->  <b>C0162810</b>: Cicatrix, hypertrophisch: Eine erhabene Narbe, die einem KELOID ähnelt, aber nicht auf das umliegende Gewebe übergreift. Sie entsteht durch Vergrößerung und Überwucherung des Narbengewebes und bildet sich spontan zurück.\n",
      "\n",
      "Answers:  ignore - accept\n",
      "geschädigte Darmflora ->  <b>C1536021</b>: Dysbakteriose\n",
      "\n",
      "Answers:  ignore - accept\n",
      "Divertikel ->  <b>C0012811</b>: Kolondivertikel anatomischer Aufbau: Ein Beutel oder Sack, der sich vom KOLON aus öffnet.\n",
      "\n",
      "Answers:  reject - ignore\n",
      "Brustkrebs ->  <b>C0024662</b>: Maus-Mamma-Tumor-Virus: Die Typusart des BETARETROVIRUS, die in der Regel latent in Mäusen vorkommt. Es verursacht bei einem genetisch anfälligen Mäusestamm ein Adenokarzinom der Brustdrüse, wenn die entsprechenden hormonellen Einflüsse wirken.\n",
      "\n",
      "Answers:  ignore - accept\n",
      "nebenierenkrebs ->  <b>C0206667</b>: Adenom der Nebennierenrinde: Ein gutartiges Neoplasma der ADRENAL CORTEX. Sie ist durch eine gut abgegrenzte knotige Läsion gekennzeichnet, die in der Regel weniger als 2,5 cm groß ist. Die meisten Nebennierenrindenadenome sind nicht funktionsfähig. Die funktionellen Adenome sind gelb und enthalten LIPIDS. Je nach Zelltyp oder betroffener Kortikaliszone können sie ALDOSTERON, HYDROCORTISON, DEHYDROEPIANDROSTERON und/oder ANDROSTENEDIONE produzieren.\n",
      "\n",
      "Answers:  ignore - reject\n",
      "nach einer Infektion ->  <b>C0392317</b>: Infektion der Brüste\n",
      "\n",
      "Answers:  ignore - accept\n",
      "vorsorge ->  <b>C0199176</b>: Prophylaktische Behandlung: Konzeptuell weit gefasster Begriff, der sich auf jedes Verfahren bezieht, das unerwünschte Ereignisse verhindern soll. Verwenden Sie nach Möglichkeit einen spezifischeren Begriff.\n",
      "\n",
      "Answers:  ignore - reject\n",
      "Abzess ->  <b>C0154663</b>: Spätfolgen eines intrakraniellen Abszesses oder einer pyogenen Infektion\n",
      "\n",
      "Answers:  reject - accept\n",
      "Arthritis ->  <b>C0018099</b>: Gicht: Stoffwechselstörung, die durch wiederkehrende akute Arthritis, Hyperurikämie und Ablagerungen von Natriumurat in und um die Gelenke gekennzeichnet ist, manchmal mit Bildung von Harnsäuresteinen.\n",
      "\n",
      "Answers:  reject - accept\n",
      "Eierstöcke ->  <b>C0278689</b>: Rezidivierender Eierstockkrebs: Das Wiederauftreten eines Ovarialkarzinoms nach einer Zeit der Remission.\n",
      "\n",
      "Answers:  reject - ignore\n",
      "Knötchen ->  <b>C0028258</b>: Noduläre Vaskulitis\n",
      "\n",
      "Answers:  ignore - accept\n",
      "Gelenke über den Pobacken ->  <b>C0019558</b>: Hüftgelenk: Das Gelenk, das durch die Verbindung des FEMUR-Kopfes mit dem ACETABULUM des PELVIS gebildet wird.\n",
      "\n",
      "Answers:  accept - reject\n",
      "Lebensmittelvergiftung ->  <b>C0016462</b>: Kontamination von Lebensmitteln: Das Vorhandensein von schädlichen, ungenießbaren oder anderweitig zu beanstandenden Fremdstoffen, z. B. Chemikalien, Mikroorganismen oder Verdünnungsmitteln, in Lebensmitteln vor, während oder nach der Verarbeitung oder Lagerung.\n",
      "\n",
      "Answers:  accept - ignore\n",
      "Polypen ->  <b>C1112566</b>: Polyp des Blinddarms\n",
      "\n",
      "Answers:  reject - accept\n",
      "Blinddarm ->  <b>C0007531</b>: Cecum: Der Blindsack oder Ausführungsgang des GROSSEN DARMES, der sich unterhalb des Eingangs des KLEINEN DARMES befindet. Er hat eine wurmartige Erweiterung, den wurmförmigen APPENDIX.\n",
      "\n",
      "Answers:  ignore - reject\n",
      "Erkältung ->  <b>C0027441</b>: Nasopharyngitis: Entzündung der Nasenschleimhaut, in der Regel einschließlich der Schleimhaut, der zugehörigen lymphatischen Strukturen und der Drüsen.\n",
      "\n",
      "Answers:  accept - reject\n",
      "Blut auf eine Entzündung ->  <b>C0376579</b>: Entzündungsproteine aus Makrophagen: Heparin-bindende Proteine, die eine Reihe von entzündlichen und immunregulierenden Aktivitäten aufweisen. Ursprünglich als Sekretionsprodukte von Makrophagen identifiziert, werden diese Chemokine von einer Vielzahl von Zelltypen produziert, darunter NEUTROPHILE, FIBROBLASEN und EPITHELISCHE ZELLEN. Sie spielen wahrscheinlich eine wichtige Rolle bei der Abwehr der Atemwege.\n",
      "\n",
      "Answers:  reject - accept\n",
      "biopsiert ->  <b>C0005558</b>: Biopsie: Entnahme und pathologische Untersuchung von Präparaten aus dem lebenden Körper.\n",
      "\n",
      "Answers:  accept - reject\n",
      "Appetitlosigkeit ->  <b>C0003123</b>: Anorexie: Das Fehlen oder der Verlust des APPETITES, begleitet von einer Abneigung gegen Lebensmittel und der Unfähigkeit zu essen. Dies ist das charakteristische Merkmal der Erkrankung ANOREXIA NERVOSA.\n",
      "\n",
      "Answers:  ignore - reject\n",
      "Hodenschmerzen ->  <b>C0010692</b>: Blasenentzündung: Entzündung der Harnblase, entweder durch bakterielle oder nicht-bakterielle Ursachen. Zystitis geht in der Regel mit schmerzhaftem Wasserlassen (Dysurie), erhöhter Häufigkeit, Harndrang und suprapubischen Schmerzen einher.\n",
      "\n",
      "Answers:  reject - accept\n",
      "Lymphdrüsenkrebs ->  <b>C3714542</b>: Lymphom, diffus: Ein veralteter Begriff, der sich auf ein Non-Hodgkin-Lymphom bezieht, das aus kleinen und mittelgroßen Lymphozyten besteht.\n",
      "\n",
      "Answers:  accept - reject\n",
      "Platzangst ->  <b>C0001818</b>: Agoraphobie: Zwanghafte, anhaltende, intensive Angst vor Orten oder Situationen, aus denen eine Flucht schwierig oder peinlich sein könnte.\n",
      "\n",
      "Answers:  accept - reject\n",
      "Verkalkung von Gefäßen ->  <b>C0004153</b>: Atherosklerose: Ein Zustand, der durch fleckige Atherome oder atherosklerotische Plaques gekennzeichnet ist, die sich in den Wänden mittelgroßer und großer Arterien entwickeln und zu einer Arterienverengung mit vermindertem oder blockiertem Blutfluss führen können. [HPO:probinson]\n",
      "\n",
      "Answers:  ignore - accept\n",
      "Schlüsselbein ->  <b>C0008913</b>: Knochenstruktur des Schlüsselbeins: Ein Knochen auf der ventralen Seite des Schultergürtels, der beim Menschen gemeinhin als Schlüsselbein bezeichnet wird.\n",
      "\n",
      "Answers:  accept - ignore\n",
      "proktologen ->  <b>C0033248</b>: Proktologie\n",
      "\n",
      "Answers:  accept - reject\n",
      "Verengung ->  <b>C0038477</b>: Struktur-Wirkungs-Beziehung: Die Beziehung zwischen der chemischen Struktur einer Verbindung und ihrer biologischen oder pharmakologischen Aktivität. Verbindungen werden häufig in Klassen zusammengefasst, weil sie gemeinsame strukturelle Merkmale wie Form, Größe, stereochemische Anordnung und Verteilung der funktionellen Gruppen aufweisen.\n",
      "\n",
      "Answers:  reject - accept\n",
      "per Infusion ->  <b>C0002920</b>: Anästhesie, intravenös: Verfahren zur Verabreichung eines Anästhetikums durch Injektion direkt in den Blutkreislauf.\n",
      "\n",
      "Answers:  ignore - reject\n",
      "Verklebung ->  <b>C0001511</b>: Verwachsungen im Gewebe: Pathologische Prozesse, die in der Vereinigung der gegenüberliegenden Oberflächen einer Wunde bestehen.\n",
      "\n",
      "Answers:  ignore - reject\n",
      "schamlippe ->  <b>C0156398</b>: Polypen der Schamlippen und der Vulva\n",
      "\n",
      "Answers:  ignore - reject\n",
      "Beckenkamm ->  <b>C0435777</b>: Fraktur des Beckenkamms\n",
      "\n",
      "Answers:  accept - reject\n",
      "magenspiegelung ->  <b>C0010702</b>: Zystoskopie: Endoskopische Untersuchung, Therapie oder Operation der Harnblase.\n",
      "\n",
      "Answers:  reject - accept\n",
      "brennen hinter dem Brustbein ->  <b>C0018834</b>: Sodbrennen: Substernale Schmerzen oder brennendes Gefühl, in der Regel verbunden mit Regurgitation von Magensaft in die Speiseröhre.\n",
      "\n",
      "Answers:  ignore - accept\n",
      "Brustbein ->  <b>C0038293</b>: Sternum: Ein langer, schmaler und flacher Knochen, der gemeinhin als BRUSTKNOCHEN bezeichnet wird und in der Mitte des vorderen Thoraxsegments oder der Brustregion liegt. Er stabilisiert den Brustkorb und dient als Ausgangspunkt für mehrere Muskeln, die die Arme, den Kopf und den Hals bewegen.\n",
      "\n",
      "Answers:  accept - reject\n",
      "Muskelschäden ->  <b>C0026848</b>: Myopathie: Eine Muskelerkrankung, die nicht auf eine Beeinträchtigung der Innervation oder der neuromuskulären Verbindung zurückzuführen ist. [HPO:probinson]\n",
      "\n",
      "Answers:  ignore - accept\n",
      "familiaere polycystische Nieren ->  <b>C0022679</b>: Zystische Niere: Eine Niere, die eine oder mehrere Zysten enthält.\n",
      "\n",
      "Answers:  reject - accept\n",
      "Hautwucherung ->  <b>C0016045</b>: Fibrom: Gutartige Tumore, die aus faserigem oder bindegewebigem Gewebe bestehen. Sie können in allen Organen wachsen und entstehen aus Mesenchymgewebe. Der Begriff \"fibroblastisch\" oder \"fibromatös\" wird zur Beschreibung von Tumoren des faserigen Bindegewebes verwendet. Wenn der Begriff Fibrom ohne Modifikator verwendet wird, gilt er in der Regel als gutartig, während der Begriff Fibrosarkom für bösartige Tumore reserviert ist.\" [HPO:Kuratoren]\n",
      "\n",
      "Answers:  reject - accept\n",
      "Entwässerung ->  <b>C0012797</b>: Diurese: Eine Zunahme der Ausscheidung von Urin. (McGraw-Hill Dictionary of Scientific and Technical Terms, 6th ed)\n",
      "\n",
      "Answers:  ignore - reject\n",
      "Stauung ->  <b>C0277919</b>: Postthrombotisches Syndrom: Ein Zustand, der durch eine oder mehrere Episoden einer tiefen Venenthrombose verursacht wird, wobei sich die Blutgerinnsel in der Regel in den Beinen festsetzen. Zu den klinischen Merkmalen gehören EDEM, SCHMERZ, Schmerzen, Schweregefühl und Muskelkrämpfe in den Beinen. Wenn schwere Beinschwellungen zu einem Hautabbau führen, spricht man von einem venösen STASIS-ULCER.\n",
      "\n",
      "Answers:  reject - accept\n",
      "ich sei heiss ->  <b>C0235723</b>: Reaktion fiebrig\n",
      "\n",
      "Answers:  reject - accept\n",
      "ich sei heiss ->  <b>C0015967</b>: Fieber: Eine abnormale Erhöhung der Körpertemperatur, in der Regel als Folge eines pathologischen Prozesses.\n",
      "\n",
      "Answers:  accept - reject\n",
      "Vernarbte Nieren ->  <b>C0341698</b>: Atrophie der Niere: Atrophie der Niere. [HPO:probinson]\n",
      "\n",
      "Answers:  accept - reject\n",
      "Schmerzmittel ->  <b>C0344307</b>: Fehlen der Schmerzempfindung: Unfähigkeit, schmerzhafte Reize wahrzunehmen. [HPO:probinson]\n",
      "\n",
      "Answers:  ignore - accept\n",
      "Doppelbilder ->  <b>C0012569</b>: Diplopie: Ein visuelles Symptom, bei dem ein einzelnes Objekt von der Sehrinde als zwei Objekte und nicht als eines wahrgenommen wird. Zu den Erkrankungen, die mit diesem Zustand in Verbindung gebracht werden, gehören REFRAKTIVE FEHLER, STRABISMUS, OCULOMOTORISCHE NERVENKRANKHEITEN, TROCHLEARE NERVENKRANKHEITEN, ABDUCENS-NERVENKRANKHEITEN sowie Erkrankungen des HIRNSTAMMS und der OCCIPITALEN LOBE.\n",
      "\n",
      "Answers:  reject - accept\n",
      "Teerstuhl ->  <b>C0025222</b>: Melena: Die schwarzen, teerigen, übel riechenden FECES, die zersetztes Blut enthalten.\n",
      "\n",
      "Answers:  accept - reject\n",
      "Nierenstau ->  <b>C0022650</b>: Nierensteine: Steine in der Niere, die sich in der Regel im Urinsammelbereich der Niere (KIDNEY PELVIS) bilden. Sie sind unterschiedlich groß und enthalten meist KALZIUMOXALAT.\n",
      "\n",
      "Answers:  reject - accept\n",
      "Psycho-Schiene ->  <b>C0033966</b>: Psychosomatische Medizin: Ein medizinisches System, das darauf abzielt, die genaue Natur der Beziehung zwischen den Emotionen und den Körperfunktionen zu entdecken, und das den Grundsatz bekräftigt, dass der Geist und der Körper eins sind.\n",
      "\n",
      "Answers:  reject - ignore\n",
      "Gesamteiweiß ->  <b>C0018974</b>: Häm-Proteine: Proteine, die eine prosthetische Eisen-Porphyrin- oder Häm-Gruppe enthalten, die derjenigen des Hämoglobins ähnelt. (Aus Lehninger, Principles of Biochemistry, 1982, S. 480)\n",
      "\n",
      "Answers:  ignore - accept\n",
      "gravierend hohem TSH ->  <b>C0020676</b>: Hypothyreose: Ein Syndrom, das durch eine abnorm niedrige Sekretion von Hormonen aus der Schilddrüse entsteht, was zu einer Verringerung der Grundumsatzrate des Stoffwechsels führt. In ihrer schwersten Form kommt es zu einer Anhäufung von MUCOPOLYSACCHARIDEN in der Haut und in der EDEMA, die als MYXEDEMA bezeichnet wird. Sie kann primär oder sekundär aufgrund einer anderen Hypophysenerkrankung oder einer hypothalamischen Dysfunktion auftreten.\n",
      "\n",
      "Answers:  ignore - reject\n",
      "Mutterleib ->  <b>C0000726</b>: Unterleib: Der Teil des Körpers, der zwischen dem THORAX und dem PELVIS liegt.\n",
      "\n",
      "Answers:  accept - reject\n",
      "Verbrennung ->  <b>C0012238</b>: Verdauung: Der Prozess der Aufspaltung von Nahrungsmitteln für den Stoffwechsel und die Verwendung durch den Körper.\n",
      "\n",
      "Answers:  accept - reject\n",
      "Blutbild ->  <b>C0010289</b>: Kreatinkinase, BB-Form: Eine Form der Kreatinkinase, die im BRAIN vorkommt.\n",
      "\n",
      "Answers:  accept - reject\n",
      "Nebennierenrinde ->  <b>C0405580</b>: Unterfunktion der Nebennierenrinde: Unzureichende Produktion von Steroidhormonen (vor allem Cortisol) durch die Nebennieren als Folge eines primären Defekts in den Drüsen selbst. [HPO:probinson]\n",
      "\n",
      "Answers:  accept - reject\n",
      "unterzuckert ->  <b>C0020617</b>: Hypoglykämisches Koma: Ein komatöser Zustand, der auf einen abnormal niedrigen Serumglukosespiegel zurückzuführen ist.\n",
      "\n",
      "Answers:  reject - accept\n",
      "nieren Vergrößerung ->  <b>C0342499</b>: Vergrößerte Nebenniere\n",
      "\n",
      "Answers:  ignore - accept\n",
      "blass ->  <b>C0857322</b>: Anämisch\n",
      "\n",
      "Answers:  accept - reject\n",
      "Blasendruckmessung ->  <b>C1536044</b>: Gustometrie\n",
      "\n",
      "Answers:  reject - accept\n",
      "Schulterschmerzen ->  <b>C2363936</b>: Omalgia\n",
      "\n",
      "Answers:  accept - reject\n",
      "Schleimhaut ->  <b>C0086789</b>: Periadenitis Mucosa Necrotica Recurrens\n",
      "\n",
      "Answers:  ignore - accept\n",
      "Chorionbiopsie ->  <b>C0008509</b>: Probenahme von Chorionzotten: Verfahren zur Diagnose fötaler Erkrankungen durch Entnahme von Zellen aus den Chorionzotten der Plazenta zur Analyse der DNA, der Anwesenheit von Bakterien, der Konzentration von Stoffwechselprodukten usw. Der Vorteil gegenüber der Amniozentese ist, dass das Verfahren im ersten Trimester durchgeführt werden kann.\n",
      "\n",
      "Answers:  reject - accept\n",
      "Rektoskopie ->  <b>C0033251</b>: Proktoskopie: Endoskopische Untersuchung, Therapie oder Operation des Enddarms.\n",
      "\n",
      "Answers:  ignore - reject\n",
      "Knoten ->  <b>C0037189</b>: Sinoatrialknoten: Die kleine Masse modifizierter Herzmuskelfasern, die sich an der Kreuzung zwischen der oberen Hohlvene (VENA CAVA, SUPERIOR) und dem rechten Vorhof befindet. Die Kontraktionsimpulse beginnen wahrscheinlich in diesem Knoten, breiten sich über den Vorhof (HEART ATRIUM) aus und werden dann durch das atrioventrikuläre Bündel (BUNDLE OF HIS) an den Ventrikel (HEART VENTRICLE) weitergeleitet.\n",
      "\n",
      "Answers:  ignore - reject\n",
      "Becken ->  <b>C0085988</b>: Missverhältnis zwischen Schädel und Becken: Ein Zustand, bei dem der KOPF des FETUS größer ist als die PELVIS der Mutter, durch die der Kopf des Fötus bei einer vaginalen Entbindung hindurch muss.\n",
      "\n",
      "Answers:  ignore - reject\n",
      "Pädiatrie ->  <b>C0179863</b>: Pädiatrischer Stuhl\n",
      "\n",
      "Answers:  ignore - accept\n",
      "Diabestes ->  <b>C0011848</b>: Diabetes insipidus: Eine Krankheit, die durch häufiges Wasserlassen, die Ausscheidung großer Mengen an verdünntem Urin und übermäßiges Durstgefühl gekennzeichnet ist. Zu den Ursachen von Diabetes insipidus gehören ein Mangel an antidiuretischem Hormon (auch bekannt als ADH oder VASOPRESSIN), das von der NEUROHYPOPHYSIS ausgeschüttet wird, eine gestörte Reaktion der NIEREN auf ADH und eine gestörte hypothalamische Regulierung des Durstes.\n",
      "\n",
      "Answers:  ignore - reject\n",
      "blinddarmentfernung ->  <b>C0003614</b>: Blinddarmneubildungen: Tumore oder Krebs der APPENDIX.\n",
      "\n"
     ]
    }
   ],
   "source": [
    "for name in diff:\n",
    "    ann1 = annotations1[name]\n",
    "    ann2 = annotations2[name]\n",
    "    print(\"Answers: \", ann1[\"answer\"],\"-\", ann2[\"answer\"])\n",
    "    start = ann1[\"spans\"][0][\"start\"]\n",
    "    end = ann1[\"spans\"][0][\"end\"]\n",
    "    print(ann1[\"text\"][start:end], \"-> \", ann1['html'])\n",
    "    print()"
   ],
   "metadata": {
    "collapsed": false,
    "ExecuteTime": {
     "end_time": "2023-06-08T11:33:49.998357191Z",
     "start_time": "2023-06-08T11:33:49.814403678Z"
    }
   }
  },
  {
   "cell_type": "code",
   "execution_count": 17,
   "outputs": [
    {
     "data": {
      "text/plain": "{'text': \"Thread: [Immer morgens Durchfall]\\nText: [mmh, das kann bei dir ja wirklich gut an dem ganzen stress liegen.. bin ja jetzt kein arzt, aber vielleicht hat sich bei der blinddarmentfernung doch irgendwas entzündet und deshalb dort auch die schmerzen? könnte ja sein, so ohne hintergrundwissen. ich find ne ärztliche abklärung jedenfalls auch sinnvoll. wenn man dann weiß, dass es nix schlimmes ist, dann kann man auch sicher andere wege finden, damit umzugehen. und so'n examen belastet ja ganz klar, kenn ich ja \\nselber hab ich keine anderen beschwerden. ab und an links unten schmerzen, aber wirklich nur ab und an. ja und einen grummeligen verdauungstrakt, das ist sehr unangenehm, weil mich leute drauf ansprechen, wenn wir irgendwo sitzen und mein bauch wieder anfängt.. aber das ist auch nicht immer..]\\n\",\n 'spans': [{'start': 166, 'end': 185, 'label': 'Mention'}],\n 'html': '<b>C0003614</b>: Blinddarmneubildungen: Tumore oder Krebs der APPENDIX.',\n 'annotation_ids': [5093],\n 'cui': 'C0003614',\n 'meta': {'url': 'https://uts.nlm.nih.gov/uts/umls/concept/C0003614'},\n '_input_hash': 918169867,\n '_task_hash': -1467921115,\n '_view_id': 'blocks',\n 'answer': 'ignore',\n '_timestamp': 1683972714,\n '_annotator_id': 'TLC-validation_v4-alon',\n '_session_id': 'TLC-validation_v4-alon'}"
     },
     "execution_count": 17,
     "metadata": {},
     "output_type": "execute_result"
    }
   ],
   "source": [
    "ann1"
   ],
   "metadata": {
    "collapsed": false,
    "ExecuteTime": {
     "end_time": "2023-06-08T11:33:49.998980086Z",
     "start_time": "2023-06-08T11:33:49.971598202Z"
    }
   }
  },
  {
   "cell_type": "code",
   "execution_count": 18,
   "outputs": [],
   "source": [
    "X, Y = [], []\n",
    "for name in set(accepted1).intersection(set(accepted2)):\n",
    "    annotation = next(ann for ann in annotations1.values() if ann[\"_input_hash\"] == name)\n",
    "    cui = annotation[\"cui\"]\n",
    "    start = annotation[\"spans\"][0][\"start\"]\n",
    "    end = annotation[\"spans\"][0][\"end\"]\n",
    "    X.append(annotation[\"text\"][start:end])\n",
    "    Y.append(cui)\n",
    "    "
   ],
   "metadata": {
    "collapsed": false,
    "ExecuteTime": {
     "end_time": "2023-06-08T11:33:50.057177875Z",
     "start_time": "2023-06-08T11:33:49.976004687Z"
    }
   }
  },
  {
   "cell_type": "code",
   "execution_count": 19,
   "outputs": [
    {
     "data": {
      "text/plain": "436"
     },
     "execution_count": 19,
     "metadata": {},
     "output_type": "execute_result"
    }
   ],
   "source": [
    "len(X)"
   ],
   "metadata": {
    "collapsed": false,
    "ExecuteTime": {
     "end_time": "2023-06-08T11:33:50.069037436Z",
     "start_time": "2023-06-08T11:33:50.018076944Z"
    }
   }
  },
  {
   "cell_type": "code",
   "execution_count": 20,
   "outputs": [],
   "source": [
    "import json\n",
    "with open(TLCPaths.project_data_path.joinpath(\"accepted_both_mention_and_cui.json\"), \"w\") as f:\n",
    "    json.dump({\"X\": X, \"Y\": Y}, f)"
   ],
   "metadata": {
    "collapsed": false,
    "ExecuteTime": {
     "end_time": "2023-06-08T11:33:50.069830666Z",
     "start_time": "2023-06-08T11:33:50.018219246Z"
    }
   }
  },
  {
   "cell_type": "code",
   "execution_count": 21,
   "outputs": [
    {
     "data": {
      "text/plain": "('Schnarchen', 'C3888880')"
     },
     "execution_count": 21,
     "metadata": {},
     "output_type": "execute_result"
    }
   ],
   "source": [
    "X[0], Y[0]"
   ],
   "metadata": {
    "collapsed": false,
    "ExecuteTime": {
     "end_time": "2023-06-08T11:33:50.070298710Z",
     "start_time": "2023-06-08T11:33:50.062138127Z"
    }
   }
  },
  {
   "cell_type": "code",
   "execution_count": 22,
   "outputs": [
    {
     "data": {
      "text/plain": "{'C0877082',\n 'C1262179',\n 'C2748082',\n 'C0881445',\n 'C1142230',\n 'C0017655',\n 'C0948389',\n 'C0484456',\n 'C1699695',\n 'C0941835',\n 'C0040428',\n 'C2314896',\n 'C0043065',\n 'C0967223',\n 'C0413039',\n 'C0396428',\n 'C0180899',\n 'C1147263',\n 'C0004030',\n 'C0037786',\n 'C0155175',\n 'C0024002',\n 'C0367266',\n 'C0368137',\n 'C0550962',\n 'C0271476',\n 'C0856936',\n 'C3267190',\n 'C3888581',\n 'C0154803',\n 'C1714552',\n 'C0160816',\n 'C0597167',\n 'C3267001',\n 'C0160035',\n 'C0440010',\n 'C4082533',\n 'C0028084',\n 'C0322197',\n 'C0158855',\n 'C0157953',\n 'C0018937',\n 'C1868984',\n 'C0549806',\n 'C0242528',\n 'C0152656',\n 'C0451864',\n 'C1611704',\n 'C0949010',\n 'C2747955',\n 'C1096506',\n 'C0181923',\n 'C1963913',\n 'C0242584',\n 'C0160347',\n 'C0496351',\n 'C0014314',\n 'C0154941',\n 'C1096609',\n 'C1278795',\n 'C0289012',\n 'C1168292',\n 'C0496758',\n 'C0861253',\n 'C0803945',\n 'C1955947',\n 'C2609338',\n 'C0483455',\n 'C0273237',\n 'C1739406',\n 'C0520501',\n 'C0319145',\n 'C0012632',\n 'C0558368',\n 'C0345279',\n 'C0455970',\n 'C0542207',\n 'C0023548',\n 'C0476305',\n 'C0859192',\n 'C1868829',\n 'C0233803',\n 'C0042530',\n 'C0854850',\n 'C0858063',\n 'C0070829',\n 'C0160689',\n 'C0155442',\n 'C0080124',\n 'C2721641',\n 'C0205754',\n 'C0156705',\n 'C0857696',\n 'C0494176',\n 'C0858578',\n 'C1114103',\n 'C2609382',\n 'C0079989',\n 'C0153338',\n 'C0478372',\n 'C0155807',\n 'C0860234',\n 'C0003062',\n 'C0087416',\n 'C0942031',\n 'C3203560',\n 'C3495763',\n 'C0089793',\n 'C1531075',\n 'C0263419',\n 'C0375233',\n 'C0496204',\n 'C1096550',\n 'C1698033',\n 'C2938965',\n 'C4087159',\n 'C0042321',\n 'C0858705',\n 'C0852804',\n 'C0473461',\n 'C2609105',\n 'C0055570',\n 'C0494501',\n 'C0855311',\n 'C0497475',\n 'C1304559',\n 'C0880228',\n 'C0159021',\n 'C0497504',\n 'C0524619',\n 'C0011602',\n 'C0015808',\n 'C0020157',\n 'C0206632',\n 'C0206731',\n 'C0330499',\n 'C0410939',\n 'C0524401',\n 'C1045400',\n 'C0039446',\n 'C0246988',\n 'C0340771',\n 'C0855428',\n 'C4087485',\n 'C0180776',\n 'C0376004',\n 'C0157837',\n 'C0152678',\n 'C0478017',\n 'C1112122',\n 'C0949025',\n 'C0157565',\n 'C0857868',\n 'C0179867',\n 'C0085860',\n 'C0497321',\n 'C0155346',\n 'C0861536',\n 'C2350422',\n 'C1963886',\n 'C2718052',\n 'C0435477',\n 'C0798121',\n 'C0162624',\n 'C0265105',\n 'C0549712',\n 'C0858871',\n 'C0036107',\n 'C0365185',\n 'C0969652',\n 'C0160823',\n 'C0484893',\n 'C0409550',\n 'C4082399',\n 'C0744130',\n 'C0854543',\n 'C0338717',\n 'C0797956',\n 'C0271135',\n 'C0947779',\n 'C0289325',\n 'C0365242',\n 'C0599155',\n 'C0496779',\n 'C0856500',\n 'C2242612',\n 'C2363818',\n 'C0364175',\n 'C1533152',\n 'C0162476',\n 'C1014811',\n 'C0007980',\n 'C0013213',\n 'C0600573',\n 'C3805262',\n 'C3854573',\n 'C0039423',\n 'C0995400',\n 'C1721012',\n 'C0496313',\n 'C0080089',\n 'C3178911',\n 'C0752023',\n 'C3888645',\n 'C1197678',\n 'C1535897',\n 'C0495643',\n 'C0002583',\n 'C0157435',\n 'C1536027',\n 'C0005084',\n 'C0478663',\n 'C0023828',\n 'C0799134',\n 'C1096215',\n 'C0497393',\n 'C1369946',\n 'C0221740',\n 'C0151778',\n 'C0040034',\n 'C0941484',\n 'C0856060',\n 'C3241961',\n 'C0859792',\n 'C0180963',\n 'C0856690',\n 'C1167882',\n 'C0451680',\n 'C0015857',\n 'C0155017',\n 'C1142403',\n 'C0496261',\n 'C1737230',\n 'C2938995',\n 'C1076624',\n 'C0029071',\n 'C0859289',\n 'C0855263',\n 'C0006128',\n 'C4087216',\n 'C1167777',\n 'C1960445',\n 'C1608427',\n 'C0550620',\n 'C1168425',\n 'C0123259',\n 'C0153473',\n 'C1258084',\n 'C1261238',\n 'C0743795',\n 'C0797644',\n 'C0039217',\n 'C0022585',\n 'C0331392',\n 'C1257663',\n 'C0333537',\n 'C1328329',\n 'C4049297',\n 'C0479764',\n 'C0522172',\n 'C0002430',\n 'C0600599',\n 'C0022793',\n 'C1611723',\n 'C0740483',\n 'C0155691',\n 'C0009380',\n 'C0153683',\n 'C0947896',\n 'C0003995',\n 'C0945069',\n 'C0157223',\n 'C0276742',\n 'C1148233',\n 'C0877387',\n 'C3805020',\n 'C0669353',\n 'C0861023',\n 'C1715126',\n 'C2721574',\n 'C0362795',\n 'C0159608',\n 'C0160166',\n 'C1963893',\n 'C0484185',\n 'C0949762',\n 'C1956038',\n 'C0027556',\n 'C0430403',\n 'C0156067',\n 'C0011580',\n 'C0025112',\n 'C0804363',\n 'C0549181',\n 'C0001978',\n 'C0949012',\n 'C4046071',\n 'C0175215',\n 'C1610066',\n 'C1146917',\n 'C3665786',\n 'C1096124',\n 'C0396187',\n 'C0751369',\n 'C0018700',\n 'C0018952',\n 'C0158458',\n 'C0564778',\n 'C0854456',\n 'C0814927',\n 'C0153915',\n 'C0281837',\n 'C0154347',\n 'C0020473',\n 'C0553891',\n 'C0451920',\n 'C3665963',\n 'C0079785',\n 'C0677745',\n 'C0206255',\n 'C0023869',\n 'C0860597',\n 'C0242562',\n 'C0524840',\n 'C0856104',\n 'C2584460',\n 'C0346109',\n 'C0363540',\n 'C3888604',\n 'C0879772',\n 'C0751503',\n 'C1138398',\n 'C0221264',\n 'C0751634',\n 'C0494628',\n 'C2976303',\n 'C0075691',\n 'C1566953',\n 'C0036202',\n 'C0859096',\n 'C1168263',\n 'C0478645',\n 'C0182315',\n 'C0435907',\n 'C1562292',\n 'C0190950',\n 'C0367478',\n 'C0231696',\n 'C0340345',\n 'C0752006',\n 'C2721562',\n 'C0271685',\n 'C0182660',\n 'C0025238',\n 'C0222787',\n 'C0140919',\n 'C0085161',\n 'C0920006',\n 'C1096462',\n 'C0162313',\n 'C0154652',\n 'C0855897',\n 'C0525007',\n 'C0206249',\n 'C0152562',\n 'C0012863',\n 'C0857603',\n 'C1000622',\n 'C0919726',\n 'C2360386',\n 'C0269845',\n 'C0162461',\n 'C0004560',\n 'C3852952',\n 'C0858787',\n 'C0017327',\n 'C0038587',\n 'C0270629',\n 'C0854480',\n 'C0858283',\n 'C0281803',\n 'C0265671',\n 'C0496431',\n 'C1112318',\n 'C0376297',\n 'C3887920',\n 'C0260325',\n 'C0042636',\n 'C0859741',\n 'C0542200',\n 'C0860563',\n 'C0017078',\n 'C1138412',\n 'C0025218',\n 'C0941951',\n 'C0687445',\n 'C0028423',\n 'C0942788',\n 'C0495940',\n 'C0685870',\n 'C0431467',\n 'C0477150',\n 'C0440471',\n 'C0495591',\n 'C0027725',\n 'C1167868',\n 'C1167770',\n 'C0800411',\n 'C1270206',\n 'C0011604',\n 'C0386393',\n 'C0086204',\n 'C0160648',\n 'C0799083',\n 'C0477471',\n 'C0496947',\n 'C0477456',\n 'C0367381',\n 'C0482567',\n 'C0574067',\n 'C0026113',\n 'C0278744',\n 'C0856128',\n 'C0859711',\n 'C0853100',\n 'C0949805',\n 'C0034759',\n 'C1316669',\n 'C3888729',\n 'C0857986',\n 'C0550375',\n 'C0006846',\n 'C1706296',\n 'C0182428',\n 'C3160810',\n 'C0451699',\n 'C0362881',\n 'C0039152',\n 'C1170743',\n 'C0037412',\n 'C0486026',\n 'C0013158',\n 'C0799054',\n 'C0032824',\n 'C0477568',\n 'C3714535',\n 'C0600353',\n 'C0262902',\n 'C0854380',\n 'C1147273',\n 'C0018695',\n 'C0262292',\n 'C1526398',\n 'C3809175',\n 'C0006305',\n 'C0156566',\n 'C0027524',\n 'C0162502',\n 'C0342837',\n 'C0018808',\n 'C0037579',\n 'C0010583',\n 'C0021554',\n 'C0700091',\n 'C0800176',\n 'C1167767',\n 'C0495382',\n 'C0919638',\n 'C1142422',\n 'C2936612',\n 'C0018718',\n 'C0270191',\n 'C1735339',\n 'C0881383',\n 'C0919982',\n 'C0079382',\n 'C0184248',\n 'C0026944',\n 'C0154059',\n 'C0240708',\n 'C1328357',\n 'C0858534',\n 'C0028081',\n 'C0375016',\n 'C0497025',\n 'C2216003',\n 'C0014878',\n 'C0161585',\n 'C0157987',\n 'C1507853',\n 'C0481099',\n 'C0877412',\n 'C0156424',\n 'C3658254',\n 'C0860418',\n 'C0002333',\n 'C0752018',\n 'C0014845',\n 'C0801257',\n 'C0432551',\n 'C0026398',\n 'C0860476',\n 'C1167852',\n 'C0277982',\n 'C0182122',\n 'C0205704',\n 'C0747086',\n 'C3888465',\n 'C0011529',\n 'C0180603',\n 'C0019399',\n 'C0004838',\n 'C0192504',\n 'C0280334',\n 'C3888609',\n 'C0919561',\n 'C4042951',\n 'C0364602',\n 'C3544264',\n 'C0036329',\n 'C0282684',\n 'C1709043',\n 'C0550070',\n 'C0948553',\n 'C1148212',\n 'C0330399',\n 'C0016583',\n 'C0364245',\n 'C0156294',\n 'C0023066',\n 'C0157270',\n 'C0161091',\n 'C0160165',\n 'C1332912',\n 'C0597601',\n 'C0287920',\n 'C0004312',\n 'C0043410',\n 'C0154027',\n 'C0155012',\n 'C0717360',\n 'C0020713',\n 'C0034124',\n 'C0006937',\n 'C0206093',\n 'C0330358',\n 'C0598589',\n 'C0006060',\n 'C1008398',\n 'C0852775',\n 'C0021818',\n 'C0175384',\n 'C0017444',\n 'C0319631',\n 'C0855921',\n 'C0004083',\n 'C0667931',\n 'C0161675',\n 'C0942011',\n 'C0119484',\n 'C1384691',\n 'C0851601',\n 'C0039516',\n 'C0318826',\n 'C0238502',\n 'C0881612',\n 'C0797666',\n 'C0367441',\n 'C0366347',\n 'C1955990',\n 'C0183960',\n 'C0154830',\n 'C1504552',\n 'C0551036',\n 'C0017915',\n 'C1096189',\n 'C4087248',\n 'C0029405',\n 'C0022528',\n 'C0034539',\n 'C0206706',\n 'C4049360',\n 'C0856734',\n 'C0452060',\n 'C0920160',\n 'C0259942',\n 'C2936459',\n 'C0200400',\n 'C0179007',\n 'C0392536',\n 'C0036120',\n 'C0740369',\n 'C0184665',\n 'C0854982',\n 'C0871455',\n 'C0438183',\n 'C0852309',\n 'C0038762',\n 'C0860268',\n 'C1136222',\n 'C1507852',\n 'C0042038',\n 'C0365050',\n 'C0181741',\n 'C1112702',\n 'C3494413',\n 'C0006293',\n 'C0156616',\n 'C0348647',\n 'C0008857',\n 'C1748474',\n 'C0010106',\n 'C0160386',\n 'C1168286',\n 'C0344432',\n 'C0797332',\n 'C0012762',\n 'C3267165',\n 'C0481355',\n 'C0034397',\n 'C0017464',\n 'C0152430',\n 'C0263084',\n 'C2609412',\n 'C0318855',\n 'C0919390',\n 'C0452105',\n 'C0157697',\n 'C0850741',\n 'C0855039',\n 'C0018898',\n 'C0550122',\n 'C3854467',\n 'C0079435',\n 'C0159434',\n 'C0858436',\n 'C0156896',\n 'C0281856',\n 'C3889019',\n 'C0857572',\n 'C0268285',\n 'C0944717',\n 'C0949954',\n 'C0852477',\n 'C0205898',\n 'C0597139',\n 'C0008601',\n 'C1450355',\n 'C0342302',\n 'C0480961',\n 'C0450237',\n 'C0618743',\n 'C0330962',\n 'C0494665',\n 'C0919980',\n 'C0520500',\n 'C0917777',\n 'C0269905',\n 'C0699617',\n 'C2007041',\n 'C4087139',\n 'C0156458',\n 'C0181508',\n 'C0151790',\n 'C0153804',\n 'C0018155',\n 'C0948476',\n 'C0206294',\n 'C0701406',\n 'C2598633',\n 'C0406670',\n 'C1142070',\n 'C0859647',\n 'C0276333',\n 'C0798405',\n 'C0025462',\n 'C0798825',\n 'C3850145',\n 'C0017121',\n 'C0802034',\n 'C0028761',\n 'C0857172',\n 'C1564761',\n 'C3203485',\n 'C1146831',\n 'C0033180',\n 'C0349439',\n 'C0861841',\n 'C1535976',\n 'C0451828',\n 'C0728889',\n 'C3658240',\n 'C0009496',\n 'C0182464',\n 'C0750272',\n 'C1507878',\n 'C1316672',\n 'C0011120',\n 'C0182024',\n 'C4049471',\n 'C0182388',\n 'C0205697',\n 'C1316235',\n 'C0857801',\n 'C0550217',\n 'C4049309',\n 'C1112499',\n 'C0026868',\n 'C0349043',\n 'C0392194',\n 'C0009623',\n 'C0478583',\n 'C0485837',\n 'C1721011',\n 'C0007559',\n 'C0753248',\n 'C0344516',\n 'C0855252',\n 'C1698448',\n 'C0366509',\n 'C1268964',\n 'C0152164',\n 'C0596795',\n 'C0919614',\n 'C3178875',\n 'C1516312',\n 'C0235319',\n 'C0854628',\n 'C0160824',\n 'C1147228',\n 'C0020598',\n 'C0476959',\n 'C0853173',\n 'C0298973',\n 'C1470394',\n 'C0948694',\n 'C0012644',\n 'C2748214',\n 'C0267013',\n 'C0847033',\n 'C0008019',\n 'C0206323',\n 'C0206726',\n 'C0751993',\n 'C0862599',\n 'C0025945',\n 'C0364138',\n 'C0182023',\n 'C0852439',\n 'C0863188',\n 'C0520509',\n 'C4087260',\n 'C0229633',\n 'C0192863',\n 'C0235088',\n 'C0862077',\n 'C1510417',\n 'C0483095',\n 'C0917770',\n 'C1510450',\n 'C0364346',\n 'C0599685',\n 'C0010050',\n 'C0235694',\n 'C0159914',\n 'C0022028',\n 'C1952714',\n 'C0855746',\n 'C0158619',\n 'C0862600',\n 'C0683911',\n 'C0377914',\n 'C0861343',\n 'C0159288',\n 'C0801418',\n 'C0016953',\n 'C0857402',\n 'C0236180',\n 'C0005742',\n 'C0857727',\n 'C0341689',\n 'C0154850',\n 'C0265982',\n 'C0021181',\n 'C0003492',\n 'C0797133',\n 'C0085817',\n 'C0494670',\n 'C0026538',\n 'C0044800',\n 'C0206228',\n 'C0853294',\n 'C0858868',\n 'C1449810',\n 'C2350446',\n 'C0013423',\n 'C0156499',\n 'C0156567',\n 'C0740315',\n 'C2718311',\n 'C0881537',\n 'C0201998',\n 'C0033816',\n 'C0153328',\n 'C0903617',\n 'C0476495',\n 'C0159646',\n 'C0495588',\n 'C0012813',\n 'C3203659',\n 'C0961232',\n 'C1868743',\n 'C1977155',\n 'C0276160',\n 'C0854622',\n 'C0019960',\n 'C1645294',\n 'C3714542',\n 'C0029221',\n 'C3665959',\n 'C0179202',\n 'C0553980',\n 'C1955845',\n 'C0367283',\n 'C0886994',\n 'C0804079',\n 'C0494861',\n 'C4042790',\n 'C0861875',\n 'C0012811',\n 'C0858156',\n 'C0861258',\n 'C1541850',\n 'C1025331',\n 'C0182085',\n 'C0206005',\n 'C3178845',\n 'C0019086',\n 'C1168051',\n 'C1322956',\n 'C0803285',\n 'C0858182',\n 'C0086877',\n 'C0477525',\n 'C0497315',\n 'C0859120',\n 'C0183479',\n 'C0159357',\n 'C0020039',\n 'C0179058',\n 'C2986536',\n 'C0040066',\n 'C1642570',\n 'C0159271',\n 'C2360216',\n 'C2939109',\n 'C0483647',\n 'C0158505',\n 'C0237962',\n 'C4049273',\n 'C4087381',\n 'C0362632',\n 'C0159443',\n 'C1096204',\n 'C1168278',\n 'C0555330',\n 'C0004445',\n 'C0003886',\n 'C0853450',\n 'C0920548',\n 'C1316407',\n 'C1081535',\n 'C0856469',\n 'C2350328',\n 'C0919919',\n 'C3536857',\n 'C0600491',\n 'C2936747',\n 'C1257927',\n 'C0408670',\n 'C0038717',\n 'C0157244',\n 'C0376442',\n 'C0799301',\n 'C0012120',\n 'C0878390',\n 'C0010203',\n 'C0862872',\n 'C0856030',\n 'C0160053',\n 'C0751759',\n 'C1868872',\n 'C0206514',\n 'C0410256',\n 'C0085488',\n 'C2939057',\n 'C0037301',\n 'C4049285',\n 'C0206352',\n 'C0265547',\n 'C0399547',\n 'C0861613',\n 'C4087415',\n 'C0600540',\n 'C0861503',\n 'C0752214',\n 'C0949587',\n 'C0011516',\n 'C0180922',\n 'C0855083',\n 'C0429774',\n 'C2713155',\n 'C0004404',\n 'C0062108',\n 'C0220658',\n 'C0349422',\n 'C0430461',\n 'C0477028',\n 'C0179584',\n 'C0230139',\n 'C0368083',\n 'C1395942',\n 'C0317971',\n 'C1720970',\n 'C2598607',\n 'C0862123',\n 'C0018183',\n 'C1136307',\n 'C1147249',\n 'C0452095',\n 'C0023283',\n 'C0521631',\n 'C1513016',\n 'C0496305',\n 'C2945575',\n 'C1148050',\n 'C0158618',\n 'C0160243',\n 'C0233715',\n 'C0948561',\n 'C1802374',\n 'C0179608',\n 'C1315263',\n 'C0079295',\n 'C0036689',\n 'C3888615',\n 'C0852567',\n 'C2748376',\n 'C0694508',\n 'C0331303',\n 'C0858656',\n 'C0273106',\n 'C0343161',\n 'C0733940',\n 'C0019225',\n 'C0240447',\n 'C0856039',\n 'C0009429',\n 'C0010072',\n 'C0578438',\n 'C0941307',\n 'C3899516',\n 'C0861943',\n 'C0522044',\n 'C0157625',\n 'C0854255',\n 'C0430134',\n 'C0367420',\n 'C0941337',\n 'C0010656',\n 'C1142499',\n 'C1112126',\n 'C0376664',\n 'C0028160',\n 'C0013314',\n 'C0282145',\n 'C0858610',\n 'C0002780',\n 'C0920105',\n 'C0160267',\n 'C0161606',\n 'C0542051',\n 'C1028410',\n 'C0389071',\n 'C0009765',\n 'C0038287',\n 'C0478418',\n 'C2718087',\n 'C0581386',\n 'C0040989',\n 'C1714720',\n 'C0861160',\n 'C0942079',\n 'C0181758',\n 'C0365014',\n 'C0942434',\n 'C1698537',\n 'C0161619',\n 'C0085876',\n 'C2266788',\n ...}"
     },
     "execution_count": 22,
     "metadata": {},
     "output_type": "execute_result"
    }
   ],
   "source": [
    "import csv\n",
    "wumls_cuis = set()\n",
    "with open(TLCPaths.project_data_path.joinpath(\"wumls_names_and_cuis.csv\"), newline='') as csvfile:\n",
    "    reader = csv.reader(csvfile, delimiter=' ', quotechar='|')\n",
    "    for row in reader:\n",
    "      assert len(row)== 2\n",
    "      wumls_cuis.add(row[0])\n",
    "wumls_cuis"
   ],
   "metadata": {
    "collapsed": false,
    "ExecuteTime": {
     "end_time": "2023-06-08T11:33:50.309529940Z",
     "start_time": "2023-06-08T11:33:50.062348468Z"
    }
   }
  },
  {
   "cell_type": "code",
   "execution_count": 23,
   "outputs": [],
   "source": [
    "filtered_X, filtered_Y = [], []\n",
    "for x,y in zip(X,Y):\n",
    "    if y in wumls_cuis:\n",
    "        filtered_X.append(x)\n",
    "        filtered_Y.append(y)"
   ],
   "metadata": {
    "collapsed": false,
    "ExecuteTime": {
     "end_time": "2023-06-08T11:33:50.316399532Z",
     "start_time": "2023-06-08T11:33:50.290123561Z"
    }
   }
  },
  {
   "cell_type": "code",
   "execution_count": 24,
   "outputs": [
    {
     "name": "stdout",
     "output_type": "stream",
     "text": [
      "436 412\n",
      "unique cuis:  347\n"
     ]
    }
   ],
   "source": [
    "print(len(X), len(filtered_X))\n",
    "print(\"unique cuis: \", len(set(filtered_Y)))"
   ],
   "metadata": {
    "collapsed": false,
    "ExecuteTime": {
     "end_time": "2023-06-08T11:33:50.316827985Z",
     "start_time": "2023-06-08T11:33:50.290347956Z"
    }
   }
  },
  {
   "cell_type": "code",
   "execution_count": 25,
   "outputs": [],
   "source": [
    "import json\n",
    "with open(TLCPaths.project_data_path.joinpath(\"accepted_both_mention_and_cui_wumls_filtered.json\"), \"w\") as f:\n",
    "    json.dump({\"X\": filtered_X, \"Y\": filtered_Y}, f)"
   ],
   "metadata": {
    "collapsed": false,
    "ExecuteTime": {
     "end_time": "2023-06-08T11:33:50.316987399Z",
     "start_time": "2023-06-08T11:33:50.290454785Z"
    }
   }
  },
  {
   "cell_type": "code",
   "execution_count": 25,
   "outputs": [],
   "source": [],
   "metadata": {
    "collapsed": false,
    "ExecuteTime": {
     "end_time": "2023-06-08T11:33:50.317125122Z",
     "start_time": "2023-06-08T11:33:50.290531901Z"
    }
   }
  },
  {
   "cell_type": "code",
   "execution_count": 26,
   "outputs": [],
   "source": [
    "# parse every disagreed annotation for review"
   ],
   "metadata": {
    "collapsed": false,
    "ExecuteTime": {
     "end_time": "2023-06-08T11:33:50.317259949Z",
     "start_time": "2023-06-08T11:33:50.290610301Z"
    }
   }
  },
  {
   "cell_type": "code",
   "execution_count": 28,
   "outputs": [],
   "source": [
    "diff1 = [annotations1[name] for name in diff]\n",
    "diff2 = [annotations2[name] for name in diff]"
   ],
   "metadata": {
    "collapsed": false,
    "ExecuteTime": {
     "end_time": "2023-06-08T11:44:14.318313081Z",
     "start_time": "2023-06-08T11:44:14.276023645Z"
    }
   }
  },
  {
   "cell_type": "code",
   "execution_count": 30,
   "outputs": [
    {
     "data": {
      "text/plain": "{'text': 'Thread: [Niereninsuffizienz und Zeugungsfähigkeit?]\\nText: [mein mann hat bislang noch keine nennenswerten beschwerden durch seine nierenerkrankung. er befindet sich zwische dem zweiten und dritten stadium. einen leichten bluthochdruck hat er allerdings. den hatte er soweit ich weiß auch schon vor seiner erkrankung. diabetes und durchblutungsstörungen hat er soweit ich weiß nicht. er nimmt ab und an ace-hemmer aber die könnten wir bei einem kinderwunsch auch kurzzeitig absetzen denke ich. wir sind (leider) noch ziemlich jung. ich bin 28 und er 30.\\nwürde es denn auch etwas bringen wenn er seine spermien jetzt einfrieren lassen würde falls auch später nochmal ein kinderwunsch bestehen sollte oder hälst du das eher für unnötig?]\\n',\n 'spans': [{'start': 600, 'end': 625, 'label': 'Mention'}],\n 'html': '<b>C0519952</b>: Kryokonservierung von Spermatozoen',\n 'annotation_ids': [210],\n 'cui': 'C0519952',\n 'meta': {'url': 'https://uts.nlm.nih.gov/uts/umls/concept/C0519952'},\n '_input_hash': -430989661,\n '_task_hash': 1792309938,\n '_view_id': 'blocks',\n 'answer': 'ignore',\n '_timestamp': 1682155646,\n '_annotator_id': 'TLC-validation_v4-alon',\n '_session_id': 'TLC-validation_v4-alon'}"
     },
     "execution_count": 30,
     "metadata": {},
     "output_type": "execute_result"
    }
   ],
   "source": [
    "diff1[0]"
   ],
   "metadata": {
    "collapsed": false,
    "ExecuteTime": {
     "end_time": "2023-06-08T11:44:23.896662682Z",
     "start_time": "2023-06-08T11:44:23.868276686Z"
    }
   }
  },
  {
   "cell_type": "code",
   "execution_count": null,
   "outputs": [],
   "source": [],
   "metadata": {
    "collapsed": false
   }
  }
 ],
 "metadata": {
  "kernelspec": {
   "display_name": "Python 3",
   "language": "python",
   "name": "python3"
  },
  "language_info": {
   "codemirror_mode": {
    "name": "ipython",
    "version": 2
   },
   "file_extension": ".py",
   "mimetype": "text/x-python",
   "name": "python",
   "nbconvert_exporter": "python",
   "pygments_lexer": "ipython2",
   "version": "2.7.6"
  }
 },
 "nbformat": 4,
 "nbformat_minor": 0
}
