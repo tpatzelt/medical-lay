{
 "cells": [
  {
   "cell_type": "code",
   "execution_count": 17,
   "outputs": [],
   "source": [
    "import pysolr\n",
    "from pydantic import BaseModel\n",
    "from data_loading import load_search_terms, TermType\n",
    "from models import SearchTerm\n",
    "from collections import Counter\n",
    "from typing import Optional, Dict\n",
    "from tqdm import tqdm\n",
    "import json\n",
    "from thefuzz import process"
   ],
   "metadata": {
    "collapsed": false
   }
  },
  {
   "cell_type": "code",
   "execution_count": 10,
   "outputs": [],
   "source": [
    "class Match(BaseModel):\n",
    "    mention: SearchTerm\n",
    "    match: Optional[Dict]= None\n",
    "    "
   ],
   "metadata": {
    "collapsed": false
   }
  },
  {
   "cell_type": "code",
   "execution_count": 13,
   "outputs": [],
   "source": [
    "with open(\"/home/tim/MedicalLay/WUMLS/wumls_index_terms_single_valued_deduplicated.json\", \"r\") as fp:\n",
    "    wumls_terms = json.load(fp)"
   ],
   "metadata": {
    "collapsed": false
   }
  },
  {
   "cell_type": "code",
   "execution_count": 16,
   "outputs": [],
   "source": [
    "cui_map = dict()\n",
    "wumls_entries = []\n",
    "for wumls_entry in wumls_terms:\n",
    "    wumls_entries.append(wumls_entry[\"index_term\"])\n",
    "    cui_map[wumls_entry[\"index_term\"]] = wumls_entry[\"cui\"]"
   ],
   "metadata": {
    "collapsed": false
   }
  },
  {
   "cell_type": "code",
   "execution_count": 18,
   "outputs": [
    {
     "data": {
      "text/plain": "('kolik', 100)"
     },
     "execution_count": 18,
     "metadata": {},
     "output_type": "execute_result"
    }
   ],
   "source": [
    "process.extractOne(\"kolik\", wumls_entries)"
   ],
   "metadata": {
    "collapsed": false
   }
  },
  {
   "cell_type": "code",
   "execution_count": 6,
   "outputs": [],
   "source": [
    "search_terms = load_search_terms()"
   ],
   "metadata": {
    "collapsed": false
   }
  },
  {
   "cell_type": "code",
   "execution_count": 20,
   "outputs": [
    {
     "name": "stderr",
     "output_type": "stream",
     "text": [
      "  0%|          | 6/7390 [07:05<145:34:01, 70.97s/it] \n"
     ]
    },
    {
     "ename": "KeyboardInterrupt",
     "evalue": "",
     "output_type": "error",
     "traceback": [
      "\u001B[0;31m---------------------------------------------------------------------------\u001B[0m",
      "\u001B[0;31mAttributeError\u001B[0m                            Traceback (most recent call last)",
      "File \u001B[0;32m~/.cache/pypoetry/virtualenvs/medical-lay-BxUqQbZK-py3.11/lib/python3.11/site-packages/thefuzz/process.py:108\u001B[0m, in \u001B[0;36mextractWithoutOrder\u001B[0;34m(query, choices, processor, scorer, score_cutoff)\u001B[0m\n\u001B[1;32m    106\u001B[0m \u001B[38;5;28;01mtry\u001B[39;00m:\n\u001B[1;32m    107\u001B[0m     \u001B[38;5;66;03m# See if choices is a dictionary-like object.\u001B[39;00m\n\u001B[0;32m--> 108\u001B[0m     \u001B[38;5;28;01mfor\u001B[39;00m key, choice \u001B[38;5;129;01min\u001B[39;00m \u001B[43mchoices\u001B[49m\u001B[38;5;241;43m.\u001B[39;49m\u001B[43mitems\u001B[49m():\n\u001B[1;32m    109\u001B[0m         processed \u001B[38;5;241m=\u001B[39m pre_processor(processor(choice))\n",
      "\u001B[0;31mAttributeError\u001B[0m: 'list' object has no attribute 'items'",
      "\nDuring handling of the above exception, another exception occurred:\n",
      "\u001B[0;31mKeyboardInterrupt\u001B[0m                         Traceback (most recent call last)",
      "Cell \u001B[0;32mIn[20], line 6\u001B[0m\n\u001B[1;32m      4\u001B[0m score \u001B[38;5;241m=\u001B[39m \u001B[38;5;241m0\u001B[39m\n\u001B[1;32m      5\u001B[0m \u001B[38;5;28;01mfor\u001B[39;00m synonym \u001B[38;5;129;01min\u001B[39;00m search_term\u001B[38;5;241m.\u001B[39mstems:\n\u001B[0;32m----> 6\u001B[0m     new_closest_match, new_score \u001B[38;5;241m=\u001B[39m \u001B[43mprocess\u001B[49m\u001B[38;5;241;43m.\u001B[39;49m\u001B[43mextractOne\u001B[49m\u001B[43m(\u001B[49m\u001B[43msynonym\u001B[49m\u001B[43m,\u001B[49m\u001B[43m \u001B[49m\u001B[43mwumls_entries\u001B[49m\u001B[43m)\u001B[49m\n\u001B[1;32m      7\u001B[0m     \u001B[38;5;28;01mif\u001B[39;00m new_score \u001B[38;5;241m>\u001B[39m score:\n\u001B[1;32m      8\u001B[0m         closest_match \u001B[38;5;241m=\u001B[39m new_closest_match\n",
      "File \u001B[0;32m~/.cache/pypoetry/virtualenvs/medical-lay-BxUqQbZK-py3.11/lib/python3.11/site-packages/thefuzz/process.py:220\u001B[0m, in \u001B[0;36mextractOne\u001B[0;34m(query, choices, processor, scorer, score_cutoff)\u001B[0m\n\u001B[1;32m    218\u001B[0m best_list \u001B[38;5;241m=\u001B[39m extractWithoutOrder(query, choices, processor, scorer, score_cutoff)\n\u001B[1;32m    219\u001B[0m \u001B[38;5;28;01mtry\u001B[39;00m:\n\u001B[0;32m--> 220\u001B[0m     \u001B[38;5;28;01mreturn\u001B[39;00m \u001B[38;5;28;43mmax\u001B[39;49m\u001B[43m(\u001B[49m\u001B[43mbest_list\u001B[49m\u001B[43m,\u001B[49m\u001B[43m \u001B[49m\u001B[43mkey\u001B[49m\u001B[38;5;241;43m=\u001B[39;49m\u001B[38;5;28;43;01mlambda\u001B[39;49;00m\u001B[43m \u001B[49m\u001B[43mi\u001B[49m\u001B[43m:\u001B[49m\u001B[43m \u001B[49m\u001B[43mi\u001B[49m\u001B[43m[\u001B[49m\u001B[38;5;241;43m1\u001B[39;49m\u001B[43m]\u001B[49m\u001B[43m)\u001B[49m\n\u001B[1;32m    221\u001B[0m \u001B[38;5;28;01mexcept\u001B[39;00m \u001B[38;5;167;01mValueError\u001B[39;00m:\n\u001B[1;32m    222\u001B[0m     \u001B[38;5;28;01mreturn\u001B[39;00m \u001B[38;5;28;01mNone\u001B[39;00m\n",
      "File \u001B[0;32m~/.cache/pypoetry/virtualenvs/medical-lay-BxUqQbZK-py3.11/lib/python3.11/site-packages/thefuzz/process.py:117\u001B[0m, in \u001B[0;36mextractWithoutOrder\u001B[0;34m(query, choices, processor, scorer, score_cutoff)\u001B[0m\n\u001B[1;32m    115\u001B[0m \u001B[38;5;28;01mfor\u001B[39;00m choice \u001B[38;5;129;01min\u001B[39;00m choices:\n\u001B[1;32m    116\u001B[0m     processed \u001B[38;5;241m=\u001B[39m pre_processor(processor(choice))\n\u001B[0;32m--> 117\u001B[0m     score \u001B[38;5;241m=\u001B[39m \u001B[43mscorer\u001B[49m\u001B[43m(\u001B[49m\u001B[43mprocessed_query\u001B[49m\u001B[43m,\u001B[49m\u001B[43m \u001B[49m\u001B[43mprocessed\u001B[49m\u001B[43m)\u001B[49m\n\u001B[1;32m    118\u001B[0m     \u001B[38;5;28;01mif\u001B[39;00m score \u001B[38;5;241m>\u001B[39m\u001B[38;5;241m=\u001B[39m score_cutoff:\n\u001B[1;32m    119\u001B[0m         \u001B[38;5;28;01myield\u001B[39;00m (choice, score)\n",
      "File \u001B[0;32m~/.cache/pypoetry/virtualenvs/medical-lay-BxUqQbZK-py3.11/lib/python3.11/site-packages/thefuzz/fuzz.py:288\u001B[0m, in \u001B[0;36mWRatio\u001B[0;34m(s1, s2, force_ascii, full_process)\u001B[0m\n\u001B[1;32m    285\u001B[0m     partial_scale \u001B[38;5;241m=\u001B[39m \u001B[38;5;241m.6\u001B[39m\n\u001B[1;32m    287\u001B[0m \u001B[38;5;28;01mif\u001B[39;00m try_partial:\n\u001B[0;32m--> 288\u001B[0m     partial \u001B[38;5;241m=\u001B[39m \u001B[43mpartial_ratio\u001B[49m\u001B[43m(\u001B[49m\u001B[43mp1\u001B[49m\u001B[43m,\u001B[49m\u001B[43m \u001B[49m\u001B[43mp2\u001B[49m\u001B[43m)\u001B[49m \u001B[38;5;241m*\u001B[39m partial_scale\n\u001B[1;32m    289\u001B[0m     ptsor \u001B[38;5;241m=\u001B[39m partial_token_sort_ratio(p1, p2, full_process\u001B[38;5;241m=\u001B[39m\u001B[38;5;28;01mFalse\u001B[39;00m) \\\n\u001B[1;32m    290\u001B[0m         \u001B[38;5;241m*\u001B[39m unbase_scale \u001B[38;5;241m*\u001B[39m partial_scale\n\u001B[1;32m    291\u001B[0m     ptser \u001B[38;5;241m=\u001B[39m partial_token_set_ratio(p1, p2, full_process\u001B[38;5;241m=\u001B[39m\u001B[38;5;28;01mFalse\u001B[39;00m) \\\n\u001B[1;32m    292\u001B[0m         \u001B[38;5;241m*\u001B[39m unbase_scale \u001B[38;5;241m*\u001B[39m partial_scale\n",
      "File \u001B[0;32m~/.cache/pypoetry/virtualenvs/medical-lay-BxUqQbZK-py3.11/lib/python3.11/site-packages/thefuzz/utils.py:38\u001B[0m, in \u001B[0;36mcheck_for_none.<locals>.decorator\u001B[0;34m(*args, **kwargs)\u001B[0m\n\u001B[1;32m     36\u001B[0m \u001B[38;5;28;01mif\u001B[39;00m args[\u001B[38;5;241m0\u001B[39m] \u001B[38;5;129;01mis\u001B[39;00m \u001B[38;5;28;01mNone\u001B[39;00m \u001B[38;5;129;01mor\u001B[39;00m args[\u001B[38;5;241m1\u001B[39m] \u001B[38;5;129;01mis\u001B[39;00m \u001B[38;5;28;01mNone\u001B[39;00m:\n\u001B[1;32m     37\u001B[0m     \u001B[38;5;28;01mreturn\u001B[39;00m \u001B[38;5;241m0\u001B[39m\n\u001B[0;32m---> 38\u001B[0m \u001B[38;5;28;01mreturn\u001B[39;00m \u001B[43mfunc\u001B[49m\u001B[43m(\u001B[49m\u001B[38;5;241;43m*\u001B[39;49m\u001B[43margs\u001B[49m\u001B[43m,\u001B[49m\u001B[43m \u001B[49m\u001B[38;5;241;43m*\u001B[39;49m\u001B[38;5;241;43m*\u001B[39;49m\u001B[43mkwargs\u001B[49m\u001B[43m)\u001B[49m\n",
      "File \u001B[0;32m~/.cache/pypoetry/virtualenvs/medical-lay-BxUqQbZK-py3.11/lib/python3.11/site-packages/thefuzz/utils.py:29\u001B[0m, in \u001B[0;36mcheck_for_equivalence.<locals>.decorator\u001B[0;34m(*args, **kwargs)\u001B[0m\n\u001B[1;32m     27\u001B[0m \u001B[38;5;28;01mif\u001B[39;00m args[\u001B[38;5;241m0\u001B[39m] \u001B[38;5;241m==\u001B[39m args[\u001B[38;5;241m1\u001B[39m]:\n\u001B[1;32m     28\u001B[0m     \u001B[38;5;28;01mreturn\u001B[39;00m \u001B[38;5;241m100\u001B[39m\n\u001B[0;32m---> 29\u001B[0m \u001B[38;5;28;01mreturn\u001B[39;00m \u001B[43mfunc\u001B[49m\u001B[43m(\u001B[49m\u001B[38;5;241;43m*\u001B[39;49m\u001B[43margs\u001B[49m\u001B[43m,\u001B[49m\u001B[43m \u001B[49m\u001B[38;5;241;43m*\u001B[39;49m\u001B[38;5;241;43m*\u001B[39;49m\u001B[43mkwargs\u001B[49m\u001B[43m)\u001B[49m\n",
      "File \u001B[0;32m~/.cache/pypoetry/virtualenvs/medical-lay-BxUqQbZK-py3.11/lib/python3.11/site-packages/thefuzz/utils.py:47\u001B[0m, in \u001B[0;36mcheck_empty_string.<locals>.decorator\u001B[0;34m(*args, **kwargs)\u001B[0m\n\u001B[1;32m     45\u001B[0m \u001B[38;5;28;01mif\u001B[39;00m \u001B[38;5;28mlen\u001B[39m(args[\u001B[38;5;241m0\u001B[39m]) \u001B[38;5;241m==\u001B[39m \u001B[38;5;241m0\u001B[39m \u001B[38;5;129;01mor\u001B[39;00m \u001B[38;5;28mlen\u001B[39m(args[\u001B[38;5;241m1\u001B[39m]) \u001B[38;5;241m==\u001B[39m \u001B[38;5;241m0\u001B[39m:\n\u001B[1;32m     46\u001B[0m     \u001B[38;5;28;01mreturn\u001B[39;00m \u001B[38;5;241m0\u001B[39m\n\u001B[0;32m---> 47\u001B[0m \u001B[38;5;28;01mreturn\u001B[39;00m \u001B[43mfunc\u001B[49m\u001B[43m(\u001B[49m\u001B[38;5;241;43m*\u001B[39;49m\u001B[43margs\u001B[49m\u001B[43m,\u001B[49m\u001B[43m \u001B[49m\u001B[38;5;241;43m*\u001B[39;49m\u001B[38;5;241;43m*\u001B[39;49m\u001B[43mkwargs\u001B[49m\u001B[43m)\u001B[49m\n",
      "File \u001B[0;32m~/.cache/pypoetry/virtualenvs/medical-lay-BxUqQbZK-py3.11/lib/python3.11/site-packages/thefuzz/fuzz.py:61\u001B[0m, in \u001B[0;36mpartial_ratio\u001B[0;34m(s1, s2)\u001B[0m\n\u001B[1;32m     58\u001B[0m long_end \u001B[38;5;241m=\u001B[39m long_start \u001B[38;5;241m+\u001B[39m \u001B[38;5;28mlen\u001B[39m(shorter)\n\u001B[1;32m     59\u001B[0m long_substr \u001B[38;5;241m=\u001B[39m longer[long_start:long_end]\n\u001B[0;32m---> 61\u001B[0m m2 \u001B[38;5;241m=\u001B[39m \u001B[43mSequenceMatcher\u001B[49m\u001B[43m(\u001B[49m\u001B[38;5;28;43;01mNone\u001B[39;49;00m\u001B[43m,\u001B[49m\u001B[43m \u001B[49m\u001B[43mshorter\u001B[49m\u001B[43m,\u001B[49m\u001B[43m \u001B[49m\u001B[43mlong_substr\u001B[49m\u001B[43m)\u001B[49m\n\u001B[1;32m     62\u001B[0m r \u001B[38;5;241m=\u001B[39m m2\u001B[38;5;241m.\u001B[39mratio()\n\u001B[1;32m     63\u001B[0m \u001B[38;5;28;01mif\u001B[39;00m r \u001B[38;5;241m>\u001B[39m \u001B[38;5;241m.995\u001B[39m:\n",
      "File \u001B[0;32m~/.cache/pypoetry/virtualenvs/medical-lay-BxUqQbZK-py3.11/lib/python3.11/site-packages/thefuzz/StringMatcher.py:22\u001B[0m, in \u001B[0;36mStringMatcher.__init__\u001B[0;34m(self, isjunk, seq1, seq2)\u001B[0m\n\u001B[1;32m     19\u001B[0m     \u001B[38;5;28mself\u001B[39m\u001B[38;5;241m.\u001B[39m_ratio \u001B[38;5;241m=\u001B[39m \u001B[38;5;28mself\u001B[39m\u001B[38;5;241m.\u001B[39m_distance \u001B[38;5;241m=\u001B[39m \u001B[38;5;28;01mNone\u001B[39;00m\n\u001B[1;32m     20\u001B[0m     \u001B[38;5;28mself\u001B[39m\u001B[38;5;241m.\u001B[39m_opcodes \u001B[38;5;241m=\u001B[39m \u001B[38;5;28mself\u001B[39m\u001B[38;5;241m.\u001B[39m_editops \u001B[38;5;241m=\u001B[39m \u001B[38;5;28mself\u001B[39m\u001B[38;5;241m.\u001B[39m_matching_blocks \u001B[38;5;241m=\u001B[39m \u001B[38;5;28;01mNone\u001B[39;00m\n\u001B[0;32m---> 22\u001B[0m \u001B[38;5;28;01mdef\u001B[39;00m \u001B[38;5;21m__init__\u001B[39m(\u001B[38;5;28mself\u001B[39m, isjunk\u001B[38;5;241m=\u001B[39m\u001B[38;5;28;01mNone\u001B[39;00m, seq1\u001B[38;5;241m=\u001B[39m\u001B[38;5;124m'\u001B[39m\u001B[38;5;124m'\u001B[39m, seq2\u001B[38;5;241m=\u001B[39m\u001B[38;5;124m'\u001B[39m\u001B[38;5;124m'\u001B[39m):\n\u001B[1;32m     23\u001B[0m     \u001B[38;5;28;01mif\u001B[39;00m isjunk:\n\u001B[1;32m     24\u001B[0m         warn(\u001B[38;5;124m\"\u001B[39m\u001B[38;5;124misjunk not NOT implemented, it will be ignored\u001B[39m\u001B[38;5;124m\"\u001B[39m)\n",
      "\u001B[0;31mKeyboardInterrupt\u001B[0m: "
     ]
    }
   ],
   "source": [
    "matches = []\n",
    "for search_term in tqdm(search_terms.terms):\n",
    "    closest_match = None\n",
    "    score = 0\n",
    "    for synonym in search_term.stems:\n",
    "        new_closest_match, new_score = process.extractOne(synonym, wumls_entries)\n",
    "        if new_score > score:\n",
    "            closest_match = new_closest_match\n",
    "            score = new_score\n",
    "    if  closest_match:\n",
    "        matches.append(dict(match=closest_match, score=score, cui=cui_map[closest_match]))"
   ],
   "metadata": {
    "collapsed": false
   }
  }
 ],
 "metadata": {
  "kernelspec": {
   "display_name": "Python 3",
   "language": "python",
   "name": "python3"
  },
  "language_info": {
   "codemirror_mode": {
    "name": "ipython",
    "version": 2
   },
   "file_extension": ".py",
   "mimetype": "text/x-python",
   "name": "python",
   "nbconvert_exporter": "python",
   "pygments_lexer": "ipython2",
   "version": "2.7.6"
  }
 },
 "nbformat": 4,
 "nbformat_minor": 0
}
