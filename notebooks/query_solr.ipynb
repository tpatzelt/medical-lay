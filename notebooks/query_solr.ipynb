{
 "cells": [
  {
   "cell_type": "code",
   "execution_count": 2,
   "outputs": [],
   "source": [
    "import json\n",
    "import time\n",
    "from collections import Counter\n",
    "from pathlib import Path\n",
    "\n",
    "import pysolr\n",
    "from tqdm import tqdm\n",
    "\n",
    "from cistem import stem\n",
    "from data_loading import load_search_terms\n",
    "from models import Match\n",
    "from config import TLCPaths"
   ],
   "metadata": {
    "collapsed": false
   }
  },
  {
   "cell_type": "code",
   "execution_count": 2,
   "outputs": [],
   "source": [
    "solr_special_chars = '+ - && || ! ( ) { } [ ] ^ \" ~ * ? : /'.split()"
   ],
   "metadata": {
    "collapsed": false
   }
  },
  {
   "cell_type": "code",
   "execution_count": 3,
   "outputs": [
    {
     "data": {
      "text/plain": "'{\\n  \"responseHeader\":{\\n    \"zkConnected\":null,\\n    \"status\":0,\\n    \"QTime\":1,\\n    \"params\":{\\n      \"q\":\"{!lucene}*:*\",\\n      \"distrib\":\"false\",\\n      \"df\":\"_text_\",\\n      \"rows\":\"10\",\\n      \"echoParams\":\"all\",\\n      \"rid\":\"localhost-90297\"}},\\n  \"status\":\"OK\"}\\n'"
     },
     "execution_count": 3,
     "metadata": {},
     "output_type": "execute_result"
    }
   ],
   "source": [
    "solr = pysolr.Solr('http://localhost:8983/solr/wumls-single-valued-deduplicated',\n",
    "                   always_commit=False)\n",
    "# solr = pysolr.Solr('http://localhost:8983/solr/wumls-multi-valued', always_commit=False)\n",
    "solr.ping()"
   ],
   "metadata": {
    "collapsed": false
   }
  },
  {
   "cell_type": "code",
   "execution_count": 5,
   "outputs": [],
   "source": [
    "distances = {True: 1, False: 2}\n",
    "\n",
    "\n",
    "def add_tilde_to_search_terms(term):\n",
    "    return \" AND \".join([s + f\"~{distances[len(s) < 4]}\" for s in term.split(\" \")])\n",
    "\n",
    "\n",
    "def create_query_with_edit_distance(term):\n",
    "    return \"{!func}strdist('\" + term + \"',index_term,edit)\""
   ],
   "metadata": {
    "collapsed": false
   }
  },
  {
   "cell_type": "code",
   "execution_count": 46,
   "outputs": [
    {
     "name": "stdout",
     "output_type": "stream",
     "text": [
      "{'cui': ['C0034186'], 'source': ['MDRGER'], 'language': ['GER'], 'name': ['Pyelonephritis'], 'index_term': ['pyelonephriti'], 'id': 'c8b1ada1-826d-46fa-a6fb-186add6196a1', '_version_': 1760194257981800490, 'score': 1.0}\n",
      "{'cui': ['C0034188'], 'source': ['MDRGER'], 'language': ['GER'], 'name': ['Xanthogranulomatoese Pyelonephritis'], 'index_term': ['xanthogranulomato pyelonephriti'], 'id': 'c01e43d7-a3e5-482d-800a-73b49306f2b7', '_version_': 1760194257982849026, 'score': 1.0}\n",
      "{'cui': ['C1697444'], 'source': ['MDRGER'], 'language': ['GER'], 'name': ['virale Pyelonephritis'], 'index_term': ['viral pyelonephriti'], 'id': 'c1a048cc-3de9-4231-9820-688e08951389', '_version_': 1760194263649353728, 'score': 1.0}\n",
      "{'cui': ['C0034188'], 'source': ['MSHGER'], 'language': ['GER'], 'name': ['Pyelonephritis, xanthogranulomatöse'], 'index_term': ['pyelonephritis, xanthogranulomato'], 'id': '1729c369-87a4-4b8a-b12c-1953689789be', '_version_': 1760194257982849025, 'score': 0.9285714}\n",
      "{'cui': ['C1328529'], 'source': ['MDRGER'], 'language': ['GER'], 'name': ['Zystopyelonephritis'], 'index_term': ['zystopyelonephriti'], 'id': '7aacda3e-9d9e-4e4c-bd06-1704cbdb4d4d', '_version_': 1760194263467950106, 'score': 0.7222222}\n",
      "{'cui': ['C4087333'], 'source': ['MDRGER'], 'language': ['GER'], 'name': ['Pyeloureteritis'], 'index_term': ['pyeloureteriti'], 'id': '1cd4018f-f636-4335-872a-64ee8047284a', '_version_': 1760194264314150947, 'score': 0.71428573}\n",
      "{'cui': ['C0014070'], 'source': ['MSHGER'], 'language': ['GER'], 'name': ['Myeloenzephalitis'], 'index_term': ['myeloenzephaliti'], 'id': '1313bdb5-0852-4fe2-a481-9ff0409b9e94', '_version_': 1760194257498406940, 'score': 0.6875}\n",
      "{'cui': ['C0014070'], 'source': ['WIKTIONARY'], 'language': ['GER'], 'name': ['myelenzephalitis'], 'index_term': ['myelenzephaliti'], 'id': '10d4cf12-1713-402a-b83c-62dcb01bc937', '_version_': 1760194257110433813, 'score': 0.6666666}\n",
      "{'cui': ['C0017658'], 'source': ['MDRGER'], 'language': ['GER'], 'name': ['Glomerulonephritis'], 'index_term': ['glomerulonephriti'], 'id': 'c08315cd-3314-422b-9f45-9af55a041ac1', '_version_': 1760194257598021673, 'score': 0.64705884}\n",
      "{'cui': ['C0017658'], 'source': ['MDRGER'], 'language': ['GER'], 'name': ['Glomerulonephritis NNB'], 'index_term': ['glomerulonephriti nnb'], 'id': 'aeec6704-dbe4-43d7-b04e-d1d8ca9f0244', '_version_': 1760194257598021674, 'score': 0.64705884}\n"
     ]
    }
   ],
   "source": [
    "results = solr.search(q=create_query_with_edit_distance(term=\"pyelonephriti\"), fl=\"*,score\")\n",
    "for res in results:\n",
    "    print(res)"
   ],
   "metadata": {
    "collapsed": false
   }
  },
  {
   "cell_type": "code",
   "execution_count": 43,
   "outputs": [
    {
     "name": "stdout",
     "output_type": "stream",
     "text": [
      "{'cui': ['C0034186'], 'source': ['MDRGER'], 'language': ['GER'], 'name': ['Pyelonephritis'], 'index_term': ['pyelonephriti'], 'id': 'c8b1ada1-826d-46fa-a6fb-186add6196a1', '_version_': 1760194257981800490}\n",
      "{'cui': ['C0022667'], 'source': ['MSHGER'], 'language': ['GER'], 'name': ['Nekrotisierende Pyelonephritis'], 'index_term': ['nekrotisier pyelonephriti'], 'id': '0fd0839d-370c-4761-8ea2-676e0c654d9f', '_version_': 1760194257740627992}\n",
      "{'cui': ['C0034186'], 'source': ['MDRGER'], 'language': ['GER'], 'name': ['Pyelonephritis NNB'], 'index_term': ['pyelonephriti nnb'], 'id': 'e4a173ad-9b0d-419f-9fd2-66c9a1329c99', '_version_': 1760194257982849024}\n",
      "{'cui': ['C0034188'], 'source': ['MDRGER'], 'language': ['GER'], 'name': ['Xanthogranulomatoese Pyelonephritis'], 'index_term': ['xanthogranulomato pyelonephriti'], 'id': 'c01e43d7-a3e5-482d-800a-73b49306f2b7', '_version_': 1760194257982849026}\n",
      "{'cui': ['C0085697'], 'source': ['MDRGER'], 'language': ['GER'], 'name': ['chronische Pyelonephritis'], 'index_term': ['chronisch pyelonephriti'], 'id': 'c7bcde33-ece3-4934-86f4-e8a28e0702da', '_version_': 1760194258371870753}\n",
      "{'cui': ['C0403379'], 'source': ['MDRGER'], 'language': ['GER'], 'name': ['emphysematoese Pyelonephritis'], 'index_term': ['emphysemato pyelonephriti'], 'id': '586e0b95-6596-4df3-9d79-441fa6eada89', '_version_': 1760194259748651040}\n",
      "{'cui': ['C0520575'], 'source': ['MDRGER'], 'language': ['GER'], 'name': ['akute Pyelonephritis'], 'index_term': ['aku pyelonephriti'], 'id': 'bf234151-5f52-48e2-a974-7a81cda4d95f', '_version_': 1760194260110409760}\n",
      "{'cui': ['C1167792'], 'source': ['MDRGER'], 'language': ['GER'], 'name': ['bakterielle Pyelonephritis'], 'index_term': ['bakteriell pyelonephriti'], 'id': 'd5fe26c8-40c0-4154-8c92-3ce8e0842588', '_version_': 1760194263352606744}\n",
      "{'cui': ['C1697444'], 'source': ['MDRGER'], 'language': ['GER'], 'name': ['virale Pyelonephritis'], 'index_term': ['viral pyelonephriti'], 'id': 'c1a048cc-3de9-4231-9820-688e08951389', '_version_': 1760194263649353728}\n",
      "{'cui': ['C0085697'], 'source': ['MDRGER'], 'language': ['GER'], 'name': ['Pyelonephritis chronisch NNB'], 'index_term': ['pyelonephriti chronisch nnb'], 'id': 'af3738e9-ee5e-4368-a23b-7595bf4ad89d', '_version_': 1760194258371870754}\n"
     ]
    }
   ],
   "source": [
    "search_term = \"pyelonephriti\"\n",
    "# results = solr.search(q=f\"index_term_str:{add_tilde_to_search_terms(search_term)}\", fl=\"*\", rows=10)\n",
    "results = solr.search(q=f\"index_term:{search_term}\", fl=\"*\", rows=10)\n",
    "for res in results:\n",
    "    print(res)"
   ],
   "metadata": {
    "collapsed": false
   }
  },
  {
   "cell_type": "code",
   "execution_count": 7,
   "outputs": [],
   "source": [],
   "metadata": {
    "collapsed": false
   }
  },
  {
   "cell_type": "code",
   "execution_count": 8,
   "outputs": [],
   "source": [
    "search_terms = load_search_terms()"
   ],
   "metadata": {
    "collapsed": false
   }
  },
  {
   "cell_type": "code",
   "execution_count": 35,
   "outputs": [
    {
     "data": {
      "text/plain": "SearchTerm(annotation=Annotation(tech_term=None, lay_term='Blähungen', type=<TermType.LAY: 'LAY'>, span_start=86, span_end=95, synonyms=['Flatulenzen'], id=6992), stems={'blaehung', 'blah', 'luftansammlung im darm', 'meteorismu', 'flatulenz', 'blahung', 'wind', 'meteorisnu'})"
     },
     "execution_count": 35,
     "metadata": {},
     "output_type": "execute_result"
    }
   ],
   "source": [
    "search_terms.terms[0]"
   ],
   "metadata": {
    "collapsed": false
   }
  },
  {
   "cell_type": "code",
   "execution_count": 39,
   "outputs": [
    {
     "data": {
      "text/plain": "1468"
     },
     "execution_count": 39,
     "metadata": {},
     "output_type": "execute_result"
    }
   ],
   "source": [
    "len({stem(term.annotation.get_mention()) for term in search_terms.terms})"
   ],
   "metadata": {
    "collapsed": false
   }
  },
  {
   "cell_type": "code",
   "execution_count": 47,
   "outputs": [
    {
     "name": "stderr",
     "output_type": "stream",
     "text": [
      "100%|██████████| 7390/7390 [1:58:41<00:00,  1.04it/s]  \n"
     ]
    }
   ],
   "source": [
    "def filter_results_by_common_cuis(results):\n",
    "    cuis = [d['cui'][0] for d in results]\n",
    "    counter = Counter(cuis)\n",
    "    most_common_match_cui = counter.most_common()[0][0]\n",
    "    most_common_match = next(d for d in results if d['cui'][0] == most_common_match_cui)\n",
    "    return most_common_match\n",
    "\n",
    "\n",
    "def filter_results_by_highest_score(results):\n",
    "    score = 0\n",
    "    top_result = None\n",
    "    for result in results:\n",
    "        if result[\"score\"] > score:\n",
    "            top_result = result\n",
    "            score = result[\"score\"]\n",
    "    return top_result\n",
    "\n",
    "\n",
    "all_results = []\n",
    "for term in tqdm(search_terms.terms):\n",
    "    # simple, not weighted majority vote for cui\n",
    "    term_results = []\n",
    "    for stem in term.stems:\n",
    "        try:\n",
    "            res = solr.search(q=create_query_with_edit_distance(term=stem), fl=\"*,score\", rows=1)\n",
    "        except pysolr.SolrError:\n",
    "            continue\n",
    "        if not res:\n",
    "            continue\n",
    "        top_result = list(res)[0]\n",
    "        top_result['stem'] = stem\n",
    "        term_results.append(top_result)\n",
    "    all_results.append(term_results)"
   ],
   "metadata": {
    "collapsed": false
   }
  },
  {
   "cell_type": "code",
   "execution_count": null,
   "outputs": [],
   "source": [
    "matched, not_matched = [], []\n",
    "for term, result in zip(search_terms.terms, all_results):\n",
    "    if results:\n",
    "        # top_match = filter_results_by_common_cuis(results=results)\n",
    "        top_match = filter_results_by_highest_score(results=results)\n",
    "        matched.append(Match(mention=term, match=top_match, matched_string=top_match['stem']))\n",
    "    else:\n",
    "        not_matched.append(Match(mention=term))"
   ],
   "metadata": {
    "collapsed": false
   }
  },
  {
   "cell_type": "code",
   "execution_count": null,
   "outputs": [],
   "source": [
    "print(f\"{len(matched)=}\")\n",
    "print(f\"{len(not_matched)=}\")"
   ],
   "metadata": {
    "collapsed": false
   }
  },
  {
   "cell_type": "code",
   "execution_count": 10,
   "outputs": [],
   "source": [
    "path = TLCPaths.project_data_path.joinpath(f'matched_solr_{time.strftime(\"%Y%m%d-%H%M%S\")}.json')\n",
    "with open(path, 'w') as fp:\n",
    "    json.dump([match.json() for match in matched], fp)"
   ],
   "metadata": {
    "collapsed": false
   }
  },
  {
   "cell_type": "code",
   "execution_count": 11,
   "outputs": [],
   "source": [
    "path = TLCPaths.project_data_path.joinpath(f'not_matched_solr_{time.strftime(\"%Y%m%d-%H%M%S\")}.json')\n",
    "with open(path, 'w') as fp:\n",
    "    json.dump([match.json() for match in not_matched], fp)"
   ],
   "metadata": {
    "collapsed": false
   }
  },
  {
   "cell_type": "code",
   "execution_count": null,
   "outputs": [],
   "source": [],
   "metadata": {
    "collapsed": false
   }
  }
 ],
 "metadata": {
  "kernelspec": {
   "display_name": "Python 3",
   "language": "python",
   "name": "python3"
  },
  "language_info": {
   "codemirror_mode": {
    "name": "ipython",
    "version": 2
   },
   "file_extension": ".py",
   "mimetype": "text/x-python",
   "name": "python",
   "nbconvert_exporter": "python",
   "pygments_lexer": "ipython2",
   "version": "2.7.6"
  }
 },
 "nbformat": 4,
 "nbformat_minor": 0
}
