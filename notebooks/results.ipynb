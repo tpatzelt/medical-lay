{
 "cells": [
  {
   "cell_type": "markdown",
   "source": [
    "Latex table that contains accuracies of all models"
   ],
   "metadata": {
    "collapsed": false
   }
  },
  {
   "cell_type": "code",
   "execution_count": 49,
   "outputs": [],
   "source": [
    "import json\n",
    "import pandas as pd\n",
    "import numpy as np\n",
    "from config import TLCPaths\n",
    "from sklearn.metrics import f1_score, classification_report\n"
   ],
   "metadata": {
    "collapsed": false,
    "ExecuteTime": {
     "end_time": "2023-08-10T11:59:54.871363483Z",
     "start_time": "2023-08-10T11:59:54.864599962Z"
    }
   }
  },
  {
   "cell_type": "code",
   "execution_count": 3,
   "outputs": [],
   "source": [
    "with open(TLCPaths.project_data_path / 'all_accuracies.json', 'r') as file:\n",
    "    accuracies = json.load(file)"
   ],
   "metadata": {
    "collapsed": false,
    "ExecuteTime": {
     "end_time": "2023-08-10T11:34:38.133864615Z",
     "start_time": "2023-08-10T11:34:38.113522214Z"
    }
   }
  },
  {
   "cell_type": "code",
   "execution_count": 4,
   "outputs": [],
   "source": [
    "models_to_plot = [\n",
    "    'SAPBERT_ENG_cls_token_on_cls_index',\n",
    "    \n",
    "    'SAPBERT_mention_cls_token_rep_cls_token_index RoBERTa Reranking',\n",
    "    'SAPBERT_mention_cls_token_rep_cls_token_index mBERT Reranking',\n",
    "    \n",
    "    'SAPBERT_mention_cls_token_rep_cls_token_index',\n",
    "    'SAPBERT_mention_mean_token_rep_mean_token_index',\n",
    "    'SAPBERT_mention_no_cls_token_rep_mean_no_cls_token_index',\n",
    "    \n",
    "    'SAPBERT_sentence_cls_token_rep_cls_token_index',\n",
    "    'SAPBERT_context_cls_token_rep_cls_token_index',\n",
    "    \n",
    "    'Solr + WUMLS'\n",
    "]\n",
    "new_names = [\n",
    "    \"SapBERT_ENG_cls\",\n",
    "    \"SapBERT_cls + RoBERTa Reranking\",\n",
    "    \"SapBERT_cls + mBERT Reranking\",\n",
    "    \"SapBERT_cls\",\n",
    "    \"SapBERT_all\",\n",
    "    \"SapBERT_nospec\",\n",
    "    \n",
    "    \"SapBERT_sentence_cls\",\n",
    "    \"SapBERT_context_cls\",\n",
    "    \n",
    "    \"Solr + WUMLS\"\n",
    "]\n",
    "\n",
    "renamed_accs = {}\n",
    "for name, new_name in zip(models_to_plot, new_names):\n",
    "    renamed_accs[new_name] = [round(x,2) for x in accuracies[name]]\n",
    "    "
   ],
   "metadata": {
    "collapsed": false,
    "ExecuteTime": {
     "end_time": "2023-08-10T11:34:38.792693948Z",
     "start_time": "2023-08-10T11:34:38.778252782Z"
    }
   }
  },
  {
   "cell_type": "code",
   "execution_count": 5,
   "outputs": [
    {
     "name": "stdout",
     "output_type": "stream",
     "text": [
      "Index(['Top 1 Accuracy', 'Top 2 Accuracy', 'Top 3 Accuracy', 'Top 4 Accuracy',\n",
      "       'Top 5 Accuracy', 'Top 6 Accuracy', 'Top 7 Accuracy', 'Top 8 Accuracy',\n",
      "       'Top 9 Accuracy', 'Top 10 Accuracy', 'Top 16 Accuracy',\n",
      "       'Top 32 Accuracy', 'Top 64 Accuracy'],\n",
      "      dtype='object')\n",
      "\\begin{tabular}{lrrrr}\n",
      "\\toprule\n",
      "{} &  Top 1 Accuracy &  Top 2 Accuracy &  Top 5 Accuracy &  Top 10 Accuracy \\\\\n",
      "\\midrule\n",
      "SapBERT\\_ENG\\_cls                 &            0.36 &            0.47 &            0.53 &             0.55 \\\\\n",
      "SapBERT\\_cls + RoBERTa Reranking &            0.21 &            0.25 &            0.35 &             0.46 \\\\\n",
      "SapBERT\\_cls + mBERT Reranking   &            0.09 &            0.16 &            0.26 &             0.36 \\\\\n",
      "SapBERT\\_cls                     &            0.46 &            0.56 &            0.69 &             0.78 \\\\\n",
      "SapBERT\\_all                     &            0.51 &            0.61 &            0.67 &             0.71 \\\\\n",
      "SapBERT\\_nospec                  &            0.45 &            0.60 &            0.67 &             0.71 \\\\\n",
      "SapBERT\\_sentence\\_cls            &            0.09 &            0.13 &            0.20 &             0.25 \\\\\n",
      "SapBERT\\_context\\_cls             &            0.01 &            0.03 &            0.12 &             0.19 \\\\\n",
      "Solr + WUMLS                    &            0.49 &            0.50 &            0.58 &             0.59 \\\\\n",
      "\\bottomrule\n",
      "\\end{tabular}\n",
      "\n"
     ]
    },
    {
     "name": "stderr",
     "output_type": "stream",
     "text": [
      "<ipython-input-5-320e7b5ba473>:14: FutureWarning: In future versions `DataFrame.to_latex` is expected to utilise the base implementation of `Styler.to_latex` for formatting and rendering. The arguments signature may therefore change. It is recommended instead to use `DataFrame.style.to_latex` which also contains additional functionality.\n",
      "  latex_table_selected = df_selected.to_latex()\n"
     ]
    }
   ],
   "source": [
    "# Convert data to pandas DataFrame\n",
    "df = pd.DataFrame(renamed_accs)\n",
    "\n",
    "# Transpose the DataFrame to have models as rows\n",
    "df = df.transpose()\n",
    "\n",
    "# Rename columns\n",
    "df.columns = [f\"Top {i} Accuracy\" for i in list(range(1,11)) + [16, 32, 64]]\n",
    "print(df.columns)\n",
    "# Keep only the required columns\n",
    "df_selected = df[['Top 1 Accuracy', 'Top 2 Accuracy', 'Top 5 Accuracy', 'Top 10 Accuracy']]\n",
    "\n",
    "# Generate the LaTeX code for the selected table\n",
    "latex_table_selected = df_selected.to_latex()\n",
    "\n",
    "print(latex_table_selected)"
   ],
   "metadata": {
    "collapsed": false,
    "ExecuteTime": {
     "end_time": "2023-08-10T11:34:39.581811524Z",
     "start_time": "2023-08-10T11:34:39.526978342Z"
    }
   }
  },
  {
   "cell_type": "code",
   "execution_count": 58,
   "outputs": [],
   "source": [
    "with open(TLCPaths.project_data_path / 'sapbert_predictions.json', 'r') as file:\n",
    "    predictions = json.load(file)\n",
    "    \n",
    "with open(TLCPaths.project_data_path / \"TLC_UMLS.json\", \"r\") as f:\n",
    "    data = json.load(f)\n",
    "    X = np.array([entry[\"mention\"] for entry in data])\n",
    "    Y = np.array([entry[\"cui\"] for entry in data])"
   ],
   "metadata": {
    "collapsed": false,
    "ExecuteTime": {
     "end_time": "2023-08-10T12:05:30.549634720Z",
     "start_time": "2023-08-10T12:05:29.319221494Z"
    }
   }
  },
  {
   "cell_type": "code",
   "execution_count": null,
   "outputs": [],
   "source": [],
   "metadata": {
    "collapsed": false
   }
  }
 ],
 "metadata": {
  "kernelspec": {
   "display_name": "Python 3",
   "language": "python",
   "name": "python3"
  },
  "language_info": {
   "codemirror_mode": {
    "name": "ipython",
    "version": 2
   },
   "file_extension": ".py",
   "mimetype": "text/x-python",
   "name": "python",
   "nbconvert_exporter": "python",
   "pygments_lexer": "ipython2",
   "version": "2.7.6"
  }
 },
 "nbformat": 4,
 "nbformat_minor": 0
}
