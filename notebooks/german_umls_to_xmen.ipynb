{
 "cells": [
  {
   "cell_type": "code",
   "execution_count": 4,
   "metadata": {
    "collapsed": true,
    "ExecuteTime": {
     "end_time": "2023-07-24T09:32:04.969865923Z",
     "start_time": "2023-07-24T09:32:04.958179637Z"
    }
   },
   "outputs": [],
   "source": [
    "import csv\n",
    "import sqlite3\n",
    "from collections import defaultdict\n",
    "\n",
    "from tqdm import tqdm\n",
    "\n",
    "from src.config import TLCPaths"
   ]
  },
  {
   "cell_type": "code",
   "execution_count": 37,
   "outputs": [],
   "source": [
    "db_path = \"/home/tim/PycharmProjects/py-umls/databases/umls.db\"\n",
    "db = sqlite3.connect(db_path)\n",
    "cur = db.cursor()\n",
    "\n",
    "\n",
    "def get_semantic_type(cui):\n",
    "    sql = f\"SELECT * FROM descriptions WHERE CUI = ? LIMIT 1\"\n",
    "\n",
    "    try:\n",
    "        res = next(cur.execute(sql, (cui,)))[-1]\n",
    "        semantic_types = res.split(\"|\")\n",
    "    except StopIteration:\n",
    "        #print('Semantic type for cui ' + \"'\" + str(identifier) + \"'\" + ' not found')\n",
    "        semantic_types = [\"T109\"]\n",
    "    return semantic_types\n"
   ],
   "metadata": {
    "collapsed": false,
    "ExecuteTime": {
     "end_time": "2023-07-24T10:10:47.941701552Z",
     "start_time": "2023-07-24T10:10:47.893156388Z"
    }
   }
  },
  {
   "cell_type": "code",
   "execution_count": 38,
   "outputs": [],
   "source": [
    "german_cuis = defaultdict(list)\n",
    "with open(TLCPaths.project_data_path / \"german_umls_names_and_cuis.csv\", newline='') as csvfile:\n",
    "    reader = csv.reader(csvfile, delimiter=' ', quotechar='|')\n",
    "    for row in reader:\n",
    "        assert len(row) == 2\n",
    "        german_cuis[row[0]].append(row[1].strip())"
   ],
   "metadata": {
    "collapsed": false,
    "ExecuteTime": {
     "end_time": "2023-07-24T10:10:49.460075910Z",
     "start_time": "2023-07-24T10:10:49.112488251Z"
    }
   }
  },
  {
   "cell_type": "code",
   "execution_count": 39,
   "outputs": [
    {
     "name": "stderr",
     "output_type": "stream",
     "text": [
      "100%|██████████| 109629/109629 [00:01<00:00, 65532.81it/s]\n"
     ]
    }
   ],
   "source": [
    "xmen_cuis = []\n",
    "for cui, names in tqdm(german_cuis.items()):\n",
    "    s_types = get_semantic_type(cui)\n",
    "    canonical_name = names[0]\n",
    "    description = \"__definition_missing__\"\n",
    "    aliases = names\n",
    "    xmen_cuis.append(\n",
    "        dict(concept_id=cui, canonical_name=canonical_name, definition=description, aliases=aliases,\n",
    "             types=s_types))"
   ],
   "metadata": {
    "collapsed": false,
    "ExecuteTime": {
     "end_time": "2023-07-24T10:11:01.348072160Z",
     "start_time": "2023-07-24T10:10:59.610617553Z"
    }
   }
  },
  {
   "cell_type": "code",
   "execution_count": 40,
   "outputs": [],
   "source": [
    "import jsonlines\n",
    "\n",
    "with jsonlines.open(TLCPaths.project_data_path / \"xmen_german_tlc.jsonl\", mode='w') as writer:\n",
    "    writer.write_all(xmen_cuis)"
   ],
   "metadata": {
    "collapsed": false,
    "ExecuteTime": {
     "end_time": "2023-07-24T10:11:02.970650587Z",
     "start_time": "2023-07-24T10:11:02.269141246Z"
    }
   }
  },
  {
   "cell_type": "code",
   "execution_count": 42,
   "outputs": [],
   "source": [],
   "metadata": {
    "collapsed": false,
    "ExecuteTime": {
     "end_time": "2023-07-24T10:11:19.449579114Z",
     "start_time": "2023-07-24T10:11:19.445062966Z"
    }
   }
  },
  {
   "cell_type": "code",
   "execution_count": null,
   "outputs": [],
   "source": [],
   "metadata": {
    "collapsed": false
   }
  }
 ],
 "metadata": {
  "kernelspec": {
   "display_name": "Python 3",
   "language": "python",
   "name": "python3"
  },
  "language_info": {
   "codemirror_mode": {
    "name": "ipython",
    "version": 2
   },
   "file_extension": ".py",
   "mimetype": "text/x-python",
   "name": "python",
   "nbconvert_exporter": "python",
   "pygments_lexer": "ipython2",
   "version": "2.7.6"
  }
 },
 "nbformat": 4,
 "nbformat_minor": 0
}
