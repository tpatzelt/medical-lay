{
 "cells": [
  {
   "cell_type": "code",
   "execution_count": 1,
   "outputs": [],
   "source": [
    "import csv\n",
    "\n",
    "import numpy as np\n",
    "import pysolr\n",
    "from tqdm import tqdm\n",
    "import json\n",
    "\n",
    "from config import TLCPaths\n",
    "from preprocessing import cistem"
   ],
   "metadata": {
    "collapsed": false,
    "ExecuteTime": {
     "end_time": "2023-07-24T07:39:14.226764600Z",
     "start_time": "2023-07-24T07:39:14.108880360Z"
    }
   }
  },
  {
   "cell_type": "code",
   "execution_count": 2,
   "outputs": [
    {
     "data": {
      "text/plain": "'{\\n  \"responseHeader\":{\\n    \"zkConnected\":null,\\n    \"status\":0,\\n    \"QTime\":80,\\n    \"params\":{\\n      \"q\":\"{!lucene}*:*\",\\n      \"distrib\":\"false\",\\n      \"df\":\"_text_\",\\n      \"rows\":\"10\",\\n      \"echoParams\":\"all\",\\n      \"rid\":\"localhost-0\"}},\\n  \"status\":\"OK\"}\\n'"
     },
     "execution_count": 2,
     "metadata": {},
     "output_type": "execute_result"
    }
   ],
   "source": [
    "solr = pysolr.Solr('http://localhost:8983/solr/wumls-single-valued-deduplicated',\n",
    "                   always_commit=False)\n",
    "# solr = pysolr.Solr('http://localhost:8983/solr/wumls-multi-valued', always_commit=False)\n",
    "solr.ping()"
   ],
   "metadata": {
    "collapsed": false,
    "ExecuteTime": {
     "end_time": "2023-07-24T07:39:14.613093930Z",
     "start_time": "2023-07-24T07:39:14.231520276Z"
    }
   }
  },
  {
   "cell_type": "code",
   "execution_count": 3,
   "outputs": [],
   "source": [
    "def create_query_with_edit_distance(term):\n",
    "    return \"{!func}strdist('\" + term + \"',index_term,edit)\"\n"
   ],
   "metadata": {
    "collapsed": false,
    "ExecuteTime": {
     "end_time": "2023-07-24T07:39:14.635528422Z",
     "start_time": "2023-07-24T07:39:14.563334053Z"
    }
   }
  },
  {
   "cell_type": "code",
   "execution_count": 4,
   "outputs": [
    {
     "name": "stdout",
     "output_type": "stream",
     "text": [
      "{'cui': ['C0034186'], 'source': ['MDRGER'], 'language': ['GER'], 'name': ['Pyelonephritis'], 'index_term': ['pyelonephriti'], 'id': 'c8b1ada1-826d-46fa-a6fb-186add6196a1', '_version_': 1760194257981800490, 'score': 1.0}\n",
      "{'cui': ['C0034188'], 'source': ['MDRGER'], 'language': ['GER'], 'name': ['Xanthogranulomatoese Pyelonephritis'], 'index_term': ['xanthogranulomato pyelonephriti'], 'id': 'c01e43d7-a3e5-482d-800a-73b49306f2b7', '_version_': 1760194257982849026, 'score': 1.0}\n",
      "{'cui': ['C1697444'], 'source': ['MDRGER'], 'language': ['GER'], 'name': ['virale Pyelonephritis'], 'index_term': ['viral pyelonephriti'], 'id': 'c1a048cc-3de9-4231-9820-688e08951389', '_version_': 1760194263649353728, 'score': 1.0}\n",
      "{'cui': ['C0034188'], 'source': ['MSHGER'], 'language': ['GER'], 'name': ['Pyelonephritis, xanthogranulomatöse'], 'index_term': ['pyelonephritis, xanthogranulomato'], 'id': '1729c369-87a4-4b8a-b12c-1953689789be', '_version_': 1760194257982849025, 'score': 0.9285714}\n",
      "{'cui': ['C1328529'], 'source': ['MDRGER'], 'language': ['GER'], 'name': ['Zystopyelonephritis'], 'index_term': ['zystopyelonephriti'], 'id': '7aacda3e-9d9e-4e4c-bd06-1704cbdb4d4d', '_version_': 1760194263467950106, 'score': 0.7222222}\n",
      "{'cui': ['C4087333'], 'source': ['MDRGER'], 'language': ['GER'], 'name': ['Pyeloureteritis'], 'index_term': ['pyeloureteriti'], 'id': '1cd4018f-f636-4335-872a-64ee8047284a', '_version_': 1760194264314150947, 'score': 0.71428573}\n",
      "{'cui': ['C0014070'], 'source': ['MSHGER'], 'language': ['GER'], 'name': ['Myeloenzephalitis'], 'index_term': ['myeloenzephaliti'], 'id': '1313bdb5-0852-4fe2-a481-9ff0409b9e94', '_version_': 1760194257498406940, 'score': 0.6875}\n",
      "{'cui': ['C0014070'], 'source': ['WIKTIONARY'], 'language': ['GER'], 'name': ['myelenzephalitis'], 'index_term': ['myelenzephaliti'], 'id': '10d4cf12-1713-402a-b83c-62dcb01bc937', '_version_': 1760194257110433813, 'score': 0.6666666}\n",
      "{'cui': ['C0017658'], 'source': ['MDRGER'], 'language': ['GER'], 'name': ['Glomerulonephritis'], 'index_term': ['glomerulonephriti'], 'id': 'c08315cd-3314-422b-9f45-9af55a041ac1', '_version_': 1760194257598021673, 'score': 0.64705884}\n",
      "{'cui': ['C0017658'], 'source': ['MDRGER'], 'language': ['GER'], 'name': ['Glomerulonephritis NNB'], 'index_term': ['glomerulonephriti nnb'], 'id': 'aeec6704-dbe4-43d7-b04e-d1d8ca9f0244', '_version_': 1760194257598021674, 'score': 0.64705884}\n"
     ]
    }
   ],
   "source": [
    "search_term = \"pyelonephriti\"\n",
    "results = solr.search(q=create_query_with_edit_distance(term=search_term), fl=\"*,score\", rows=10)\n",
    "for res in results:\n",
    "    print(res)"
   ],
   "metadata": {
    "collapsed": false,
    "ExecuteTime": {
     "end_time": "2023-07-24T07:39:16.026418946Z",
     "start_time": "2023-07-24T07:39:14.563780382Z"
    }
   }
  },
  {
   "cell_type": "code",
   "execution_count": 5,
   "outputs": [
    {
     "name": "stdout",
     "output_type": "stream",
     "text": [
      "6228\n"
     ]
    }
   ],
   "source": [
    "\n",
    "with open(TLCPaths.project_data_path / \"TLC_UMLS.json\", \"r\") as f:\n",
    "    data = json.load(f)\n",
    "    X = [entry[\"mention\"] for entry in data]\n",
    "    Y = [entry[\"cui\"] for entry in data]\n",
    "    X_sent = [entry[\"mention_sentence\"].strip() for entry in data]\n",
    "    Y_sent = Y\n",
    "    mention_offsets = [entry[\"mention_sentence_spans\"] for entry in data]\n",
    "print(len(X))  #%%\n"
   ],
   "metadata": {
    "collapsed": false,
    "ExecuteTime": {
     "end_time": "2023-07-24T07:39:16.197970864Z",
     "start_time": "2023-07-24T07:39:16.030040428Z"
    }
   }
  },
  {
   "cell_type": "code",
   "execution_count": 6,
   "outputs": [
    {
     "name": "stderr",
     "output_type": "stream",
     "text": [
      "100%|██████████| 6228/6228 [06:11<00:00, 16.78it/s]  \n"
     ]
    }
   ],
   "source": [
    "y_pred = []\n",
    "y_pred_names = []\n",
    "for mention in tqdm(X):\n",
    "    stemmed_mention = cistem.stem(mention)\n",
    "    results = solr.search(q=create_query_with_edit_distance(term=stemmed_mention), fl=\"*,score\",\n",
    "                          rows=10)\n",
    "    found_cuis = [res[\"cui\"] for res in results]\n",
    "    found_names = [res[\"name\"] for res in results]\n",
    "    y_pred.append(found_cuis)\n",
    "    y_pred_names.append(found_names)"
   ],
   "metadata": {
    "collapsed": false,
    "ExecuteTime": {
     "end_time": "2023-07-24T07:45:27.365236964Z",
     "start_time": "2023-07-24T07:39:16.201264264Z"
    }
   }
  },
  {
   "cell_type": "code",
   "execution_count": 7,
   "outputs": [],
   "source": [
    "y_pred = np.array(y_pred)\n",
    "y_pred_names = np.array(y_pred_names)"
   ],
   "metadata": {
    "collapsed": false,
    "ExecuteTime": {
     "end_time": "2023-07-24T07:45:27.413236522Z",
     "start_time": "2023-07-24T07:45:27.412873398Z"
    }
   }
  },
  {
   "cell_type": "code",
   "execution_count": 8,
   "outputs": [
    {
     "name": "stdout",
     "output_type": "stream",
     "text": [
      "Acc@1:  0.492\n",
      "Acc@2:  0.503\n",
      "Acc@3:  0.539\n",
      "Acc@4:  0.576\n",
      "Acc@5:  0.578\n",
      "Acc@6:  0.578\n",
      "Acc@7:  0.579\n",
      "Acc@8:  0.583\n",
      "Acc@9:  0.594\n",
      "Acc@10:  0.595\n",
      "Acc@16:  0.595\n",
      "Acc@32:  0.595\n",
      "Acc@64:  0.595\n"
     ]
    }
   ],
   "source": [
    "def top_k_acc(y_true, y_pred, k=1):\n",
    "    y_pred = y_pred[:, :k]\n",
    "    correct_preds = [true in pred for true, pred in zip(y_true, y_pred)]\n",
    "    return np.mean(correct_preds)\n",
    "\n",
    "\n",
    "accs = []\n",
    "k_values = list(range(1, 11)) + [16, 32, 64]\n",
    "for i in k_values:\n",
    "    acc = round(top_k_acc(Y, y_pred, k=i), 3)\n",
    "    accs.append(acc)\n",
    "    print(f\"Acc@{i}: \", acc)"
   ],
   "metadata": {
    "collapsed": false,
    "ExecuteTime": {
     "end_time": "2023-07-24T07:45:27.661453091Z",
     "start_time": "2023-07-24T07:45:27.413454306Z"
    }
   }
  },
  {
   "cell_type": "code",
   "execution_count": 11,
   "outputs": [
    {
     "name": "stdout",
     "output_type": "stream",
     "text": [
      "[0.492, 0.503, 0.539, 0.576, 0.578, 0.578, 0.579, 0.583, 0.594, 0.595, 0.595, 0.595, 0.595]\n"
     ]
    }
   ],
   "source": [
    "print(accs)"
   ],
   "metadata": {
    "collapsed": false,
    "ExecuteTime": {
     "end_time": "2023-07-24T07:47:31.731754944Z",
     "start_time": "2023-07-24T07:47:31.728292763Z"
    }
   }
  },
  {
   "cell_type": "code",
   "execution_count": 12,
   "outputs": [],
   "source": [
    "import time\n",
    "\n",
    "timestr = time.strftime(\"%Y%m%d-%H%M%S\")\n",
    "\n",
    "rows = []\n",
    "for mention, name, true_cui, pred_cui in zip(X, np.array(y_pred_names)[:, 0], Y, y_pred[:, 0]):\n",
    "    rows.append([mention, name[0], true_cui, pred_cui[0], true_cui == pred_cui[0]])\n",
    "rows = sorted(rows, key=lambda x: x[-1])\n",
    "\n",
    "with open(TLCPaths.project_data_path.joinpath(f\"german_tlc_prediction_SOLR_{timestr}.csv\"), \"w\",\n",
    "          newline=\"\") as f:\n",
    "    spamwriter = csv.writer(f, delimiter=' ',\n",
    "                            quotechar='|', quoting=csv.QUOTE_MINIMAL)\n",
    "    spamwriter.writerow([\"mention\", \"Predicted Concept\", \"true cui\", \"pred cui\", \"Correct\"])\n",
    "    for row in rows:\n",
    "        spamwriter.writerow(row)"
   ],
   "metadata": {
    "collapsed": false,
    "ExecuteTime": {
     "end_time": "2023-07-24T07:47:43.133094243Z",
     "start_time": "2023-07-24T07:47:43.086049596Z"
    }
   }
  },
  {
   "cell_type": "code",
   "execution_count": null,
   "outputs": [],
   "source": [
    "# interesting samples\n",
    "# bauchspeicheldrüse |Künstliche Bauchspeicheldrüse| C0183516 C0336563 False\n",
    "# Blähungen Blähung C1291077 C0016204 False\n",
    "# Blähen blase C0016204 C0005758 False"
   ],
   "metadata": {
    "collapsed": false
   }
  }
 ],
 "metadata": {
  "kernelspec": {
   "display_name": "Python 3",
   "language": "python",
   "name": "python3"
  },
  "language_info": {
   "codemirror_mode": {
    "name": "ipython",
    "version": 2
   },
   "file_extension": ".py",
   "mimetype": "text/x-python",
   "name": "python",
   "nbconvert_exporter": "python",
   "pygments_lexer": "ipython2",
   "version": "2.7.6"
  }
 },
 "nbformat": 4,
 "nbformat_minor": 0
}
