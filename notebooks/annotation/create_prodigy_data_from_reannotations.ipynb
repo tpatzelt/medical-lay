{
 "cells": [
  {
   "cell_type": "code",
   "execution_count": 54,
   "outputs": [],
   "source": [
    "import csv\n",
    "\n",
    "import diskcache as dc\n",
    "import jsonlines\n",
    "import requests\n",
    "from deepl import Translator\n",
    "from tqdm import tqdm\n",
    "\n",
    "from data_loading import get_annotation_ids\n",
    "from models import SampleCollection, ProdigySample, ProdigyNERLabel\n",
    "from src.config import TLCPaths\n",
    "from src.data_loading import annotations as tlc_annotations, load_tlc_samples\n",
    "from src.models import Sample"
   ],
   "metadata": {
    "collapsed": false,
    "ExecuteTime": {
     "end_time": "2023-06-25T13:23:35.489219526Z",
     "start_time": "2023-06-25T13:23:35.446678374Z"
    }
   }
  },
  {
   "cell_type": "code",
   "execution_count": 55,
   "outputs": [],
   "source": [
    "UMLS_KEY = \"43f9234c-4977-45f6-a440-2dda1b43d919\""
   ],
   "metadata": {
    "collapsed": false,
    "ExecuteTime": {
     "end_time": "2023-06-25T13:23:36.169553099Z",
     "start_time": "2023-06-25T13:23:36.142346022Z"
    }
   }
  },
  {
   "cell_type": "code",
   "execution_count": 57,
   "outputs": [],
   "source": [
    "# get rejected annotations, annotate them and create new dataset\n",
    "\n",
    "sample_collection = SampleCollection(load_tlc_samples())\n",
    "\n",
    "tlc_samples = []\n",
    "for file in TLCPaths.json_dir.iterdir():\n",
    "    sample = Sample.parse_file(file)\n",
    "    tlc_samples.append(sample)\n",
    "\n",
    "\n",
    "def get_sample_for_annotation_id(annotation_id):\n",
    "    for sample in tlc_samples:\n",
    "        sample_ann_ids = [ann.id for ann in sample.annotations]\n",
    "        if annotation_id in sample_ann_ids:\n",
    "            return sample\n",
    "\n",
    "\n",
    "def get_tlc_annotation(annotation_id, tlc_annotations):\n",
    "    return next(ann for ann in tlc_annotations if ann.id == annotation_id)\n",
    "\n",
    "\n",
    "german_umls_cuis = set()\n",
    "with open(TLCPaths.project_data_path.joinpath(\"german_umls_names_and_cuis.csv\"),\n",
    "          newline='') as csvfile:\n",
    "    reader = csv.reader(csvfile, delimiter=' ', quotechar='|')\n",
    "    for row in reader:\n",
    "        assert len(row) == 2\n",
    "        german_umls_cuis.add(row[0])\n",
    "\n",
    "with jsonlines.open(\n",
    "        TLCPaths.project_data_path.joinpath(\"TLC-UMLS-v4-reviewed-validated.jsonl\")) as reader:\n",
    "    validated_samples = [obj for obj in reader]\n",
    "accepted_samples = [sample for sample in validated_samples if sample[\"answer\"] == \"accept\"]\n",
    "rejected_samples = [sample for sample in validated_samples if sample[\"answer\"] == \"reject\"]"
   ],
   "metadata": {
    "collapsed": false,
    "ExecuteTime": {
     "end_time": "2023-06-25T13:24:53.422859721Z",
     "start_time": "2023-06-25T13:24:52.220437934Z"
    }
   }
  },
  {
   "cell_type": "code",
   "execution_count": 58,
   "outputs": [],
   "source": [
    "# load manual annotations\n",
    "import csv\n",
    "\n",
    "manual_annotations = []\n",
    "with open(TLCPaths.project_data_path.joinpath(\"rejected_samples_for_manual_annotation_copy.csv\"),\n",
    "          \"r\", newline=\"\\n\") as f:\n",
    "    reader = csv.reader(f, delimiter='\\t', quotechar='|', quoting=csv.QUOTE_MINIMAL)\n",
    "    for row in reader:\n",
    "        annotation_id = int(row[1].strip(\"[]\").split(\",\")[0])\n",
    "        annotation = get_tlc_annotation(annotation_id, tlc_annotations)\n",
    "        cui = row[-1]\n",
    "        if not cui or cui not in german_umls_cuis:\n",
    "            continue\n",
    "        manual_annotations.append(dict(annotation=annotation, cui=cui))"
   ],
   "metadata": {
    "collapsed": false,
    "ExecuteTime": {
     "end_time": "2023-06-25T13:24:53.988600946Z",
     "start_time": "2023-06-25T13:24:53.935269452Z"
    }
   }
  },
  {
   "cell_type": "code",
   "execution_count": 59,
   "outputs": [
    {
     "data": {
      "text/plain": "({'annotation': Annotation(tech_term=None, lay_term='Magen-Darm-Trakt', type=<TermType.LAY: 'LAY'>, span_start=257, span_end=273, synonyms=['GIT', 'GIT'], id=29),\n  'cui': 'C0012240'},\n 54)"
     },
     "execution_count": 59,
     "metadata": {},
     "output_type": "execute_result"
    }
   ],
   "source": [
    "manual_annotations[0], len(manual_annotations)"
   ],
   "metadata": {
    "collapsed": false,
    "ExecuteTime": {
     "end_time": "2023-06-25T13:24:55.551264293Z",
     "start_time": "2023-06-25T13:24:55.545012941Z"
    }
   }
  },
  {
   "cell_type": "markdown",
   "source": [
    "# add descriptions"
   ],
   "metadata": {
    "collapsed": false
   }
  },
  {
   "cell_type": "code",
   "execution_count": 60,
   "outputs": [],
   "source": [
    "umls_cache = dc.Cache(\"caches/umls_cache\")\n",
    "\n",
    "\n",
    "class CachedTranslator:\n",
    "    def __init__(self, cache, api_key):\n",
    "        self.cache = cache\n",
    "        self.translator = Translator(api_key)\n",
    "\n",
    "    def translate_text(self, text, source_lang, target_lang):\n",
    "        if (text, source_lang, target_lang) in self.cache:\n",
    "            return self.cache[(text, source_lang, target_lang)]\n",
    "        else:\n",
    "            res = self.translator.translate_text(text, source_lang=source_lang,\n",
    "                                                 target_lang=target_lang)\n",
    "            self.cache[(text, source_lang, target_lang)] = res\n",
    "            return res\n",
    "\n",
    "\n",
    "deepl_cache = dc.Cache(\"caches/deepl_cache\")\n",
    "deepl_key = \"0c25ea6d-b79f-288a-541f-ae25709c6312:fx\"\n",
    "translator = CachedTranslator(deepl_cache, deepl_key)\n",
    "\n",
    "\n",
    "@umls_cache.memoize()\n",
    "def get_cui_name(cui):\n",
    "    query_url = f\"https://uts-ws.nlm.nih.gov/rest/content/current/CUI/{cui}?apiKey={UMLS_KEY}\"\n",
    "    response = requests.get(query_url)\n",
    "    if not \"result\" in response.json():\n",
    "        print(\"returning none for \", cui)\n",
    "        return None\n",
    "    else:\n",
    "        eng_name = response.json()[\"result\"][\"name\"]\n",
    "        name = translator.translate_text(text=eng_name, source_lang=\"EN\", target_lang=\"DE\").text\n",
    "        return name\n",
    "\n",
    "\n",
    "@umls_cache.memoize()\n",
    "def get_description(cui):\n",
    "    name = get_cui_name(cui=cui)\n",
    "\n",
    "    ger_sabs = [\"DMDICD10\", \"DMDUMD\", \"WHOGER\", \"ICPCGER\", \"LNC-DE-AT\", \"LNC-DE-DE\", \"MDRGER\",\n",
    "                \"MSHGER\"]\n",
    "    eng_sabs = [\"HPO\", \"MDR\", \"MSH\", \"SNOMEDCT_US\"]\n",
    "\n",
    "    query_url = f\"https://uts-ws.nlm.nih.gov/rest/content/current/CUI/{cui}/definitions?apiKey={UMLS_KEY}\"\n",
    "    response = requests.get(query_url)\n",
    "    if \"result\" in response.json():\n",
    "        result = response.json()[\"result\"]\n",
    "        for res in result:\n",
    "            if res[\"rootSource\"] in ger_sabs:\n",
    "                return f\"{name}: \" + res[\"value\"]\n",
    "        for res in result:\n",
    "            if res[\"rootSource\"] in eng_sabs:\n",
    "                return f\"{name}: \" + translator.translate_text(text=res[\"value\"], source_lang=\"EN\",\n",
    "                                                               target_lang=\"DE\").text\n",
    "        return f\"{name}: \" + translator.translate_text(text=response.json()[\"result\"][0][\"value\"],\n",
    "                                                       source_lang=None,\n",
    "                                                       target_lang=\"DE\").text\n",
    "    else:\n",
    "        return name\n"
   ],
   "metadata": {
    "collapsed": false,
    "ExecuteTime": {
     "end_time": "2023-06-25T13:24:57.840662370Z",
     "start_time": "2023-06-25T13:24:57.831508707Z"
    }
   }
  },
  {
   "cell_type": "code",
   "execution_count": 61,
   "outputs": [],
   "source": [
    "all_annotations = manual_annotations"
   ],
   "metadata": {
    "collapsed": false,
    "ExecuteTime": {
     "end_time": "2023-06-25T13:24:58.845112493Z",
     "start_time": "2023-06-25T13:24:58.820599690Z"
    }
   }
  },
  {
   "cell_type": "code",
   "execution_count": 62,
   "outputs": [
    {
     "name": "stderr",
     "output_type": "stream",
     "text": [
      "100%|██████████| 54/54 [00:00<00:00, 4028.61it/s]\n"
     ]
    }
   ],
   "source": [
    "for annotation in tqdm(all_annotations):\n",
    "    annotation[\"description\"] = get_description(cui=annotation[\"cui\"])"
   ],
   "metadata": {
    "collapsed": false,
    "ExecuteTime": {
     "end_time": "2023-06-25T13:24:59.207742820Z",
     "start_time": "2023-06-25T13:24:59.182309158Z"
    }
   }
  },
  {
   "cell_type": "code",
   "execution_count": 63,
   "outputs": [
    {
     "name": "stderr",
     "output_type": "stream",
     "text": [
      "100%|██████████| 54/54 [00:00<00:00, 225814.97it/s]\n"
     ]
    }
   ],
   "source": [
    "for annotation in tqdm(all_annotations):\n",
    "    if annotation[\"description\"] is None:\n",
    "        print(annotation)"
   ],
   "metadata": {
    "collapsed": false,
    "ExecuteTime": {
     "end_time": "2023-06-25T13:25:00.197918541Z",
     "start_time": "2023-06-25T13:25:00.175979811Z"
    }
   }
  },
  {
   "cell_type": "code",
   "execution_count": 64,
   "outputs": [
    {
     "name": "stdout",
     "output_type": "stream",
     "text": [
      "0\n"
     ]
    }
   ],
   "source": [
    "no_desc_ann = [ann for ann in all_annotations if ann[\"description\"] is None]\n",
    "print(len(no_desc_ann))\n",
    "all_annotations_with_desc = [ann for ann in all_annotations if ann[\"description\"] is not None]"
   ],
   "metadata": {
    "collapsed": false,
    "ExecuteTime": {
     "end_time": "2023-06-25T13:25:02.117266456Z",
     "start_time": "2023-06-25T13:25:02.093000438Z"
    }
   }
  },
  {
   "cell_type": "code",
   "execution_count": null,
   "outputs": [],
   "source": [
    "prodigy_samples = []\n",
    "for ann_with_cui_and_desc in tqdm(all_annotations_with_desc):\n",
    "    annotation = ann_with_cui_and_desc[\"annotation\"]\n",
    "    cui = ann_with_cui_and_desc[\"cui\"]\n",
    "    description = ann_with_cui_and_desc[\"description\"]\n",
    "    spans = [ProdigyNERLabel(start=annotation.span_start, end=annotation.span_end)]\n",
    "    text = sample_collection.get_sample_by_annotation_id(annotation.id).text\n",
    "    # <a href=\"url\">link text</a>\n",
    "\n",
    "    html = f'<b>{cui}</b>: ' + description\n",
    "    annotations_ids = get_annotation_ids(annotation.get_mention())\n",
    "    prodigy_samples.append(\n",
    "        ProdigySample(text=text, spans=spans, id=annotation.id, cui=cui, html=html,\n",
    "                      annotation_ids=annotations_ids,\n",
    "                      meta=dict(url=f\"https://uts.nlm.nih.gov/uts/umls/concept/{cui}\")))#%%\n",
    "import csv\n",
    "\n",
    "import diskcache as dc\n",
    "import jsonlines\n",
    "import requests\n",
    "from deepl import Translator\n",
    "from tqdm import tqdm\n",
    "\n",
    "from data_loading import get_annotation_ids\n",
    "from models import SampleCollection, ProdigySample, ProdigyNERLabel\n",
    "from src.config import TLCPaths\n",
    "from src.data_loading import annotations as tlc_annotations, load_tlc_samples\n",
    "from src.models import Sample"
   ],
   "metadata": {
    "collapsed": false
   }
  },
  {
   "cell_type": "code",
   "execution_count": null,
   "outputs": [],
   "source": [
    "UMLS_KEY = \"43f9234c-4977-45f6-a440-2dda1b43d919\""
   ],
   "metadata": {
    "collapsed": false
   }
  },
  {
   "cell_type": "code",
   "execution_count": null,
   "outputs": [],
   "source": [
    "# get rejected annotations, annotate them and create new dataset\n",
    "\n",
    "sample_collection = SampleCollection(load_tlc_samples())\n",
    "\n",
    "tlc_samples = []\n",
    "for file in TLCPaths.json_dir.iterdir():\n",
    "    sample = Sample.parse_file(file)\n",
    "    tlc_samples.append(sample)\n",
    "\n",
    "\n",
    "def get_sample_for_annotation_id(annotation_id):\n",
    "    for sample in tlc_samples:\n",
    "        sample_ann_ids = [ann.id for ann in sample.annotations]\n",
    "        if annotation_id in sample_ann_ids:\n",
    "            return sample\n",
    "\n",
    "\n",
    "def get_tlc_annotation(annotation_id, tlc_annotations):\n",
    "    return next(ann for ann in tlc_annotations if ann.id == annotation_id)\n",
    "\n",
    "\n",
    "german_umls_cuis = set()\n",
    "with open(TLCPaths.project_data_path.joinpath(\"german_umls_names_and_cuis.csv\"),\n",
    "          newline='') as csvfile:\n",
    "    reader = csv.reader(csvfile, delimiter=' ', quotechar='|')\n",
    "    for row in reader:\n",
    "        assert len(row) == 2\n",
    "        german_umls_cuis.add(row[0])\n",
    "\n",
    "with jsonlines.open(\n",
    "        TLCPaths.project_data_path.joinpath(\"TLC-UMLS-v4-reviewed-validated.jsonl\")) as reader:\n",
    "    validated_samples = [obj for obj in reader]\n",
    "accepted_samples = [sample for sample in validated_samples if sample[\"answer\"] == \"accept\"]\n",
    "rejected_samples = [sample for sample in validated_samples if sample[\"answer\"] == \"reject\"]"
   ],
   "metadata": {
    "collapsed": false
   }
  },
  {
   "cell_type": "code",
   "execution_count": null,
   "outputs": [],
   "source": [
    "# load manual annotations\n",
    "import csv\n",
    "\n",
    "manual_annotations = []\n",
    "with open(TLCPaths.project_data_path.joinpath(\"rejected_samples_for_manual_annotation_copy.csv\"),\n",
    "          \"r\", newline=\"\\n\") as f:\n",
    "    reader = csv.reader(f, delimiter='\\t', quotechar='|', quoting=csv.QUOTE_MINIMAL)\n",
    "    for row in reader:\n",
    "        annotation_id = int(row[1].strip(\"[]\").split(\",\")[0])\n",
    "        annotation = get_tlc_annotation(annotation_id, tlc_annotations)\n",
    "        cui = row[-1]\n",
    "        if not cui or cui not in german_umls_cuis:\n",
    "            continue\n",
    "        manual_annotations.append(dict(annotation=annotation, cui=cui))"
   ],
   "metadata": {
    "collapsed": false
   }
  },
  {
   "cell_type": "code",
   "execution_count": null,
   "outputs": [],
   "source": [
    "manual_annotations[0], len(manual_annotations)"
   ],
   "metadata": {
    "collapsed": false
   }
  },
  {
   "cell_type": "markdown",
   "source": [
    "# add descriptions"
   ],
   "metadata": {
    "collapsed": false
   }
  },
  {
   "cell_type": "code",
   "execution_count": null,
   "outputs": [],
   "source": [
    "umls_cache = dc.Cache(\"caches/umls_cache\")\n",
    "\n",
    "\n",
    "class CachedTranslator:\n",
    "    def __init__(self, cache, api_key):\n",
    "        self.cache = cache\n",
    "        self.translator = Translator(api_key)\n",
    "\n",
    "    def translate_text(self, text, source_lang, target_lang):\n",
    "        if (text, source_lang, target_lang) in self.cache:\n",
    "            return self.cache[(text, source_lang, target_lang)]\n",
    "        else:\n",
    "            res = self.translator.translate_text(text, source_lang=source_lang,\n",
    "                                                 target_lang=target_lang)\n",
    "            self.cache[(text, source_lang, target_lang)] = res\n",
    "            return res\n",
    "\n",
    "\n",
    "deepl_cache = dc.Cache(\"caches/deepl_cache\")\n",
    "deepl_key = \"0c25ea6d-b79f-288a-541f-ae25709c6312:fx\"\n",
    "translator = CachedTranslator(deepl_cache, deepl_key)\n",
    "\n",
    "\n",
    "@umls_cache.memoize()\n",
    "def get_cui_name(cui):\n",
    "    query_url = f\"https://uts-ws.nlm.nih.gov/rest/content/current/CUI/{cui}?apiKey={UMLS_KEY}\"\n",
    "    response = requests.get(query_url)\n",
    "    if not \"result\" in response.json():\n",
    "        print(\"returning none for \", cui)\n",
    "        return None\n",
    "    else:\n",
    "        eng_name = response.json()[\"result\"][\"name\"]\n",
    "        name = translator.translate_text(text=eng_name, source_lang=\"EN\", target_lang=\"DE\").text\n",
    "        return name\n",
    "\n",
    "\n",
    "@umls_cache.memoize()\n",
    "def get_description(cui):\n",
    "    name = get_cui_name(cui=cui)\n",
    "\n",
    "    ger_sabs = [\"DMDICD10\", \"DMDUMD\", \"WHOGER\", \"ICPCGER\", \"LNC-DE-AT\", \"LNC-DE-DE\", \"MDRGER\",\n",
    "                \"MSHGER\"]\n",
    "    eng_sabs = [\"HPO\", \"MDR\", \"MSH\", \"SNOMEDCT_US\"]\n",
    "\n",
    "    query_url = f\"https://uts-ws.nlm.nih.gov/rest/content/current/CUI/{cui}/definitions?apiKey={UMLS_KEY}\"\n",
    "    response = requests.get(query_url)\n",
    "    if \"result\" in response.json():\n",
    "        result = response.json()[\"result\"]\n",
    "        for res in result:\n",
    "            if res[\"rootSource\"] in ger_sabs:\n",
    "                return f\"{name}: \" + res[\"value\"]\n",
    "        for res in result:\n",
    "            if res[\"rootSource\"] in eng_sabs:\n",
    "                return f\"{name}: \" + translator.translate_text(text=res[\"value\"], source_lang=\"EN\",\n",
    "                                                               target_lang=\"DE\").text\n",
    "        return f\"{name}: \" + translator.translate_text(text=response.json()[\"result\"][0][\"value\"],\n",
    "                                                       source_lang=None,\n",
    "                                                       target_lang=\"DE\").text\n",
    "    else:\n",
    "        return name\n"
   ],
   "metadata": {
    "collapsed": false
   }
  },
  {
   "cell_type": "code",
   "execution_count": null,
   "outputs": [],
   "source": [
    "all_annotations = manual_annotations"
   ],
   "metadata": {
    "collapsed": false
   }
  },
  {
   "cell_type": "code",
   "execution_count": null,
   "outputs": [],
   "source": [
    "for annotation in tqdm(all_annotations):\n",
    "    annotation[\"description\"] = get_description(cui=annotation[\"cui\"])"
   ],
   "metadata": {
    "collapsed": false
   }
  },
  {
   "cell_type": "code",
   "execution_count": null,
   "outputs": [],
   "source": [
    "for annotation in tqdm(all_annotations):\n",
    "    if annotation[\"description\"] is None:\n",
    "        print(annotation)"
   ],
   "metadata": {
    "collapsed": false
   }
  },
  {
   "cell_type": "code",
   "execution_count": null,
   "outputs": [],
   "source": [
    "no_desc_ann = [ann for ann in all_annotations if ann[\"description\"] is None]\n",
    "print(len(no_desc_ann))\n",
    "all_annotations_with_desc = [ann for ann in all_annotations if ann[\"description\"] is not None]"
   ],
   "metadata": {
    "collapsed": false
   }
  },
  {
   "cell_type": "code",
   "execution_count": null,
   "outputs": [],
   "source": [
    "prodigy_samples = []\n",
    "for ann_with_cui_and_desc in tqdm(all_annotations_with_desc):\n",
    "    annotation = ann_with_cui_and_desc[\"annotation\"]\n",
    "    cui = ann_with_cui_and_desc[\"cui\"]\n",
    "    description = ann_with_cui_and_desc[\"description\"]\n",
    "    spans = [ProdigyNERLabel(start=annotation.span_start, end=annotation.span_end)]\n",
    "    text = sample_collection.get_sample_by_annotation_id(annotation.id).text\n",
    "    # <a href=\"url\">link text</a>\n",
    "\n",
    "    html = f'<b>{cui}</b>: ' + description\n",
    "    annotations_ids = get_annotation_ids(annotation.get_mention())\n",
    "    prodigy_samples.append(\n",
    "        ProdigySample(text=text, spans=spans, id=annotation.id, cui=cui, html=html,\n",
    "                      annotation_ids=annotations_ids,\n",
    "                      meta=dict(url=f\"https://uts.nlm.nih.gov/uts/umls/concept/{cui}\")))\n",
    "    "
   ],
   "metadata": {
    "collapsed": false
   }
  },
  {
   "cell_type": "code",
   "execution_count": null,
   "outputs": [],
   "source": [
    "with open(TLCPaths.project_data_path.joinpath(\"prodigy_samples_round_2_v1.jsonl\"), \"w\") as fp:\n",
    "    for annotation in prodigy_samples:\n",
    "        fp.write(annotation.json(ensure_ascii=False) + \"\\n\")"
   ],
   "metadata": {
    "collapsed": false
   }
  },
  {
   "cell_type": "code",
   "execution_count": null,
   "outputs": [],
   "source": [
    "annotation.json()"
   ],
   "metadata": {
    "collapsed": false
   }
  },
  {
   "cell_type": "code",
   "execution_count": null,
   "outputs": [],
   "source": [],
   "metadata": {
    "collapsed": false
   }
  },
  {
   "cell_type": "code",
   "execution_count": 67,
   "outputs": [],
   "source": [
    "with open(TLCPaths.project_data_path.joinpath(\"prodigy_samples_round_2_v1.jsonl\"), \"w\") as fp:\n",
    "    for annotation in prodigy_samples:\n",
    "        fp.write(annotation.json(ensure_ascii=False) + \"\\n\")"
   ],
   "metadata": {
    "collapsed": false,
    "ExecuteTime": {
     "end_time": "2023-06-25T13:25:10.725592717Z",
     "start_time": "2023-06-25T13:25:10.699951844Z"
    }
   }
  },
  {
   "cell_type": "code",
   "execution_count": 68,
   "outputs": [
    {
     "data": {
      "text/plain": "'{\"text\": \"Thread: [Frage zum GFR-Wert]\\\\nText: [whoopi63, hast du da noch mal schauen lassen. Mein Wert ist jetzt von damals 86 auf 82 gesunken. Aber die \\\\u00c4rzte haben dazu nix gesagt, nur dass bis auf B12 und Eisen alles ok w\\\\u00e4re. Bei dir noch mal gemacht worden?]\\\\n\", \"spans\": [{\"start\": 188, \"end\": 191, \"label\": \"Mention\"}], \"html\": \"<b>C0042845</b>: Vitamin B12: Eine kobalthaltige Koordinationsverbindung, die von Mikroorganismen im Darm gebildet wird und auch im Boden und im Wasser vorkommt. H\\\\u00f6here Pflanzen konzentrieren Vitamin B 12 nicht aus dem Boden und sind daher im Vergleich zu tierischen Geweben eine schlechte Quelle f\\\\u00fcr diese Substanz. Der INTRINSIC FACTOR ist wichtig f\\\\u00fcr die Assimilation von Vitamin B 12.\", \"annotation_ids\": [2234], \"cui\": \"C0042845\", \"meta\": {\"url\": \"https://uts.nlm.nih.gov/uts/umls/concept/C0042845\"}}'"
     },
     "execution_count": 68,
     "metadata": {},
     "output_type": "execute_result"
    }
   ],
   "source": [
    "annotation.json()"
   ],
   "metadata": {
    "collapsed": false,
    "ExecuteTime": {
     "end_time": "2023-06-25T13:25:11.199558505Z",
     "start_time": "2023-06-25T13:25:11.183836442Z"
    }
   }
  },
  {
   "cell_type": "code",
   "execution_count": 64,
   "outputs": [],
   "source": [],
   "metadata": {
    "collapsed": false,
    "ExecuteTime": {
     "start_time": "2023-04-11T15:20:27.522796Z",
     "end_time": "2023-04-11T15:20:29.339795Z"
    }
   }
  }
 ],
 "metadata": {
  "kernelspec": {
   "display_name": "Python 3",
   "language": "python",
   "name": "python3"
  },
  "language_info": {
   "codemirror_mode": {
    "name": "ipython",
    "version": 2
   },
   "file_extension": ".py",
   "mimetype": "text/x-python",
   "name": "python",
   "nbconvert_exporter": "python",
   "pygments_lexer": "ipython2",
   "version": "2.7.6"
  }
 },
 "nbformat": 4,
 "nbformat_minor": 0
}
