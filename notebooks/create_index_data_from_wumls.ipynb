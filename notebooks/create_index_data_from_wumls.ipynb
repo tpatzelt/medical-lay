{
 "cells": [
  {
   "cell_type": "code",
   "execution_count": 1,
   "metadata": {
    "collapsed": true,
    "ExecuteTime": {
     "end_time": "2023-06-05T14:40:00.807016435Z",
     "start_time": "2023-06-05T14:40:00.704906793Z"
    }
   },
   "outputs": [],
   "source": [
    "from tqdm import tqdm\n",
    "import csv\n",
    "import numpy as np\n",
    "from src.config import TLCPaths\n",
    "\n",
    "UMLS_KEY = \"43f9234c-4977-45f6-a440-2dda1b43d919\""
   ]
  },
  {
   "cell_type": "code",
   "execution_count": 6,
   "outputs": [
    {
     "name": "stdout",
     "output_type": "stream",
     "text": [
      "184475\n"
     ]
    }
   ],
   "source": [
    "### load wumls \n",
    "wumls_file = '/home/tim/MedicalLay/WUMLS/MRCONSO_WUMLS_GER.RRF'\n",
    "\n",
    "wumls_names = {}\n",
    "with open(wumls_file, newline='\\n') as csvfile:\n",
    "    spamreader = csv.reader(csvfile, delimiter='|')\n",
    "    for row in spamreader:\n",
    "        cui = row[0]\n",
    "        name = row[-5]\n",
    "        wumls_names[name] = cui\n",
    "print(len(wumls_names))\n"
   ],
   "metadata": {
    "collapsed": false,
    "ExecuteTime": {
     "end_time": "2023-06-05T14:41:09.277151951Z",
     "start_time": "2023-06-05T14:41:08.493877901Z"
    }
   }
  },
  {
   "cell_type": "code",
   "execution_count": 24,
   "outputs": [],
   "source": [
    "with open(TLCPaths.project_data_path.joinpath(\"wumls_names_and_cuis.csv\"),\"w\", newline=\"\") as f:\n",
    "    spamwriter = csv.writer(f, delimiter=' ',\n",
    "                            quotechar='|', quoting=csv.QUOTE_MINIMAL)\n",
    "    for name, cui in wumls_names.items():\n",
    "        spamwriter.writerow([cui, name])"
   ],
   "metadata": {
    "collapsed": false,
    "ExecuteTime": {
     "end_time": "2023-06-01T17:26:26.926961494Z",
     "start_time": "2023-06-01T17:26:26.721796718Z"
    }
   }
  },
  {
   "cell_type": "code",
   "execution_count": 11,
   "outputs": [
    {
     "name": "stdout",
     "output_type": "stream",
     "text": [
      "182008\n"
     ]
    }
   ],
   "source": [
    "german_umls_names = {}\n",
    "with open(wumls_file, newline='\\n') as csvfile:\n",
    "    spamreader = csv.reader(csvfile, delimiter='|')\n",
    "    for row in spamreader:\n",
    "        if  row[-8] != \"WIKTIONARY\":\n",
    "            cui = row[0]\n",
    "            name = row[-5]\n",
    "            german_umls_names[name] = cui\n",
    "            \n",
    "print(len(german_umls_names))\n",
    "\n",
    "with open(TLCPaths.project_data_path.joinpath(\"german_umls_names_and_cuis.csv\"),\"w\", newline=\"\") as f:\n",
    "    spamwriter = csv.writer(f, delimiter=' ',\n",
    "                            quotechar='|', quoting=csv.QUOTE_MINIMAL)\n",
    "    for name, cui in german_umls_names.items():\n",
    "        spamwriter.writerow([cui, name])"
   ],
   "metadata": {
    "collapsed": false,
    "ExecuteTime": {
     "end_time": "2023-06-05T14:43:44.569697065Z",
     "start_time": "2023-06-05T14:43:43.638039706Z"
    }
   }
  },
  {
   "cell_type": "code",
   "execution_count": 5,
   "outputs": [],
   "source": [
    "# get wumls and english names\n",
    "# encode all english names and build index\n",
    "# encode query and find nearest neighbour from index"
   ],
   "metadata": {
    "collapsed": false,
    "ExecuteTime": {
     "end_time": "2023-06-01T11:51:46.366333625Z",
     "start_time": "2023-06-01T11:51:46.359549727Z"
    }
   }
  },
  {
   "cell_type": "code",
   "execution_count": 15,
   "outputs": [
    {
     "name": "stdout",
     "output_type": "stream",
     "text": [
      "['C0242362', 'GER', 'P', 'L1247100', 'PF', 'S1489046', 'Y', 'A13455396', '', 'M0011561', 'D007405', 'MSHGER', 'PEP', 'D007405', 'Diskushernie', '3', 'N', '', '']\n",
      "['C0242362', 'GER', 'S', 'L1236418', 'PF', 'S1478364', 'N', 'A25863238', '', '', '10050296', 'MDRGER', 'LLT', '10022638', 'Bandscheibenvorfall', '3', 'N', '', '']\n",
      "['C0242362', 'GER', 'S', 'L1236418', 'PF', 'S1478364', 'Y', 'A7484171', '', 'M0011561', 'D007405', 'MSHGER', 'EP', 'D007405', 'Bandscheibenvorfall', '3', 'N', '', '']\n",
      "['C0242362', 'GER', 'S', 'L1289264', 'PF', 'S1531210', 'Y', 'A7504682', '', 'M0011561', 'D007405', 'MSHGER', 'EP', 'D007405', 'Prolabierte Bandscheibe', '3', 'N', '', '']\n",
      "['C0242362', 'GER', 'S', 'L13322943', 'PF', 'S16286832', 'Y', 'A26916538', '', '', '10050296', 'MDRGER', 'LLT', '10078023', 'Extrusion einer Bandscheibe', '3', 'N', '', '']\n",
      "['C0242362', 'GER', 'S', 'L5031305', 'PF', 'S5718810', 'N', 'A25915339', '', '', '10050296', 'MDRGER', 'LLT', '10050296', 'Bandscheibenprotrusion', '3', 'N', '', '']\n",
      "['C0242362', 'GER', 'S', 'L5031305', 'PF', 'S5718810', 'Y', 'A6668233', '', '', '10050296', 'MDRGER', 'PT', '10050296', 'Bandscheibenprotrusion', '3', 'N', '', '']\n",
      "['C0242362', 'GER', 'S', 'L5935995', 'PF', 'S6818426', 'N', 'A26164545', '', '', '10050296', 'MDRGER', 'LLT', '10050330', 'Bandscheibenhernie', '3', 'N', '', '']\n",
      "['C0242362', 'GER', 'S', 'L5935995', 'PF', 'S6818426', 'Y', 'A25816048', '', '', '10050296', 'MDRGER', 'LLT', '10048856', 'Bandscheibenhernie', '3', 'N', '', '']\n",
      "['C0242362', 'GER', 'S', 'L5935996', 'PF', 'S6818425', 'Y', 'A11138775', '', '', '10050296', 'MDRGER', 'OL', '10048772', 'Bandscheibenhernie NNB', '3', 'O', '', '']\n",
      "['C0242362', 'GER', 'S', 'L5957117', 'PF', 'S6839546', 'Y', 'A25913966', '', '', '10050296', 'MDRGER', 'LLT', '10036849', 'Vorfall einer Bandscheibe NNB', '3', 'N', '', '']\n",
      "['C0242362', 'GER', 'S', 'L5972286', 'PF', 'S6854715', 'Y', 'A26113835', '', '', '10050296', 'MDRGER', 'LLT', '10041026', 'verlagerte Bandscheibe', '3', 'N', '', '']\n",
      "['C0242362', 'GER', 'S', 'L6515578', 'PF', 'S7589535', 'Y', 'A26017605', '', '', '10050296', 'MDRGER', 'LLT', '10067104', 'Bandscheibenvorwoelbung', '3', 'N', '', '']\n",
      "110121\n"
     ]
    }
   ],
   "source": [
    "### load wumls and english names\n",
    "wumls_file = '/home/tim/MedicalLay/WUMLS/MRCONSO_WUMLS_GER.RRF'\n",
    "\n",
    "cuis = set()\n",
    "with open(wumls_file, newline='\\n') as csvfile:\n",
    "    spamreader = csv.reader(csvfile, delimiter='|')\n",
    "    for row in spamreader:\n",
    "        cui = row[0]\n",
    "        cuis.add(cui)\n",
    "        if cui == \"C0242362\":\n",
    "            print(row)\n",
    "\n",
    "print(len(cuis))"
   ],
   "metadata": {
    "collapsed": false,
    "ExecuteTime": {
     "end_time": "2023-06-01T16:15:14.670695931Z",
     "start_time": "2023-06-01T16:15:14.120325465Z"
    }
   }
  },
  {
   "cell_type": "code",
   "execution_count": 17,
   "outputs": [],
   "source": [
    "import sqlite3\n",
    "\n",
    "db_path = \"/home/tim/PycharmProjects/py-umls/databases/umls.db\"\n",
    "db = sqlite3.connect(db_path)\n",
    "cur = db.cursor()"
   ],
   "metadata": {
    "collapsed": false,
    "ExecuteTime": {
     "end_time": "2023-06-01T16:17:07.872106516Z",
     "start_time": "2023-06-01T16:17:07.858591958Z"
    }
   }
  },
  {
   "cell_type": "code",
   "execution_count": 18,
   "outputs": [
    {
     "name": "stdout",
     "output_type": "stream",
     "text": [
      "('C0000005', 'ENG', 'MSH', 'PEP', '(131)I-Macroaggregated Albumin', 'T116|T121|T130')\n",
      "('C0000039', 'ENG', 'MTH', 'PN', '1,2-dipalmitoylphosphatidylcholine', 'T109|T121')\n",
      "('C0000039', 'ENG', 'MSH', 'MH', '1,2-Dipalmitoylphosphatidylcholine', 'T109|T121')\n",
      "('C0000039', 'ENG', 'MSH', 'PM', '1,2 Dipalmitoylphosphatidylcholine', 'T109|T121')\n",
      "('C0000052', 'ENG', 'MTH', 'PN', '1,4-alpha-Glucan Branching Enzyme', 'T116|T126')\n"
     ]
    }
   ],
   "source": [
    "for res in cur.execute(\"SELECT * FROM descriptions WHERE LAT = 'ENG' LIMIT 5\"):\n",
    "    print(res)"
   ],
   "metadata": {
    "collapsed": false,
    "ExecuteTime": {
     "end_time": "2023-06-01T16:17:09.294581167Z",
     "start_time": "2023-06-01T16:17:09.283576847Z"
    }
   }
  },
  {
   "cell_type": "code",
   "execution_count": 19,
   "outputs": [
    {
     "name": "stderr",
     "output_type": "stream",
     "text": [
      "100%|██████████| 110121/110121 [00:02<00:00, 42505.20it/s]"
     ]
    },
    {
     "name": "stdout",
     "output_type": "stream",
     "text": [
      "574 not found from 110121\n"
     ]
    },
    {
     "name": "stderr",
     "output_type": "stream",
     "text": [
      "\n"
     ]
    }
   ],
   "source": [
    "cui = \"C0005903\"\n",
    "def get_prefered_name_of_cui(cuis):\n",
    "    cui_names_mapping = {}\n",
    "    not_found = 0\n",
    "    for identifier in tqdm(cuis):\n",
    "        sql = f\"SELECT STR FROM descriptions WHERE CUI = ? ORDER BY CASE WHEN SAB = 'MTH' THEN 1 WHEN SAB = 'SNOMEDCT' THEN 2  WHEN SAB = 'MSH' THEN 3 ELSE 4 END LIMIT 1\"\n",
    "        \n",
    "        try:\n",
    "            res = next(cur.execute(sql, (identifier,)))[0]\n",
    "            cui_names_mapping[identifier] = res\n",
    "        except StopIteration:\n",
    "            # print('Search term ' + \"'\" + str(identifier) + \"'\" + ' not found')\n",
    "            not_found += 1\n",
    "    print(f\"{not_found} not found from {len(cuis)}\")\n",
    "    return cui_names_mapping\n",
    "\n",
    "cui_names_mapping = get_prefered_name_of_cui(cuis)"
   ],
   "metadata": {
    "collapsed": false,
    "ExecuteTime": {
     "end_time": "2023-06-01T16:17:12.431172870Z",
     "start_time": "2023-06-01T16:17:09.817484460Z"
    }
   }
  },
  {
   "cell_type": "code",
   "execution_count": 20,
   "outputs": [
    {
     "name": "stderr",
     "output_type": "stream",
     "text": [
      "100%|██████████| 1/1 [00:00<00:00, 1046.22it/s]"
     ]
    },
    {
     "name": "stdout",
     "output_type": "stream",
     "text": [
      "1 not found from 1\n"
     ]
    },
    {
     "name": "stderr",
     "output_type": "stream",
     "text": [
      "\n"
     ]
    },
    {
     "data": {
      "text/plain": "{}"
     },
     "execution_count": 20,
     "metadata": {},
     "output_type": "execute_result"
    }
   ],
   "source": [
    "get_prefered_name_of_cui([\"C0242362\"])"
   ],
   "metadata": {
    "collapsed": false,
    "ExecuteTime": {
     "end_time": "2023-06-01T16:17:21.308808017Z",
     "start_time": "2023-06-01T16:17:21.254678498Z"
    }
   }
  },
  {
   "cell_type": "code",
   "execution_count": 10,
   "outputs": [],
   "source": [
    "concept_cuis, concept_names = zip(*cui_names_mapping.items())"
   ],
   "metadata": {
    "collapsed": false,
    "ExecuteTime": {
     "end_time": "2023-06-01T11:52:01.561187480Z",
     "start_time": "2023-06-01T11:52:01.513319576Z"
    }
   }
  },
  {
   "cell_type": "code",
   "execution_count": 12,
   "outputs": [],
   "source": [
    "with open(TLCPaths.project_data_path.joinpath(\"english_wumls.csv\"),\"w\", newline=\"\") as f:\n",
    "    spamwriter = csv.writer(f, delimiter=' ',\n",
    "                            quotechar='|', quoting=csv.QUOTE_MINIMAL)\n",
    "    for cui, name in cui_names_mapping.items():\n",
    "        spamwriter.writerow([cui, name])"
   ],
   "metadata": {
    "collapsed": false,
    "ExecuteTime": {
     "end_time": "2023-06-01T11:52:58.443135745Z",
     "start_time": "2023-06-01T11:52:58.301005041Z"
    }
   }
  },
  {
   "cell_type": "code",
   "execution_count": null,
   "outputs": [],
   "source": [],
   "metadata": {
    "collapsed": false
   }
  }
 ],
 "metadata": {
  "kernelspec": {
   "display_name": "Python 3",
   "language": "python",
   "name": "python3"
  },
  "language_info": {
   "codemirror_mode": {
    "name": "ipython",
    "version": 2
   },
   "file_extension": ".py",
   "mimetype": "text/x-python",
   "name": "python",
   "nbconvert_exporter": "python",
   "pygments_lexer": "ipython2",
   "version": "2.7.6"
  }
 },
 "nbformat": 4,
 "nbformat_minor": 0
}
