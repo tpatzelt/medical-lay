{
  "cells": [
    {
      "cell_type": "code",
      "source": [
        "!cat /proc/cpuinfo\n",
        "!cat /proc/meminfo\n",
        "!nvidia-smi"
      ],
      "metadata": {
        "colab": {
          "base_uri": "https://localhost:8080/"
        },
        "id": "VU1c6AHEwYku",
        "outputId": "e7a0389b-6e97-483b-fdd9-eeafaa4eda38"
      },
      "execution_count": null,
      "outputs": [
        {
          "output_type": "stream",
          "name": "stdout",
          "text": [
            "processor\t: 0\n",
            "vendor_id\t: GenuineIntel\n",
            "cpu family\t: 6\n",
            "model\t\t: 79\n",
            "model name\t: Intel(R) Xeon(R) CPU @ 2.20GHz\n",
            "stepping\t: 0\n",
            "microcode\t: 0xffffffff\n",
            "cpu MHz\t\t: 2199.998\n",
            "cache size\t: 56320 KB\n",
            "physical id\t: 0\n",
            "siblings\t: 4\n",
            "core id\t\t: 0\n",
            "cpu cores\t: 2\n",
            "apicid\t\t: 0\n",
            "initial apicid\t: 0\n",
            "fpu\t\t: yes\n",
            "fpu_exception\t: yes\n",
            "cpuid level\t: 13\n",
            "wp\t\t: yes\n",
            "flags\t\t: fpu vme de pse tsc msr pae mce cx8 apic sep mtrr pge mca cmov pat pse36 clflush mmx fxsr sse sse2 ss ht syscall nx pdpe1gb rdtscp lm constant_tsc rep_good nopl xtopology nonstop_tsc cpuid tsc_known_freq pni pclmulqdq ssse3 fma cx16 pcid sse4_1 sse4_2 x2apic movbe popcnt aes xsave avx f16c rdrand hypervisor lahf_lm abm 3dnowprefetch invpcid_single ssbd ibrs ibpb stibp fsgsbase tsc_adjust bmi1 hle avx2 smep bmi2 erms invpcid rtm rdseed adx smap xsaveopt arat md_clear arch_capabilities\n",
            "bugs\t\t: cpu_meltdown spectre_v1 spectre_v2 spec_store_bypass l1tf mds swapgs taa mmio_stale_data retbleed\n",
            "bogomips\t: 4399.99\n",
            "clflush size\t: 64\n",
            "cache_alignment\t: 64\n",
            "address sizes\t: 46 bits physical, 48 bits virtual\n",
            "power management:\n",
            "\n",
            "processor\t: 1\n",
            "vendor_id\t: GenuineIntel\n",
            "cpu family\t: 6\n",
            "model\t\t: 79\n",
            "model name\t: Intel(R) Xeon(R) CPU @ 2.20GHz\n",
            "stepping\t: 0\n",
            "microcode\t: 0xffffffff\n",
            "cpu MHz\t\t: 2199.998\n",
            "cache size\t: 56320 KB\n",
            "physical id\t: 0\n",
            "siblings\t: 4\n",
            "core id\t\t: 1\n",
            "cpu cores\t: 2\n",
            "apicid\t\t: 2\n",
            "initial apicid\t: 2\n",
            "fpu\t\t: yes\n",
            "fpu_exception\t: yes\n",
            "cpuid level\t: 13\n",
            "wp\t\t: yes\n",
            "flags\t\t: fpu vme de pse tsc msr pae mce cx8 apic sep mtrr pge mca cmov pat pse36 clflush mmx fxsr sse sse2 ss ht syscall nx pdpe1gb rdtscp lm constant_tsc rep_good nopl xtopology nonstop_tsc cpuid tsc_known_freq pni pclmulqdq ssse3 fma cx16 pcid sse4_1 sse4_2 x2apic movbe popcnt aes xsave avx f16c rdrand hypervisor lahf_lm abm 3dnowprefetch invpcid_single ssbd ibrs ibpb stibp fsgsbase tsc_adjust bmi1 hle avx2 smep bmi2 erms invpcid rtm rdseed adx smap xsaveopt arat md_clear arch_capabilities\n",
            "bugs\t\t: cpu_meltdown spectre_v1 spectre_v2 spec_store_bypass l1tf mds swapgs taa mmio_stale_data retbleed\n",
            "bogomips\t: 4399.99\n",
            "clflush size\t: 64\n",
            "cache_alignment\t: 64\n",
            "address sizes\t: 46 bits physical, 48 bits virtual\n",
            "power management:\n",
            "\n",
            "processor\t: 2\n",
            "vendor_id\t: GenuineIntel\n",
            "cpu family\t: 6\n",
            "model\t\t: 79\n",
            "model name\t: Intel(R) Xeon(R) CPU @ 2.20GHz\n",
            "stepping\t: 0\n",
            "microcode\t: 0xffffffff\n",
            "cpu MHz\t\t: 2199.998\n",
            "cache size\t: 56320 KB\n",
            "physical id\t: 0\n",
            "siblings\t: 4\n",
            "core id\t\t: 0\n",
            "cpu cores\t: 2\n",
            "apicid\t\t: 1\n",
            "initial apicid\t: 1\n",
            "fpu\t\t: yes\n",
            "fpu_exception\t: yes\n",
            "cpuid level\t: 13\n",
            "wp\t\t: yes\n",
            "flags\t\t: fpu vme de pse tsc msr pae mce cx8 apic sep mtrr pge mca cmov pat pse36 clflush mmx fxsr sse sse2 ss ht syscall nx pdpe1gb rdtscp lm constant_tsc rep_good nopl xtopology nonstop_tsc cpuid tsc_known_freq pni pclmulqdq ssse3 fma cx16 pcid sse4_1 sse4_2 x2apic movbe popcnt aes xsave avx f16c rdrand hypervisor lahf_lm abm 3dnowprefetch invpcid_single ssbd ibrs ibpb stibp fsgsbase tsc_adjust bmi1 hle avx2 smep bmi2 erms invpcid rtm rdseed adx smap xsaveopt arat md_clear arch_capabilities\n",
            "bugs\t\t: cpu_meltdown spectre_v1 spectre_v2 spec_store_bypass l1tf mds swapgs taa mmio_stale_data retbleed\n",
            "bogomips\t: 4399.99\n",
            "clflush size\t: 64\n",
            "cache_alignment\t: 64\n",
            "address sizes\t: 46 bits physical, 48 bits virtual\n",
            "power management:\n",
            "\n",
            "processor\t: 3\n",
            "vendor_id\t: GenuineIntel\n",
            "cpu family\t: 6\n",
            "model\t\t: 79\n",
            "model name\t: Intel(R) Xeon(R) CPU @ 2.20GHz\n",
            "stepping\t: 0\n",
            "microcode\t: 0xffffffff\n",
            "cpu MHz\t\t: 2199.998\n",
            "cache size\t: 56320 KB\n",
            "physical id\t: 0\n",
            "siblings\t: 4\n",
            "core id\t\t: 1\n",
            "cpu cores\t: 2\n",
            "apicid\t\t: 3\n",
            "initial apicid\t: 3\n",
            "fpu\t\t: yes\n",
            "fpu_exception\t: yes\n",
            "cpuid level\t: 13\n",
            "wp\t\t: yes\n",
            "flags\t\t: fpu vme de pse tsc msr pae mce cx8 apic sep mtrr pge mca cmov pat pse36 clflush mmx fxsr sse sse2 ss ht syscall nx pdpe1gb rdtscp lm constant_tsc rep_good nopl xtopology nonstop_tsc cpuid tsc_known_freq pni pclmulqdq ssse3 fma cx16 pcid sse4_1 sse4_2 x2apic movbe popcnt aes xsave avx f16c rdrand hypervisor lahf_lm abm 3dnowprefetch invpcid_single ssbd ibrs ibpb stibp fsgsbase tsc_adjust bmi1 hle avx2 smep bmi2 erms invpcid rtm rdseed adx smap xsaveopt arat md_clear arch_capabilities\n",
            "bugs\t\t: cpu_meltdown spectre_v1 spectre_v2 spec_store_bypass l1tf mds swapgs taa mmio_stale_data retbleed\n",
            "bogomips\t: 4399.99\n",
            "clflush size\t: 64\n",
            "cache_alignment\t: 64\n",
            "address sizes\t: 46 bits physical, 48 bits virtual\n",
            "power management:\n",
            "\n",
            "MemTotal:       26687688 kB\n",
            "MemFree:        21928472 kB\n",
            "MemAvailable:   25608228 kB\n",
            "Buffers:          362876 kB\n",
            "Cached:          3588520 kB\n",
            "SwapCached:            0 kB\n",
            "Active:           684980 kB\n",
            "Inactive:        3737656 kB\n",
            "Active(anon):       1224 kB\n",
            "Inactive(anon):   471456 kB\n",
            "Active(file):     683756 kB\n",
            "Inactive(file):  3266200 kB\n",
            "Unevictable:          12 kB\n",
            "Mlocked:              12 kB\n",
            "SwapTotal:             0 kB\n",
            "SwapFree:              0 kB\n",
            "Dirty:              4044 kB\n",
            "Writeback:             0 kB\n",
            "AnonPages:        470428 kB\n",
            "Mapped:           328952 kB\n",
            "Shmem:              1440 kB\n",
            "KReclaimable:     104992 kB\n",
            "Slab:             149316 kB\n",
            "SReclaimable:     104992 kB\n",
            "SUnreclaim:        44324 kB\n",
            "KernelStack:        6272 kB\n",
            "PageTables:         7276 kB\n",
            "NFS_Unstable:          0 kB\n",
            "Bounce:                0 kB\n",
            "WritebackTmp:          0 kB\n",
            "CommitLimit:    13343844 kB\n",
            "Committed_AS:    2852044 kB\n",
            "VmallocTotal:   34359738367 kB\n",
            "VmallocUsed:       74220 kB\n",
            "VmallocChunk:          0 kB\n",
            "Percpu:             2592 kB\n",
            "HardwareCorrupted:     0 kB\n",
            "AnonHugePages:     22528 kB\n",
            "ShmemHugePages:        0 kB\n",
            "ShmemPmdMapped:        0 kB\n",
            "FileHugePages:         0 kB\n",
            "FilePmdMapped:         0 kB\n",
            "CmaTotal:              0 kB\n",
            "CmaFree:               0 kB\n",
            "HugePages_Total:       0\n",
            "HugePages_Free:        0\n",
            "HugePages_Rsvd:        0\n",
            "HugePages_Surp:        0\n",
            "Hugepagesize:       2048 kB\n",
            "Hugetlb:               0 kB\n",
            "DirectMap4k:      168760 kB\n",
            "DirectMap2M:     2973696 kB\n",
            "DirectMap1G:    26214400 kB\n",
            "Thu Jul 20 10:04:58 2023       \n",
            "+-----------------------------------------------------------------------------+\n",
            "| NVIDIA-SMI 525.105.17   Driver Version: 525.105.17   CUDA Version: 12.0     |\n",
            "|-------------------------------+----------------------+----------------------+\n",
            "| GPU  Name        Persistence-M| Bus-Id        Disp.A | Volatile Uncorr. ECC |\n",
            "| Fan  Temp  Perf  Pwr:Usage/Cap|         Memory-Usage | GPU-Util  Compute M. |\n",
            "|                               |                      |               MIG M. |\n",
            "|===============================+======================+======================|\n",
            "|   0  Tesla V100-SXM2...  Off  | 00000000:00:04.0 Off |                    0 |\n",
            "| N/A   40C    P0    25W / 300W |      0MiB / 16384MiB |      0%      Default |\n",
            "|                               |                      |                  N/A |\n",
            "+-------------------------------+----------------------+----------------------+\n",
            "                                                                               \n",
            "+-----------------------------------------------------------------------------+\n",
            "| Processes:                                                                  |\n",
            "|  GPU   GI   CI        PID   Type   Process name                  GPU Memory |\n",
            "|        ID   ID                                                   Usage      |\n",
            "|=============================================================================|\n",
            "|  No running processes found                                                 |\n",
            "+-----------------------------------------------------------------------------+\n"
          ]
        }
      ]
    },
    {
      "cell_type": "code",
      "execution_count": null,
      "metadata": {
        "colab": {
          "base_uri": "https://localhost:8080/"
        },
        "id": "ksB_Yo2N_h7m",
        "outputId": "889974f5-1d1a-4562-c598-99d96e00e64d"
      },
      "outputs": [
        {
          "output_type": "stream",
          "name": "stdout",
          "text": [
            "Collecting transformers\n",
            "  Downloading transformers-4.31.0-py3-none-any.whl (7.4 MB)\n",
            "\u001b[2K     \u001b[90m━━━━━━━━━━━━━━━━━━━━━━━━━━━━━━━━━━━━━━━━\u001b[0m \u001b[32m7.4/7.4 MB\u001b[0m \u001b[31m20.2 MB/s\u001b[0m eta \u001b[36m0:00:00\u001b[0m\n",
            "\u001b[?25hCollecting sentencepiece\n",
            "  Downloading sentencepiece-0.1.99-cp310-cp310-manylinux_2_17_x86_64.manylinux2014_x86_64.whl (1.3 MB)\n",
            "\u001b[2K     \u001b[90m━━━━━━━━━━━━━━━━━━━━━━━━━━━━━━━━━━━━━━━━\u001b[0m \u001b[32m1.3/1.3 MB\u001b[0m \u001b[31m34.0 MB/s\u001b[0m eta \u001b[36m0:00:00\u001b[0m\n",
            "\u001b[?25hTraceback (most recent call last):\n",
            "  File \"/usr/local/lib/python3.10/dist-packages/pip/_vendor/pkg_resources/__init__.py\", line 3108, in _dep_map\n",
            "    return self.__dep_map\n",
            "  File \"/usr/local/lib/python3.10/dist-packages/pip/_vendor/pkg_resources/__init__.py\", line 2901, in __getattr__\n",
            "    raise AttributeError(attr)\n",
            "AttributeError: _DistInfoDistribution__dep_map\n",
            "\n",
            "During handling of the above exception, another exception occurred:\n",
            "\n",
            "Traceback (most recent call last):\n",
            "  File \"/usr/local/lib/python3.10/dist-packages/pip/_internal/cli/base_command.py\", line 169, in exc_logging_wrapper\n",
            "    status = run_func(*args)\n",
            "  File \"/usr/local/lib/python3.10/dist-packages/pip/_internal/cli/req_command.py\", line 242, in wrapper\n",
            "    return func(self, options, args)\n",
            "  File \"/usr/local/lib/python3.10/dist-packages/pip/_internal/commands/install.py\", line 377, in run\n",
            "    requirement_set = resolver.resolve(\n",
            "  File \"/usr/local/lib/python3.10/dist-packages/pip/_internal/resolution/resolvelib/resolver.py\", line 92, in resolve\n",
            "    result = self._result = resolver.resolve(\n",
            "  File \"/usr/local/lib/python3.10/dist-packages/pip/_vendor/resolvelib/resolvers.py\", line 546, in resolve\n",
            "    state = resolution.resolve(requirements, max_rounds=max_rounds)\n",
            "  File \"/usr/local/lib/python3.10/dist-packages/pip/_vendor/resolvelib/resolvers.py\", line 427, in resolve\n",
            "    failure_causes = self._attempt_to_pin_criterion(name)\n",
            "  File \"/usr/local/lib/python3.10/dist-packages/pip/_vendor/resolvelib/resolvers.py\", line 239, in _attempt_to_pin_criterion\n",
            "    criteria = self._get_updated_criteria(candidate)\n",
            "  File \"/usr/local/lib/python3.10/dist-packages/pip/_vendor/resolvelib/resolvers.py\", line 229, in _get_updated_criteria\n",
            "    for requirement in self._p.get_dependencies(candidate=candidate):\n",
            "  File \"/usr/local/lib/python3.10/dist-packages/pip/_internal/resolution/resolvelib/provider.py\", line 244, in get_dependencies\n",
            "    return [r for r in candidate.iter_dependencies(with_requires) if r is not None]\n",
            "  File \"/usr/local/lib/python3.10/dist-packages/pip/_internal/resolution/resolvelib/provider.py\", line 244, in <listcomp>\n",
            "    return [r for r in candidate.iter_dependencies(with_requires) if r is not None]\n",
            "  File \"/usr/local/lib/python3.10/dist-packages/pip/_internal/resolution/resolvelib/candidates.py\", line 241, in iter_dependencies\n",
            "    requires = self.dist.iter_dependencies() if with_requires else ()\n",
            "  File \"/usr/local/lib/python3.10/dist-packages/pip/_internal/metadata/pkg_resources.py\", line 216, in iter_dependencies\n",
            "    return self._dist.requires(extras)\n",
            "  File \"/usr/local/lib/python3.10/dist-packages/pip/_vendor/pkg_resources/__init__.py\", line 2821, in requires\n",
            "    dm = self._dep_map\n",
            "  File \"/usr/local/lib/python3.10/dist-packages/pip/_vendor/pkg_resources/__init__.py\", line 3110, in _dep_map\n",
            "    self.__dep_map = self._compute_dependencies()\n",
            "  File \"/usr/local/lib/python3.10/dist-packages/pip/_vendor/pkg_resources/__init__.py\", line 3132, in _compute_dependencies\n",
            "    dm[s_extra] = [r for r in reqs_for_extra(extra) if r not in common]\n",
            "  File \"/usr/local/lib/python3.10/dist-packages/pip/_vendor/pkg_resources/__init__.py\", line 3132, in <listcomp>\n",
            "    dm[s_extra] = [r for r in reqs_for_extra(extra) if r not in common]\n",
            "  File \"/usr/local/lib/python3.10/dist-packages/pip/_vendor/pkg_resources/__init__.py\", line 3124, in reqs_for_extra\n",
            "    if not req.marker or req.marker.evaluate({'extra': extra}):\n",
            "  File \"/usr/local/lib/python3.10/dist-packages/pip/_vendor/packaging/markers.py\", line 300, in evaluate\n",
            "    current_environment = default_environment()\n",
            "  File \"/usr/local/lib/python3.10/dist-packages/pip/_vendor/packaging/markers.py\", line 269, in default_environment\n",
            "    \"platform_python_implementation\": platform.python_implementation(),\n",
            "  File \"/usr/lib/python3.10/platform.py\", line 1104, in python_implementation\n",
            "    return _sys_version()[0]\n",
            "  File \"/usr/lib/python3.10/platform.py\", line 1014, in _sys_version\n",
            "    result = _sys_version_cache.get(sys_version, None)\n",
            "KeyboardInterrupt\n",
            "\n",
            "During handling of the above exception, another exception occurred:\n",
            "\n",
            "Traceback (most recent call last):\n",
            "  File \"/usr/lib/python3.10/logging/__init__.py\", line 1732, in isEnabledFor\n",
            "    return self._cache[level]\n",
            "KeyError: 50\n",
            "\n",
            "During handling of the above exception, another exception occurred:\n",
            "\n",
            "Traceback (most recent call last):\n",
            "  File \"/usr/local/bin/pip3\", line 8, in <module>\n",
            "    sys.exit(main())\n",
            "  File \"/usr/local/lib/python3.10/dist-packages/pip/_internal/cli/main.py\", line 79, in main\n",
            "    return command.main(cmd_args)\n",
            "  File \"/usr/local/lib/python3.10/dist-packages/pip/_internal/cli/base_command.py\", line 101, in main\n",
            "    return self._main(args)\n",
            "  File \"/usr/local/lib/python3.10/dist-packages/pip/_internal/cli/base_command.py\", line 223, in _main\n",
            "    return run(options, args)\n",
            "  File \"/usr/local/lib/python3.10/dist-packages/pip/_internal/cli/base_command.py\", line 206, in exc_logging_wrapper\n",
            "    logger.critical(\"Operation cancelled by user\")\n",
            "  File \"/usr/lib/python3.10/logging/__init__.py\", line 1523, in critical\n",
            "    if self.isEnabledFor(CRITICAL):\n",
            "  File \"/usr/lib/python3.10/logging/__init__.py\", line 1743, in isEnabledFor\n",
            "    _releaseLock()\n",
            "  File \"/usr/lib/python3.10/logging/__init__.py\", line 228, in _releaseLock\n",
            "    def _releaseLock():\n",
            "KeyboardInterrupt\n",
            "^C\n"
          ]
        }
      ],
      "source": [
        "!pip install transformers sentencepiece\n"
      ]
    },
    {
      "cell_type": "code",
      "execution_count": null,
      "metadata": {
        "id": "JIMIADfjBqz2"
      },
      "outputs": [],
      "source": [
        "import csv\n",
        "from transformers import AutoTokenizer, AutoModel\n",
        "from tqdm import tqdm\n",
        "import numpy as np\n",
        "from scipy.spatial.distance import cdist\n",
        "import matplotlib.pyplot as plt\n",
        "from pathlib import Path\n",
        "import json\n",
        "\n"
      ]
    },
    {
      "cell_type": "code",
      "execution_count": null,
      "metadata": {
        "id": "U825tCklIijj"
      },
      "outputs": [],
      "source": [
        "tokenizer = AutoTokenizer.from_pretrained(\"cambridgeltl/SapBERT-UMLS-2020AB-all-lang-from-XLMR-large\")\n",
        "model = AutoModel.from_pretrained(\"cambridgeltl/SapBERT-UMLS-2020AB-all-lang-from-XLMR-large\").cuda(0)"
      ]
    },
    {
      "cell_type": "markdown",
      "metadata": {
        "id": "rVW2pHFLAftq"
      },
      "source": [
        "embed target concepts"
      ]
    },
    {
      "cell_type": "code",
      "execution_count": null,
      "metadata": {
        "id": "ixQxATg8AU7F"
      },
      "outputs": [],
      "source": [
        "\n",
        "concept_names, concept_cuis = [], []\n",
        "with open(\"drive/MyDrive/medical-lay/input/german_umls_names_and_cuis.csv\", newline='') as csvfile:\n",
        "    reader = csv.reader(csvfile, delimiter=' ', quotechar='|')\n",
        "    for row in reader:\n",
        "      assert len(row)== 2\n",
        "      concept_cuis.append(row[0])\n",
        "      concept_names.append(row[1].strip())\n",
        "concept_names = np.array(concept_names)\n",
        "concept_cuis = np.array(concept_cuis)"
      ]
    },
    {
      "cell_type": "code",
      "execution_count": null,
      "metadata": {
        "colab": {
          "base_uri": "https://localhost:8080/",
          "height": 450
        },
        "id": "B3JChKqC0cJg",
        "outputId": "2ef4cd80-0dce-4894-8927-91283449075e"
      },
      "outputs": [
        {
          "output_type": "stream",
          "name": "stdout",
          "text": [
            "88 3 11.513554349259373\n"
          ]
        },
        {
          "output_type": "display_data",
          "data": {
            "text/plain": [
              "<Figure size 640x480 with 1 Axes>"
            ],
            "image/png": "[encoded data removed]"
          },
          "metadata": {}
        }
      ],
      "source": [
        "concept_token_lengths = [len(tokenizer.encode(c)) for c in concept_names]\n",
        "print(max(concept_token_lengths), min(concept_token_lengths), np.mean(concept_token_lengths))\n",
        "plt.hist(concept_token_lengths)\n",
        "plt.show()"
      ]
    },
    {
      "cell_type": "code",
      "source": [
        "with open(\"drive/MyDrive/medical-lay/concept_token_lens.json\", \"w\") as fp:\n",
        "  json.dump(concept_token_lengths, fp)"
      ],
      "metadata": {
        "id": "7KdwR-3Qh1YP"
      },
      "execution_count": null,
      "outputs": []
    },
    {
      "cell_type": "code",
      "source": [],
      "metadata": {
        "id": "_dp5YpqUh1da"
      },
      "execution_count": null,
      "outputs": []
    },
    {
      "cell_type": "code",
      "execution_count": null,
      "metadata": {
        "colab": {
          "base_uri": "https://localhost:8080/"
        },
        "id": "aBRza9WNBey5",
        "outputId": "bc6d6ac2-a2a2-4b1b-8476-9ad1a8a81222"
      },
      "outputs": [
        {
          "output_type": "stream",
          "name": "stderr",
          "text": [
            "100%|██████████| 2844/2844 [12:36<00:00,  3.76it/s]\n"
          ]
        }
      ],
      "source": [
        "\n",
        "cls_index_file = Path(\"drive/MyDrive/medical-lay/embeddings/SAPBERT_XMLR_large_umls_search_index_cls_token\")\n",
        "mean_all_index_file = Path(\"drive/MyDrive/medical-lay/embeddings/SAPBERT_XMLR_large_umls_search_index_mean_token\")\n",
        "mean_no_cls_index_file = Path(\"drive/MyDrive/medical-lay/embeddings/SAPBERT_XMLR_large_umls_search_index_mean_no_cls_token\")\n",
        "\n",
        "bs = 64\n",
        "MAX_LENGTH = 50\n",
        "\n",
        "cls_reps = []\n",
        "mean_reps = []\n",
        "mean_no_cls_reps = []\n",
        "file_idx = 0\n",
        "batch_idx = np.arange(0, len(concept_names), bs)\n",
        "for i in tqdm(batch_idx):\n",
        "    toks = tokenizer.batch_encode_plus(concept_names.tolist()[i:i+bs],\n",
        "                                        padding=\"max_length\",\n",
        "                                        max_length=MAX_LENGTH,\n",
        "                                        truncation=True,\n",
        "                                        return_tensors=\"pt\")\n",
        "    toks_cuda = {}\n",
        "    for k,v in toks.items():\n",
        "        toks_cuda[k] = v.cuda(0)\n",
        "    output = model(**toks_cuda)\n",
        "\n",
        "    output = (output['last_hidden_state'].cpu().permute(2,0,1) * toks.attention_mask).permute(1,2,0)\n",
        "    cls_rep = output[:,0,:].cpu().detach().numpy()\n",
        "    mean_rep = output.mean(axis=1).cpu().detach().numpy()\n",
        "    mean_no_cls_rep = output[:,1:,:].mean(axis=1).cpu().detach().numpy()\n",
        "    del output\n",
        "\n",
        "    cls_reps.append(cls_rep)\n",
        "    mean_reps.append(mean_rep)\n",
        "    mean_no_cls_reps.append(mean_no_cls_rep)\n",
        "\n",
        "    if (i% (bs*750) == 0  and i != 0) or i == batch_idx[-1]:\n",
        "      cls_reps = np.concatenate(cls_reps, axis=0)\n",
        "      mean_reps = np.concatenate(mean_reps, axis=0)\n",
        "      mean_no_cls_reps = np.concatenate(mean_no_cls_reps, axis=0)\n",
        "\n",
        "      np.save(str(cls_index_file) + f\"_{file_idx}.npy\", cls_reps)\n",
        "      np.save(str(mean_all_index_file) + f\"_{file_idx}.npy\", mean_reps)\n",
        "      np.save(str(mean_no_cls_index_file) + f\"_{file_idx}.npy\", mean_no_cls_reps)\n",
        "      file_idx += 1\n",
        "      cls_reps = []\n",
        "      mean_reps = []\n",
        "      mean_no_cls_reps = []"
      ]
    },
    {
      "cell_type": "markdown",
      "metadata": {
        "id": "i7G1iSlsAjHB"
      },
      "source": [
        "embed mentions\n",
        "1. mention\n",
        "2. mention within sentence"
      ]
    },
    {
      "cell_type": "code",
      "execution_count": null,
      "metadata": {
        "id": "TeHScTppAFvU"
      },
      "outputs": [],
      "source": [
        "\n",
        "with open(\"drive/MyDrive/medical-lay/input/TLC_UMLS.json\", \"r\") as f:\n",
        "    data = json.load(f)\n",
        "    X = [entry[\"mention\"] for entry in data]\n",
        "    X_sent = [entry[\"mention_sentence\"].strip() for entry in data]\n",
        "    X_sent_mention_offsets = [entry[\"mention_sentence_spans\"] for entry in data]\n",
        "    Y = [entry[\"cui\"] for entry in data]"
      ]
    },
    {
      "cell_type": "code",
      "execution_count": null,
      "metadata": {
        "colab": {
          "base_uri": "https://localhost:8080/"
        },
        "id": "pIZ2cMqC6F1d",
        "outputId": "0e6d5ca6-4108-40a2-a6dc-08266ce2d6ff"
      },
      "outputs": [
        {
          "output_type": "execute_result",
          "data": {
            "text/plain": [
              "6228"
            ]
          },
          "metadata": {},
          "execution_count": 10
        }
      ],
      "source": [
        "len(X)"
      ]
    },
    {
      "cell_type": "code",
      "execution_count": null,
      "metadata": {
        "colab": {
          "base_uri": "https://localhost:8080/",
          "height": 448
        },
        "id": "c4_3fx96FOT3",
        "outputId": "0b1280d0-d8ec-4aad-9d1a-a99d21e173fa"
      },
      "outputs": [
        {
          "output_type": "stream",
          "name": "stdout",
          "text": [
            "20 3 5.8956326268465\n"
          ]
        },
        {
          "output_type": "display_data",
          "data": {
            "text/plain": [
              "<Figure size 640x480 with 1 Axes>"
            ],
            "image/png": "[encoded data removed]"
          },
          "metadata": {}
        }
      ],
      "source": [
        "concept_token_lengths = [len(tokenizer.encode(c)) for c in X]\n",
        "print(max(concept_token_lengths), min(concept_token_lengths), np.mean(concept_token_lengths))\n",
        "plt.hist(concept_token_lengths)\n",
        "plt.show()"
      ]
    },
    {
      "cell_type": "code",
      "source": [
        "with open(\"drive/MyDrive/medical-lay/mention_token_lens.json\", \"w\") as fp:\n",
        "  json.dump(concept_token_lengths, fp)"
      ],
      "metadata": {
        "id": "wdLkliHHijXj"
      },
      "execution_count": null,
      "outputs": []
    },
    {
      "cell_type": "code",
      "execution_count": null,
      "metadata": {
        "colab": {
          "base_uri": "https://localhost:8080/"
        },
        "id": "-PVCSb1Q9fcc",
        "outputId": "0b8064e1-a108-43e7-f17c-c554d8f4416b"
      },
      "outputs": [
        {
          "output_type": "stream",
          "name": "stderr",
          "text": [
            "100%|██████████| 49/49 [00:06<00:00,  7.57it/s]\n"
          ]
        }
      ],
      "source": [
        "mention_embedding = []\n",
        "\n",
        "MAX_LENGTH = 18\n",
        "batch_size = 128\n",
        "for i in tqdm(np.arange(0, len(X), batch_size)):\n",
        "  toks = tokenizer.batch_encode_plus(X[i:i+batch_size],\n",
        "                                       padding=\"max_length\",\n",
        "                                       max_length=MAX_LENGTH,\n",
        "                                       truncation=True,\n",
        "                                       return_tensors=\"pt\")\n",
        "  toks_cuda = {}\n",
        "  for k,v in toks.items():\n",
        "      toks_cuda[k] = v.cuda(0)\n",
        "  output = model(**toks_cuda)\n",
        "  #output = (output['last_hidden_state'].cpu().permute(2,0,1) * toks.attention_mask).permute(1,2,0)\n",
        "  output = output[0]\n",
        "  mention_embedding.append(output.cpu().detach().numpy())\n",
        "  del output\n",
        "\n",
        "mention_embedding_file = Path(\"drive/MyDrive/medical-lay/embeddings/SAPBERT_XMLR_large_mention_embedding.npy\")\n",
        "np.save(mention_embedding_file, np.concatenate(mention_embedding))\n",
        "\n",
        "\n"
      ]
    },
    {
      "cell_type": "markdown",
      "metadata": {
        "id": "4Y2McgOzVTfW"
      },
      "source": [
        "2. mention within sentence\n",
        "first sentence"
      ]
    },
    {
      "cell_type": "code",
      "execution_count": null,
      "metadata": {
        "colab": {
          "base_uri": "https://localhost:8080/",
          "height": 448
        },
        "id": "MLtBCoM9l1r-",
        "outputId": "dac6df37-f1b7-4fcf-8ab7-d7d0a28d587d"
      },
      "outputs": [
        {
          "output_type": "stream",
          "name": "stdout",
          "text": [
            "20 3 5.8956326268465\n"
          ]
        },
        {
          "output_type": "display_data",
          "data": {
            "text/plain": [
              "<Figure size 640x480 with 1 Axes>"
            ],
            "image/png": "[encoded data removed]"
          },
          "metadata": {}
        }
      ],
      "source": [
        "concept_token_lengths = [len(tokenizer.encode(c)) for c in X]\n",
        "print(max(concept_token_lengths), min(concept_token_lengths), np.mean(concept_token_lengths))\n",
        "plt.hist(concept_token_lengths)\n",
        "plt.show()"
      ]
    },
    {
      "cell_type": "code",
      "execution_count": null,
      "metadata": {
        "colab": {
          "base_uri": "https://localhost:8080/"
        },
        "id": "kxw53UBel18K",
        "outputId": "1f75f25c-150f-43ae-8b51-e56bf27cf8f0"
      },
      "outputs": [
        {
          "output_type": "stream",
          "name": "stderr",
          "text": [
            "100%|██████████| 3114/3114 [01:37<00:00, 32.01it/s]\n"
          ]
        }
      ],
      "source": [
        "max_length = 150\n",
        "all_reps = np.zeros(shape=(len(X_sent), max_length, 1024))\n",
        "batch_size = 2\n",
        "for i in tqdm(np.arange(0, len(X_sent), batch_size)):\n",
        "  toks = tokenizer.batch_encode_plus(X_sent[i:i+batch_size],\n",
        "                                       padding=\"max_length\",\n",
        "                                       max_length=max_length,\n",
        "                                       truncation=True,\n",
        "                                       return_tensors=\"pt\")\n",
        "  toks_cuda = {}\n",
        "  for k,v in toks.items():\n",
        "      toks_cuda[k] = v.cuda(0)\n",
        "  output = model(**toks_cuda)\n",
        "  output = (output['last_hidden_state'].cpu().permute(2,0,1) * toks.attention_mask).permute(1,2,0)\n",
        "  all_reps[i:i+batch_size] = output.cpu().detach().numpy()"
      ]
    },
    {
      "cell_type": "code",
      "execution_count": null,
      "metadata": {
        "id": "tc3sejuymXTm"
      },
      "outputs": [],
      "source": [
        "index_file = Path(\"drive/MyDrive/medical-lay/embeddings/SAPBERT_XMLR_mention_with_sentence_embeddings.npy\")\n",
        "np.save(index_file, all_reps)"
      ]
    },
    {
      "cell_type": "markdown",
      "metadata": {
        "id": "kvqzdTpRl9lD"
      },
      "source": [
        "then translate mention offsets"
      ]
    },
    {
      "cell_type": "code",
      "execution_count": null,
      "metadata": {
        "id": "Shzfqah0c0qu"
      },
      "outputs": [],
      "source": [
        "# get mention offsets as token indices\n",
        "\n",
        "all_mention_token_indices = []\n",
        "for x, (mention_start, mention_end) in zip(X_sent, X_sent_mention_offsets):\n",
        "  tokens = tokenizer.encode_plus(x,\n",
        "                                        padding=\"max_length\",\n",
        "                                        max_length=max_length,\n",
        "                                        truncation=True,\n",
        "                                        return_tensors=\"pt\")\n",
        "  mention_token_indices = []\n",
        "  found_mention_span = False\n",
        "  for token_index in range(1,(tokens[\"input_ids\"] != 1).sum() - 1):\n",
        "    char_span = tokens.token_to_chars(batch_or_token_index=token_index)\n",
        "    if char_span.start >= mention_start or (char_span.start < mention_start and char_span.end >= mention_start):\n",
        "      found_mention_span = True\n",
        "    if found_mention_span:\n",
        "      mention_token_indices.append(token_index)\n",
        "    if char_span.end == mention_end:\n",
        "      found_mention_span = False\n",
        "      break\n",
        "  all_mention_token_indices.append(mention_token_indices)"
      ]
    },
    {
      "cell_type": "code",
      "execution_count": null,
      "metadata": {
        "colab": {
          "base_uri": "https://localhost:8080/"
        },
        "id": "W8QpmbsRmhpt",
        "outputId": "e1b6c4a5-6c65-430c-dd02-ae6ecf241a3b"
      },
      "outputs": [
        {
          "output_type": "stream",
          "name": "stderr",
          "text": [
            "/usr/local/lib/python3.10/dist-packages/numpy/lib/npyio.py:518: VisibleDeprecationWarning: Creating an ndarray from ragged nested sequences (which is a list-or-tuple of lists-or-tuples-or ndarrays with different lengths or shapes) is deprecated. If you meant to do this, you must specify 'dtype=object' when creating the ndarray.\n",
            "  arr = np.asanyarray(arr)\n"
          ]
        }
      ],
      "source": [
        "index_file = Path(\"drive/MyDrive/medical-lay/embeddings/SAPBERT_XMLR_mention_with_sentence_offsets.npy\")\n",
        "np.save(index_file, all_mention_token_indices)"
      ]
    },
    {
      "cell_type": "code",
      "execution_count": null,
      "metadata": {
        "colab": {
          "base_uri": "https://localhost:8080/"
        },
        "id": "Jn5PNpQOxkix",
        "outputId": "a6b36285-dc24-4175-c3b7-f241a9bf90fb"
      },
      "outputs": [
        {
          "output_type": "execute_result",
          "data": {
            "text/plain": [
              "1"
            ]
          },
          "metadata": {},
          "execution_count": 16
        }
      ],
      "source": [
        "1"
      ]
    },
    {
      "cell_type": "code",
      "execution_count": null,
      "metadata": {
        "id": "wH03ZRHMgSRw"
      },
      "outputs": [],
      "source": []
    }
  ],
  "metadata": {
    "colab": {
      "provenance": [],
      "gpuType": "V100",
      "machine_shape": "hm"
    },
    "kernelspec": {
      "display_name": "Python 3",
      "name": "python3"
    },
    "language_info": {
      "name": "python"
    },
    "accelerator": "GPU"
  },
  "nbformat": 4,
  "nbformat_minor": 0
}