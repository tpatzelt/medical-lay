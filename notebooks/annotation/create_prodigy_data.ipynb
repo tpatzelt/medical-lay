{
 "cells": [
  {
   "cell_type": "code",
   "execution_count": 116,
   "outputs": [],
   "source": [
    "import json\n",
    "from pprint import pprint\n",
    "\n",
    "import diskcache as dc\n",
    "import requests\n",
    "import jsonlines \n",
    "\n",
    "from deepl import Translator\n",
    "from pydantic import BaseModel\n",
    "from tqdm import tqdm\n",
    "\n",
    "from config import TLCPaths\n",
    "from data_loading import load_tlc_samples, get_annotation_ids\n",
    "from models import Match, SampleCollection, Annotation, ProdigySample, ProdigyNERLabel\n"
   ],
   "metadata": {
    "collapsed": false
   }
  },
  {
   "cell_type": "code",
   "execution_count": 117,
   "outputs": [],
   "source": [
    "sample_collection = SampleCollection(load_tlc_samples())"
   ],
   "metadata": {
    "collapsed": false
   }
  },
  {
   "cell_type": "code",
   "execution_count": 118,
   "outputs": [
    {
     "name": "stdout",
     "output_type": "stream",
     "text": [
      "len(annotation_samples)=2146\n",
      "len(validation_samples)=5244\n"
     ]
    }
   ],
   "source": [
    "annotations_file_path = TLCPaths.project_data_path.joinpath(\"samples_to_annotate.json\")\n",
    "validations_file_path = TLCPaths.project_data_path.joinpath(\"samples_to_validate.json\")\n",
    "# load the two json files \n",
    "with open(annotations_file_path, \"r\") as f:\n",
    "    annotation_samples = [Match.parse_raw(x) for x in json.load(f)]\n",
    "with open(validations_file_path, \"r\") as f:\n",
    "    validation_samples = [Match.parse_raw(x) for x in json.load(f)]\n",
    "\n",
    "print(f\"{len(annotation_samples)=}\")\n",
    "print(f\"{len(validation_samples)=}\")\n"
   ],
   "metadata": {
    "collapsed": false
   }
  },
  {
   "cell_type": "code",
   "execution_count": 119,
   "outputs": [
    {
     "name": "stdout",
     "output_type": "stream",
     "text": [
      "1042\n"
     ]
    }
   ],
   "source": [
    "unique_val_annotations = {}\n",
    "for term in validation_samples:\n",
    "    if term.mention.annotation.get_mention() not in unique_val_annotations:\n",
    "        unique_val_annotations[term.mention.annotation.get_mention()] = term\n",
    "unique_val_annotations = list(unique_val_annotations.values())\n",
    "print(len(unique_val_annotations))"
   ],
   "metadata": {
    "collapsed": false
   }
  },
  {
   "cell_type": "code",
   "execution_count": 120,
   "outputs": [
    {
     "name": "stdout",
     "output_type": "stream",
     "text": [
      "691\n"
     ]
    }
   ],
   "source": [
    "unique_annotations = {}\n",
    "for term in annotation_samples:\n",
    "    if term.mention.annotation.get_mention() not in unique_annotations:\n",
    "        unique_annotations[term.mention.annotation.get_mention()] = term.mention.annotation\n",
    "unique_annotations = list(unique_annotations.values())\n",
    "print(len(unique_annotations))"
   ],
   "metadata": {
    "collapsed": false
   }
  },
  {
   "cell_type": "code",
   "execution_count": 5,
   "outputs": [
    {
     "name": "stdout",
     "output_type": "stream",
     "text": [
      "Annotation(tech_term='Nierenbeckenentzündung', lay_term=None, type=<TermType.TECH: 'TECH'>, span_start=30, span_end=52, synonyms=['Pyelonephritis'], id=3633)\n"
     ]
    }
   ],
   "source": [
    "pprint(unique_annotations[0])"
   ],
   "metadata": {
    "collapsed": false
   }
  },
  {
   "cell_type": "code",
   "execution_count": 6,
   "outputs": [
    {
     "name": "stdout",
     "output_type": "stream",
     "text": [
      "Nierenbeckenentzündung ['Pyelonephritis']\n",
      "Gallensteine ['Cholelith']\n",
      "nierenbeckenentzündung ['Pyelonephritis']\n",
      "Nierenkolik ['wehenartige Nierenschmerzen']\n",
      "nierenbeckenentzündungen ['Pyelonephritis']\n",
      "Tenesmus ['schmerzhafter Stuhldrang']\n",
      "Darmkoliken ['wehenartige Darmschmerzen']\n",
      "Diabetes insipidus ['Wasserharnruhr']\n",
      "Dialyse ['Nierenersatzverfahren']\n",
      "Defiblirator ['Schockgeber']\n",
      "Mikrohämaturie ['etwas Blut im Urin']\n",
      "Nierenkoliken ['wehenartige Nierenschmerzen']\n",
      "Gallenkoliken ['wehenartige Gallenschmerzen']\n",
      "Nierenbeckenntzündung ['Pyelonephritis']\n",
      "Erythrozyten ['Rote Blutkörperchen']\n",
      "Nierenbecken ['pyelon  oder pelvis renalis']\n",
      "Hyperphosphatämie ['Phosphatüberschuss']\n",
      "Serumkreatinin ['Serumkrea']\n",
      "Serumkreatintinwert ['Serumkrea']\n",
      "Blutdruck ['RR']\n",
      "Proteinurie ['Laienbegriff: Eiweiß im Urin']\n",
      "krampflösende Mittel ['Spasmolytika']\n",
      "entzündliche oder nichtentzündliche glomeruläre Erkrankung ['Glomerulonephritis']\n",
      "Aneurysmen ['Gefäßaussackungen']\n",
      "Adrenal Fatigue ['Nebennierenschwäche']\n",
      "Prolaps ['unnatürlicher Vorfall eines Organs']\n",
      "Flanken ['latus']\n",
      "Leaky Gut Syndrom ['Syndrom des durchlässigen Darms']\n",
      "Piktail ['Richtig wäre \"Pigtail\" - ein Katheter mit gewundenem Ende (wird bei Harnabflussstörungen eingesetzt)']\n",
      "dialyse ['Blutreinigungsverfahren']\n",
      "Nierenbeckenentzüdnung ['Pyelonephritis']\n",
      "Nephritis ['Nierenentzündung']\n",
      "hämaturie ['Blut im Urin']\n",
      "Blutergüsse an der Niere ['Renale Hämatome']\n",
      "Hepatologie ['Fachabteilung für Lebererkrankungen']\n",
      "Shunt ['chirurgischer Zusammenschluss einer Arterie und einer Vene']\n",
      "Proktoskopie ['Untersuchung des Analkanals und des unteren Rektums']\n",
      "Bronchitis ['Entzündung der unteren Atemwege']\n",
      "Dehydration ['Austrocknung']\n",
      "Kolektomie ['operative Entfernung des Dickdarms']\n",
      "Kontrastmittel ['KM']\n",
      "Harnsäure ['Hs']\n",
      "kolektomie ['operative Entfernung des Dickdarms']\n",
      "erektiler Dysfunktion ['Erektionsstörung']\n",
      "Hämaturie ['Blut im Urin']\n",
      "Leaky Gut ['Syndrom des durchlässigen Darms']\n",
      "Nierenbeckenentzündungen ['Pyelonephritis']\n",
      "idiopathische ['ohne erkennbare Ursache']\n",
      "Abszessen ['Eiteransammlung']\n",
      "athyltoxische Leberzirrhose ['alkoholbedingte Schrumpfleber']\n",
      "chronisch krank ['langzeitkrank']\n",
      "Metastasen ['Absiedelungen eines Tumors']\n",
      "tachykardie ['Herzrasen']\n",
      "Fibrose ['krankhafte Vermehrung von Bindegewebe']\n",
      "internist ['Facharzt für Innere Medizin']\n",
      "dyalise ['Nierenersatzverfahren']\n",
      "Gallensteinen ['Cholelith']\n",
      "adrenal fatigue ['Nebennierenschwäche']\n",
      "Chronisch krank ['langzeitkrank']\n",
      "Endokrinologin ['Fachärztin für Hormonlehre']\n",
      "Hämodialyse ['Blutreinigungsverfahren']\n",
      "BUN ['Blut-Harnstoff-Stickstoff']\n",
      "NAG ['Glucosaminidase']\n",
      "NGAL ['Neutrophil gelatinase-associated lipocalin']\n",
      "nephritis ['Nierenentzündung']\n",
      "Stomatitis ['Entzündung der Mundschleimhaut']\n",
      "Mikrohaematurie ['Laienbegriff: etwas Blut im Urin']\n",
      "Diapetis insipidus ['Diapetes insipidus']\n",
      "dehydrierung ['Austrocknung']\n",
      "der Stein den Harnleiter verstopft und so der Urin aus der Niere nicht abfließen kann ['Durch Nierenstein verursachte Obstruktion des Ureters']\n",
      "erhöhten Leukozytenzahl ['Leukozytose']\n",
      "Urinteststreifen ['Urinstix']\n",
      "Biopsien ['Gewebeentnahme']\n",
      "teilweiser Entfernung des Dickdarms ['Partielle Kolektomie']\n",
      "Abszess ['Eiteransammlung']\n",
      "Abszesse ['Eiteransammlung']\n",
      "nierenbeckenzündung ['Pyelonephritis']\n",
      "okkultem ['verborgen']\n",
      "Eiweissgehaltes ['Proteingehalt']\n",
      "Eiweisswert ['Proteingehalt']\n",
      "Lymphologen ['Spezialist für Erkrankungen des Lymphsystems']\n",
      "Makrohämaturie ['Sichtbares Blut im Urin']\n",
      "Dysurie ['schmerzhafte Harnentleerung']\n",
      "Röntgen ['Rx']\n",
      "Pyelektasie ['Erweiterung des Nierenbeckens']\n",
      "Dehydrierung ['Austrocknung']\n",
      "Pangastritis ['chronische Magenenschleimhautentzündung']\n",
      "Nierenbeckenenszündung ['Pyelonephritis (von. gr.)']\n",
      "hypertonie ['Bluthochdruck']\n",
      "Nieren(becken)entzündung ['Pyelonephritis']\n",
      "Nüchternblutbild ['Nüchtern-BB']\n",
      "Glucose im Serum ['Glc i.S']\n",
      "Duodenalschleimhaut ['Duodenalmukosa']\n",
      "Duodenal ['Zwölffingerdarm']\n",
      "Hyperplasie ['Vergrößerung eines Gewebes']\n",
      "Nierenbeckenentündungen ['Pyelonephritis']\n",
      "Calciphylaxie ['urämisch-kalzifizierende Arteriolopathie']\n",
      "Nierenbeckenentzüdung ['Pyelonephritis']\n",
      "Diätologin ['Ernährungsberaterin']\n",
      "übelkeit und durchfall ungefähr alle 5 Minuten ['Akute Gastroenteritis']\n",
      "mikrohämaturie ['Nicht sichtbares Blut im Urin']\n",
      "Haemotkritwert ['Hkt']\n",
      "Hämatokrit ['Hkt']\n",
      "Libido ['Wollust']\n",
      "Subileus ['Eingeschränkte Darmpassage']\n",
      "Extrasystolen ['Palpitationen']\n",
      "Extrasytsolen ['Palpitationen']\n",
      "hypochondrisch ['von Krankheitsangst geplagt']\n",
      "Nykturie ['mehrfaches nächtliches Wasserlassen']\n",
      "TSH ['Thyreoidea-stimulierendes Hormon']\n",
      "Internistin ['Fachärztin für Innere Medizin']\n",
      "okkultes ['verborgen']\n",
      "Proteinzufuhr ['Eiweißzufuhr']\n",
      "Proteinurien ['Eiweiß im Urin']\n",
      "haematurie ['Blut im Urin']\n",
      "Alkal. Phosphatase ['AP']\n",
      "Mittelohrentzündung ['otitis media (von gr. und lat.)']\n",
      "Harnleiterabgangs ['Ureterabgang']\n",
      "Irrigoskopie ['Verfahren zur Darstellung des gesamten Dickdarms']\n",
      "extrasystolien ['Palpitation']\n",
      "Zu hohe Leukozyten ['Leukozytose']\n",
      "zu niedrige Erythrozyten ['Erythropenie']\n"
     ]
    }
   ],
   "source": [
    "for annotation in unique_annotations:\n",
    "    if annotation.type == \"TECH\":\n",
    "        print(annotation.get_mention(), annotation.synonyms)"
   ],
   "metadata": {
    "collapsed": false
   }
  },
  {
   "cell_type": "code",
   "execution_count": 7,
   "outputs": [],
   "source": [
    "# translate mentions and synonym to english\n",
    "# use mention and synonym to find cui. if disagree take mention if tech term or take synonym is lay term\n",
    "# query umls for german description. if not available take english one and translate back to german"
   ],
   "metadata": {
    "collapsed": false
   }
  },
  {
   "cell_type": "code",
   "execution_count": 8,
   "outputs": [],
   "source": [
    "class TranslatedTerm(BaseModel):\n",
    "    name: str\n",
    "    cui: str = \"\"\n",
    "\n",
    "\n",
    "class TranslatedAnnotation(BaseModel):\n",
    "    annotation: Annotation\n",
    "    translated_mention: TranslatedTerm\n",
    "    translated_synonym: TranslatedTerm\n",
    "\n",
    "\n",
    "class CachedTranslator:\n",
    "    def __init__(self, cache, api_key):\n",
    "        self.cache = cache\n",
    "        self.translator = Translator(api_key)\n",
    "\n",
    "    def translate_text(self, text, source_lang, target_lang):\n",
    "        if (text, source_lang, target_lang) in self.cache:\n",
    "            return self.cache[(text, source_lang, target_lang)]\n",
    "        else:\n",
    "            res = self.translator.translate_text(text, source_lang=source_lang,\n",
    "                                                 target_lang=target_lang)\n",
    "            self.cache[(text, source_lang, target_lang)] = res\n",
    "            return res\n",
    "\n",
    "\n",
    "deepl_cache = dc.Cache(\"caches/deepl_cache\")\n",
    "deepl_key = \"0c25ea6d-b79f-288a-541f-ae25709c6312:fx\"\n",
    "translator = CachedTranslator(deepl_cache, deepl_key)"
   ],
   "metadata": {
    "collapsed": false
   }
  },
  {
   "cell_type": "code",
   "execution_count": 9,
   "outputs": [
    {
     "data": {
      "text/plain": "'Hospital Wall'"
     },
     "execution_count": 9,
     "metadata": {},
     "output_type": "execute_result"
    }
   ],
   "source": [
    "res = translator.translate_text(\"Krankenhausmauer\", source_lang=\"DE\", target_lang=\"EN-US\")\n",
    "res.text"
   ],
   "metadata": {
    "collapsed": false
   }
  },
  {
   "cell_type": "code",
   "execution_count": 10,
   "outputs": [
    {
     "name": "stderr",
     "output_type": "stream",
     "text": [
      "100%|██████████| 691/691 [00:00<00:00, 4973.44it/s]\n"
     ]
    }
   ],
   "source": [
    "translated_annotations = []\n",
    "for annotation in tqdm(unique_annotations):\n",
    "    mention = annotation.get_mention()\n",
    "    translated_mention = translator.translate_text(mention.lower(), source_lang=\"DE\",\n",
    "                                                   target_lang=\"EN-US\").text\n",
    "    if len(annotation.synonyms) == 0:\n",
    "        translated_synonym = \"\"\n",
    "    else:\n",
    "        synonym = annotation.synonyms[0]\n",
    "        translated_synonym = translator.translate_text(synonym.lower(), source_lang=\"DE\",\n",
    "                                                       target_lang=\"EN-US\").text\n",
    "    translated_annotations.append(TranslatedAnnotation(annotation=annotation,\n",
    "                                                       translated_mention=TranslatedTerm(\n",
    "                                                           name=translated_mention),\n",
    "                                                       translated_synonym=TranslatedTerm(\n",
    "                                                           name=translated_synonym)))"
   ],
   "metadata": {
    "collapsed": false
   }
  },
  {
   "cell_type": "code",
   "execution_count": 11,
   "outputs": [
    {
     "data": {
      "text/plain": "TranslatedAnnotation(annotation=Annotation(tech_term='Nierenbeckenentzündung', lay_term=None, type=<TermType.TECH: 'TECH'>, span_start=30, span_end=52, synonyms=['Pyelonephritis'], id=3633), translated_mention=TranslatedTerm(name='renal pelvic inflammation', cui=''), translated_synonym=TranslatedTerm(name='pyelonephritis', cui=''))"
     },
     "execution_count": 11,
     "metadata": {},
     "output_type": "execute_result"
    }
   ],
   "source": [
    "translated_annotations[0]"
   ],
   "metadata": {
    "collapsed": false
   }
  },
  {
   "cell_type": "code",
   "execution_count": 12,
   "outputs": [
    {
     "name": "stdout",
     "output_type": "stream",
     "text": [
      "C0034186\n"
     ]
    }
   ],
   "source": [
    "UMLS_KEY = \"43f9234c-4977-45f6-a440-2dda1b43d919\"\n",
    "\n",
    "umls_cache = dc.Cache(\"caches/umls_cache\")\n",
    "\n",
    "\n",
    "@umls_cache.memoize()\n",
    "def get_cui(name):\n",
    "    query_url = f\"https://uts-ws.nlm.nih.gov/rest/search/current?apiKey={UMLS_KEY}&string={name}&searchType=normalizedString\"\n",
    "    ### send a get request to query url and get response\n",
    "    response = requests.get(query_url)\n",
    "    if not \"result\" in response.json():\n",
    "        print(\"name: \", name, response.json())\n",
    "        return \"\"\n",
    "    results = response.json()[\"result\"][\"results\"]\n",
    "    if results:\n",
    "        return results[0][\"ui\"]\n",
    "    else:\n",
    "        return \"\"\n",
    "\n",
    "\n",
    "cui = get_cui(name=\"Pyelonephritis\")\n",
    "print(cui)"
   ],
   "metadata": {
    "collapsed": false
   }
  },
  {
   "cell_type": "code",
   "execution_count": 13,
   "outputs": [
    {
     "name": "stderr",
     "output_type": "stream",
     "text": [
      "100%|██████████| 691/691 [00:00<00:00, 9780.17it/s]\n"
     ]
    }
   ],
   "source": [
    "for translated_annotation in tqdm(translated_annotations):\n",
    "    if translated_annotation.translated_mention.cui == \"\":\n",
    "        translated_annotation.translated_mention.cui = get_cui(\n",
    "            name=translated_annotation.translated_mention.name)\n",
    "    if translated_annotation.translated_synonym.cui == \"\":\n",
    "        translated_annotation.translated_synonym.cui = get_cui(\n",
    "            name=translated_annotation.translated_synonym.name)\n"
   ],
   "metadata": {
    "collapsed": false
   }
  },
  {
   "cell_type": "code",
   "execution_count": 14,
   "outputs": [
    {
     "name": "stderr",
     "output_type": "stream",
     "text": [
      "100%|██████████| 691/691 [00:00<00:00, 917753.03it/s]\n"
     ]
    }
   ],
   "source": [
    "annotations_with_match = []  # entry = (annotation, translated_name, cui)\n",
    "annotation_without_match = []  # entry = (annotation)    \n",
    "for annotation in tqdm(translated_annotations):\n",
    "    if annotation.translated_synonym.cui and not annotation.translated_mention.cui:\n",
    "        entry = (annotation.annotation, annotation.translated_synonym.name,\n",
    "                 annotation.translated_synonym.cui)\n",
    "    elif not annotation.translated_synonym.cui and annotation.translated_mention.cui:\n",
    "        entry = (annotation.annotation, annotation.translated_mention.name,\n",
    "                 annotation.translated_mention.cui)\n",
    "    elif not annotation.translated_synonym.cui and not annotation.translated_mention.cui:\n",
    "        annotation_without_match.append(annotation)\n",
    "        continue\n",
    "    else:\n",
    "        if annotation.annotation.type == \"TECH\":\n",
    "            entry = (annotation.annotation, annotation.translated_mention.name,\n",
    "                     annotation.translated_mention.cui)\n",
    "        else:\n",
    "            entry = (annotation.annotation, annotation.translated_synonym.name,\n",
    "                     annotation.translated_synonym.cui)\n",
    "    annotations_with_match.append(entry)"
   ],
   "metadata": {
    "collapsed": false
   }
  },
  {
   "cell_type": "code",
   "execution_count": 15,
   "outputs": [],
   "source": [
    "# found cuis for 549 annotations and not for 142"
   ],
   "metadata": {
    "collapsed": false
   }
  },
  {
   "cell_type": "code",
   "execution_count": 16,
   "outputs": [
    {
     "name": "stdout",
     "output_type": "stream",
     "text": [
      "543\n",
      "[(Annotation(tech_term='Nierenbeckenentzündung', lay_term=None, type=<TermType.TECH: 'TECH'>, span_start=30, span_end=52, synonyms=['Pyelonephritis'], id=3633), 'pyelonephritis', 'C0034186'), (Annotation(tech_term='Gallensteine', lay_term=None, type=<TermType.TECH: 'TECH'>, span_start=121, span_end=133, synonyms=['Cholelith'], id=6202), 'gallstones', 'C0008350')]\n"
     ]
    }
   ],
   "source": [
    "print(len(annotations_with_match))\n",
    "print(annotations_with_match[:2])"
   ],
   "metadata": {
    "collapsed": false
   }
  },
  {
   "cell_type": "code",
   "execution_count": 17,
   "outputs": [
    {
     "name": "stdout",
     "output_type": "stream",
     "text": [
      "148\n",
      "annotation=Annotation(tech_term=None, lay_term='Verkleinerte NIeren', type=<TermType.LAY: 'LAY'>, span_start=9, span_end=28, synonyms=['Schrumpfniere (Nephrozirrhose)'], id=2472) translated_mention=TranslatedTerm(name='reduced kidneys', cui='') translated_synonym=TranslatedTerm(name='shrinking kidney (nephrocirrhosis)', cui='')\n"
     ]
    }
   ],
   "source": [
    "print(len(annotation_without_match))  # no cui for mention or synonym found\n",
    "print(annotation_without_match[0])"
   ],
   "metadata": {
    "collapsed": false
   }
  },
  {
   "cell_type": "code",
   "execution_count": 18,
   "outputs": [
    {
     "name": "stdout",
     "output_type": "stream",
     "text": [
      "Verkleinerte NIeren name='reduced kidneys' cui=''\n",
      "Schrumpfniere (Nephrozirrhose) name='shrinking kidney (nephrocirrhosis)' cui=''\n",
      "\n",
      "muss seit 3 Tagen fast jede 10 Minuten auf Toilette name='must go to the toilet almost every 10 minutes for 3 days' cui=''\n",
      "Pollakisurie (häufiges Wasserlassen in kleinen Mengen) name='pollakiuria (frequent urination in small amounts)' cui=''\n",
      "\n",
      "Extreme Luft im Bauch die nicht entweicht name='extreme air in the abdomen that does not escape' cui=''\n",
      "Flatulenz  - verstärkte Entwicklung von Gasen im Magen und/oder Darm name='flatulence - increased development of gases in the stomach and/or intestines' cui=''\n",
      "\n",
      "brennen beim wasserlassen name='burning during urination' cui=''\n",
      "Algurie name='alguria' cui=''\n",
      "\n",
      "extreme Schmerzen während des Stuhlgangs name='extreme pain during defecation' cui=''\n",
      "Tenesmen name='tenesmen' cui=''\n",
      "\n",
      "Schmerzen während des Stuhlgangs name='pain during defecation' cui=''\n",
      "Tenesmen name='tenesmen' cui=''\n",
      "\n",
      "Defiblirator name='defiblirator' cui=''\n",
      "Schockgeber name='shock generator' cui=''\n",
      "\n",
      "stopfende name='stuffing' cui=''\n",
      "obstipierend name='obstipating' cui=''\n",
      "\n",
      "blut und eiweiss im urin name='blood and protein in urine' cui=''\n",
      "Hämaturie und Proteinurie name='hematuria and proteinuria' cui=''\n",
      "\n",
      "Serumkreatintinwert name='serum creatinine value' cui=''\n",
      "Serumkrea name='serumkrea' cui=''\n",
      "\n",
      "Teufelskreis name='vicious circle' cui=''\n",
      "Circulus vitiosus name='circulus vitiosus' cui=''\n",
      "\n",
      "schlimme Rückenschmerzen in der Höhe der Nieren name='bad back pain at the level of the kidneys' cui=''\n",
      "Symptome des oberen Urogenitaltraktes name='symptoms of the upper urogenital tract' cui=''\n",
      "\n",
      "Schmerzen an den Nieren und 3 fach erhöhte Entzündungswerte im Urin name='pain in the kidneys and 3 times increased inflammation values in the urine' cui=''\n",
      "Infektion des oberen Urogenitaltraktes name='infection of the upper urogenital tract' cui=''\n",
      "\n",
      "leichten Druck an den Nieren name='light pressure on the kidneys' cui=''\n",
      "Symptome einer Infektion des oberen Urogenitaltraktes name='symptoms of an upper urogenital tract infection' cui=''\n",
      "\n",
      "gürtelförmig um die Niere und Bauch oder runter bis zu den Schamlippen austrahlend name='girdling around the kidney and abdomen or radiating down to the labia' cui=''\n",
      "Symptom charakteristisch für den Nierenstein-Abgang name='symptom characteristic of the kidney stone discharge' cui=''\n",
      "\n",
      "Mangeldurchblutung name='mange blood flow' cui=''\n",
      "Minderperfusion name='inferior perfusion' cui=''\n",
      "\n",
      "aufsteigende Infekte name='ascending infections' cui=''\n",
      "aszendierende infektion name='ascending infection' cui=''\n",
      "\n",
      "Leaky Gut Syndrom name='leaky gut syndrome' cui=''\n",
      "Syndrom des durchlässigen Darms name='permeable bowel syndrome' cui=''\n",
      "\n",
      "Piktail name='pictail' cui=''\n",
      "Richtig wäre \"Pigtail\" - ein Katheter mit gewundenem Ende (wird bei Harnabflussstörungen eingesetzt) name='the correct term would be \"pigtail\" - a catheter with a coiled end (used for urinary drainage problems)' cui=''\n",
      "\n",
      "kein Fieber name='No fever' cui=''\n",
      "afebril name='afebril' cui=''\n",
      "\n",
      "etwa 2Trauben großen länglichen bollen genau an der poritze welcher sehr plötzlich über Nacht kam und sehr druck-berührungs und bewegungsempfindlicj ist name='about 2 grapes large elongated bulb right at the pore tip which came very suddenly over night and is very pressure-touch and movement-sensitive' cui=''\n",
      "Analvenenthrombose name='anal venous thrombosis' cui=''\n",
      "\n",
      "\\Bollen\\ an Poritze name='\\\\bollen\\\\ at poritze' cui=''\n",
      "Analvenenthrombose name='anal venous thrombosis' cui=''\n",
      "\n",
      "Blutdruck ist gut eingestellt name='blood pressure is well adjusted' cui=''\n",
      "Normotonie name='normotony' cui=''\n",
      "\n",
      "gut eingestellter Blutdruck name='well controlled blood pressure' cui=''\n",
      "Normotonie name='normotony' cui=''\n",
      "\n",
      "Betäubung über die Vene name='anesthesia via the vein' cui=''\n",
      "Analgosedierung name='analgosedation' cui=''\n",
      "\n",
      "unheilbare name='incurable' cui=''\n",
      "infaust name='infaust' cui=''\n",
      "\n",
      "Reizung/Entzündung im Mund name='irritation/inflammation in the mouth' cui=''\n",
      "Stomatitis - Entzündung der Mundschleimhaut name='stomatitis - inflammation of the oral mucosa' cui=''\n",
      "\n",
      "Entzündungen und wunde Stellen im Mund name='inflammations and sores in the mouth' cui=''\n",
      "\n",
      "Blutdruck gut eingestellt name='blood pressure well adjusted' cui=''\n",
      "Normotonie name='normotony' cui=''\n",
      "\n",
      "Andauernd Blähungen name='constant flatulence' cui=''\n",
      "Chronische Flatulenzen name='chronic flatulences' cui=''\n",
      "\n",
      "über dem Bauchnabel Schmerzen name='above the belly button pain' cui=''\n",
      "Supraumbilikale Schmerzen name='supraumbilical pain' cui=''\n",
      "\n",
      "Bauchschmerzen geplagt nach dem Essen name='abdominal pain plagued after eating' cui=''\n",
      "postprandiale Abdominalschmerzen name='postprandial abdominal pain' cui=''\n",
      "\n",
      "schwer im Magen liegt name='heavy in the stomach' cui=''\n",
      "das typische Symptom einer Gastritis name='the typical symptom of gastritis' cui=''\n",
      "\n",
      "erhöhten Harndrang name='increased urinary urgency' cui=''\n",
      "Häufiges Wasserlassen (Pollakisurie - von gr.) name='frequent urination (pollakisuria - from gr.)' cui=''\n",
      "\n",
      "unentdeckte Entzündung name='undetected inflammation' cui=''\n",
      "okkulte infektion name='occult infection' cui=''\n",
      "\n",
      "Verkleinerte NIere name='reduced kidney' cui=''\n",
      "Schrumpfniere (Nephrozirrhose) name='shrinking kidney (nephrocirrhosis)' cui=''\n",
      "\n",
      "an den Nieren geschallt name='sonicated on the kidneys' cui=''\n",
      "Nierensonografie name='renal sonography' cui=''\n",
      "\n",
      "Die haben mich komplett zerlegt name='they have completely dismantled me' cui=''\n",
      "Ganzkörperuntersuchung name='full body examination' cui=''\n",
      "\n",
      "keine erhöhten Entzündungswerte name='no increased inflammation values' cui=''\n",
      "normwertige Inflammationsparameter name='normative inflammation parameters' cui=''\n",
      "\n",
      "Bakterien können theoretisch (!) durchaus hochgewandert sein name='Bacteria can theoretically (!) have migrated upwards.' cui=''\n",
      "Bakterienaszension name='bacterial ascension' cui=''\n",
      "\n",
      "Harntransportstörungbeidseitig name='urinary tract disorderboth sides' cui=''\n",
      "Obstruktive Uropathie (Harnstau) name='obstructive uropathy (urinary retention)' cui=''\n",
      "\n",
      "mit einem längerem Weiterleben nicht vereinbar name='not compatible with a longer life' cui=''\n",
      "letal name='lethal' cui=''\n",
      "\n",
      "Schmerzen in der Harröhre, stechen in der Blase und musste ständig Wasser lassen name='pain in the urethra, stinging in the bladder and had to urinate constantly' cui=''\n",
      "Symptome einer Harnwegsinfektion name='symptoms of a urinary tract infection' cui=''\n",
      "\n",
      "Schmerzen auf der linken Seite in Richtung Nieren name='pain on the left side in the direction of the kidneys' cui=''\n",
      "Symptome einer akuten Nierenentzündung / Nierenbeckenentzündung name='symptoms of acute nephritis / renal pelvic inflammation' cui=''\n",
      "\n",
      "Leben an der Maschine name='life at the machine' cui=''\n",
      "Dialysepflicht name='dialysis obligation' cui=''\n",
      "\n",
      "optimal eingestellter Blutdruck name='optimally adjusted blood pressure' cui=''\n",
      "Normotonie name='normotony' cui=''\n",
      "\n",
      "röntgen der nieren mit KM name='X-ray of the kidneys with km' cui=''\n",
      "Kontrastmittelgestützte Nephrographie name='contrast-enhanced nephrography' cui=''\n",
      "\n",
      "Fieber habe ich keines name='I have no fever' cui=''\n",
      "afebril name='afebril' cui=''\n",
      "\n",
      "Schmerzen beim Pipi name='pain when peeing' cui=''\n",
      "Algurie name='alguria' cui=''\n",
      "\n",
      "keinen hohen Blutdruck name='no high blood pressure' cui=''\n",
      "Normotonie name='normotony' cui=''\n",
      "\n",
      "Blutdruck ist normal name='blood pressure is normal' cui=''\n",
      "Normotonie name='normotony' cui=''\n",
      "\n",
      "mein Blutdruck ist normal name='my blood pressure is normal' cui=''\n",
      "Normotonie name='normotony' cui=''\n",
      "\n",
      "Eiweißzufuhr name='protein supply' cui=''\n",
      "Proteinzufuhr name='protein supply' cui=''\n",
      "\n",
      "athyltoxische Leberzirrhose name='athyltoxic liver cirrhosis' cui=''\n",
      "alkoholbedingte Schrumpfleber name='alcohol-induced shrunken liver' cui=''\n",
      "\n",
      "Schmerzen beim Wasser lassen name='pain when letting water' cui=''\n",
      "Algurie name='alguria' cui=''\n",
      "\n",
      "sichtbares Blut am Toilettenpapier name='visible blood on toilet paper' cui=''\n",
      "Hämatochezie -  eine Form der gastrointestinalen Blutung mit dem Auftreten frischen Blutes im Stuhl name='hematochezia - a form of gastrointestinal bleeding with the appearance of fresh blood in the stool' cui=''\n",
      "\n",
      "Verkleinerte Nieren name='reduced kidneys' cui=''\n",
      "Schrumpfniere (Nephrozirrhose) name='shrinking kidney (nephrocirrhosis)' cui=''\n",
      "\n",
      "leichte Abweichungen name='slight divergences' cui=''\n",
      "Normvariante name='standard variant' cui=''\n",
      "\n",
      "hartnäckige Bakterien name='stubborn bacteria' cui=''\n",
      "Resistente Bakterien (Bakterien, die resistent gegen Antibiotika sind) name='resistant bacteria (bacteria that are resistant to antibiotics)' cui=''\n",
      "\n",
      "jeder Tropfen Urin brannte wie Feuer name='every drop of urine burned like fire' cui=''\n",
      "Algurie name='alguria' cui=''\n",
      "\n",
      "jeder Tropfen Urin brannte name='every drop of urine burned' cui=''\n",
      "Algurie name='alguria' cui=''\n",
      "\n",
      "nicht heilbar name='Not curable' cui=''\n",
      "unkurierbar name='uncurable' cui=''\n",
      "\n",
      "kein Alkohol name='no alcohol' cui=''\n",
      "Alkoholkarenz name='alcohol cessation' cui=''\n",
      "\n",
      "herz rast danach name='heart races after' cui=''\n",
      "tachykard name='tachycardic' cui=''\n",
      "\n",
      "Langzeitzuckerwert name='LONG-TERM SUGAR' cui=''\n",
      "HbA1c - Glykohämoglobin, Der Spiegel im Blut gibt Auskunft über die Blutzuckerwerte der letzten vier bis zwölf Wochen name='hba1c - glycohemoglobin, the level in the blood gives information about the blood glucose values of the last four to twelve weeks' cui=''\n",
      "\n",
      "Jetzt habe seit einer Woche Husten/Heiserkeit/ab und an Räuspern/ leichtes brennen auf der Zunge und ein wenig Schleim im Rachen name='now i have been coughing/ hoarseness/ clearing my throat now and then/ slight burning on my tongue and a little mucus in my throat for one week' cui=''\n",
      "Am ehesten Symptom der gastroösophagealen Refluxkrankheit name='most likely symptom of gastroesophageal reflux disease' cui=''\n",
      "\n",
      "in 3 Monaten 15 Kilo an Gewicht verloren hatte name='had lost 15 kilos of weight in 3 months' cui=''\n",
      "Einer der Symptome der B-Symptomatik (charakteristisch für Krebserkrankungen) name='one of the symptoms of b-symptomatics (characteristic of cancer)' cui=''\n",
      "\n",
      "angeborene geschrumpfte Schrumpfniere name='congenital shrunken kidney' cui=''\n",
      "Kongenitale Nephrozirrhose name='congenital nephrocirrhosis' cui=''\n",
      "\n",
      "eine mit Blut gefüllte Ausstülpung der Venen name='a protrusion of the veins filled with blood' cui=''\n",
      "Analvenenthrombose name='anal venous thrombosis' cui=''\n",
      "\n",
      "ohne Nennenswerte Probleme im Bezug auf Puls name='without significant problems with regard to pulse' cui=''\n",
      "normofrequent name='normofrequent' cui=''\n",
      "\n",
      "Bauchspeicheldrüse tut weh name='pancreas hurts' cui=''\n",
      "Pankrealgie name='pankrealgie' cui=''\n",
      "\n",
      "Blutspur am Toilettenpapier name='bloodstain on toilet paper' cui=''\n",
      "Hämorrhoiden / Analfissur name='hemorrhoids / anal fissure' cui=''\n",
      "\n",
      "Stuhllassen name='chair leave' cui=''\n",
      "defäkieren name='defecate' cui=''\n",
      "\n",
      "Diapetis insipidus name='diapetis insipidus' cui=''\n",
      "Diapetes insipidus name='diapetes insipidus' cui=''\n",
      "\n",
      "fast keinen Symptomen name='almost no symptoms' cui=''\n",
      "oligosymptomatisch name='oligosymptomatic' cui=''\n",
      "\n",
      "Entzündung des Mageneingangs name='inflammation of the entrance to the stomach' cui=''\n",
      "Fundusgastritis name='fundus gastritis' cui=''\n",
      "\n",
      "einige lebende samenzellen name='some live seed cells' cui=''\n",
      "Hypozoospermie name='hypozoospermia' cui=''\n",
      "\n",
      "der Stein den Harnleiter verstopft und so der Urin aus der Niere nicht abfließen kann name='the stone blocks the ureter and so the urine cannot flow out of the kidney' cui=''\n",
      "Durch Nierenstein verursachte Obstruktion des Ureters name='obstruction of the ureter caused by kidney stone' cui=''\n",
      "\n",
      "ein bisschen Symptome name='a bit of symptoms' cui=''\n",
      "oligosymptomatisch name='oligosymptomatic' cui=''\n",
      "\n",
      "einen starken schmerz ziehen stechen brennen verspürt an der rechten seite des rückens name='a strong pain pulling stinging burning sensation on the right side of the back' cui=''\n",
      "Symptom einer akuten Entzündung der Niere / des Nierenbeckens name='symptom of acute inflammation of the kidney / renal pelvis' cui=''\n",
      "\n",
      "Nierenszinti name='kidney scinti' cui=''\n",
      "Nierenszintigraphie (nuklearmedizinisches Untersuchungsverfahren) name='renal scintigraphy (nuclear medicine examination procedure)' cui=''\n",
      "\n",
      "wieder ein ziehen in der rechten Flanke name='again a pull in the right flank' cui=''\n",
      "rezidivierende Flankenschmerzen name='recurrent flank pain' cui=''\n",
      "\n",
      "den mittelstrahl zu nehmen name='to take the medium beam' cui=''\n",
      "Mittelstrahlurin name='medium jet urine' cui=''\n",
      "\n",
      "es brannte \\nur\\ im Magen name='it burned in the stomach' cui=''\n",
      "das typische Symptom einer Gastritis name='the typical symptom of gastritis' cui=''\n",
      "\n",
      "vor der Blase name='before the bubble' cui=''\n",
      "prävesikal name='prevesical' cui=''\n",
      "\n",
      "Blut und Eiweiß im Urin name='blood and protein in urine' cui=''\n",
      "Hämaturie und Proteinurie name='hematuria and proteinuria' cui=''\n",
      "\n",
      "einen weisslichen Belag auf der Zunge name='a whitish coating on the tongue' cui=''\n",
      "Symptom der oralen Candidose (eine Infektion mit einem Pilz aus der Candida-Familie) name='symptom of oral candidiasis (an infection with a fungus from the candida family)' cui=''\n",
      "\n",
      "sehr starker linksseitiger Flankenschmerzen name='very severe left flank pain' cui=''\n",
      "Symptom am ehesten bedingt durch Muskelkontraktionen aufgrund von Nierenstein-Abgang name='symptom most likely caused by muscle contractions due to kidney stone discharge' cui=''\n",
      "\n",
      "Extremer Flankenschmerz links, ausstrahlend in den gesamten Bauchraum und zur Blase name='extreme flank pain on the left, radiating to the entire abdomen and to the bladder' cui=''\n",
      "Symptom  bedingt durch Muskelkontraktionen aufgrund von Nierenstein-Abgang name='symptom caused by muscle contractions due to kidney stone discharge' cui=''\n",
      "\n",
      "Schmerzmittel per Infusion name='painkillers by infusion' cui=''\n",
      "intravenöse Analgesie name='intravenous analgesia' cui=''\n",
      "\n",
      "Eiweissgehaltes name='protein content' cui=''\n",
      "Proteingehalt name='protein content' cui=''\n",
      "\n",
      "Eiweisswert name='protein value' cui=''\n",
      "Proteingehalt name='protein content' cui=''\n",
      "\n",
      "brennen beim wasser lassen name='burning while letting water' cui=''\n",
      "Algurie name='alguria' cui=''\n",
      "\n",
      "Druckschmerz in der Nierengegend, dieser Schmerz kann sich dann im ganzen Rücken ausbreiten. Zusätzlich merke ich ein Krankheitsgefühl, mir ist kalt ich fühle mich nicht mehr richtig wohl name='pressure pain in the kidney area, this pain can then spread to the whole back. in addition, i notice a feeling of sickness, i feel cold i no longer feel really well' cui=''\n",
      "Symptome einer akuten Nierenbeckenentzündung name='symptoms of acute renal pelvic inflammation' cui=''\n",
      "\n",
      "Lymphologen name='lymphologists' cui=''\n",
      "Spezialist für Erkrankungen des Lymphsystems name='specialist for diseases of the lymphatic system' cui=''\n",
      "\n",
      "ohne Laktose name='Without lactose' cui=''\n",
      "laktosefrei name='lactose free' cui=''\n",
      "\n",
      "Röntgenaufnahme der Nieren mit Kontrastmitte name='x-ray of the kidneys with contrast center' cui=''\n",
      "Kontrastmittelgestützte Nephrographie name='contrast-enhanced nephrography' cui=''\n",
      "\n",
      "Blutzucker Entleisungen name='blood sugar discharges' cui=''\n",
      "Hyperglykämische Entgleisungen name='hyperglycemic derailments' cui=''\n",
      "\n",
      "Nierenbeckenenszündung name='renal pelvic inflammation' cui=''\n",
      "Pyelonephritis (von. gr.) name='pyelonephritis (from. gr.)' cui=''\n",
      "\n",
      "kurz vor der blase name='short of the bubble' cui=''\n",
      "prävesikal name='prevesical' cui=''\n",
      "\n",
      "vor der blase name='before the bubble' cui=''\n",
      "prävesikal name='prevesical' cui=''\n",
      "\n",
      "symptome hatte ich wenige name='symptoms i had few' cui=''\n",
      "oligosymptomatisch name='oligosymptomatic' cui=''\n",
      "\n",
      "Brennen, die SChmerzen beim Wasserlassen name='burning pain during urination' cui=''\n",
      "Algurie name='alguria' cui=''\n",
      "\n",
      "Nüchternblutbild name='fasting blood count' cui=''\n",
      "Nüchtern-BB name='sober-bb' cui=''\n",
      "\n",
      "pochende Schmerzen in der unteren Rückenseite name='throbbing pain in the lower back' cui=''\n",
      "Symptom der Nierenbeckenentzündung name='symptom of renal pelvic inflammation' cui=''\n",
      "\n",
      "NB-Entzündung name='nb inflammation' cui=''\n",
      "Nierenbeckenentzündung (Pyelonephritis) name='pyelonephritis (inflammation of the renal pelvis)' cui=''\n",
      "\n",
      "Blutdruck jetzt ok name='blood pressure now ok' cui=''\n",
      "Normotonie name='normotony' cui=''\n",
      "\n",
      "per Infusion stärkste Schmerzmittel name='by infusion strongest painkillers' cui=''\n",
      "intravenöse Analgesie name='intravenous analgesia' cui=''\n",
      "\n",
      "Schmerzinfusionen name='pain infusions' cui=''\n",
      "intravenöse Analgesie name='intravenous analgesia' cui=''\n",
      "\n",
      "Hirn MRT name='brain mrt' cui=''\n",
      "kranielle MRT name='cranial mrt' cui=''\n",
      "\n",
      "Magen und Darm Spieglung name='stomach and intestine spieglung' cui=''\n",
      "Gastro-Koloskopie name='gastro-coloscopy' cui=''\n",
      "\n",
      "Nichtrinken name='not drinking' cui=''\n",
      "Alkoholkarenz name='alcohol cessation' cui=''\n",
      "\n",
      "hellen Stuhl name='bright chair' cui=''\n",
      "acholischer Stuhl name='acholic chair' cui=''\n",
      "\n",
      "Haemotkritwert name='hemot crit value' cui=''\n",
      "Hkt name='hkt' cui=''\n",
      "\n",
      "gelegentlich Kopfschmerzen name='occasional headache' cui=''\n",
      "intermittierende Cephalgien name='intermittent cephalgia' cui=''\n",
      "\n",
      "Durchfall durch einen Infekt name='diarrhea due to an infection' cui=''\n",
      "infektbedingte Diarrhö name='diarrhea due to infection' cui=''\n",
      "\n",
      "eingeklemmtes Stück Darm name='pinched piece of intestine' cui=''\n",
      "Inkarzeratopn name='incarceratopn' cui=''\n",
      "\n",
      "Eiweißverlust name='protein loss' cui=''\n",
      "Proteinverlust name='protein loss' cui=''\n",
      "\n",
      "ohne OP name='Without op' cui=''\n",
      "unter konservativer Behandlung name='under conservative treatment' cui=''\n",
      "\n",
      "\\Bollen\\ am After name='\\\\bollen\\\\ on the after' cui=''\n",
      "Analvenenthrombose name='anal venous thrombosis' cui=''\n",
      "\n",
      "Schmerzen beim Wassrlassen name='pain during watering' cui=''\n",
      "Algurie name='alguria' cui=''\n",
      "\n",
      "niere dann operativ fixiert name='kidney then fixed surgically' cui=''\n",
      "Nephropexie: operatives Verfahren aus der Urologie zur Fixierung einer Wanderniere (Nephroptose) in Höhe der 11.-12. Rippe name='nephropexy: surgical procedure from urology for the fixation of a wandering kidney (nephroptosis) at the level of the 11th-12th ribs' cui=''\n",
      "\n",
      "Blutdruck liegt ebenfalls im Normbereich name='blood pressure is also within the normal range' cui=''\n",
      "Normotonie name='normotony' cui=''\n",
      "\n",
      "Schilddrüse ist in Ordnung name='thyroid gland is in order' cui=''\n",
      "euthyreot name='euthyreot' cui=''\n",
      "\n",
      "Schmerzen beim Pinkeln name='pain when peeing' cui=''\n",
      "Algurie name='alguria' cui=''\n",
      "\n",
      "hypochondrisch name='hypochondriac' cui=''\n",
      "von Krankheitsangst geplagt name='plagued by fear of illness' cui=''\n",
      "\n",
      "gegen fast alle Bakterien hilft name='helps against almost all bacteria' cui=''\n",
      "Breitbandantibiotikum name='broad spectrum antibiotic' cui=''\n",
      "\n",
      "rückenschmerzen, die aber von der wirbelsäule kommen name='back pain but coming from the spine' cui=''\n",
      "vertebragene Rückenschmerzen name='vertebragene back pain' cui=''\n",
      "\n",
      "CT vom Kopf name='ct from head' cui=''\n",
      "Craniale Computertomographie (CCT) name='cranial computed tomography (cct)' cui=''\n",
      "\n",
      "Magensäure-Hemmer name='gastric acid inhibitors' cui=''\n",
      "Protonenpumpen-Inhibitor (PPI) name='proton pump inhibitor (ppi)' cui=''\n",
      "\n",
      "Proteinzufuhr name='protein supply' cui=''\n",
      "Eiweißzufuhr name='protein supply' cui=''\n",
      "\n",
      "spinalnerven senden die schmerzimpulse z.b. an die niere name='spinal nerves send the pain impulses e.g. to the kidney' cui=''\n",
      "Übertragener Schmerz name='transferred pain' cui=''\n",
      "\n",
      "krampfartige, auf- und abschwellende Schmerzen name='cramping, swelling up and down pain' cui=''\n",
      "Nierenkolik-Schmerzen name='renal colic pain' cui=''\n",
      "\n",
      "ohne Fieber name='Without fever' cui=''\n",
      "afebril name='afebril' cui=''\n",
      "\n",
      "Langzeit Blutdruck name='long term blood pressure' cui=''\n",
      "Langzeit-RR name='LONG-TERM rr' cui=''\n",
      "\n",
      "unterhalb der Schulterblätter name='below the shoulder blades' cui=''\n",
      "infrascapular name='infrascapular' cui=''\n",
      "\n",
      "Harnleiterabgangs name='ureteral outlet' cui=''\n",
      "Ureterabgang name='ureteral discharge' cui=''\n",
      "\n",
      "Schmerzen beim Wasserlassen in der Nierengegend name='pain during urination in the kidney area' cui=''\n",
      "Höchstwahrscheinlich geht es hier um ein Symptom der akuten Nierenbeckenentzündung (Pyelonephritis) name='most likely this is a symptom of acute pyelonephritis.' cui=''\n",
      "\n",
      "blut und eiweiß im urin name='blood and protein in urine' cui=''\n",
      "Hämaturie und Proteinurie name='hematuria and proteinuria' cui=''\n",
      "\n",
      "MD-Grippe name='md flu' cui=''\n",
      "Gastroenteritis, verursacht vor allem durch Norovirus name='gastroenteritis caused mainly by norovirus' cui=''\n",
      "\n",
      "staut deine Niere auf und der Urin kann nicht gut abfließen name='your kidney backs up and the urine cannot drain well' cui=''\n",
      "supravesikale Harnabflussstörung name='supravesical urinary tract obstruction' cui=''\n",
      "\n",
      "Speiseröhrenschlitz name='esophageal slit' cui=''\n",
      "Hiatus ösophageus name='hiatus esophageus' cui=''\n",
      "\n",
      "die Nieren nicht mehr zu 100% arbeiten name='the kidneys no longer work at 100%' cui=''\n",
      "leichte Niereninsuffizienz name='mild renal insufficiency' cui=''\n",
      "\n",
      "Hämatokrit zu niedrig name='hematocrit too low' cui=''\n",
      "zu flüssiges Blut name='too liquid blood' cui=''\n",
      "\n",
      "irrsinnige Schmerzen im linken unteren Rückenbereich, Flanke und Unterbauch name='insane pain in the left lower back, flank and lower abdomen' cui=''\n",
      "Symptom der Nierenbeckenentzündung (Pyelonephritis) name='symptom of renal pelvic inflammation (pyelonephritis)' cui=''\n",
      "\n",
      "Missgefühl in den Flanken u Rücken name='discomfort in the flanks u back' cui=''\n",
      "Symptom der entzündlichen Nierenerkrankung name='symptom of inflammatory kidney disease' cui=''\n",
      "\n",
      "Schmerzen in der Brust, ständiger Würgereiz name='chest pain, constant retching' cui=''\n",
      "Symptome der gastroösophagealen Refluxkrankheit name='symptoms of gastroesophageal reflux disease' cui=''\n",
      "\n",
      "erys,leukos und nitrit im urin name='erys,leucos and nitrite in urine' cui=''\n",
      "Ergebnis der Teststreifen-Urin-Untersuchung, vereinbar mit bakterieller Harnwegsinfektion name='test strip urine result consistent with bacterial urinary tract infection' cui=''\n",
      "\n"
     ]
    }
   ],
   "source": [
    "for annotation in annotation_without_match:\n",
    "    print(annotation.annotation.get_mention(), annotation.translated_mention)\n",
    "    if annotation.annotation.synonyms:\n",
    "        print(annotation.annotation.synonyms[0], annotation.translated_synonym)\n",
    "    print()"
   ],
   "metadata": {
    "collapsed": false
   }
  },
  {
   "cell_type": "code",
   "execution_count": 19,
   "outputs": [],
   "source": [
    "import csv\n",
    "\n",
    "with open(\"to_annotate.csv\", \"w\") as f:\n",
    "    writer = csv.writer(f)\n",
    "    writer.writerow([\"mention\", \"synonym\", \"cui\"])\n",
    "    for annotation in annotation_without_match:\n",
    "        writer.writerow([annotation.annotation.get_mention(), annotation.annotation.synonyms, \"\"])"
   ],
   "metadata": {
    "collapsed": false
   }
  },
  {
   "cell_type": "code",
   "execution_count": 91,
   "outputs": [
    {
     "name": "stdout",
     "output_type": "stream",
     "text": [
      "tech_term=None lay_term='Teufelskreis' type=<TermType.LAY: 'LAY'> span_start=753 span_end=765 synonyms=['Circulus vitiosus'] id=3898\n"
     ]
    }
   ],
   "source": [
    "filtered_anns = []\n",
    "for ann in annotation_without_match:\n",
    "    if ann.annotation.get_mention() == \"Teufelskreis\":\n",
    "        print(ann.annotation)\n",
    "        continue\n",
    "    filtered_anns.append(ann)"
   ],
   "metadata": {
    "collapsed": false
   }
  },
  {
   "cell_type": "code",
   "execution_count": 92,
   "outputs": [],
   "source": [
    "annotation_without_match = filtered_anns"
   ],
   "metadata": {
    "collapsed": false
   }
  },
  {
   "cell_type": "code",
   "execution_count": 93,
   "outputs": [],
   "source": [
    "## read in annotations from csv\n",
    "with open(\"to_annotate.copy.csv\", \"r\") as f:\n",
    "    reader = csv.reader(f)\n",
    "    next(reader)\n",
    "    manual_annotations = []\n",
    "    for annotation, row in zip(annotation_without_match, reader):\n",
    "        mention = row[0]\n",
    "        synonym = row[1]\n",
    "        cui = row[2]\n",
    "        assert annotation.annotation.get_mention() == mention\n",
    "        manual_annotations.append((annotation, cui))"
   ],
   "metadata": {
    "collapsed": false
   }
  },
  {
   "cell_type": "code",
   "execution_count": 94,
   "outputs": [
    {
     "data": {
      "text/plain": "(TranslatedAnnotation(annotation=Annotation(tech_term=None, lay_term='Verkleinerte NIeren', type=<TermType.LAY: 'LAY'>, span_start=9, span_end=28, synonyms=['Schrumpfniere (Nephrozirrhose)'], id=2472), translated_mention=TranslatedTerm(name='reduced kidneys', cui=''), translated_synonym=TranslatedTerm(name='shrinking kidney (nephrocirrhosis)', cui='')),\n 'C0156247')"
     },
     "execution_count": 94,
     "metadata": {},
     "output_type": "execute_result"
    }
   ],
   "source": [
    "manual_annotations[0]"
   ],
   "metadata": {
    "collapsed": false
   }
  },
  {
   "cell_type": "code",
   "execution_count": 95,
   "outputs": [
    {
     "name": "stderr",
     "output_type": "stream",
     "text": [
      "100%|██████████| 543/543 [00:00<00:00, 894894.72it/s]\n",
      "100%|██████████| 147/147 [00:00<00:00, 765916.38it/s]\n",
      "100%|██████████| 1042/1042 [00:00<00:00, 650851.05it/s]\n"
     ]
    }
   ],
   "source": [
    "all_annotations = []\n",
    "for annotation in tqdm(annotations_with_match):\n",
    "    all_annotations.append(dict(annotation=annotation[0], cui=annotation[2]))\n",
    "for annotation in tqdm(manual_annotations):\n",
    "    all_annotations.append(dict(annotation=annotation[0].annotation, cui=annotation[1]))\n",
    "for annotation in tqdm(unique_val_annotations):\n",
    "    all_annotations.append(\n",
    "        dict(annotation=annotation.mention.annotation, cui=annotation.match[\"cui\"][0]))"
   ],
   "metadata": {
    "collapsed": false
   }
  },
  {
   "cell_type": "code",
   "execution_count": 96,
   "outputs": [
    {
     "data": {
      "text/plain": "1732"
     },
     "execution_count": 96,
     "metadata": {},
     "output_type": "execute_result"
    }
   ],
   "source": [
    "len(all_annotations)"
   ],
   "metadata": {
    "collapsed": false
   }
  },
  {
   "cell_type": "markdown",
   "source": [
    "# add descriptions"
   ],
   "metadata": {
    "collapsed": false
   }
  },
  {
   "cell_type": "code",
   "execution_count": 121,
   "outputs": [],
   "source": [
    "umls_cache = dc.Cache(\"caches/umls_cache\")\n",
    "\n",
    "@umls_cache.memoize()\n",
    "def get_cui_name(cui):\n",
    "    query_url = f\"https://uts-ws.nlm.nih.gov/rest/content/current/CUI/{cui}?apiKey={UMLS_KEY}\"\n",
    "    response = requests.get(query_url)\n",
    "    if not \"result\" in response.json():\n",
    "        print(\"returning none for \", cui)\n",
    "        return None\n",
    "    else:\n",
    "        eng_name = response.json()[\"result\"][\"name\"]\n",
    "        name = translator.translate_text(text=eng_name, source_lang=\"EN\", target_lang=\"DE\").text\n",
    "        return name\n",
    "    \n",
    "@umls_cache.memoize()\n",
    "def get_description(cui):\n",
    "    name = get_cui_name(cui=cui)\n",
    "    \n",
    "    ger_sabs = [\"DMDICD10\", \"DMDUMD\", \"WHOGER\", \"ICPCGER\", \"LNC-DE-AT\", \"LNC-DE-DE\", \"MDRGER\",\n",
    "                \"MSHGER\"]\n",
    "    eng_sabs = [\"HPO\", \"MDR\", \"MSH\", \"SNOMEDCT_US\"]\n",
    "\n",
    "    query_url = f\"https://uts-ws.nlm.nih.gov/rest/content/current/CUI/{cui}/definitions?apiKey={UMLS_KEY}\"\n",
    "    response = requests.get(query_url)\n",
    "    if \"result\" in response.json():\n",
    "        result = response.json()[\"result\"]\n",
    "        for res in result:\n",
    "            if res[\"rootSource\"] in ger_sabs:\n",
    "                return f\"{name}: \" + res[\"value\"]\n",
    "        for res in result:\n",
    "            if res[\"rootSource\"] in eng_sabs:\n",
    "                return f\"{name}: \" + translator.translate_text(text=res[\"value\"], source_lang=\"EN\",\n",
    "                                                 target_lang=\"DE\").text\n",
    "        return f\"{name}: \" + translator.translate_text(text=response.json()[\"result\"][0][\"value\"],\n",
    "                                         source_lang=None,\n",
    "                                         target_lang=\"DE\").text\n",
    "    else:\n",
    "        return name\n"
   ],
   "metadata": {
    "collapsed": false
   }
  },
  {
   "cell_type": "code",
   "execution_count": 122,
   "outputs": [
    {
     "name": "stderr",
     "output_type": "stream",
     "text": [
      "100%|██████████| 1732/1732 [07:02<00:00,  4.10it/s]\n"
     ]
    }
   ],
   "source": [
    "for annotation in tqdm(all_annotations):\n",
    "    annotation[\"description\"] = get_description(cui=annotation[\"cui\"])"
   ],
   "metadata": {
    "collapsed": false
   }
  },
  {
   "cell_type": "code",
   "execution_count": 123,
   "outputs": [
    {
     "name": "stderr",
     "output_type": "stream",
     "text": [
      "100%|██████████| 1732/1732 [00:00<00:00, 1558244.21it/s]\n"
     ]
    }
   ],
   "source": [
    "for annotation in tqdm(all_annotations):\n",
    "    if annotation[\"description\"] is None:\n",
    "        print(annotation)"
   ],
   "metadata": {
    "collapsed": false
   }
  },
  {
   "cell_type": "code",
   "execution_count": 124,
   "outputs": [
    {
     "name": "stdout",
     "output_type": "stream",
     "text": [
      "0\n"
     ]
    }
   ],
   "source": [
    "no_desc_ann = [ann for ann in all_annotations if ann[\"description\"] is None]\n",
    "print(len(no_desc_ann))"
   ],
   "metadata": {
    "collapsed": false
   }
  },
  {
   "cell_type": "code",
   "execution_count": 125,
   "outputs": [],
   "source": [
    "# parse annotations to prodigy samples"
   ],
   "metadata": {
    "collapsed": false
   }
  },
  {
   "cell_type": "code",
   "execution_count": 126,
   "outputs": [
    {
     "name": "stderr",
     "output_type": "stream",
     "text": [
      "100%|██████████| 1732/1732 [00:00<00:00, 11030.35it/s]\n"
     ]
    }
   ],
   "source": [
    "prodigy_samples = []\n",
    "for ann_with_cui_and_desc in tqdm(all_annotations):\n",
    "    annotation = ann_with_cui_and_desc[\"annotation\"]\n",
    "    cui = ann_with_cui_and_desc[\"cui\"]\n",
    "    description = ann_with_cui_and_desc[\"description\"]\n",
    "    spans = [ProdigyNERLabel(start=annotation.span_start, end=annotation.span_end)]\n",
    "    text = sample_collection.get_sample_by_annotation_id(annotation.id).text\n",
    "    annotations_ids = get_annotation_ids(annotation.get_mention())\n",
    "    prodigy_samples.append(\n",
    "        ProdigySample(text=text, spans=spans, id=annotation.id, cui=cui, html=description,\n",
    "                      annotation_ids=annotations_ids))\n",
    "    "
   ],
   "metadata": {
    "collapsed": false
   }
  },
  {
   "cell_type": "code",
   "execution_count": 127,
   "outputs": [],
   "source": [
    "with jsonlines.open(TLCPaths.project_data_path.joinpath(\"prodigy_samples.jsonl\"), \"w\") as fp:\n",
    "    for annotation in prodigy_samples:\n",
    "        fp.write(annotation.dict())"
   ],
   "metadata": {
    "collapsed": false
   }
  },
  {
   "cell_type": "code",
   "execution_count": null,
   "outputs": [],
   "source": [],
   "metadata": {
    "collapsed": false
   }
  }
 ],
 "metadata": {
  "kernelspec": {
   "display_name": "Python 3",
   "language": "python",
   "name": "python3"
  },
  "language_info": {
   "codemirror_mode": {
    "name": "ipython",
    "version": 2
   },
   "file_extension": ".py",
   "mimetype": "text/x-python",
   "name": "python",
   "nbconvert_exporter": "python",
   "pygments_lexer": "ipython2",
   "version": "2.7.6"
  }
 },
 "nbformat": 4,
 "nbformat_minor": 0
}
