{
 "cells": [
  {
   "cell_type": "code",
   "execution_count": 1,
   "metadata": {
    "ExecuteTime": {
     "start_time": "2023-04-03T11:52:25.037946Z",
     "end_time": "2023-04-03T11:52:25.877004Z"
    }
   },
   "outputs": [],
   "source": [
    "import json\n",
    "import random\n",
    "from pathlib import Path\n",
    "\n",
    "import matplotlib.pyplot as plt\n",
    "import numpy as np\n",
    "from termcolor import colored\n",
    "\n",
    "from data_loading import load_tlc_samples\n",
    "from models import Match, SampleCollection\n",
    "from config import TLCPaths"
   ]
  },
  {
   "cell_type": "code",
   "execution_count": 2,
   "metadata": {
    "ExecuteTime": {
     "start_time": "2023-04-03T11:52:25.869945Z",
     "end_time": "2023-04-03T11:52:25.877276Z"
    }
   },
   "outputs": [],
   "source": [
    "def show_search_score_proportion(matches):\n",
    "    nums_matched = []\n",
    "    x = np.linspace(0, 1, 10)\n",
    "    for threshold in x:\n",
    "        num_matched = len([match for match in matches if match['score'] > threshold])\n",
    "        nums_matched.append(num_matched / len(matches))\n",
    "\n",
    "    fig, ax = plt.subplots()\n",
    "    ax.plot(x, nums_matched)\n",
    "    ax.set_xlabel(\"score threshold\")\n",
    "    ax.set_ylabel(\"% matched\")\n",
    "    ax.grid()\n",
    "    plt.show()\n"
   ]
  },
  {
   "cell_type": "code",
   "execution_count": 3,
   "metadata": {
    "ExecuteTime": {
     "start_time": "2023-04-03T11:52:25.875306Z",
     "end_time": "2023-04-03T11:52:25.896280Z"
    }
   },
   "outputs": [
    {
     "name": "stdout",
     "output_type": "stream",
     "text": [
      "matched_solr_20230403-100734.json\n",
      "matched_solr_TIME.json\n",
      "matched_solr_20230403-095600.json\n",
      "matched_solr_20230403-095605.json\n",
      "not_matched_solr_20230403-100735.json\n",
      "not_matched_solr_TIME.json\n",
      "not_matched_solr_20230403-095608.json\n"
     ]
    }
   ],
   "source": [
    "for file in TLCPaths.project_data_path.iterdir():\n",
    "    if \"matched_solr\" in str(file.name):\n",
    "        print(file.name)"
   ]
  },
  {
   "cell_type": "code",
   "execution_count": 4,
   "metadata": {
    "ExecuteTime": {
     "start_time": "2023-04-03T11:52:25.897537Z",
     "end_time": "2023-04-03T11:52:25.940440Z"
    }
   },
   "outputs": [],
   "source": [
    "matched_file_path = TLCPaths.project_data_path.joinpath(\"matched_solr_20230403-100734.json\")\n",
    "not_matched_file_path = TLCPaths.project_data_path.joinpath(\"not_matched_solr_20230403-100735.json\")\n",
    "# load the two json files \n",
    "with open(matched_file_path, \"r\") as f:\n",
    "    matched = [x for x in json.load(f)]\n",
    "with open(not_matched_file_path, \"r\") as f:\n",
    "    not_matched = [x for x in json.load(f)]"
   ]
  },
  {
   "cell_type": "code",
   "execution_count": 5,
   "metadata": {
    "ExecuteTime": {
     "start_time": "2023-04-03T11:52:25.913307Z",
     "end_time": "2023-04-03T11:52:25.967329Z"
    }
   },
   "outputs": [
    {
     "name": "stdout",
     "output_type": "stream",
     "text": [
      "len(matched)=998\n",
      "len(not_matched)=0\n"
     ]
    }
   ],
   "source": [
    "print(f\"{len(matched)=}\")\n",
    "print(f\"{len(not_matched)=}\")\n"
   ]
  },
  {
   "cell_type": "code",
   "execution_count": 6,
   "metadata": {
    "ExecuteTime": {
     "start_time": "2023-04-03T11:52:25.954093Z",
     "end_time": "2023-04-03T11:52:26.164425Z"
    }
   },
   "outputs": [
    {
     "data": {
      "text/plain": "<Figure size 432x288 with 1 Axes>",
      "image/png": "[encoded data removed]"
     },
     "metadata": {
      "needs_background": "light"
     },
     "output_type": "display_data"
    }
   ],
   "source": [
    "show_search_score_proportion(matched)"
   ]
  },
  {
   "cell_type": "code",
   "execution_count": 7,
   "metadata": {
    "ExecuteTime": {
     "start_time": "2023-04-03T11:52:26.158140Z",
     "end_time": "2023-04-03T11:52:26.164928Z"
    }
   },
   "outputs": [
    {
     "data": {
      "text/plain": "{'cui': ['C0034186'],\n 'source': ['MDRGER'],\n 'language': ['GER'],\n 'name': ['Pyelonephritis'],\n 'index_term': ['pyelonephriti'],\n 'id': 'c8b1ada1-826d-46fa-a6fb-186add6196a1',\n '_version_': 1760194257981800490,\n 'score': 1.0,\n 'stem': 'pyelonephriti'}"
     },
     "execution_count": 7,
     "metadata": {},
     "output_type": "execute_result"
    }
   ],
   "source": [
    "matched[0]"
   ]
  },
  {
   "cell_type": "code",
   "execution_count": 8,
   "metadata": {
    "ExecuteTime": {
     "start_time": "2023-04-03T11:52:26.158240Z",
     "end_time": "2023-04-03T11:52:26.183614Z"
    }
   },
   "outputs": [
    {
     "name": "stdout",
     "output_type": "stream",
     "text": [
      "reflux  matched with  ['vesikoureteral reflux'] (score = 1.0)\n",
      "\n",
      "algurie  matched with  ['algerie'] (score = 0.85714287)\n",
      "\n",
      "nodu  matched with  ['nodu sinuatriali'] (score = 1.0)\n",
      "\n",
      "ohne pathologischen befu  matched with  ['pathologisch trunkenheit'] (score = 0.5)\n",
      "\n",
      "interni  matched with  ['otiti interna'] (score = 0.85714287)\n",
      "\n",
      "atiologie  matched with  ['demenz infolg mulptipl aetiologie'] (score = 0.9)\n",
      "\n",
      "antidiarrhoikum  matched with  ['antidiarrhoika'] (score = 0.8666667)\n",
      "\n",
      "regelblutung  matched with  ['regelblutung'] (score = 1.0)\n",
      "\n",
      "hamatom  matched with  ['hamatom'] (score = 1.0)\n",
      "\n",
      "endog  matched with  ['serinproteinase-inhibitoren, endog'] (score = 1.0)\n",
      "\n"
     ]
    }
   ],
   "source": [
    "def print_n_matches(matches, n=10):\n",
    "    for matched_item in random.sample(matches, n):\n",
    "        print(matched_item['stem'], \" matched with \", matched_item['index_term'],\n",
    "              f\"(score = {matched_item['score']})\")\n",
    "        print()\n",
    "\n",
    "\n",
    "print_n_matches(matched)"
   ]
  },
  {
   "cell_type": "code",
   "execution_count": 9,
   "metadata": {
    "ExecuteTime": {
     "start_time": "2023-04-03T11:52:26.174413Z",
     "end_time": "2023-04-03T11:52:26.235460Z"
    }
   },
   "outputs": [
    {
     "name": "stdout",
     "output_type": "stream",
     "text": [
      "672 / 998\n",
      "not initially matched:  0\n",
      "zoliakie  matched with  ['zoliakie'] (score = 1.0)\n",
      "\n",
      "eiweiss  matched with  ['eiweiss'] (score = 1.0)\n",
      "\n",
      "har  matched with  ['hirnhaut, har'] (score = 1.0)\n",
      "\n",
      "verzicht  matched with  ['verdicht'] (score = 0.875)\n",
      "\n",
      "nephroskopie  matched with  ['nephroskopie'] (score = 1.0)\n",
      "\n",
      "riss  matched with  ['riss'] (score = 1.0)\n",
      "\n",
      "transpiratio  matched with  ['wavelet-transformatio'] (score = 0.7692308)\n",
      "\n",
      "zystoskopie  matched with  ['zystoskopie'] (score = 1.0)\n",
      "\n",
      "osophagiti  matched with  ['osophagiti'] (score = 1.0)\n",
      "\n",
      "ovar  matched with  ['ovar'] (score = 1.0)\n",
      "\n"
     ]
    }
   ],
   "source": [
    "threshold = 0.75  # some false negatives with .7, so .69 seems to work good\n",
    "cutoff_matches = [match for match in matched if match['score'] > threshold]\n",
    "below_cutoff = [match for match in matched if match['score'] <= threshold]\n",
    "print(len(cutoff_matches), '/', len(matched))\n",
    "print(\"not initially matched: \", len(not_matched))\n",
    "print_n_matches(cutoff_matches)"
   ]
  },
  {
   "cell_type": "code",
   "execution_count": 10,
   "metadata": {
    "ExecuteTime": {
     "start_time": "2023-04-03T11:52:26.217941Z",
     "end_time": "2023-04-03T11:52:26.235903Z"
    }
   },
   "outputs": [
    {
     "name": "stdout",
     "output_type": "stream",
     "text": [
      "akute appendiziti  matched with  ['appendiziti'] (score = 0.64705884)\n",
      "\n",
      "weisse blutkorperch  matched with  ['blutkorperch'] (score = 0.6315789)\n",
      "\n",
      "glutensensitive enteropathie  matched with  ['glutenenteropathie'] (score = 0.64285713)\n",
      "\n",
      "totale kolektomie  matched with  ['trabekulektomie'] (score = 0.7058823)\n",
      "\n",
      "cholelith  matched with  ['cholelithiasi'] (score = 0.6923077)\n",
      "\n",
      "btm  matched with  ['atm'] (score = 0.6666666)\n",
      "\n",
      "herzschwach  matched with  ['sehschwach'] (score = 0.72727275)\n",
      "\n",
      "haufiges wasserlassen   matched with  ['wasserlass'] (score = 0.45454544)\n",
      "\n",
      "anulus umbilicali  matched with  ['aluminiumsilicat'] (score = 0.5294118)\n",
      "\n",
      "breitbandantibiotikum  matched with  ['antibiotikum-bedingt koliti'] (score = 0.57142854)\n",
      "\n"
     ]
    }
   ],
   "source": [
    "print_n_matches(below_cutoff)"
   ]
  },
  {
   "cell_type": "code",
   "execution_count": 11,
   "metadata": {
    "ExecuteTime": {
     "start_time": "2023-04-03T11:52:26.218013Z",
     "end_time": "2023-04-03T11:52:26.236065Z"
    }
   },
   "outputs": [],
   "source": [
    "# print_n_matches(not_matched)"
   ]
  },
  {
   "cell_type": "code",
   "execution_count": 12,
   "metadata": {
    "ExecuteTime": {
     "start_time": "2023-04-03T11:52:26.218058Z",
     "end_time": "2023-04-03T11:52:26.236196Z"
    }
   },
   "outputs": [],
   "source": [
    "# combine not matched by score and not matched by solr\n",
    "below_cutoff = not_matched + below_cutoff"
   ]
  },
  {
   "cell_type": "code",
   "execution_count": 13,
   "metadata": {
    "ExecuteTime": {
     "start_time": "2023-04-03T11:52:26.218104Z",
     "end_time": "2023-04-03T11:52:26.299145Z"
    }
   },
   "outputs": [
    {
     "name": "stdout",
     "output_type": "stream",
     "text": [
      "Unique matched terms = 672\n",
      "Unique non-matched terms = 326\n"
     ]
    }
   ],
   "source": [
    "print(\n",
    "    f\"Unique matched terms = {len(cutoff_matches)}\")\n",
    "print(\n",
    "    f\"Unique non-matched terms = {len(below_cutoff)}\")\n"
   ]
  },
  {
   "cell_type": "code",
   "execution_count": 14,
   "metadata": {
    "ExecuteTime": {
     "start_time": "2023-04-03T11:52:26.265976Z",
     "end_time": "2023-04-03T11:52:26.310767Z"
    }
   },
   "outputs": [],
   "source": [
    "samples_to_annotate_path = TLCPaths.project_data_path.joinpath(\"samples_to_annotate.json\")\n",
    "samples_to_validate_path = TLCPaths.project_data_path.joinpath(\"samples_to_validate.json\")\n",
    "with open(samples_to_annotate_path, \"w\") as fp:\n",
    "    json.dump([sample for sample in below_cutoff], fp)\n",
    "    \n",
    "with open(samples_to_validate_path, \"w\") as fp:\n",
    "    json.dump([sample for sample in cutoff_matches], fp)"
   ]
  },
  {
   "cell_type": "markdown",
   "metadata": {},
   "source": [
    "## Analyze not mached mentions"
   ]
  },
  {
   "cell_type": "code",
   "execution_count": 15,
   "metadata": {
    "ExecuteTime": {
     "start_time": "2023-04-03T11:52:26.266029Z",
     "end_time": "2023-04-03T11:52:27.575492Z"
    }
   },
   "outputs": [],
   "source": [
    "sample_collection = SampleCollection(load_tlc_samples())\n",
    "annotations = [ann for sample in load_tlc_samples() for ann in sample.annotations]\n",
    "\n",
    "with open('search_terms_single_and_ids.json', 'r') as fp:\n",
    "    terms_and_ids = json.load(fp)\n",
    "    \n",
    "import os\n",
    "os.environ[\"FORCE_COLOR\"] = \"1\""
   ]
  },
  {
   "cell_type": "code",
   "execution_count": 25,
   "metadata": {
    "ExecuteTime": {
     "start_time": "2023-04-03T11:54:37.347004Z",
     "end_time": "2023-04-03T11:54:37.365572Z"
    }
   },
   "outputs": [
    {
     "name": "stdout",
     "output_type": "stream",
     "text": [
      "Thread: [Unerklärliche Bauchschmerzen]\n",
      "Text: [Hallo!\n",
      "Auch ich dachte laut der Beschwerden von einigen von euch gleich an \u001B[31mGallensteine\u001B[0m.\n",
      "Beim Ultraschall muss man komplett nüchtern sein, d.h. nicht mal Wasser trinken vorher, sonst kann man bei der Gallenblase nichts erkennen. Es gibt auch Gallensteine in den Gallengängen, wobei leider eine Ultraschalluntersuchungen meistens nicht reicht um diese zu erkennen. Da kann man eine ERCP (Sp\\u00edegelung) machen.\n",
      "Obwohl ich aber glaube, dass sie eure Ärzte die einen Oberbauchultraschall bei euch gemacht haben, sich die Gallenblasen sicher genau angesehen haben, da die Beschwerden ja auch dafür in Frage kommen.]\n",
      "\n",
      "Thread: [\u001B[31mMagen Darm Grippe\u001B[0m in Dauerschleife]\n",
      "Text: [Wie kann es dann aber sein, dass nur sie sich immer wieder neu ansteckt und wir anderen drei noch nicht?]\n",
      "\n",
      "Thread: [Appetitlosigkeit]\n",
      "Text: [Hallo Liebe med1 Mitglieder,\n",
      "Vorgeschichte in der Kurzfassung:\n",
      "- Sept 16 - März 17 linke Unterbauchschmerzen bis der \u001B[31mBlinddarm im März rauskam\u001B[0m (war nicht entzunden, aber Verwachsung wurden gelöst)\n",
      "- März 17 ist mein Daddy nach langem Kampf gg Leberzirrhosen mit multiplem Organversagen gestorben\n",
      "- Gastritis Typ C - Pantropazol bei Bedarf\n",
      "Nun das Problem:\n",
      "Seit ca. 4 Monaten hab ich echt wenig Hunger. Teils gar nicht, teils bin ich so schnell satt.\n",
      "Selbst nach einem Tag mit Bergtour 0 Appetit.\n",
      "Sind das noch die Folge der o.g. Ereignisse durch die Belastungen (auch Psyche) und des \\verlernen\\ des viel essens oder sollte man das doch mal abklären?! (War eigtl immer eine sehr gute Esserin).\n",
      "Nur selbst wenn ich mehr esse denk ich mich zerreist es od ich muss mich übergeben.\n",
      "Abnehmen tu ich jedoch nicht.\n",
      "(1,75 cm, 64 kg, 30 Jahre)\n",
      "Bsp. Heute Hunger ohne Ende auf Arbeit. 5 min Terrine gegessen und war selbst da nach der Hälfte satt. (War aber auch net der Hammer). Nun abends zwar was gegessen, aber 0 Hunger. Wäre auch ohne gegangen.\n",
      "Lg]\n",
      "\n",
      "Thread: [Nach Darm Op alles aus dem Gleichgewicht, kann das sein?]\n",
      "Text: [Hallo zusammen,\n",
      "ich hatte vor längerer Zeit eine Darm OP mit \u001B[31mTeilstückentfernung des Dickdarms\u001B[0m. ca. 2 Jahre später eine Hernie am Bauchnabel wohl entstanden durch die Darm OP mit diversen den Bauchschnitten.\n",
      "Seit dieser Op finde ich ist meine gesundheit durcheinander bzw. das Immunsysthem/Stoffwechsel.\n",
      "ich bin sehr oft krank mit diversem. Auch leider so langsam Stück für Stück das Gewicht. Das stört mich sehr.\n",
      "Kann es da einen Zusammenhang geben? Ganz zu Schweigen das ich nicht mehr alles essen kann/ vertrage.\n",
      "Danke und ein schönes WE ]\n",
      "\n",
      "Thread: [Dialyse. Mein Vater will lieber sterben]\n",
      "Text: [Hm, genau das habe ich erfahren, dass Patienten nach eine Dialyse sehr schlapp, schläfrig sind.\n",
      "Bei meinem Vater scheint es umgekehrt zu sein. Er ist unruhig, schläft gar nicht nach Dialyse, auch in der Nacht hat er Probleme. Zuhause hat er immer 2/4 Bromazepam bekommen.\n",
      "Im Krankenhaus bekommt er Tropfen, die nichts bringen.\n",
      "Aber ich denke, sein großes Problem ist seine Psyche. Er redet vom Sterben. Will einschlafen und nicht mehr erwachen. Dann meint er, er hat Angst vor sterben und denkt ganze zeit nach und das verursacht die Schlaflosigkeit.\n",
      "Er findet sein Bett unbequem und während der Dialyse ist es auch ungemütlich.\n",
      "Bin dabei für ihn bei der Krankenkasse ein Krankenbett zu besorgen, damit er nicht mehr aus dem Bett stürzt. Den seins ist sehr tief und er kommt schwer da raus. Die Krankenbetten haben Griffe, wo er sich festhalten kann.\n",
      "Mal schauen.\n",
      "Alles andere: JA, ich bin für ihn da und ich weiss was zutun ist, den ich beruflich mit solchen Patienten zutun habe. Bewegung ist wichtig, Treppe steigern auch, aber in seinen fall sehr vorsichtig, denn er kommt schnell aus der Puste.\n",
      "Einen \u001B[31mDefiblirator\u001B[0m hat er auch. hab ich nicht erwähnt.\n",
      "Bei diese Altentreffen Gruppe machen sie einmal im Monat Kopftraining, was ich eben ganz gut finde.\n",
      "LG]\n",
      "\n",
      "Thread: [Harnleiterschiene, werden die Schmerzen besser?]\n",
      "Text: [Der \u001B[31mrote Urin\u001B[0m ist relativ normal. Kannst es aber gerne zu deiner Beruhigung noch mal abklären lassen.\n",
      "Vielleicht ist das auch in jedem Haus etwas anders geregelt, wann die Steine geholt werden.]\n",
      "\n",
      "Thread: [Seit Monaten Darm Probleme]\n",
      "Text: [Hallo, nach meiner Antibiotikatherapie hatte ich auch Probleme mit meinem Darm.\n",
      "Da hat mir dann die Apothekerin das verordnet. \n",
      "Es hat in der Zeit der Einnahme geklappt, allerdings nicht weiterführend. Eine weitere Bekannte hat mir gesagt, das Darmproblem bleibt bis zu einem halben Jahr. Ich hab dann Diät gemacht mit Karotten und Sellerie essen.\n",
      "Meine Mutter hatte jetzt nach einen Städtetripp auch 3 Wochen Durchfall. Geholfen hat ihr Schonkost, Buchweizengries, Reis, und Karotten und Sellerie. Man findet eh im Internet was \u001B[31mstopfende\u001B[0m Lebensmittel sind. Da das allerdings nicht ausgereicht hat, habe ich sie jetzt auch auf Omnibiotic gesetzt. Schaun wir mal ob das den Darm repariert.\n",
      "Für dich kann ich nur den Tipp Omnibiotic 10 weiter geben. Oder eine komplette Darmreinigung mit einer Woche Gemüsebrühe trinken. Den Tipp hat mir eine Ernährungsberaterin mal gegeben. Vielleicht fragst du mal eine Beraterin was sie zu seinen Problem sagt.\n",
      "Ich will mit meinen Beitrag Gedanken anregen, keines Falls jedoch Werbung machen. Wenn es hilft ist doch jeder Rat willkommen.\n",
      "Lg Caro]\n",
      "\n",
      "Thread: [Niereninsuffizienz und Zeugungsfähigkeit?]\n",
      "Text: [mein mann hat bislang noch keine nennenswerten beschwerden durch seine nierenerkrankung. er befindet sich zwische dem zweiten und dritten stadium. einen leichten bluthochdruck hat er allerdings. den hatte er soweit ich weiß auch schon vor seiner erkrankung. diabetes und durchblutungsstörungen hat er soweit ich weiß nicht. er nimmt ab und an ace-hemmer aber die könnten wir bei einem kinderwunsch auch kurzzeitig absetzen denke ich. wir sind (leider) noch ziemlich jung. ich bin 28 und er 30.\n",
      "würde es denn auch etwas bringen wenn er seine \u001B[31mspermien jetzt einfrieren\u001B[0m lassen würde falls auch später nochmal ein kinderwunsch bestehen sollte oder hälst du das eher für unnötig?]\n",
      "\n",
      "Thread: [Wasser im \u001B[31mNierenbecken\u001B[0m]\n",
      "Text: [Wie soll ich denn diese Antwort verstehen ?]\n",
      "\n",
      "Thread: [Nierenwerte Schwankung möglich]\n",
      "Text: [Wenn du tatsächlich erst 24 Jahre sein solltest, erscheint mir das \u001B[31mSerumkreatinin\u001B[0m zu hoch. Allerdings nanntest du keinen Referenzbereich, welcher für Männer und Frauen leicht unterschiedlich ist. Dies aus dem Grund, weil Männer mehr Muskelmasse haben. Der Kreatininwert wird durch eine hohe Muskelmasse beeinflusst. Wenn du beispielsweise vor der Messung intensiv Sport gemacht hast oder viel Fleisch gegessen hast, kann der Serumkreatintinwert auch deshalb höher sein als üblich.\n",
      "Die GFR (glomeruläre Filtrationsrate der Nieren) sinkt hingegen mit steigendem Kreatinin.\n",
      "Zu hoher Blutdruck schädigt auf Dauer jedenfalls die Nieren und geschädigte Nieren verursachen hohen Blutdruck. Das ist sozusagen ein Teufelskreis. Kontrollierst du deinen Blutdruck regelmäßig? Ist er schon länger durch die Bank grenzwertig (hoch)? Oder war das nur einmalig?\n",
      "Du solltest deine Nierenwerte gelegentlich noch mal überprüfen lassen.]\n",
      "\n"
     ]
    }
   ],
   "source": [
    "for search_term in below_cutoff[:10]:\n",
    "    unique_ids = terms_and_ids[search_term['stem']]\n",
    "    annotation = next(ann for ann in annotations if ann.id in unique_ids)\n",
    "    sample = sample_collection.get_sample_by_annotation_id(annotation.id)\n",
    "    text = sample.text\n",
    "    colored_mention = colored(text[annotation.span_start:annotation.span_end], \"red\")\n",
    "    text_with_colors = text[:annotation.span_start] + colored_mention + text[annotation.span_end:]\n",
    "    print(text_with_colors)"
   ]
  },
  {
   "cell_type": "code",
   "execution_count": 17,
   "metadata": {
    "ExecuteTime": {
     "start_time": "2023-04-03T11:52:27.626087Z",
     "end_time": "2023-04-03T11:52:27.626525Z"
    }
   },
   "outputs": [],
   "source": []
  }
 ],
 "metadata": {
  "kernelspec": {
   "display_name": "Python 3",
   "language": "python",
   "name": "python3"
  },
  "language_info": {
   "codemirror_mode": {
    "name": "ipython",
    "version": 3
   },
   "file_extension": ".py",
   "mimetype": "text/x-python",
   "name": "python",
   "nbconvert_exporter": "python",
   "pygments_lexer": "ipython3",
   "version": "3.11.2"
  }
 },
 "nbformat": 4,
 "nbformat_minor": 1
}
