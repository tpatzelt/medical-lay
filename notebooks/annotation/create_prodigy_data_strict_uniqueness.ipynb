{
 "cells": [
  {
   "cell_type": "code",
   "execution_count": 33,
   "outputs": [],
   "source": [
    "import json\n",
    "from pprint import pprint\n",
    "\n",
    "import diskcache as dc\n",
    "import requests\n",
    "import jsonlines \n",
    "\n",
    "from deepl import Translator\n",
    "from pydantic import BaseModel\n",
    "from tqdm import tqdm\n",
    "\n",
    "from config import TLCPaths\n",
    "from data_loading import load_tlc_samples, get_annotation_ids\n",
    "from models import Match, SampleCollection, Annotation, ProdigySample, ProdigyNERLabel"
   ],
   "metadata": {
    "collapsed": false,
    "ExecuteTime": {
     "start_time": "2023-04-11T15:20:25.598882Z",
     "end_time": "2023-04-11T15:20:27.523004Z"
    }
   }
  },
  {
   "cell_type": "code",
   "execution_count": 34,
   "outputs": [],
   "source": [
    "sample_collection = SampleCollection(load_tlc_samples())\n",
    "annotations = [ann for sample in load_tlc_samples() for ann in sample.annotations]\n",
    "\n",
    "def get_annotation_by_id(id):\n",
    "    for ann in annotations:\n",
    "        if ann.id == id:\n",
    "            return ann\n",
    "    return None\n",
    "\n",
    "with open(TLCPaths.project_data_path.joinpath('search_terms_single_and_ids_strict_uniqueness.json'), 'r') as fp:\n",
    "    terms_and_ids = json.load(fp)\n",
    "    \n"
   ],
   "metadata": {
    "collapsed": false,
    "ExecuteTime": {
     "start_time": "2023-04-11T15:20:26.573568Z",
     "end_time": "2023-04-11T15:20:28.409883Z"
    }
   }
  },
  {
   "cell_type": "code",
   "execution_count": 35,
   "outputs": [
    {
     "name": "stdout",
     "output_type": "stream",
     "text": [
      "len(annotation_samples)=326\n",
      "len(validation_samples)=672\n",
      "len(annotation_samples)=326\n",
      "len(validation_samples)=672\n"
     ]
    }
   ],
   "source": [
    "annotations_file_path = TLCPaths.project_data_path.joinpath(\"samples_to_annotate.json\")\n",
    "validations_file_path = TLCPaths.project_data_path.joinpath(\"samples_to_validate.json\")\n",
    "# load the two json files \n",
    "with open(annotations_file_path, \"r\") as f:\n",
    "    annotation_samples = [x for x in json.load(f)]\n",
    "with open(validations_file_path, \"r\") as f:\n",
    "    validation_samples = [x for x in json.load(f)]\n",
    "\n",
    "print(f\"{len(annotation_samples)=}\")\n",
    "print(f\"{len(validation_samples)=}\")\n"
   ],
   "metadata": {
    "collapsed": false,
    "ExecuteTime": {
     "start_time": "2023-04-11T15:20:26.586652Z",
     "end_time": "2023-04-11T15:20:28.460514Z"
    }
   }
  },
  {
   "cell_type": "code",
   "execution_count": 36,
   "outputs": [],
   "source": [
    "validation_annotations = []\n",
    "validation_cuis = {}\n",
    "for validation_sample in validation_samples:\n",
    "    stem = validation_sample[\"stem\"]\n",
    "    ids = terms_and_ids[stem.strip()]\n",
    "    annotation = get_annotation_by_id(ids[0])\n",
    "    validation_annotations.append(annotation)\n",
    "    validation_cuis[annotation.id] = validation_sample[\"cui\"]"
   ],
   "metadata": {
    "collapsed": false,
    "ExecuteTime": {
     "start_time": "2023-04-11T15:20:26.694111Z",
     "end_time": "2023-04-11T15:20:28.565050Z"
    }
   }
  },
  {
   "cell_type": "code",
   "execution_count": 37,
   "outputs": [],
   "source": [
    "annotation_annotations = []\n",
    "for annotation_sample in annotation_samples:\n",
    "    stem = annotation_sample[\"stem\"]\n",
    "    ids = terms_and_ids[stem.strip()]\n",
    "    annotation = get_annotation_by_id(ids[0])\n",
    "    annotation_annotations.append(annotation)"
   ],
   "metadata": {
    "collapsed": false,
    "ExecuteTime": {
     "start_time": "2023-04-11T15:20:26.763018Z",
     "end_time": "2023-04-11T15:20:28.656112Z"
    }
   }
  },
  {
   "cell_type": "code",
   "execution_count": 38,
   "outputs": [],
   "source": [
    "# translate mentions and synonym to english\n",
    "# use mention and synonym to find cui. if disagree take mention if tech term or take synonym is lay term\n",
    "# query umls for german description. if not available take english one and translate back to german"
   ],
   "metadata": {
    "collapsed": false,
    "ExecuteTime": {
     "start_time": "2023-04-11T15:20:26.818205Z",
     "end_time": "2023-04-11T15:20:28.656312Z"
    }
   }
  },
  {
   "cell_type": "code",
   "execution_count": 39,
   "outputs": [],
   "source": [
    "class TranslatedTerm(BaseModel):\n",
    "    name: str\n",
    "    cui: str = \"\"\n",
    "\n",
    "\n",
    "class TranslatedAnnotation(BaseModel):\n",
    "    annotation: Annotation\n",
    "    translated_mention: TranslatedTerm\n",
    "    translated_synonym: TranslatedTerm\n",
    "\n",
    "\n",
    "class CachedTranslator:\n",
    "    def __init__(self, cache, api_key):\n",
    "        self.cache = cache\n",
    "        self.translator = Translator(api_key)\n",
    "\n",
    "    def translate_text(self, text, source_lang, target_lang):\n",
    "        if (text, source_lang, target_lang) in self.cache:\n",
    "            return self.cache[(text, source_lang, target_lang)]\n",
    "        else:\n",
    "            res = self.translator.translate_text(text, source_lang=source_lang,\n",
    "                                                 target_lang=target_lang)\n",
    "            self.cache[(text, source_lang, target_lang)] = res\n",
    "            return res\n",
    "\n",
    "\n",
    "deepl_cache = dc.Cache(\"caches/deepl_cache\")\n",
    "deepl_key = \"0c25ea6d-b79f-288a-541f-ae25709c6312:fx\"\n",
    "translator = CachedTranslator(deepl_cache, deepl_key)"
   ],
   "metadata": {
    "collapsed": false,
    "ExecuteTime": {
     "start_time": "2023-04-11T15:20:26.818483Z",
     "end_time": "2023-04-11T15:20:28.656441Z"
    }
   }
  },
  {
   "cell_type": "code",
   "execution_count": 40,
   "outputs": [
    {
     "data": {
      "text/plain": "'Hospital Wall'"
     },
     "execution_count": 8,
     "metadata": {},
     "output_type": "execute_result"
    },
    {
     "data": {
      "text/plain": "'Hospital Wall'"
     },
     "execution_count": 40,
     "metadata": {},
     "output_type": "execute_result"
    }
   ],
   "source": [
    "res = translator.translate_text(\"Krankenhausmauer\", source_lang=\"DE\", target_lang=\"EN-US\")\n",
    "res.text"
   ],
   "metadata": {
    "collapsed": false,
    "ExecuteTime": {
     "start_time": "2023-04-11T15:20:26.864471Z",
     "end_time": "2023-04-11T15:20:28.656645Z"
    }
   }
  },
  {
   "cell_type": "code",
   "execution_count": 41,
   "outputs": [
    {
     "name": "stderr",
     "output_type": "stream",
     "text": [
      "100%|██████████| 326/326 [00:00<00:00, 4738.09it/s]\n",
      "100%|██████████| 326/326 [00:00<00:00, 4901.19it/s]\n"
     ]
    }
   ],
   "source": [
    "translated_annotations = []\n",
    "for annotation in tqdm(annotation_annotations):\n",
    "    mention = annotation.get_mention()\n",
    "    translated_mention = translator.translate_text(mention.lower(), source_lang=\"DE\",\n",
    "                                                   target_lang=\"EN-US\").text\n",
    "    if len(annotation.synonyms) == 0:\n",
    "        translated_synonym = \"\"\n",
    "    else:\n",
    "        synonym = annotation.synonyms[0]\n",
    "        translated_synonym = translator.translate_text(synonym.lower(), source_lang=\"DE\",\n",
    "                                                       target_lang=\"EN-US\").text\n",
    "    translated_annotations.append(TranslatedAnnotation(annotation=annotation,\n",
    "                                                       translated_mention=TranslatedTerm(\n",
    "                                                           name=translated_mention),\n",
    "                                                       translated_synonym=TranslatedTerm(\n",
    "                                                           name=translated_synonym)))"
   ],
   "metadata": {
    "collapsed": false,
    "ExecuteTime": {
     "start_time": "2023-04-11T15:20:26.935222Z",
     "end_time": "2023-04-11T15:20:28.740100Z"
    }
   }
  },
  {
   "cell_type": "code",
   "execution_count": 42,
   "outputs": [
    {
     "data": {
      "text/plain": "TranslatedAnnotation(annotation=Annotation(tech_term=None, lay_term='Harnröhreninfekt', type=<TermType.LAY: 'LAY'>, span_start=927, span_end=943, synonyms=['Bakterielle Urethritis', 'Bakterielle Urethritis'], id=2742), translated_mention=TranslatedTerm(name='urethral infection', cui=''), translated_synonym=TranslatedTerm(name='bacterial urethritis', cui=''))"
     },
     "execution_count": 10,
     "metadata": {},
     "output_type": "execute_result"
    },
    {
     "data": {
      "text/plain": "TranslatedAnnotation(annotation=Annotation(tech_term=None, lay_term='Harnröhreninfekt', type=<TermType.LAY: 'LAY'>, span_start=927, span_end=943, synonyms=['Bakterielle Urethritis', 'Bakterielle Urethritis'], id=2742), translated_mention=TranslatedTerm(name='urethral infection', cui=''), translated_synonym=TranslatedTerm(name='bacterial urethritis', cui=''))"
     },
     "execution_count": 42,
     "metadata": {},
     "output_type": "execute_result"
    }
   ],
   "source": [
    "translated_annotations[-1]"
   ],
   "metadata": {
    "collapsed": false,
    "ExecuteTime": {
     "start_time": "2023-04-11T15:20:26.935767Z",
     "end_time": "2023-04-11T15:20:28.740820Z"
    }
   }
  },
  {
   "cell_type": "code",
   "execution_count": 43,
   "outputs": [
    {
     "name": "stdout",
     "output_type": "stream",
     "text": [
      "C0034186\n",
      "C0034186\n"
     ]
    }
   ],
   "source": [
    "UMLS_KEY = \"43f9234c-4977-45f6-a440-2dda1b43d919\"\n",
    "\n",
    "umls_cache = dc.Cache(\"caches/umls_cache\")\n",
    "\n",
    "\n",
    "@umls_cache.memoize()\n",
    "def get_cui(name):\n",
    "    query_url = f\"https://uts-ws.nlm.nih.gov/rest/search/current?apiKey={UMLS_KEY}&string={name}&searchType=normalizedString\"\n",
    "    ### send a get request to query url and get response\n",
    "    response = requests.get(query_url)\n",
    "    if not \"result\" in response.json():\n",
    "        print(\"name: \", name, response.json())\n",
    "        return \"\"\n",
    "    results = response.json()[\"result\"][\"results\"]\n",
    "    if results:\n",
    "        return results[0][\"ui\"]\n",
    "    else:\n",
    "        return \"\"\n",
    "\n",
    "\n",
    "cui = get_cui(name=\"Pyelonephritis\")\n",
    "print(cui)"
   ],
   "metadata": {
    "collapsed": false,
    "ExecuteTime": {
     "start_time": "2023-04-11T15:20:26.937057Z",
     "end_time": "2023-04-11T15:20:28.828792Z"
    }
   }
  },
  {
   "cell_type": "code",
   "execution_count": 44,
   "outputs": [
    {
     "name": "stderr",
     "output_type": "stream",
     "text": [
      "100%|██████████| 326/326 [00:00<00:00, 9680.31it/s]\n",
      "100%|██████████| 326/326 [00:00<00:00, 7779.43it/s]\n"
     ]
    }
   ],
   "source": [
    "for translated_annotation in tqdm(translated_annotations):\n",
    "    if translated_annotation.translated_mention.cui == \"\":\n",
    "        translated_annotation.translated_mention.cui = get_cui(\n",
    "            name=translated_annotation.translated_mention.name)\n",
    "    if translated_annotation.translated_synonym.cui == \"\":\n",
    "        translated_annotation.translated_synonym.cui = get_cui(\n",
    "            name=translated_annotation.translated_synonym.name)\n"
   ],
   "metadata": {
    "collapsed": false,
    "ExecuteTime": {
     "start_time": "2023-04-11T15:20:27.078311Z",
     "end_time": "2023-04-11T15:20:28.830710Z"
    }
   }
  },
  {
   "cell_type": "code",
   "execution_count": 45,
   "outputs": [
    {
     "name": "stderr",
     "output_type": "stream",
     "text": [
      "100%|██████████| 326/326 [00:00<00:00, 557644.01it/s]\n",
      "100%|██████████| 326/326 [00:00<00:00, 952852.34it/s]\n"
     ]
    }
   ],
   "source": [
    "# annotations_with_match = []  # entry = (annotation, translated_name, cui)\n",
    "# annotation_without_match = []  # entry = (annotation)    \n",
    "# for annotation in tqdm(translated_annotations):\n",
    "#     if annotation.translated_synonym.cui and not annotation.translated_mention.cui:\n",
    "#         entry = (annotation.annotation, annotation.translated_synonym.name,\n",
    "#                  annotation.translated_synonym.cui)\n",
    "#     elif not annotation.translated_synonym.cui and annotation.translated_mention.cui:\n",
    "#         entry = (annotation.annotation, annotation.translated_mention.name,\n",
    "#                  annotation.translated_mention.cui)\n",
    "#     elif not annotation.translated_synonym.cui and not annotation.translated_mention.cui:\n",
    "#         annotation_without_match.append(annotation)\n",
    "#         continue\n",
    "#     else:\n",
    "#         if annotation.annotation.type == \"TECH\":\n",
    "#             entry = (annotation.annotation, annotation.translated_mention.name,\n",
    "#                      annotation.translated_mention.cui)\n",
    "#         else:\n",
    "#             entry = (annotation.annotation, annotation.translated_synonym.name,\n",
    "#                      annotation.translated_synonym.cui)\n",
    "#     annotations_with_match.append(entry)\n",
    "annotations_with_match = []\n",
    "annotations_without_match = []\n",
    "\n",
    "for annotation in tqdm(translated_annotations):\n",
    "    has_synonym_cui = bool(annotation.translated_synonym.cui)\n",
    "    has_mention_cui = bool(annotation.translated_mention.cui)\n",
    "    \n",
    "    if has_synonym_cui and not has_mention_cui:\n",
    "        matched_term = annotation.translated_synonym\n",
    "    elif not has_synonym_cui and has_mention_cui:\n",
    "        matched_term = annotation.translated_mention\n",
    "    elif not has_synonym_cui and not has_mention_cui:\n",
    "        annotations_without_match.append(annotation)\n",
    "        continue\n",
    "    else:  # Both synonym and mention have CUIs\n",
    "        matched_term = (\n",
    "            annotation.translated_mention\n",
    "            if annotation.annotation.type == \"TECH\"\n",
    "            else annotation.translated_synonym\n",
    "        )\n",
    "\n",
    "    entry = (annotation.annotation, matched_term.name, matched_term.cui)\n",
    "    annotations_with_match.append(entry)\n"
   ],
   "metadata": {
    "collapsed": false,
    "ExecuteTime": {
     "start_time": "2023-04-11T15:20:27.079453Z",
     "end_time": "2023-04-11T15:20:28.831085Z"
    }
   }
  },
  {
   "cell_type": "code",
   "execution_count": 46,
   "outputs": [],
   "source": [
    "# found cuis for 203 annotations and not for 123 annotations"
   ],
   "metadata": {
    "collapsed": false,
    "ExecuteTime": {
     "start_time": "2023-04-11T15:20:27.079639Z",
     "end_time": "2023-04-11T15:20:28.831206Z"
    }
   }
  },
  {
   "cell_type": "code",
   "execution_count": 47,
   "outputs": [
    {
     "name": "stdout",
     "output_type": "stream",
     "text": [
      "203\n",
      "[(Annotation(tech_term='Gallensteine', lay_term=None, type=<TermType.TECH: 'TECH'>, span_start=121, span_end=133, synonyms=['Cholelith', 'Cholelith'], id=6202), 'gallstones', 'C0008350'), (Annotation(tech_term=None, lay_term='Magen Darm Grippe', type=<TermType.LAY: 'LAY'>, span_start=9, span_end=26, synonyms=['Norovirus-Gastroenteritis', 'Norovirus-Gastroenteritis'], id=5687), 'norovirus gastroenteritis', 'C2242683')]\n",
      "203\n",
      "[(Annotation(tech_term='Gallensteine', lay_term=None, type=<TermType.TECH: 'TECH'>, span_start=121, span_end=133, synonyms=['Cholelith', 'Cholelith'], id=6202), 'gallstones', 'C0008350'), (Annotation(tech_term=None, lay_term='Magen Darm Grippe', type=<TermType.LAY: 'LAY'>, span_start=9, span_end=26, synonyms=['Norovirus-Gastroenteritis', 'Norovirus-Gastroenteritis'], id=5687), 'norovirus gastroenteritis', 'C2242683')]\n"
     ]
    }
   ],
   "source": [
    "print(len(annotations_with_match))\n",
    "print(annotations_with_match[:2])"
   ],
   "metadata": {
    "collapsed": false,
    "ExecuteTime": {
     "start_time": "2023-04-11T15:20:27.079889Z",
     "end_time": "2023-04-11T15:20:28.899301Z"
    }
   }
  },
  {
   "cell_type": "code",
   "execution_count": 48,
   "outputs": [
    {
     "name": "stdout",
     "output_type": "stream",
     "text": [
      "123\n",
      "annotation=Annotation(tech_term='Defiblirator', lay_term=None, type=<TermType.TECH: 'TECH'>, span_start=1163, span_end=1175, synonyms=['Schockgeber', 'Schockgeber'], id=811) translated_mention=TranslatedTerm(name='defiblirator', cui='') translated_synonym=TranslatedTerm(name='shock generator', cui='')\n",
      "123\n",
      "annotation=Annotation(tech_term='Defiblirator', lay_term=None, type=<TermType.TECH: 'TECH'>, span_start=1163, span_end=1175, synonyms=['Schockgeber', 'Schockgeber'], id=811) translated_mention=TranslatedTerm(name='defiblirator', cui='') translated_synonym=TranslatedTerm(name='shock generator', cui='')\n"
     ]
    }
   ],
   "source": [
    "print(len(annotation_without_match))  # no cui for mention or synonym found\n",
    "print(annotation_without_match[0])"
   ],
   "metadata": {
    "collapsed": false,
    "ExecuteTime": {
     "start_time": "2023-04-11T15:20:27.080073Z",
     "end_time": "2023-04-11T15:20:28.899597Z"
    }
   }
  },
  {
   "cell_type": "code",
   "execution_count": 49,
   "outputs": [
    {
     "name": "stdout",
     "output_type": "stream",
     "text": [
      "Defiblirator name='defiblirator' cui=''\n",
      "Schockgeber name='shock generator' cui=''\n",
      "\n",
      "stopfende name='stuffing' cui=''\n",
      "obstipierend name='obstipating' cui=''\n",
      "\n",
      "Teufelskreis name='vicious circle' cui=''\n",
      "Circulus vitiosus name='circulus vitiosus' cui=''\n",
      "\n",
      "schlimme Rückenschmerzen in der Höhe der Nieren name='bad back pain at the level of the kidneys' cui=''\n",
      "Symptome des oberen Urogenitaltraktes name='symptoms of the upper urogenital tract' cui=''\n",
      "\n",
      "Schmerzen an den Nieren und 3 fach erhöhte Entzündungswerte im Urin name='pain in the kidneys and 3 times increased inflammation values in the urine' cui=''\n",
      "Infektion des oberen Urogenitaltraktes name='infection of the upper urogenital tract' cui=''\n",
      "\n",
      "Defiblirator name='defiblirator' cui=''\n",
      "Schockgeber name='shock generator' cui=''\n",
      "\n",
      "stopfende name='stuffing' cui=''\n",
      "obstipierend name='obstipating' cui=''\n",
      "\n",
      "Teufelskreis name='vicious circle' cui=''\n",
      "Circulus vitiosus name='circulus vitiosus' cui=''\n",
      "\n",
      "schlimme Rückenschmerzen in der Höhe der Nieren name='bad back pain at the level of the kidneys' cui=''\n",
      "Symptome des oberen Urogenitaltraktes name='symptoms of the upper urogenital tract' cui=''\n",
      "\n",
      "Schmerzen an den Nieren und 3 fach erhöhte Entzündungswerte im Urin name='pain in the kidneys and 3 times increased inflammation values in the urine' cui=''\n",
      "Infektion des oberen Urogenitaltraktes name='infection of the upper urogenital tract' cui=''\n",
      "\n"
     ]
    }
   ],
   "source": [
    "for annotation in annotation_without_match[:5]:\n",
    "    print(annotation.annotation.get_mention(), annotation.translated_mention)\n",
    "    if annotation.annotation.synonyms:\n",
    "        print(annotation.annotation.synonyms[0], annotation.translated_synonym)\n",
    "    print()"
   ],
   "metadata": {
    "collapsed": false,
    "ExecuteTime": {
     "start_time": "2023-04-11T15:20:27.080263Z",
     "end_time": "2023-04-11T15:20:28.899869Z"
    }
   }
  },
  {
   "cell_type": "code",
   "execution_count": 50,
   "outputs": [],
   "source": [
    "import csv\n",
    "\n",
    "with open(\"to_annotate_strict.csv\", \"w\") as f:\n",
    "    writer = csv.writer(f)\n",
    "    writer.writerow([\"mention\", \"synonym\", \"cui\"])\n",
    "    for annotation in annotation_without_match:\n",
    "        writer.writerow([annotation.annotation.get_mention(), annotation.annotation.synonyms, \"\"])"
   ],
   "metadata": {
    "collapsed": false,
    "ExecuteTime": {
     "start_time": "2023-04-11T15:20:27.080817Z",
     "end_time": "2023-04-11T15:20:28.899991Z"
    }
   }
  },
  {
   "cell_type": "code",
   "execution_count": 51,
   "outputs": [
    {
     "name": "stdout",
     "output_type": "stream",
     "text": [
      "tech_term=None lay_term='Teufelskreis' type=<TermType.LAY: 'LAY'> span_start=753 span_end=765 synonyms=['Circulus vitiosus', 'Circulus vitiosus'] id=3898\n",
      "tech_term=None lay_term='Teufelskreis' type=<TermType.LAY: 'LAY'> span_start=753 span_end=765 synonyms=['Circulus vitiosus', 'Circulus vitiosus'] id=3898\n"
     ]
    }
   ],
   "source": [
    "filtered_anns = []\n",
    "for ann in annotation_without_match:\n",
    "    if ann.annotation.get_mention() == \"Teufelskreis\":\n",
    "        print(ann.annotation)\n",
    "        continue\n",
    "    filtered_anns.append(ann)"
   ],
   "metadata": {
    "collapsed": false,
    "ExecuteTime": {
     "start_time": "2023-04-11T15:20:27.081027Z",
     "end_time": "2023-04-11T15:20:28.941214Z"
    }
   }
  },
  {
   "cell_type": "code",
   "execution_count": 52,
   "outputs": [],
   "source": [
    "# annotation_without_match = filtered_anns"
   ],
   "metadata": {
    "collapsed": false,
    "ExecuteTime": {
     "start_time": "2023-04-11T15:20:27.081146Z",
     "end_time": "2023-04-11T15:20:28.941426Z"
    }
   }
  },
  {
   "cell_type": "code",
   "execution_count": 53,
   "outputs": [],
   "source": [
    "# ## read in annotations from csv\n",
    "# with open(\"to_annotate.copy.csv\", \"r\") as f:\n",
    "#     reader = csv.reader(f)\n",
    "#     next(reader)\n",
    "#     manual_annotations = []\n",
    "#     for annotation, row in zip(annotation_without_match, reader):\n",
    "#         mention = row[0]\n",
    "#         synonym = row[1]\n",
    "#         cui = row[2]\n",
    "#         assert annotation.annotation.get_mention() == mention\n",
    "#         manual_annotations.append((annotation, cui))\n",
    "#         \n",
    "# manual_annotations[0]"
   ],
   "metadata": {
    "collapsed": false,
    "ExecuteTime": {
     "start_time": "2023-04-11T15:20:27.081245Z",
     "end_time": "2023-04-11T15:20:28.941585Z"
    }
   }
  },
  {
   "cell_type": "code",
   "execution_count": 54,
   "outputs": [],
   "source": [
    "manual_annotations = []"
   ],
   "metadata": {
    "collapsed": false,
    "ExecuteTime": {
     "start_time": "2023-04-11T15:20:27.184316Z",
     "end_time": "2023-04-11T15:20:28.941782Z"
    }
   }
  },
  {
   "cell_type": "code",
   "execution_count": 55,
   "outputs": [
    {
     "name": "stderr",
     "output_type": "stream",
     "text": [
      "100%|██████████| 203/203 [00:00<00:00, 687202.35it/s]\n",
      "0it [00:00, ?it/s]\n",
      "100%|██████████| 672/672 [00:00<00:00, 614603.64it/s]\n",
      "100%|██████████| 203/203 [00:00<00:00, 1017256.53it/s]\n",
      "0it [00:00, ?it/s]\n",
      "100%|██████████| 672/672 [00:00<00:00, 443590.22it/s]\n"
     ]
    }
   ],
   "source": [
    "all_annotations = []\n",
    "for annotation in tqdm(annotations_with_match):\n",
    "    all_annotations.append(dict(annotation=annotation[0], cui=annotation[2]))\n",
    "for annotation in tqdm(manual_annotations):\n",
    "    all_annotations.append(dict(annotation=annotation[0].annotation, cui=annotation[1]))\n",
    "for annotation in tqdm(validation_annotations):\n",
    "    all_annotations.append(\n",
    "        dict(annotation=annotation, cui=validation_cuis[annotation.id][0]))"
   ],
   "metadata": {
    "collapsed": false,
    "ExecuteTime": {
     "start_time": "2023-04-11T15:20:27.243603Z",
     "end_time": "2023-04-11T15:20:29.002142Z"
    }
   }
  },
  {
   "cell_type": "code",
   "execution_count": 56,
   "outputs": [
    {
     "name": "stdout",
     "output_type": "stream",
     "text": [
      "875\n",
      "875\n"
     ]
    }
   ],
   "source": [
    "print(len(all_annotations)) # 123 missing from manual annotation"
   ],
   "metadata": {
    "collapsed": false,
    "ExecuteTime": {
     "start_time": "2023-04-11T15:20:27.243951Z",
     "end_time": "2023-04-11T15:20:29.002506Z"
    }
   }
  },
  {
   "cell_type": "markdown",
   "source": [
    "# add descriptions"
   ],
   "metadata": {
    "collapsed": false
   }
  },
  {
   "cell_type": "code",
   "execution_count": 57,
   "outputs": [],
   "source": [
    "umls_cache = dc.Cache(\"caches/umls_cache\")\n",
    "\n",
    "@umls_cache.memoize()\n",
    "def get_cui_name(cui):\n",
    "    query_url = f\"https://uts-ws.nlm.nih.gov/rest/content/current/CUI/{cui}?apiKey={UMLS_KEY}\"\n",
    "    response = requests.get(query_url)\n",
    "    if not \"result\" in response.json():\n",
    "        print(\"returning none for \", cui)\n",
    "        return None\n",
    "    else:\n",
    "        eng_name = response.json()[\"result\"][\"name\"]\n",
    "        name = translator.translate_text(text=eng_name, source_lang=\"EN\", target_lang=\"DE\").text\n",
    "        return name\n",
    "    \n",
    "@umls_cache.memoize()\n",
    "def get_description(cui):\n",
    "    name = get_cui_name(cui=cui)\n",
    "    \n",
    "    ger_sabs = [\"DMDICD10\", \"DMDUMD\", \"WHOGER\", \"ICPCGER\", \"LNC-DE-AT\", \"LNC-DE-DE\", \"MDRGER\",\n",
    "                \"MSHGER\"]\n",
    "    eng_sabs = [\"HPO\", \"MDR\", \"MSH\", \"SNOMEDCT_US\"]\n",
    "\n",
    "    query_url = f\"https://uts-ws.nlm.nih.gov/rest/content/current/CUI/{cui}/definitions?apiKey={UMLS_KEY}\"\n",
    "    response = requests.get(query_url)\n",
    "    if \"result\" in response.json():\n",
    "        result = response.json()[\"result\"]\n",
    "        for res in result:\n",
    "            if res[\"rootSource\"] in ger_sabs:\n",
    "                return f\"{name}: \" + res[\"value\"]\n",
    "        for res in result:\n",
    "            if res[\"rootSource\"] in eng_sabs:\n",
    "                return f\"{name}: \" + translator.translate_text(text=res[\"value\"], source_lang=\"EN\",\n",
    "                                                 target_lang=\"DE\").text\n",
    "        return f\"{name}: \" + translator.translate_text(text=response.json()[\"result\"][0][\"value\"],\n",
    "                                         source_lang=None,\n",
    "                                         target_lang=\"DE\").text\n",
    "    else:\n",
    "        return name\n"
   ],
   "metadata": {
    "collapsed": false,
    "ExecuteTime": {
     "start_time": "2023-04-11T15:20:27.244708Z",
     "end_time": "2023-04-11T15:20:29.002705Z"
    }
   }
  },
  {
   "cell_type": "code",
   "execution_count": 58,
   "outputs": [
    {
     "name": "stderr",
     "output_type": "stream",
     "text": [
      "100%|██████████| 875/875 [00:00<00:00, 22338.51it/s]\n",
      "100%|██████████| 875/875 [00:00<00:00, 15233.59it/s]\n"
     ]
    }
   ],
   "source": [
    "for annotation in tqdm(all_annotations):\n",
    "    annotation[\"description\"] = get_description(cui=annotation[\"cui\"])"
   ],
   "metadata": {
    "collapsed": false,
    "ExecuteTime": {
     "start_time": "2023-04-11T15:20:27.245943Z",
     "end_time": "2023-04-11T15:20:29.058269Z"
    }
   }
  },
  {
   "cell_type": "code",
   "execution_count": 59,
   "outputs": [
    {
     "name": "stderr",
     "output_type": "stream",
     "text": [
      "100%|██████████| 875/875 [00:00<00:00, 1816839.60it/s]"
     ]
    },
    {
     "name": "stdout",
     "output_type": "stream",
     "text": [
      "{'annotation': Annotation(tech_term=None, lay_term='Langzeitzuckerwert', type=<TermType.LAY: 'LAY'>, span_start=1054, span_end=1072, synonyms=['HbA1c - Glykohämoglobin, Der Spiegel im Blut gibt Auskunft über die Blutzuckerwerte der letzten vier bis zwölf Wochen', 'HbA1c'], id=4619), 'cui': 'C0373638', 'description': None}\n",
      "{'annotation': Annotation(tech_term=None, lay_term='Nierenschädlichkeit', type=<TermType.LAY: 'LAY'>, span_start=36, span_end=55, synonyms=['Nephrotoxizität', 'Nephrotoxizität'], id=1949), 'cui': 'C0599918', 'description': None}\n",
      "{'annotation': Annotation(tech_term='Bandscheibenvorfall', lay_term=None, type=<TermType.TECH: 'TECH'>, span_start=107, span_end=126, synonyms=['Bandscheibenprolaps', 'Bandscheibenprolaps'], id=3931), 'cui': 'C0242362', 'description': None}\n"
     ]
    },
    {
     "name": "stderr",
     "output_type": "stream",
     "text": [
      "\n",
      "100%|██████████| 875/875 [00:00<00:00, 1171406.32it/s]"
     ]
    },
    {
     "name": "stdout",
     "output_type": "stream",
     "text": [
      "{'annotation': Annotation(tech_term=None, lay_term='Langzeitzuckerwert', type=<TermType.LAY: 'LAY'>, span_start=1054, span_end=1072, synonyms=['HbA1c - Glykohämoglobin, Der Spiegel im Blut gibt Auskunft über die Blutzuckerwerte der letzten vier bis zwölf Wochen', 'HbA1c'], id=4619), 'cui': 'C0373638', 'description': None}\n",
      "{'annotation': Annotation(tech_term=None, lay_term='Nierenschädlichkeit', type=<TermType.LAY: 'LAY'>, span_start=36, span_end=55, synonyms=['Nephrotoxizität', 'Nephrotoxizität'], id=1949), 'cui': 'C0599918', 'description': None}\n",
      "{'annotation': Annotation(tech_term='Bandscheibenvorfall', lay_term=None, type=<TermType.TECH: 'TECH'>, span_start=107, span_end=126, synonyms=['Bandscheibenprolaps', 'Bandscheibenprolaps'], id=3931), 'cui': 'C0242362', 'description': None}\n"
     ]
    },
    {
     "name": "stderr",
     "output_type": "stream",
     "text": [
      "\n"
     ]
    }
   ],
   "source": [
    "for annotation in tqdm(all_annotations):\n",
    "    if annotation[\"description\"] is None:\n",
    "        print(annotation)"
   ],
   "metadata": {
    "collapsed": false,
    "ExecuteTime": {
     "start_time": "2023-04-11T15:20:27.247331Z",
     "end_time": "2023-04-11T15:20:29.087060Z"
    }
   }
  },
  {
   "cell_type": "code",
   "execution_count": 60,
   "outputs": [
    {
     "name": "stdout",
     "output_type": "stream",
     "text": [
      "3\n",
      "3\n"
     ]
    }
   ],
   "source": [
    "no_desc_ann = [ann for ann in all_annotations if ann[\"description\"] is None]\n",
    "print(len(no_desc_ann))\n",
    "all_annotations_with_desc = [ann for ann in all_annotations if ann[\"description\"] is not None]"
   ],
   "metadata": {
    "collapsed": false,
    "ExecuteTime": {
     "start_time": "2023-04-11T15:20:27.400305Z",
     "end_time": "2023-04-11T15:20:29.087269Z"
    }
   }
  },
  {
   "cell_type": "code",
   "execution_count": 61,
   "outputs": [],
   "source": [
    "# parse annotations to prodigy samples\n",
    "from data_loading import annotations_cache\n"
   ],
   "metadata": {
    "collapsed": false,
    "ExecuteTime": {
     "start_time": "2023-04-11T15:20:27.400674Z",
     "end_time": "2023-04-11T15:20:29.087562Z"
    }
   }
  },
  {
   "cell_type": "code",
   "execution_count": 71,
   "outputs": [
    {
     "name": "stderr",
     "output_type": "stream",
     "text": [
      "100%|██████████| 872/872 [00:00<00:00, 4344.51it/s]\n"
     ]
    }
   ],
   "source": [
    "prodigy_samples = []\n",
    "for ann_with_cui_and_desc in tqdm(all_annotations_with_desc):\n",
    "    annotation = ann_with_cui_and_desc[\"annotation\"]\n",
    "    cui = ann_with_cui_and_desc[\"cui\"]\n",
    "    description = ann_with_cui_and_desc[\"description\"]\n",
    "    spans = [ProdigyNERLabel(start=annotation.span_start, end=annotation.span_end)]\n",
    "    text = sample_collection.get_sample_by_annotation_id(annotation.id).text\n",
    "    # <a href=\"url\">link text</a>\n",
    "\n",
    "    html = f'<b>{cui}</b>: ' + description\n",
    "    annotations_ids = get_annotation_ids(annotation.get_mention())\n",
    "    prodigy_samples.append(\n",
    "        ProdigySample(text=text, spans=spans, id=annotation.id, cui=cui, html=html,\n",
    "                      annotation_ids=annotations_ids, meta=dict(url=f\"https://uts.nlm.nih.gov/uts/umls/concept/{cui}\")))\n",
    "    "
   ],
   "metadata": {
    "collapsed": false,
    "ExecuteTime": {
     "start_time": "2023-04-11T15:26:37.262203Z",
     "end_time": "2023-04-11T15:26:37.470092Z"
    }
   }
  },
  {
   "cell_type": "code",
   "execution_count": 72,
   "outputs": [],
   "source": [
    "with open(TLCPaths.project_data_path.joinpath(\"prodigy_samples_strict.jsonl\"), \"w\") as fp:\n",
    "    for annotation in prodigy_samples:\n",
    "        fp.write(annotation.json(ensure_ascii=False) + \"\\n\")"
   ],
   "metadata": {
    "collapsed": false,
    "ExecuteTime": {
     "start_time": "2023-04-11T15:26:37.599220Z",
     "end_time": "2023-04-11T15:26:37.693668Z"
    }
   }
  },
  {
   "cell_type": "code",
   "execution_count": 70,
   "outputs": [
    {
     "data": {
      "text/plain": "'{\"text\": \"Thread: [Immer morgens Durchfall]\\\\nText: [mmh, das kann bei dir ja wirklich gut an dem ganzen stress liegen.. bin ja jetzt kein arzt, aber vielleicht hat sich bei der blinddarmentfernung doch irgendwas entz\\\\u00fcndet und deshalb dort auch die schmerzen? k\\\\u00f6nnte ja sein, so ohne hintergrundwissen. ich find ne \\\\u00e4rztliche abkl\\\\u00e4rung jedenfalls auch sinnvoll. wenn man dann wei\\\\u00df, dass es nix schlimmes ist, dann kann man auch sicher andere wege finden, damit umzugehen. und so\\'n examen belastet ja ganz klar, kenn ich ja \\\\nselber hab ich keine anderen beschwerden. ab und an links unten schmerzen, aber wirklich nur ab und an. ja und einen grummeligen verdauungstrakt, das ist sehr unangenehm, weil mich leute drauf ansprechen, wenn wir irgendwo sitzen und mein bauch wieder anf\\\\u00e4ngt.. aber das ist auch nicht immer..]\\\\n\", \"spans\": [{\"start\": 166, \"end\": 185, \"label\": \"Mention\"}], \"html\": \"<b>C0003614</a>: Blinddarmneubildungen: Tumore oder Krebs der APPENDIX.\", \"annotation_ids\": [5093], \"cui\": \"C0003614\", \"meta\": {\"url\": \"https://uts.nlm.nih.gov/uts/umls/concept/C0003614\"}}'"
     },
     "execution_count": 70,
     "metadata": {},
     "output_type": "execute_result"
    }
   ],
   "source": [
    "annotation.json()"
   ],
   "metadata": {
    "collapsed": false,
    "ExecuteTime": {
     "start_time": "2023-04-11T15:26:09.028061Z",
     "end_time": "2023-04-11T15:26:09.032423Z"
    }
   }
  },
  {
   "cell_type": "code",
   "execution_count": 64,
   "outputs": [],
   "source": [],
   "metadata": {
    "collapsed": false,
    "ExecuteTime": {
     "start_time": "2023-04-11T15:20:27.522796Z",
     "end_time": "2023-04-11T15:20:29.339795Z"
    }
   }
  }
 ],
 "metadata": {
  "kernelspec": {
   "display_name": "Python 3",
   "language": "python",
   "name": "python3"
  },
  "language_info": {
   "codemirror_mode": {
    "name": "ipython",
    "version": 2
   },
   "file_extension": ".py",
   "mimetype": "text/x-python",
   "name": "python",
   "nbconvert_exporter": "python",
   "pygments_lexer": "ipython2",
   "version": "2.7.6"
  }
 },
 "nbformat": 4,
 "nbformat_minor": 0
}
