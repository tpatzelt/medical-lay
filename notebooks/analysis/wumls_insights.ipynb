{
 "cells": [
  {
   "cell_type": "code",
   "execution_count": 1,
   "metadata": {
    "collapsed": true,
    "ExecuteTime": {
     "end_time": "2023-09-04T09:48:23.596814177Z",
     "start_time": "2023-09-04T09:48:22.006517436Z"
    }
   },
   "outputs": [],
   "source": [
    "import pandas as pd\n",
    "\n",
    "from data_loading import load_wumls_entries"
   ]
  },
  {
   "cell_type": "code",
   "execution_count": 2,
   "outputs": [],
   "source": [
    "entries = load_wumls_entries()"
   ],
   "metadata": {
    "collapsed": false,
    "ExecuteTime": {
     "end_time": "2023-09-04T09:48:26.307416079Z",
     "start_time": "2023-09-04T09:48:23.598545774Z"
    }
   }
  },
  {
   "cell_type": "code",
   "execution_count": 3,
   "outputs": [],
   "source": [
    "df = pd.DataFrame([entry.dict() for entry in entries])"
   ],
   "metadata": {
    "collapsed": false,
    "ExecuteTime": {
     "end_time": "2023-09-04T09:48:28.749395225Z",
     "start_time": "2023-09-04T09:48:26.554660197Z"
    }
   }
  },
  {
   "cell_type": "code",
   "execution_count": 4,
   "outputs": [
    {
     "data": {
      "text/plain": "Index(['cui', 'source', 'language', 'name', 'index_term'], dtype='object')"
     },
     "execution_count": 4,
     "metadata": {},
     "output_type": "execute_result"
    }
   ],
   "source": [
    "df.columns"
   ],
   "metadata": {
    "collapsed": false,
    "ExecuteTime": {
     "end_time": "2023-09-04T09:48:28.753569466Z",
     "start_time": "2023-09-04T09:48:28.749079410Z"
    }
   }
  },
  {
   "cell_type": "code",
   "execution_count": 5,
   "outputs": [
    {
     "data": {
      "text/plain": "MDRGER         99061\nMSHGER         80864\nDMDICD10       11864\nLNC-DE-DE      11059\nLNC-DE-CH       4941\nDMDUMD          3373\nWHOGER          3332\nWIKTIONARY      3082\nICPCGER          716\nLNC-DE-AT        188\nOMIM               1\nSNOMEDCT_US        1\nSPN                1\nName: source, dtype: int64"
     },
     "execution_count": 5,
     "metadata": {},
     "output_type": "execute_result"
    }
   ],
   "source": [
    "df[\"source\"].value_counts()\n"
   ],
   "metadata": {
    "collapsed": false,
    "ExecuteTime": {
     "end_time": "2023-09-04T09:48:28.803471230Z",
     "start_time": "2023-09-04T09:48:28.752959905Z"
    }
   }
  },
  {
   "cell_type": "code",
   "execution_count": 6,
   "outputs": [
    {
     "name": "stdout",
     "output_type": "stream",
     "text": [
      "\\begin{table}[h]\n",
      "\\centering\n",
      "\\label{tab:wumls_ontologies}\n",
      "\\begin{tabular}{|lrr|}\n",
      "\\toprule\n",
      "  Ontology & Name Count & Concept Count \\\\\n",
      "\\midrule\n",
      "    MDRGER &      99061 &         52249 \\\\\n",
      "    MSHGER &      80864 &         39852 \\\\\n",
      "  DMDICD10 &      11864 &         11208 \\\\\n",
      " LNC-DE-DE &      11059 &         11043 \\\\\n",
      " LNC-DE-CH &       4941 &          4941 \\\\\n",
      "    DMDUMD &       3373 &          3296 \\\\\n",
      "    WHOGER &       3332 &          2733 \\\\\n",
      "WIKTIONARY &       3082 &           768 \\\\\n",
      "   ICPCGER &        716 &           715 \\\\\n",
      " LNC-DE-AT &        188 &           186 \\\\\n",
      "     Total &     218483 &        110121 \\\\\n",
      "\\bottomrule\n",
      "\\end{tabular}\n",
      "\\end{table}\n",
      "\n"
     ]
    },
    {
     "name": "stderr",
     "output_type": "stream",
     "text": [
      "<ipython-input-6-95d3a24dc21d>:7: FutureWarning: In future versions `DataFrame.to_latex` is expected to utilise the base implementation of `Styler.to_latex` for formatting and rendering. The arguments signature may therefore change. It is recommended instead to use `DataFrame.style.to_latex` which also contains additional functionality.\n",
      "  table = pd.DataFrame.from_records(wumls_table_data).to_latex(position='h', index=False, header=[\"Ontology\", \"Name Count\", \"Concept Count\"], label=\"tab:wumls_ontologies\", column_format='|lrr|')\n"
     ]
    }
   ],
   "source": [
    "wumls_table_data = []\n",
    "for x, y in df[\"source\"].value_counts().items():\n",
    "    wumls_table_data.append(\n",
    "        dict(ontology=x, name_count=y, concept_count=df[\"cui\"].loc[df[\"source\"] == x].nunique()))\n",
    "wumls_table_data.append(dict(ontology=\"Total\", name_count=df[\"source\"].value_counts().sum(),\n",
    "                             concept_count=df[\"cui\"].nunique()))\n",
    "table = pd.DataFrame.from_records(wumls_table_data).to_latex(position='h', index=False,\n",
    "                                                             header=[\"Ontology\", \"Name Count\",\n",
    "                                                                     \"Concept Count\"],\n",
    "                                                             label=\"tab:wumls_ontologies\",\n",
    "                                                             column_format='|lrr|')\n",
    "print(table)"
   ],
   "metadata": {
    "collapsed": false,
    "ExecuteTime": {
     "end_time": "2023-09-04T09:48:29.159671065Z",
     "start_time": "2023-09-04T09:48:28.802469009Z"
    }
   }
  },
  {
   "cell_type": "code",
   "execution_count": 8,
   "outputs": [
    {
     "name": "stdout",
     "output_type": "stream",
     "text": [
      "names without wiktionary: 215401\n",
      "names with wiktionary: 3082\n",
      "names total: 218483\n"
     ]
    }
   ],
   "source": [
    "print(\"names without wiktionary:\", df[\"name\"].loc[df[\"source\"] != \"WIKTIONARY\"].size)\n",
    "print(\"names with wiktionary:\", df[\"name\"].loc[df[\"source\"] == \"WIKTIONARY\"].size)\n",
    "print(\"names total:\", df[\"name\"].size)\n"
   ],
   "metadata": {
    "collapsed": false,
    "ExecuteTime": {
     "end_time": "2023-09-04T09:48:44.765092961Z",
     "start_time": "2023-09-04T09:48:44.732952255Z"
    }
   }
  },
  {
   "cell_type": "code",
   "execution_count": 9,
   "outputs": [
    {
     "name": "stdout",
     "output_type": "stream",
     "text": [
      "unique concepts without wiktionary: 110086\n",
      "unique concepts with wiktionary: 768\n",
      "unique concepts total: 110121\n"
     ]
    }
   ],
   "source": [
    "print(\"unique concepts without wiktionary:\", df[\"cui\"].loc[df[\"source\"] != \"WIKTIONARY\"].nunique())\n",
    "print(\"unique concepts with wiktionary:\", df[\"cui\"].loc[df[\"source\"] == \"WIKTIONARY\"].nunique())\n",
    "print(\"unique concepts total:\", df[\"cui\"].nunique())\n"
   ],
   "metadata": {
    "collapsed": false,
    "ExecuteTime": {
     "end_time": "2023-09-04T09:48:47.653241711Z",
     "start_time": "2023-09-04T09:48:47.502932134Z"
    }
   }
  },
  {
   "cell_type": "markdown",
   "source": [
    "analyze proportions of ontologies that matched mentions"
   ],
   "metadata": {
    "collapsed": false
   }
  },
  {
   "cell_type": "code",
   "execution_count": 10,
   "outputs": [],
   "source": [
    "import json\n",
    "from config import TLCPaths\n",
    "from collections import defaultdict\n",
    "from tqdm import tqdm\n",
    "import pandas as pd"
   ],
   "metadata": {
    "collapsed": false,
    "ExecuteTime": {
     "end_time": "2023-09-04T09:48:58.589931630Z",
     "start_time": "2023-09-04T09:48:58.549081948Z"
    }
   }
  },
  {
   "cell_type": "code",
   "execution_count": 12,
   "outputs": [],
   "source": [
    "with open(TLCPaths.project_data_path.joinpath(f'matched_solr_20230602-111758.json')) as fp:\n",
    "    solr_matches = json.load(fp)\n",
    "\n",
    "with open(TLCPaths.project_data_path.joinpath(f'not_matched_solr_20230602-111759.json')) as fp:\n",
    "    solr_not_matches = json.load(fp)"
   ],
   "metadata": {
    "collapsed": false,
    "ExecuteTime": {
     "end_time": "2023-09-04T09:49:42.383429461Z",
     "start_time": "2023-09-04T09:49:42.330775856Z"
    }
   }
  },
  {
   "cell_type": "code",
   "execution_count": 13,
   "outputs": [],
   "source": [
    "def remove_list_values(d: dict):\n",
    "    for k, v in d.items():\n",
    "        if isinstance(v, list):\n",
    "            d[k] = v[0]\n",
    "    return d\n",
    "\n",
    "\n",
    "solr_matches = [remove_list_values(d) for d in solr_matches]\n",
    "solr_not_matches = [remove_list_values(d) for d in solr_not_matches]"
   ],
   "metadata": {
    "collapsed": false,
    "ExecuteTime": {
     "end_time": "2023-09-04T09:49:43.590732365Z",
     "start_time": "2023-09-04T09:49:43.580179978Z"
    }
   }
  },
  {
   "cell_type": "code",
   "execution_count": 14,
   "outputs": [],
   "source": [
    "solr_matches_df = pd.DataFrame(solr_matches)\n",
    "solr_not_matches_df = pd.DataFrame(solr_not_matches)"
   ],
   "metadata": {
    "collapsed": false,
    "ExecuteTime": {
     "end_time": "2023-09-04T09:49:45.234378692Z",
     "start_time": "2023-09-04T09:49:45.218241381Z"
    }
   }
  },
  {
   "cell_type": "code",
   "execution_count": 15,
   "outputs": [
    {
     "data": {
      "text/plain": "MSHGER        328\nMDRGER        318\nWIKTIONARY    225\nWHOGER         52\nDMDICD10       38\nDMDUMD         20\nICPCGER         9\nLNC-DE-CH       4\nLNC-DE-DE       3\nName: source, dtype: int64"
     },
     "execution_count": 15,
     "metadata": {},
     "output_type": "execute_result"
    }
   ],
   "source": [
    "solr_matches_df['source'].value_counts()"
   ],
   "metadata": {
    "collapsed": false,
    "ExecuteTime": {
     "end_time": "2023-09-04T09:49:45.538528244Z",
     "start_time": "2023-09-04T09:49:45.505311728Z"
    }
   }
  },
  {
   "cell_type": "code",
   "execution_count": 22,
   "outputs": [
    {
     "name": "stdout",
     "output_type": "stream",
     "text": [
      "MSHGER 32.9\n",
      "MDRGER 31.9\n",
      "WIKTIONARY 22.57\n",
      "WHOGER 5.22\n",
      "DMDICD10 3.81\n",
      "DMDUMD 2.01\n",
      "ICPCGER 0.9\n",
      "LNC-DE-CH 0.4\n",
      "LNC-DE-DE 0.3\n"
     ]
    }
   ],
   "source": [
    "s = sum(solr_matches_df['source'].value_counts())\n",
    "for x, y in solr_matches_df['source'].value_counts().items():\n",
    "print(x, round(y / s * 100, 2))"
   ],
   "metadata": {
    "collapsed": false,
    "ExecuteTime": {
     "end_time": "2023-09-04T09:55:31.220666619Z",
     "start_time": "2023-09-04T09:55:31.207376454Z"
    }
   }
  },
  {
   "cell_type": "code",
   "execution_count": 17,
   "outputs": [],
   "source": [
    "    with open(TLCPaths.project_data_path.joinpath(\n",
    "        'annotate_tlc/search_terms_single_and_ids_strict_uniqueness.json'), 'r') as fp:\n",
    "    terms_and_ids = json.load(fp)"
   ],
   "metadata": {
    "collapsed": false,
    "ExecuteTime": {
     "end_time": "2023-09-04T09:50:08.382916556Z",
     "start_time": "2023-09-04T09:50:08.370100895Z"
    }
   }
  },
  {
   "cell_type": "code",
   "execution_count": 18,
   "outputs": [
    {
     "name": "stderr",
     "output_type": "stream",
     "text": [
      "100%|██████████| 997/997 [00:00<00:00, 1074716.29it/s]\n"
     ]
    }
   ],
   "source": [
    "match_counts = defaultdict(list)\n",
    "for match in tqdm(solr_matches):\n",
    "    try:\n",
    "        counts = len(terms_and_ids[match['stem']])\n",
    "    except KeyError:\n",
    "        counts = len(terms_and_ids[match['stem'].strip()])\n",
    "    assert counts > 0\n",
    "    match_counts[match['source']].append(counts)"
   ],
   "metadata": {
    "collapsed": false,
    "ExecuteTime": {
     "end_time": "2023-09-04T09:50:10.768961810Z",
     "start_time": "2023-09-04T09:50:10.718903040Z"
    }
   }
  },
  {
   "cell_type": "code",
   "execution_count": 19,
   "outputs": [
    {
     "name": "stdout",
     "output_type": "stream",
     "text": [
      "MDRGER 24.23\n",
      "MSHGER 22.29\n",
      "DMDICD10 2.87\n",
      "LNC-DE-DE 0.04\n",
      "LNC-DE-CH 0.46\n",
      "DMDUMD 1.11\n",
      "WHOGER 4.77\n",
      "WIKTIONARY 43.68\n",
      "ICPCGER 0.55\n",
      "LNC-DE-AT 0.0\n",
      "Total 100.0\n",
      "total 7321\n"
     ]
    }
   ],
   "source": [
    "total_counts = sum([sum(counts) for counts in match_counts.values()])\n",
    "match_counts['Total'] = [total_counts]\n",
    "for wumls_table_row in wumls_table_data:\n",
    "    ontology = wumls_table_row['ontology']\n",
    "    counts = match_counts[ontology]\n",
    "    share_of_matches = round(sum(counts) / total_counts * 100, 2)\n",
    "    print(ontology, share_of_matches)\n",
    "\n",
    "    wumls_table_row['share_of_matches'] = share_of_matches\n",
    "print(\"total\", total_counts)"
   ],
   "metadata": {
    "collapsed": false,
    "ExecuteTime": {
     "end_time": "2023-09-04T09:50:11.464597335Z",
     "start_time": "2023-09-04T09:50:11.454560644Z"
    }
   }
  },
  {
   "cell_type": "code",
   "execution_count": 20,
   "outputs": [
    {
     "name": "stdout",
     "output_type": "stream",
     "text": [
      "\\begin{table}[h]\n",
      "\\centering\n",
      "\\label{tab:wumls_ontologies}\n",
      "\\begin{tabular}{|lrrr|}\n",
      "\\toprule\n",
      "  Ontology & Name Count & Concept Count & Share of matched concepts (in \\%) \\\\\n",
      "\\midrule\n",
      "    MDRGER &      99061 &         52249 &                            24.23 \\\\\n",
      "    MSHGER &      80864 &         39852 &                            22.29 \\\\\n",
      "  DMDICD10 &      11864 &         11208 &                             2.87 \\\\\n",
      " LNC-DE-DE &      11059 &         11043 &                             0.04 \\\\\n",
      " LNC-DE-CH &       4941 &          4941 &                             0.46 \\\\\n",
      "    DMDUMD &       3373 &          3296 &                             1.11 \\\\\n",
      "    WHOGER &       3332 &          2733 &                             4.77 \\\\\n",
      "WIKTIONARY &       3082 &           768 &                            43.68 \\\\\n",
      "   ICPCGER &        716 &           715 &                             0.55 \\\\\n",
      " LNC-DE-AT &        188 &           186 &                             0.00 \\\\\n",
      "     Total &     218483 &        110121 &                           100.00 \\\\\n",
      "\\bottomrule\n",
      "\\end{tabular}\n",
      "\\end{table}\n",
      "\n"
     ]
    },
    {
     "name": "stderr",
     "output_type": "stream",
     "text": [
      "<ipython-input-20-806e40879211>:1: FutureWarning: In future versions `DataFrame.to_latex` is expected to utilise the base implementation of `Styler.to_latex` for formatting and rendering. The arguments signature may therefore change. It is recommended instead to use `DataFrame.style.to_latex` which also contains additional functionality.\n",
      "  table = pd.DataFrame.from_records(wumls_table_data).to_latex(position='h', index=False, header=[\"Ontology\", \"Name Count\", \"Concept Count\", \"Share of matched concepts (in %)\"], label=\"tab:wumls_ontologies\", column_format='|lrrr|')\n"
     ]
    }
   ],
   "source": [
    "table = pd.DataFrame.from_records(wumls_table_data).to_latex(position='h', index=False,\n",
    "                                                             header=[\"Ontology\", \"Name Count\",\n",
    "                                                                     \"Concept Count\",\n",
    "                                                                     \"Share of matched concepts (in %)\"],\n",
    "                                                             label=\"tab:wumls_ontologies\",\n",
    "                                                             column_format='|lrrr|')\n",
    "print(table)"
   ],
   "metadata": {
    "collapsed": false,
    "ExecuteTime": {
     "end_time": "2023-09-04T09:50:12.199588058Z",
     "start_time": "2023-09-04T09:50:12.190257943Z"
    }
   }
  },
  {
   "cell_type": "code",
   "execution_count": null,
   "outputs": [],
   "source": [],
   "metadata": {
    "collapsed": false
   }
  }
 ],
 "metadata": {
  "kernelspec": {
   "display_name": "Python 3",
   "language": "python",
   "name": "python3"
  },
  "language_info": {
   "codemirror_mode": {
    "name": "ipython",
    "version": 2
   },
   "file_extension": ".py",
   "mimetype": "text/x-python",
   "name": "python",
   "nbconvert_exporter": "python",
   "pygments_lexer": "ipython2",
   "version": "2.7.6"
  }
 },
 "nbformat": 4,
 "nbformat_minor": 0
}
