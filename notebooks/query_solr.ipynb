{
 "cells": [
  {
   "cell_type": "code",
   "execution_count": 1,
   "outputs": [],
   "source": [
    "import json\n",
    "from collections import Counter\n",
    "from typing import Optional, Dict\n",
    "from pathlib import Path\n",
    "import pysolr\n",
    "from pydantic import BaseModel\n",
    "from tqdm import tqdm\n",
    "\n",
    "from data_loading import load_search_terms, TermType, load_tlc_samples\n",
    "from models import SearchTerm\n",
    "import numpy as np\n",
    "import matplotlib.pyplot as plt\n",
    "import random"
   ],
   "metadata": {
    "collapsed": false
   }
  },
  {
   "cell_type": "code",
   "execution_count": 2,
   "outputs": [],
   "source": [
    "class Match(BaseModel):\n",
    "    mention: SearchTerm\n",
    "    match: Optional[Dict] = None\n",
    "    matched_string: Optional[str] = None\n",
    "\n",
    "\n",
    "solr_special_chars = '+ - && || ! ( ) { } [ ] ^ \" ~ * ? : /'.split()"
   ],
   "metadata": {
    "collapsed": false
   }
  },
  {
   "cell_type": "code",
   "execution_count": 3,
   "outputs": [
    {
     "data": {
      "text/plain": "'{\\n  \"responseHeader\":{\\n    \"zkConnected\":null,\\n    \"status\":0,\\n    \"QTime\":1,\\n    \"params\":{\\n      \"q\":\"{!lucene}*:*\",\\n      \"distrib\":\"false\",\\n      \"df\":\"_text_\",\\n      \"rows\":\"10\",\\n      \"echoParams\":\"all\",\\n      \"rid\":\"localhost-90297\"}},\\n  \"status\":\"OK\"}\\n'"
     },
     "execution_count": 3,
     "metadata": {},
     "output_type": "execute_result"
    }
   ],
   "source": [
    "solr = pysolr.Solr('http://localhost:8983/solr/wumls-single-valued-deduplicated',\n",
    "                   always_commit=False)\n",
    "# solr = pysolr.Solr('http://localhost:8983/solr/wumls-multi-valued', always_commit=False)\n",
    "solr.ping()"
   ],
   "metadata": {
    "collapsed": false
   }
  },
  {
   "cell_type": "code",
   "execution_count": 4,
   "outputs": [],
   "source": [
    "def show_search_score_proportion(matches):\n",
    "    nums_matched = []\n",
    "    x = np.linspace(0,1,10)\n",
    "    for threshold in x:\n",
    "        num_matched = len([match for match in matches if match.match['score'] > threshold])\n",
    "        nums_matched.append(num_matched/len(matches))\n",
    "        \n",
    "    fig,ax = plt.subplots()\n",
    "    ax.plot(x, nums_matched )\n",
    "    ax.set_xlabel(\"score threshold\")\n",
    "    ax.set_ylabel(\"% matched\")\n",
    "    ax.grid()\n",
    "    plt.show()\n"
   ],
   "metadata": {
    "collapsed": false
   }
  },
  {
   "cell_type": "code",
   "execution_count": 5,
   "outputs": [],
   "source": [
    "distances = {True: 1, False: 2}\n",
    "\n",
    "\n",
    "def add_tilde_to_search_terms(term):\n",
    "    return \" AND \".join([s + f\"~{distances[len(s) < 4]}\" for s in term.split(\" \")])\n",
    "\n",
    "\n",
    "def create_query_with_edit_distance(term):\n",
    "    return \"{!func}strdist('\" + term + \"',index_term,edit)\""
   ],
   "metadata": {
    "collapsed": false
   }
  },
  {
   "cell_type": "code",
   "execution_count": 6,
   "outputs": [
    {
     "name": "stdout",
     "output_type": "stream",
     "text": [
      "{'cui': ['C0036572'], 'source': ['WIKTIONARY'], 'language': ['GER'], 'name': ['kolik'], 'index_term': ['kolik'], 'id': '432ca26d-2b92-4c55-9c93-2919c96c3cb3', '_version_': 1760194257032839174, 'score': 1.0}\n",
      "{'cui': ['C0009319'], 'source': ['MDRGER'], 'language': ['GER'], 'name': ['Kolitis'], 'index_term': ['koliti'], 'id': 'c96f6f31-41d0-4efc-b016-49e9b9529fe7', '_version_': 1760194257369432091, 'score': 0.6666666}\n",
      "{'cui': ['C0009319'], 'source': ['MDRGER'], 'language': ['GER'], 'name': ['Kolitis (NNB)'], 'index_term': ['koliti (nnb)'], 'id': 'e2a97d6a-d685-4ae7-8295-3904144202b7', '_version_': 1760194257369432093, 'score': 0.6666666}\n",
      "{'cui': ['C0009319'], 'source': ['MDRGER'], 'language': ['GER'], 'name': ['Kolitis NNB'], 'index_term': ['koliti nnb'], 'id': 'c2983af1-19b2-41df-a45b-c3dba3b63c8a', '_version_': 1760194257369432094, 'score': 0.6666666}\n",
      "{'cui': ['C0009324'], 'source': ['MDRGER'], 'language': ['GER'], 'name': ['Kolitis ulcerosa'], 'index_term': ['koliti ulcerosa'], 'id': '084aee56-d506-4115-a61a-a64a048fc364', '_version_': 1760194257369432102, 'score': 0.6666666}\n",
      "{'cui': ['C0009324'], 'source': ['MDRGER'], 'language': ['GER'], 'name': ['ulzerative Kolitis'], 'index_term': ['ulzerativ koliti'], 'id': 'f2e25465-11eb-4b87-8c50-4e4e1951be1a', '_version_': 1760194257369432106, 'score': 0.6666666}\n",
      "{'cui': ['C0022104'], 'source': ['MDRGER'], 'language': ['GER'], 'name': ['Kolitis mucosa'], 'index_term': ['koliti mucosa'], 'id': '478a87be-431d-47ee-b0f4-6a6c5d9aa2e2', '_version_': 1760194257724899331, 'score': 0.6666666}\n",
      "{'cui': ['C0036439'], 'source': ['DMDICD10'], 'language': ['GER'], 'name': ['Skoliose'], 'index_term': ['skolio'], 'id': 'ee51fee4-d374-459c-9fa6-f8754f862a71', '_version_': 1760194258042617898, 'score': 0.6666666}\n",
      "{'cui': ['C0158504'], 'source': ['MDRGER'], 'language': ['GER'], 'name': ['strahlenbedingte Skoliose'], 'index_term': ['strahlenbeding skolio'], 'id': '2e40b7db-cc11-454b-af92-400c7a13f009', '_version_': 1760194258692735010, 'score': 0.6666666}\n",
      "{'cui': ['C0158505'], 'source': ['MDRGER'], 'language': ['GER'], 'name': ['thoraxbedingte Skoliose'], 'index_term': ['thoraxbeding skolio'], 'id': 'a4f1f838-2519-4a8e-bbcd-24f9238c5f69', '_version_': 1760194258692735012, 'score': 0.6666666}\n"
     ]
    }
   ],
   "source": [
    "results = solr.search(q=create_query_with_edit_distance(term=\"kolik\"), fl=\"*,score\")\n",
    "for res in results:\n",
    "    print(res)"
   ],
   "metadata": {
    "collapsed": false
   }
  },
  {
   "cell_type": "code",
   "execution_count": 7,
   "outputs": [
    {
     "name": "stdout",
     "output_type": "stream",
     "text": [
      "{'cui': ['C0036572'], 'source': ['WIKTIONARY'], 'language': ['GER'], 'name': ['kolik'], 'index_term': ['kolik'], 'id': '432ca26d-2b92-4c55-9c93-2919c96c3cb3', '_version_': 1760194257032839174}\n",
      "{'cui': ['C0151824'], 'source': ['MDRGER'], 'language': ['GER'], 'name': ['Kolik Galle'], 'index_term': ['kolik gall'], 'id': '7c20a889-4a3a-455e-ad0b-ee0b1bea9667', '_version_': 1760194258488262674}\n",
      "{'cui': ['C0232488'], 'source': ['WHOGER'], 'language': ['GER'], 'name': ['KOLIK ABDOMINAL'], 'index_term': ['kolik abdominal'], 'id': 'b1ba2e8e-af5d-480a-bb80-2465c919aff3', '_version_': 1760194259123699714}\n",
      "{'cui': ['C0232488'], 'source': ['MDRGER'], 'language': ['GER'], 'name': ['abdominale Kolik'], 'index_term': ['abdominal kolik'], 'id': '64219f63-93be-4b1c-a548-b0028e5b4c60', '_version_': 1760194259123699715}\n",
      "{'cui': ['C0266836'], 'source': ['MDRGER'], 'language': ['GER'], 'name': ['infantile Kolik'], 'index_term': ['infantil kolik'], 'id': '605ee1d6-123a-4913-85fc-461a4f776b09', '_version_': 1760194259320832014}\n",
      "{'cui': ['C0266836'], 'source': ['MDRGER'], 'language': ['GER'], 'name': ['Kolik infantil'], 'index_term': ['kolik infantil'], 'id': '058c9d46-887b-49ac-8de1-b38f1698e6fc', '_version_': 1760194259320832017}\n",
      "{'cui': ['C0152169'], 'source': ['MDRGER'], 'language': ['GER'], 'name': ['Kolik der Niere'], 'index_term': ['kolik der nier'], 'id': '054a5d7e-8638-40ed-a788-00448f28f8e5', '_version_': 1760194258503991303}\n",
      "{'cui': ['C0266836'], 'source': ['ICPCGER'], 'language': ['GER'], 'name': ['Kolik beim Saeugling'], 'index_term': ['kolik beim saeugling'], 'id': '341742b0-5618-458c-aaa3-7523435c77f9', '_version_': 1760194259320832015}\n"
     ]
    }
   ],
   "source": [
    "search_term = \"kolik (NBB)\"\n",
    "# results = solr.search(q=f\"index_term_str:{add_tilde_to_search_terms(search_term)}\", fl=\"*\", rows=10)\n",
    "results = solr.search(q=f\"index_term:{search_term}\", fl=\"*\", rows=10)\n",
    "for res in results:\n",
    "    print(res)"
   ],
   "metadata": {
    "collapsed": false
   }
  },
  {
   "cell_type": "code",
   "execution_count": 7,
   "outputs": [],
   "source": [],
   "metadata": {
    "collapsed": false
   }
  },
  {
   "cell_type": "code",
   "execution_count": 8,
   "outputs": [],
   "source": [
    "search_terms = load_search_terms()"
   ],
   "metadata": {
    "collapsed": false
   }
  },
  {
   "cell_type": "code",
   "execution_count": null,
   "outputs": [
    {
     "name": "stderr",
     "output_type": "stream",
     "text": [
      " 82%|████████▏ | 6088/7390 [1:45:57<07:46,  2.79it/s]  "
     ]
    }
   ],
   "source": [
    "def filter_results_by_common_cuis(results):\n",
    "    cuis = [d['cui'][0] for d in results]\n",
    "    counter = Counter(cuis)\n",
    "    most_common_match_cui = counter.most_common()[0][0]\n",
    "    most_common_match = next(d for d in results if d['cui'][0] == most_common_match_cui)\n",
    "    return most_common_match\n",
    "\n",
    "\n",
    "matched, not_matched = [], []\n",
    "for term in tqdm(search_terms.terms):\n",
    "    # simple, not weighted majority vote for cui\n",
    "    results = []\n",
    "    for stem in term.stems:\n",
    "        for char in solr_special_chars:\n",
    "            stem = stem.replace(char, '\\\\' + char)\n",
    "        try:\n",
    "            res = solr.search(q=create_query_with_edit_distance(term=stem), fl=\"*,score\", rows=1)\n",
    "        except pysolr.SolrError:\n",
    "            continue\n",
    "        if not res:\n",
    "            # print('no res found')\n",
    "            continue\n",
    "        # print('found res')\n",
    "        top_result = list(res)[0]\n",
    "        # if top_result['score'] < .5:\n",
    "        #     continue\n",
    "        top_result['stem'] = stem\n",
    "        results.append(top_result)\n",
    "    if results:\n",
    "        most_common_match = filter_results_by_common_cuis(results=results)\n",
    "        matched.append(Match(mention=term, match=most_common_match, matched_string=most_common_match['stem']))\n",
    "    else:\n",
    "        not_matched.append(Match(mention=term))"
   ],
   "metadata": {
    "collapsed": false,
    "pycharm": {
     "is_executing": true
    }
   }
  },
  {
   "cell_type": "code",
   "execution_count": 9,
   "outputs": [
    {
     "ename": "NameError",
     "evalue": "name 'matched' is not defined",
     "output_type": "error",
     "traceback": [
      "\u001B[0;31m---------------------------------------------------------------------------\u001B[0m",
      "\u001B[0;31mNameError\u001B[0m                                 Traceback (most recent call last)",
      "Cell \u001B[0;32mIn[9], line 6\u001B[0m\n\u001B[1;32m      4\u001B[0m \u001B[38;5;28;01melse\u001B[39;00m:\n\u001B[1;32m      5\u001B[0m     \u001B[38;5;28;01mwith\u001B[39;00m \u001B[38;5;28mopen\u001B[39m(path, \u001B[38;5;124m'\u001B[39m\u001B[38;5;124mw\u001B[39m\u001B[38;5;124m'\u001B[39m) \u001B[38;5;28;01mas\u001B[39;00m fp:\n\u001B[0;32m----> 6\u001B[0m         json\u001B[38;5;241m.\u001B[39mdump([match\u001B[38;5;241m.\u001B[39mjson() \u001B[38;5;28;01mfor\u001B[39;00m match \u001B[38;5;129;01min\u001B[39;00m \u001B[43mmatched\u001B[49m], fp)\n",
      "\u001B[0;31mNameError\u001B[0m: name 'matched' is not defined"
     ]
    }
   ],
   "source": [
    "path = Path('matched.json')\n",
    "if path.exists():\n",
    "    print(\"path exists\")\n",
    "else:\n",
    "    with open(path, 'w') as fp:\n",
    "        json.dump([match.json() for match in matched], fp)"
   ],
   "metadata": {
    "collapsed": false
   }
  },
  {
   "cell_type": "code",
   "execution_count": null,
   "outputs": [],
   "source": [
    "path = Path('not_matched.json')\n",
    "if path.exists():\n",
    "    print(\"path exists\")\n",
    "else:\n",
    "    with open(path, 'w') as fp:\n",
    "        json.dump([match.json() for match in not_matched], fp)"
   ],
   "metadata": {
    "collapsed": false
   }
  },
  {
   "cell_type": "code",
   "execution_count": 10,
   "outputs": [
    {
     "ename": "NameError",
     "evalue": "name 'matched' is not defined",
     "output_type": "error",
     "traceback": [
      "\u001B[0;31m---------------------------------------------------------------------------\u001B[0m",
      "\u001B[0;31mNameError\u001B[0m                                 Traceback (most recent call last)",
      "Cell \u001B[0;32mIn[10], line 1\u001B[0m\n\u001B[0;32m----> 1\u001B[0m \u001B[38;5;28mprint\u001B[39m(\u001B[38;5;124mf\u001B[39m\u001B[38;5;124m\"\u001B[39m\u001B[38;5;132;01m{\u001B[39;00m\u001B[38;5;28mlen\u001B[39m(\u001B[43mmatched\u001B[49m)\u001B[38;5;132;01m=}\u001B[39;00m\u001B[38;5;124m\"\u001B[39m)\n\u001B[1;32m      2\u001B[0m \u001B[38;5;28mprint\u001B[39m(\u001B[38;5;124mf\u001B[39m\u001B[38;5;124m\"\u001B[39m\u001B[38;5;132;01m{\u001B[39;00m\u001B[38;5;28mlen\u001B[39m(not_matched)\u001B[38;5;132;01m=}\u001B[39;00m\u001B[38;5;124m\"\u001B[39m)\n",
      "\u001B[0;31mNameError\u001B[0m: name 'matched' is not defined"
     ]
    }
   ],
   "source": [
    "print(f\"{len(matched)=}\")\n",
    "print(f\"{len(not_matched)=}\")\n"
   ],
   "metadata": {
    "collapsed": false
   }
  },
  {
   "cell_type": "code",
   "execution_count": 11,
   "outputs": [],
   "source": [
    "path = Path('matched_strdist.json')\n",
    "with open(path, 'r') as fp:\n",
    "    matched_strdist = json.load(fp)\n",
    "matched_strdist = [Match.parse_obj(json.loads(match)) for match in matched_strdist]"
   ],
   "metadata": {
    "collapsed": false
   }
  },
  {
   "cell_type": "code",
   "execution_count": 12,
   "outputs": [
    {
     "data": {
      "text/plain": "<Figure size 640x480 with 1 Axes>",
      "image/png": "[encoded data removed]"
     },
     "metadata": {},
     "output_type": "display_data"
    }
   ],
   "source": [
    "show_search_score_proportion(matched_strdist)"
   ],
   "metadata": {
    "collapsed": false
   }
  },
  {
   "cell_type": "code",
   "execution_count": 13,
   "outputs": [
    {
     "name": "stdout",
     "output_type": "stream",
     "text": [
      "{'protei und gluko im uri', 'nephropathie'}  matched with  ['puumala virus-nephropathie'] (score = 1.0)\n",
      "\n",
      "{'costa', 'ripp'}  matched with  ['ripp'] (score = 1.0)\n",
      "\n",
      "{'hypotonu', 'zu niedrig blutdruck', 'niedrig blutdruck', 'hypotonie'}  matched with  ['hypotonu'] (score = 1.0)\n",
      "\n",
      "{'intestinal mikrobiom', 'darmflora', 'intestinal mikrobiota', 'intestinalflora'}  matched with  ['darmflora'] (score = 1.0)\n",
      "\n",
      "{'schrumpfnier', 'schrumpf 5cm nier', 'nephrozirrho', 'vernarbt nier'}  matched with  ['schrumpfnier'] (score = 1.0)\n",
      "\n",
      "{'blinddarm -op', 'appendix', 'entfernung des wurmfortsatz', 'blinddarmentnahm', 'appendektomie', 'blinddarmentfernung', 'blinddarm-op'}  matched with  ['blinddarmentzundung'] (score = 0.78947365)\n",
      "\n",
      "{'erbrech', 'vomitu', 'emesi'}  matched with  ['erbrech'] (score = 1.0)\n",
      "\n",
      "{'kontrastmittel', 'km'}  matched with  ['kontrastmittel'] (score = 1.0)\n",
      "\n",
      "{'stei in der nier', 'niernestei', 'gallenstei - syn. cholelith', 'konkrement', 'nierenstein, syn. nephrolith', 'steinch', 'nephrolithiasi', 'harnleiterstei', 'steich', 'nierensteinch', 'urolith', 'nierenkonkrement', 'nierenstei', 'ureterstei', 'nierenenstei', 'syn. nephrolith', 'nierengrie', 'nephrolith', 'stei', 'harnstei', 'niernstei'}  matched with  ['nierenkonkrement'] (score = 1.0)\n",
      "\n",
      "{'blah', 'wind', 'blaehung', 'meteorisnu', 'meteorismu', 'blahung', 'flatulenz', 'luftansammlung im darm'}  matched with  ['flatulenz'] (score = 1.0)\n",
      "\n"
     ]
    }
   ],
   "source": [
    "def print_n_matches(matches, n=10):\n",
    "    for matched_item in random.sample(matches, n):\n",
    "        annotation = matched_item.mention.annotation\n",
    "        synonyms_from_tlc = matched_item.mention.stems\n",
    "        original_mention = annotation.get_mention()\n",
    "        matched_string = matched_item.matched_string if matched_item.matched_string else synonyms_from_tlc\n",
    "        print(matched_string, \" matched with \",matched_item.match['index_term'],\n",
    "              f\"(score = {matched_item.match['score']})\")\n",
    "        print()\n",
    "\n",
    "print_n_matches(matched_strdist)"
   ],
   "metadata": {
    "collapsed": false
   }
  },
  {
   "cell_type": "code",
   "execution_count": 14,
   "outputs": [
    {
     "name": "stdout",
     "output_type": "stream",
     "text": [
      "5352 / 7390\n",
      "{'zystitid (pl. von zystitis)', 'nitrit, blut und leuko ist erhoh im uri', 'blasenreizung', 'weiss und rot blutkorperch sowie nitrit im uri', 'harnwegsinfekt', 'harnwegserkrankung', 'urozystitid', 'infekt der harmweg', 'nitrit, leucocyten, erythrocyt', 'harnwegsinfektio', 'balsenentzundung', 'blasenentzundung', 'harnwegsentzundung', 'zystitid', 'leuko und blu', '[normalerwei leukozyten, evtl. (aber nich zwingend) nitrit oder erythrozyt', 'blasenentzunung', 'blasenetzundung', 'blasentzundung', 'bes', 'im uri war vor einer woch noch blut und bakterie', 'urozystiti', 'blasenentzudung', 'leuko ohn end im uri', 'blasenentzuendung', 'entzu bla', 'zystiti', 'blaseninfekt', 'hwi'}  matched with  ['blasenentzundung'] (score = 0.9375)\n",
      "\n",
      "{'kontrastdarstellung von nier und harnwegsyst', 'urographie'}  matched with  ['urographie'] (score = 1.0)\n",
      "\n",
      "{'dickdarmtumor', 'kolonkarzinom', 'kolorektal karzinom', 'darmkreb'}  matched with  ['darmkreb nnb'] (score = 1.0)\n",
      "\n",
      "{'raumforderung', 'tumor', 'kreb', 'bosartig tumor', 'karzinom'}  matched with  ['karzinom'] (score = 1.0)\n",
      "\n",
      "{'zystitid (pl. von zystitis)', 'nitrit, blut und leuko ist erhoh im uri', 'blasenreizung', 'weiss und rot blutkorperch sowie nitrit im uri', 'harnwegsinfekt', 'harnwegserkrankung', 'urozystitid', 'infekt der harmweg', 'nitrit, leucocyten, erythrocyt', 'harnwegsinfektio', 'balsenentzundung', 'blasenentzundung', 'harnwegsentzundung', 'zystitid', 'leuko und blu', '[normalerwei leukozyten, evtl. (aber nich zwingend) nitrit oder erythrozyt', 'blasenentzunung', 'blasenetzundung', 'blasentzundung', 'bes', 'im uri war vor einer woch noch blut und bakterie', 'urozystiti', 'blasenentzudung', 'leuko ohn end im uri', 'blasenentzuendung', 'entzu bla', 'zystiti', 'blaseninfekt', 'hwi'}  matched with  ['blasenentzundung'] (score = 0.9375)\n",
      "\n",
      "{'harnlei', 'ureth', 'harnleid', 'harnleit', 'harneit', 'uret'}  matched with  ['uret'] (score = 1.0)\n",
      "\n",
      "{'stei in der nier', 'niernestei', 'gallenstei - syn. cholelith', 'konkrement', 'nierenstein, syn. nephrolith', 'steinch', 'nephrolithiasi', 'harnleiterstei', 'steich', 'nierensteinch', 'urolith', 'nierenkonkrement', 'nierenstei', 'ureterstei', 'nierenenstei', 'syn. nephrolith', 'nierengrie', 'nephrolith', 'stei', 'harnstei', 'niernstei'}  matched with  ['nierenkonkrement'] (score = 1.0)\n",
      "\n",
      "{'dialy', 'hamodialy', 'leb an der maschi', 'maschi', 'dialysepflicht', 'blutreinigungsverfahr', 'dyali', 'nierenersatzverfahr'}  matched with  ['nierenersatztherapie'] (score = 0.7)\n",
      "\n",
      "{'brid', 'adhasio', 'verwachsung', 'verklebung'}  matched with  ['verklebung'] (score = 1.0)\n",
      "\n",
      "{'druck im oberbauch', 'magenschleimhautentzuendung', 'symptom der gastriti', 'magenbrenn und magenschmerz', 'standig sodbrennen, ubelkeit, ein brenn hin dem brustbei und schmerz zwisch schulterblatt und bws', 'magenschleimhautentzundung', 'saur schon im mund stand', 'magendchleimhautentzundung', 'magenenschleimhautentzundung', 'magendruck und brenn', 'magendrucken, vollegefuhl, ubelkeit', 'entzundung im ganz magenbereich', 'war mir auch standig ubel, ich hatt ein vollegefuhl, aufstossen, sodbrenn', 'гастритис', 'magenentzundung', 'brenn im mag', 'nachtliches/morgendlich hungergefuhl', 'gastriti', 'hab oft die schleimhaut im mag entzu', 'im mag eine schleimhautentzundung'}  matched with  ['magenentzundung'] (score = 1.0)\n",
      "\n"
     ]
    }
   ],
   "source": [
    "threshold = 0.69 # some false negatives with .7, so .69 seems to work good\n",
    "cutoff_matches = [match for match in matched_strdist if match.match['score'] > threshold]\n",
    "below_cutoff = [match for match in matched_strdist if match.match['score'] <= threshold]\n",
    "print(len(cutoff_matches),'/', len(matched_strdist))\n",
    "print_n_matches(cutoff_matches)"
   ],
   "metadata": {
    "collapsed": false
   }
  },
  {
   "cell_type": "code",
   "execution_count": 15,
   "outputs": [
    {
     "name": "stdout",
     "output_type": "stream",
     "text": [
      "{'nierenfacharzt', 'nierenarzt', 'nephrolog', 'nephrolg', 'spezialist fur nierenerkrankung', 'nierenspezialist'}  matched with  ['niereninfarkt'] (score = 0.64285713)\n",
      "\n",
      "{'kein wass lass', 'gar nich mehr wass lass kann', 'ischurie', 'kann nich pipi mach', 'harnverhalt'}  matched with  ['huma antichima antikoerper-test'] (score = 0.42105263)\n",
      "\n",
      "{'md-gripp', 'mag darm infekt', '1 tag kotzerei und dann so 3-4 tag durchfall', 'norovirus-infektio', 'gastroenteritis, verursach vor allem durch noroviru', 'norovirus-gastroenteriti', 'mag darm gripp', 'mag darm infektio', 'mag darm viru', 'magen-darm-gripp', 'magendarmgripp', 'gastroenteriti', 'viral gastroenteriti', 'noroviru', 'magen-darm-viru', 'magen-darm-infekt'}  matched with  ['magengripp'] (score = 0.625)\n",
      "\n",
      "{'nierenentzuendung', 'nierenbeckentzundung', 'nierenbeckenentzudung', 'nier entzundung', 'pyelonephritid', 'nierenbeckeninfektio', 'pyelonephriti', 'schmerz im nierenbereich', 'nierenbecken)infekt', 'nierenbeckenntzundung', 'nierenbeckenentzudnung', 'schmerz in der flank /nierengeg', 'nephriti', 'nierenenzundung', 'entzundung in der nier', 'nephritid', 'nierenbeckenenztundung', 'schmerz im rucken/flankenbereich', 'nierenbeckenentundung', 'infektio der nier', 'entzudnung in nierenbereich', 'nierenbeckenentzundung', 'nierenbeckenzundung', 'nieren(becken)entzundung', 'nierenentzundung', 'nierenbeckenentzungung', 'hoh fieber, schuttelfrost, und schmerz'}  matched with  ['nierenpapillenentzuendung'] (score = 0.68)\n",
      "\n",
      "{'nierenfacharzt', 'nierenarzt', 'nephrolog', 'nephrolg', 'spezialist fur nierenerkrankung', 'nierenspezialist'}  matched with  ['niereninfarkt'] (score = 0.64285713)\n",
      "\n",
      "{'nierenfacharzt', 'nierenarzt', 'nephrolog', 'nephrolg', 'spezialist fur nierenerkrankung', 'nierenspezialist'}  matched with  ['niereninfarkt'] (score = 0.64285713)\n",
      "\n",
      "{'nierenentzuendung', 'nierenbeckentzundung', 'nierenbeckenentzudung', 'nier entzundung', 'pyelonephritid', 'nierenbeckeninfektio', 'pyelonephriti', 'schmerz im nierenbereich', 'nierenbecken)infekt', 'nierenbeckenntzundung', 'nierenbeckenentzudnung', 'schmerz in der flank /nierengeg', 'nephriti', 'nierenenzundung', 'entzundung in der nier', 'nephritid', 'nierenbeckenenztundung', 'schmerz im rucken/flankenbereich', 'nierenbeckenentundung', 'infektio der nier', 'entzudnung in nierenbereich', 'nierenbeckenentzundung', 'nierenbeckenzundung', 'nieren(becken)entzundung', 'nierenentzundung', 'nierenbeckenentzungung', 'hoh fieber, schuttelfrost, und schmerz'}  matched with  ['nierenpapillenentzuendung'] (score = 0.68)\n",
      "\n",
      "{'nierenentzuendung', 'nierenbeckentzundung', 'nierenbeckenentzudung', 'nier entzundung', 'pyelonephritid', 'nierenbeckeninfektio', 'pyelonephriti', 'schmerz im nierenbereich', 'nierenbecken)infekt', 'nierenbeckenntzundung', 'nierenbeckenentzudnung', 'schmerz in der flank /nierengeg', 'nephriti', 'nierenenzundung', 'entzundung in der nier', 'nephritid', 'nierenbeckenenztundung', 'schmerz im rucken/flankenbereich', 'nierenbeckenentundung', 'infektio der nier', 'entzudnung in nierenbereich', 'nierenbeckenentzundung', 'nierenbeckenzundung', 'nieren(becken)entzundung', 'nierenentzundung', 'nierenbeckenentzungung', 'hoh fieber, schuttelfrost, und schmerz'}  matched with  ['nierenpapillenentzuendung'] (score = 0.68)\n",
      "\n",
      "{'im uri blut', 'blu beim pinkel', 'erythrozyturie', 'rot blutkroperch dri', 'uri ist immer noch rot', 'haematurie', 'sehr rotlich morg uri', 'sichtbar blu im uri', 'stark rot uri', 'uri blut', 'rot blutkorperch dri', 'in uri blu', 'sichtbar blut im uri', 'blu im uri', 'rot blutkorperch im uri', 'rot uri', 'deutlich sichtbar blut im uri', 'blut im orie', 'hamaturie', 'blut im uri', 'uri leich rotlich farb', 'rotlich morg uri', 'makrohamaturie', 'uri ist immer noch leich rotlich farb'}  matched with  ['blutkorperch'] (score = 0.6)\n",
      "\n",
      "{'symptom der oral candido (ein infektio mit einem pilz aus der candida-familie)', 'eine weisslich belag auf der zung'}  matched with  ['einschlaferung'] (score = 0.42424244)\n",
      "\n"
     ]
    }
   ],
   "source": [
    "print_n_matches(below_cutoff)"
   ],
   "metadata": {
    "collapsed": false
   }
  },
  {
   "cell_type": "markdown",
   "source": [
    "## Analyze not mached mentions"
   ],
   "metadata": {
    "collapsed": false
   }
  },
  {
   "cell_type": "code",
   "execution_count": 21,
   "outputs": [
    {
     "name": "stdout",
     "output_type": "stream",
     "text": [
      "mention=SearchTerm(annotation=Annotation(tech_term='Nierenbeckenentzündung', lay_term=None, type=<TermType.TECH: 'TECH'>, span_start=30, span_end=52, synonyms=['Pyelonephritis'], id=3633), stems={'nierenentzuendung', 'nierenbeckentzundung', 'nierenbeckenentzudung', 'nier entzundung', 'pyelonephritid', 'nierenbeckeninfektio', 'pyelonephriti', 'schmerz im nierenbereich', 'nierenbecken)infekt', 'nierenbeckenntzundung', 'nierenbeckenentzudnung', 'schmerz in der flank /nierengeg', 'nephriti', 'nierenenzundung', 'entzundung in der nier', 'nephritid', 'nierenbeckenenztundung', 'schmerz im rucken/flankenbereich', 'nierenbeckenentundung', 'infektio der nier', 'entzudnung in nierenbereich', 'nierenbeckenentzundung', 'nierenbeckenzundung', 'nieren(becken)entzundung', 'nierenentzundung', 'nierenbeckenentzungung', 'hoh fieber, schuttelfrost, und schmerz'}) match={'cui': ['C0022667'], 'source': ['WHOGER'], 'language': ['GER'], 'name': ['NIERENPAPILLENENTZUENDUNG'], 'index_term': ['nierenpapillenentzuendung'], 'id': 'c16d93d8-8349-45f2-9932-e22ae7a099ad', '_version_': 1759986064222584837, 'score': 0.68} matched_string=None\n"
     ]
    }
   ],
   "source": [
    "print(below_cutoff[0])\n"
   ],
   "metadata": {
    "collapsed": false
   }
  },
  {
   "cell_type": "code",
   "execution_count": 26,
   "outputs": [],
   "source": [
    "class SampleCollection:\n",
    "    def __init__(self):\n",
    "        self.samples = load_tlc_samples()\n",
    "        self.id_mapping = {sample.id: sample for sample in self.samples}\n",
    "        self.annotation_id_mapping = {annotation.id: sample for sample in self.samples for annotation in sample.annotations}\n",
    "    \n",
    "    def get_sample_by_id(self, identifier:int):\n",
    "        return self.id_mapping[identifier]\n",
    "    \n",
    "    def get_sample_by_annotation_id(self, identifier:int):\n",
    "        return self.annotation_id_mapping[identifier]\n",
    "\n",
    "sample_collection = SampleCollection()"
   ],
   "metadata": {
    "collapsed": false
   }
  },
  {
   "cell_type": "code",
   "execution_count": 28,
   "outputs": [
    {
     "data": {
      "text/plain": "Sample(annotations=[Annotation(tech_term='Nierenbeckenentzündung', lay_term=None, type=<TermType.TECH: 'TECH'>, span_start=30, span_end=52, synonyms=['Pyelonephritis'], id=3633)], text='wenn du zu dem Facharzt gehst und sagst du hast Schmerzen dürfen!! sie dich nicht wegschicken ansonsten rede nochmal mit deiner Hausärztin das sie die praxis anruft und um einen früheren termin bittet', file_name='file_5145_wirdschoalles_2007-10-20_', subforum=<SubForumType.KIDNEY: 'KIDNEY'>, id=1575)"
     },
     "execution_count": 28,
     "metadata": {},
     "output_type": "execute_result"
    }
   ],
   "source": [
    "sample_collection.get_sample_by_annotation_id(below_cutoff[0].mention.annotation.id)\n"
   ],
   "metadata": {
    "collapsed": false
   }
  },
  {
   "cell_type": "code",
   "execution_count": 29,
   "outputs": [],
   "source": [
    "from termcolor import colored"
   ],
   "metadata": {
    "collapsed": false
   }
  },
  {
   "cell_type": "code",
   "execution_count": 31,
   "outputs": [
    {
     "name": "stdout",
     "output_type": "stream",
     "text": [
      "\u001B[31mhallo\u001B[0m\n"
     ]
    }
   ],
   "source": [
    "for sample in \n",
    "colored(\"hallo\", \"red\")"
   ],
   "metadata": {
    "collapsed": false
   }
  },
  {
   "cell_type": "code",
   "execution_count": 34,
   "outputs": [
    {
     "name": "stdout",
     "output_type": "stream",
     "text": [
      "wenn du zu dem Facharzt gehst \u001B[31mund sagst du hast Schm\u001B[0merzen dürfen!! sie dich nicht wegschicken ansonsten rede nochmal mit deiner Hausärztin das sie die praxis anruft und um einen früheren termin bittet\n"
     ]
    }
   ],
   "source": [
    "for search_term in below_cutoff:\n",
    "    annotation = search_term.mention.annotation\n",
    "    sample = sample_collection.get_sample_by_annotation_id(annotation.id)\n",
    "    text = sample.text\n",
    "    colored_mention = colored(text[annotation.span_start:annotation.span_end], \"red\")\n",
    "    text_with_colors = text[:annotation.span_start] + colored_mention + text[annotation.span_end:]\n",
    "    print(text_with_colors)\n",
    "    break"
   ],
   "metadata": {
    "collapsed": false
   }
  },
  {
   "cell_type": "code",
   "execution_count": null,
   "outputs": [],
   "source": [],
   "metadata": {
    "collapsed": false
   }
  }
 ],
 "metadata": {
  "kernelspec": {
   "display_name": "Python 3",
   "language": "python",
   "name": "python3"
  },
  "language_info": {
   "codemirror_mode": {
    "name": "ipython",
    "version": 2
   },
   "file_extension": ".py",
   "mimetype": "text/x-python",
   "name": "python",
   "nbconvert_exporter": "python",
   "pygments_lexer": "ipython2",
   "version": "2.7.6"
  }
 },
 "nbformat": 4,
 "nbformat_minor": 0
}
