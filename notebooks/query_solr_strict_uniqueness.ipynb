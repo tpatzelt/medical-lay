{
 "cells": [
  {
   "cell_type": "code",
   "execution_count": 1,
   "outputs": [],
   "source": [
    "import json\n",
    "import time\n",
    "from collections import Counter\n",
    "\n",
    "import pysolr\n",
    "from tqdm import tqdm\n",
    "from config import TLCPaths\n",
    "from models import Match\n",
    "from data_loading import load_search_terms"
   ],
   "metadata": {
    "collapsed": false,
    "ExecuteTime": {
     "end_time": "2023-06-02T09:03:39.455630276Z",
     "start_time": "2023-06-02T09:03:38.736374301Z"
    }
   }
  },
  {
   "cell_type": "code",
   "execution_count": 2,
   "outputs": [
    {
     "data": {
      "text/plain": "'{\\n  \"responseHeader\":{\\n    \"zkConnected\":null,\\n    \"status\":0,\\n    \"QTime\":1,\\n    \"params\":{\\n      \"q\":\"{!lucene}*:*\",\\n      \"distrib\":\"false\",\\n      \"df\":\"_text_\",\\n      \"rows\":\"10\",\\n      \"echoParams\":\"all\",\\n      \"rid\":\"localhost-990\"}},\\n  \"status\":\"OK\"}\\n'"
     },
     "execution_count": 2,
     "metadata": {},
     "output_type": "execute_result"
    }
   ],
   "source": [
    "solr = pysolr.Solr('http://localhost:8983/solr/wumls-single-valued-deduplicated',\n",
    "                   always_commit=False)\n",
    "# solr = pysolr.Solr('http://localhost:8983/solr/wumls-multi-valued', always_commit=False)\n",
    "solr.ping()"
   ],
   "metadata": {
    "collapsed": false,
    "ExecuteTime": {
     "end_time": "2023-06-02T09:03:39.468116296Z",
     "start_time": "2023-06-02T09:03:39.457325113Z"
    }
   }
  },
  {
   "cell_type": "code",
   "execution_count": 3,
   "outputs": [],
   "source": [
    "def create_query_with_edit_distance(term):\n",
    "    return \"{!func}strdist('\" + term + \"',index_term,edit)\"\n",
    "\n",
    "\n",
    "def filter_results_by_common_cuis(results):\n",
    "    cuis = [d['cui'][0] for d in results]\n",
    "    counter = Counter(cuis)\n",
    "    most_common_match_cui = counter.most_common()[0][0]\n",
    "    most_common_match = next(d for d in results if d['cui'][0] == most_common_match_cui)\n",
    "    return most_common_match\n",
    "\n",
    "\n",
    "def filter_results_by_highest_score(results):\n",
    "    score = 0\n",
    "    top_result = None\n",
    "    for result in results:\n",
    "        if result[\"score\"] > score:\n",
    "            top_result = result\n",
    "            score = result[\"score\"]\n",
    "    return top_result\n"
   ],
   "metadata": {
    "collapsed": false,
    "ExecuteTime": {
     "end_time": "2023-06-02T09:03:39.502147056Z",
     "start_time": "2023-06-02T09:03:39.471124784Z"
    }
   }
  },
  {
   "cell_type": "code",
   "execution_count": 4,
   "outputs": [
    {
     "name": "stdout",
     "output_type": "stream",
     "text": [
      "{'cui': ['C0034186'], 'source': ['MDRGER'], 'language': ['GER'], 'name': ['Pyelonephritis'], 'index_term': ['pyelonephriti'], 'id': 'c8b1ada1-826d-46fa-a6fb-186add6196a1', '_version_': 1760194257981800490, 'score': 5.497966}\n",
      "{'cui': ['C0022667'], 'source': ['MSHGER'], 'language': ['GER'], 'name': ['Nekrotisierende Pyelonephritis'], 'index_term': ['nekrotisier pyelonephriti'], 'id': '0fd0839d-370c-4761-8ea2-676e0c654d9f', '_version_': 1760194257740627992, 'score': 4.649174}\n"
     ]
    }
   ],
   "source": [
    "search_term = \"pyelonephriti\"\n",
    "results = solr.search(q=f\"index_term:{search_term}\", fl=\"*, score\", rows=2)\n",
    "for res in results:\n",
    "    print(res)"
   ],
   "metadata": {
    "collapsed": false,
    "ExecuteTime": {
     "end_time": "2023-06-02T09:03:39.515118549Z",
     "start_time": "2023-06-02T09:03:39.488384826Z"
    }
   }
  },
  {
   "cell_type": "code",
   "execution_count": 6,
   "outputs": [],
   "source": [
    "with open('search_terms_single_and_ids.json', 'r') as fp:\n",
    "    terms_and_ids = json.load(fp)"
   ],
   "metadata": {
    "collapsed": false,
    "ExecuteTime": {
     "end_time": "2023-06-02T09:04:01.950684914Z",
     "start_time": "2023-06-02T09:04:01.936663785Z"
    }
   }
  },
  {
   "cell_type": "code",
   "execution_count": 9,
   "outputs": [
    {
     "name": "stderr",
     "output_type": "stream",
     "text": [
      "100%|██████████| 997/997 [09:12<00:00,  1.81it/s]\n"
     ]
    }
   ],
   "source": [
    "all_results = []\n",
    "for stem in tqdm(terms_and_ids):\n",
    "    try:\n",
    "        res = solr.search(q=create_query_with_edit_distance(term=stem), fl=\"*,score\", rows=1)\n",
    "    except pysolr.SolrError:\n",
    "        continue\n",
    "    top_result = list(res)[0]\n",
    "    top_result['stem'] = stem\n",
    "    all_results.append(top_result)"
   ],
   "metadata": {
    "collapsed": false,
    "ExecuteTime": {
     "end_time": "2023-06-02T09:13:56.565783969Z",
     "start_time": "2023-06-02T09:04:44.426790955Z"
    }
   }
  },
  {
   "cell_type": "code",
   "execution_count": 10,
   "outputs": [
    {
     "data": {
      "text/plain": "{'cui': ['C0016204'],\n 'source': ['MDRGER'],\n 'language': ['GER'],\n 'name': ['Flatulenz'],\n 'index_term': ['flatulenz'],\n 'id': '724154c9-63d4-4658-ba0d-d6b1708574bf',\n '_version_': 1760194257559224321,\n 'score': 1.0,\n 'stem': 'flatulenz'}"
     },
     "execution_count": 10,
     "metadata": {},
     "output_type": "execute_result"
    }
   ],
   "source": [
    "all_results[0]"
   ],
   "metadata": {
    "collapsed": false,
    "ExecuteTime": {
     "end_time": "2023-06-02T09:17:52.560710958Z",
     "start_time": "2023-06-02T09:17:52.518304886Z"
    }
   }
  },
  {
   "cell_type": "code",
   "execution_count": 11,
   "outputs": [
    {
     "data": {
      "text/plain": "0"
     },
     "execution_count": 11,
     "metadata": {},
     "output_type": "execute_result"
    }
   ],
   "source": [
    "sum(['cui' not in res for res in all_results])"
   ],
   "metadata": {
    "collapsed": false,
    "ExecuteTime": {
     "end_time": "2023-06-02T09:17:55.866069086Z",
     "start_time": "2023-06-02T09:17:55.852329345Z"
    }
   }
  },
  {
   "cell_type": "code",
   "execution_count": 12,
   "outputs": [
    {
     "name": "stderr",
     "output_type": "stream",
     "text": [
      "100%|██████████| 997/997 [00:00<00:00, 1121104.85it/s]\n"
     ]
    }
   ],
   "source": [
    "matched, not_matched = [], []\n",
    "for result in tqdm(all_results):\n",
    "    \n",
    "    if result:\n",
    "        matched.append(result)\n",
    "    else:\n",
    "        not_matched.append(result) # solr always matches"
   ],
   "metadata": {
    "collapsed": false,
    "ExecuteTime": {
     "end_time": "2023-06-02T09:17:56.755095556Z",
     "start_time": "2023-06-02T09:17:56.739392978Z"
    }
   }
  },
  {
   "cell_type": "code",
   "execution_count": 13,
   "outputs": [
    {
     "name": "stdout",
     "output_type": "stream",
     "text": [
      "len(matched)=997\n",
      "len(not_matched)=0\n"
     ]
    }
   ],
   "source": [
    "print(f\"{len(matched)=}\")\n",
    "print(f\"{len(not_matched)=}\")"
   ],
   "metadata": {
    "collapsed": false,
    "ExecuteTime": {
     "end_time": "2023-06-02T09:17:57.603302974Z",
     "start_time": "2023-06-02T09:17:57.594640621Z"
    }
   }
  },
  {
   "cell_type": "code",
   "execution_count": 14,
   "outputs": [],
   "source": [
    "path = TLCPaths.project_data_path.joinpath(f'matched_solr_{time.strftime(\"%Y%m%d-%H%M%S\")}.json')\n",
    "with open(path, 'w') as fp:\n",
    "    json.dump([match for match in matched], fp)"
   ],
   "metadata": {
    "collapsed": false,
    "ExecuteTime": {
     "end_time": "2023-06-02T09:17:58.890373705Z",
     "start_time": "2023-06-02T09:17:58.787701273Z"
    }
   }
  },
  {
   "cell_type": "code",
   "execution_count": 15,
   "outputs": [],
   "source": [
    "path = TLCPaths.project_data_path.joinpath(\n",
    "    f'not_matched_solr_{time.strftime(\"%Y%m%d-%H%M%S\")}.json')\n",
    "with open(path, 'w') as fp:\n",
    "    json.dump([match for match in not_matched], fp)"
   ],
   "metadata": {
    "collapsed": false,
    "ExecuteTime": {
     "end_time": "2023-06-02T09:17:59.430015055Z",
     "start_time": "2023-06-02T09:17:59.421216085Z"
    }
   }
  },
  {
   "cell_type": "code",
   "execution_count": null,
   "outputs": [],
   "source": [],
   "metadata": {
    "collapsed": false
   }
  }
 ],
 "metadata": {
  "kernelspec": {
   "display_name": "Python 3",
   "language": "python",
   "name": "python3"
  },
  "language_info": {
   "codemirror_mode": {
    "name": "ipython",
    "version": 2
   },
   "file_extension": ".py",
   "mimetype": "text/x-python",
   "name": "python",
   "nbconvert_exporter": "python",
   "pygments_lexer": "ipython2",
   "version": "2.7.6"
  }
 },
 "nbformat": 4,
 "nbformat_minor": 0
}
