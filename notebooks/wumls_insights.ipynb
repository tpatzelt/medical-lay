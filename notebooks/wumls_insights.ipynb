{
 "cells": [
  {
   "cell_type": "code",
   "execution_count": 40,
   "metadata": {
    "collapsed": true,
    "ExecuteTime": {
     "start_time": "2023-04-08T18:39:59.797978Z",
     "end_time": "2023-04-08T18:39:59.803649Z"
    }
   },
   "outputs": [],
   "source": [
    "from data_loading import load_wumls_entries\n",
    "import pandas as pd"
   ]
  },
  {
   "cell_type": "code",
   "execution_count": 41,
   "outputs": [],
   "source": [
    "entries = load_wumls_entries()"
   ],
   "metadata": {
    "collapsed": false,
    "ExecuteTime": {
     "start_time": "2023-04-08T18:40:00.046980Z",
     "end_time": "2023-04-08T18:40:03.393999Z"
    }
   }
  },
  {
   "cell_type": "code",
   "execution_count": 42,
   "outputs": [],
   "source": [
    "df = pd.DataFrame([entry.dict() for entry in entries])"
   ],
   "metadata": {
    "collapsed": false,
    "ExecuteTime": {
     "start_time": "2023-04-08T18:40:03.437327Z",
     "end_time": "2023-04-08T18:40:06.291415Z"
    }
   }
  },
  {
   "cell_type": "code",
   "execution_count": 43,
   "outputs": [
    {
     "data": {
      "text/plain": "Index(['cui', 'source', 'language', 'name', 'index_term'], dtype='object')"
     },
     "execution_count": 43,
     "metadata": {},
     "output_type": "execute_result"
    }
   ],
   "source": [
    "df.columns"
   ],
   "metadata": {
    "collapsed": false,
    "ExecuteTime": {
     "start_time": "2023-04-08T18:40:06.293773Z",
     "end_time": "2023-04-08T18:40:06.298356Z"
    }
   }
  },
  {
   "cell_type": "code",
   "execution_count": 44,
   "outputs": [
    {
     "data": {
      "text/plain": "MDRGER         99061\nMSHGER         80864\nDMDICD10       11864\nLNC-DE-DE      11059\nLNC-DE-CH       4941\nDMDUMD          3373\nWHOGER          3332\nWIKTIONARY      3082\nICPCGER          716\nLNC-DE-AT        188\nOMIM               1\nSNOMEDCT_US        1\nSPN                1\nName: source, dtype: int64"
     },
     "execution_count": 44,
     "metadata": {},
     "output_type": "execute_result"
    }
   ],
   "source": [
    "df[\"source\"].value_counts()\n"
   ],
   "metadata": {
    "collapsed": false,
    "ExecuteTime": {
     "start_time": "2023-04-08T18:40:06.298869Z",
     "end_time": "2023-04-08T18:40:06.352632Z"
    }
   }
  },
  {
   "cell_type": "code",
   "execution_count": 61,
   "outputs": [
    {
     "name": "stdout",
     "output_type": "stream",
     "text": [
      "\\begin{table}[h]\n",
      "\\centering\n",
      "\\label{tab:wumls_ontologies}\n",
      "\\begin{tabular}{|lrr|}\n",
      "\\toprule\n",
      "  Ontology & Name Count & Concept Count \\\\\n",
      "\\midrule\n",
      "    MDRGER &      99061 &         52249 \\\\\n",
      "    MSHGER &      80864 &         39852 \\\\\n",
      "  DMDICD10 &      11864 &         11208 \\\\\n",
      " LNC-DE-DE &      11059 &         11043 \\\\\n",
      " LNC-DE-CH &       4941 &          4941 \\\\\n",
      "    DMDUMD &       3373 &          3296 \\\\\n",
      "    WHOGER &       3332 &          2733 \\\\\n",
      "WIKTIONARY &       3082 &           768 \\\\\n",
      "   ICPCGER &        716 &           715 \\\\\n",
      " LNC-DE-AT &        188 &           186 \\\\\n",
      "     Total &     218483 &        110121 \\\\\n",
      "\\bottomrule\n",
      "\\end{tabular}\n",
      "\\end{table}\n",
      "\n"
     ]
    },
    {
     "name": "stderr",
     "output_type": "stream",
     "text": [
      "<ipython-input-61-95d3a24dc21d>:7: FutureWarning: In future versions `DataFrame.to_latex` is expected to utilise the base implementation of `Styler.to_latex` for formatting and rendering. The arguments signature may therefore change. It is recommended instead to use `DataFrame.style.to_latex` which also contains additional functionality.\n",
      "  table = pd.DataFrame.from_records(wumls_table_data).to_latex(position='h', index=False, header=[\"Ontology\", \"Name Count\", \"Concept Count\"], label=\"tab:wumls_ontologies\", column_format='|lrr|')\n"
     ]
    }
   ],
   "source": [
    "wumls_table_data = []\n",
    "for x,y in df[\"source\"].value_counts().items():\n",
    "    if y < 2: # exclude one entry from snomed and spn each\n",
    "        continue\n",
    "    wumls_table_data.append(dict(ontology=x,name_count=y,concept_count=df[\"cui\"].loc[df[\"source\"] == x].nunique()))\n",
    "wumls_table_data.append(dict(ontology=\"Total\",name_count=df[\"source\"].value_counts().sum(),concept_count=df[\"cui\"].nunique()))\n",
    "table = pd.DataFrame.from_records(wumls_table_data).to_latex(position='h', index=False, header=[\"Ontology\", \"Name Count\", \"Concept Count\"], label=\"tab:wumls_ontologies\", column_format='|lrr|')\n",
    "print(table)"
   ],
   "metadata": {
    "collapsed": false,
    "ExecuteTime": {
     "start_time": "2023-04-08T19:27:35.818578Z",
     "end_time": "2023-04-08T19:27:36.209575Z"
    }
   }
  },
  {
   "cell_type": "code",
   "execution_count": 27,
   "outputs": [
    {
     "name": "stdout",
     "output_type": "stream",
     "text": [
      "names without wiktionary: 215401\n",
      "names with wiktionary: 3082\n",
      "names total: 218483\n"
     ]
    }
   ],
   "source": [
    "print(\"names without wiktionary:\", df[\"name\"].loc[df[\"source\"] != \"WIKTIONARY\"].size)\n",
    "print(\"names with wiktionary:\", df[\"name\"].loc[df[\"source\"] == \"WIKTIONARY\"].size)\n",
    "print(\"names total:\", df[\"name\"].size)\n"
   ],
   "metadata": {
    "collapsed": false,
    "ExecuteTime": {
     "start_time": "2023-04-06T13:27:37.918538Z",
     "end_time": "2023-04-06T13:27:37.951206Z"
    }
   }
  },
  {
   "cell_type": "code",
   "execution_count": 24,
   "outputs": [
    {
     "name": "stdout",
     "output_type": "stream",
     "text": [
      "unique concepts without wiktionary: 110086\n",
      "unique concepts with wiktionary: 768\n",
      "unique concepts total: 110121\n"
     ]
    }
   ],
   "source": [
    "print(\"unique concepts without wiktionary:\", df[\"cui\"].loc[df[\"source\"] != \"WIKTIONARY\"].nunique())\n",
    "print(\"unique concepts with wiktionary:\", df[\"cui\"].loc[df[\"source\"] == \"WIKTIONARY\"].nunique())\n",
    "print(\"unique concepts total:\", df[\"cui\"].nunique())\n"
   ],
   "metadata": {
    "collapsed": false,
    "ExecuteTime": {
     "start_time": "2023-04-06T13:20:59.466659Z",
     "end_time": "2023-04-06T13:20:59.615964Z"
    }
   }
  },
  {
   "cell_type": "markdown",
   "source": [
    "analyze proportions of ontologies that matched mentions"
   ],
   "metadata": {
    "collapsed": false
   }
  },
  {
   "cell_type": "code",
   "execution_count": 6,
   "outputs": [],
   "source": [
    "import json\n",
    "from config import TLCPaths\n",
    "from collections import defaultdict\n",
    "from data_loading import get_annotation_ids\n",
    "from tqdm import tqdm\n",
    "import pandas as pd"
   ],
   "metadata": {
    "collapsed": false,
    "ExecuteTime": {
     "start_time": "2023-04-08T09:35:41.127864Z",
     "end_time": "2023-04-08T09:35:41.956810Z"
    }
   }
  },
  {
   "cell_type": "code",
   "execution_count": 7,
   "outputs": [],
   "source": [
    "with open(TLCPaths.project_data_path.joinpath(f'matched_solr_20230403-100734.json')) as fp:\n",
    "    solr_matches = json.load(fp)\n",
    "    \n",
    "with open(TLCPaths.project_data_path.joinpath(f'not_matched_solr_20230403-100735.json')) as fp:\n",
    "    solr_not_matches = json.load(fp)"
   ],
   "metadata": {
    "collapsed": false,
    "ExecuteTime": {
     "start_time": "2023-04-08T09:35:41.934385Z",
     "end_time": "2023-04-08T09:35:41.974940Z"
    }
   }
  },
  {
   "cell_type": "code",
   "execution_count": 8,
   "outputs": [],
   "source": [
    "def remove_list_values(d: dict):\n",
    "    for k,v in d.items():\n",
    "        if isinstance(v, list):\n",
    "            d[k] = v[0]\n",
    "    return d\n",
    "solr_matches = [remove_list_values(d) for d in solr_matches]\n",
    "solr_not_matches = [remove_list_values(d) for d in solr_not_matches]"
   ],
   "metadata": {
    "collapsed": false,
    "ExecuteTime": {
     "start_time": "2023-04-08T09:35:42.137774Z",
     "end_time": "2023-04-08T09:35:42.183931Z"
    }
   }
  },
  {
   "cell_type": "code",
   "execution_count": 9,
   "outputs": [],
   "source": [
    "solr_matches_df = pd.DataFrame(solr_matches)\n",
    "solr_not_matches_df = pd.DataFrame(solr_not_matches)"
   ],
   "metadata": {
    "collapsed": false,
    "ExecuteTime": {
     "start_time": "2023-04-08T09:35:42.864091Z",
     "end_time": "2023-04-08T09:35:42.870624Z"
    }
   }
  },
  {
   "cell_type": "code",
   "execution_count": 10,
   "outputs": [
    {
     "data": {
      "text/plain": "MSHGER        329\nMDRGER        318\nWIKTIONARY    225\nWHOGER         52\nDMDICD10       38\nDMDUMD         20\nICPCGER         9\nLNC-DE-CH       4\nLNC-DE-DE       3\nName: source, dtype: int64"
     },
     "execution_count": 10,
     "metadata": {},
     "output_type": "execute_result"
    }
   ],
   "source": [
    "solr_matches_df['source'].value_counts()"
   ],
   "metadata": {
    "collapsed": false,
    "ExecuteTime": {
     "start_time": "2023-04-08T09:35:43.332911Z",
     "end_time": "2023-04-08T09:35:43.341725Z"
    }
   }
  },
  {
   "cell_type": "code",
   "execution_count": 13,
   "outputs": [],
   "source": [
    "with open(TLCPaths.project_data_path.joinpath('search_terms_single_and_ids_strict_uniqueness.json'), 'r') as fp:\n",
    "    terms_and_ids = json.load(fp)"
   ],
   "metadata": {
    "collapsed": false,
    "ExecuteTime": {
     "start_time": "2023-04-08T13:21:37.774872Z",
     "end_time": "2023-04-08T13:21:37.814777Z"
    }
   }
  },
  {
   "cell_type": "code",
   "execution_count": 28,
   "outputs": [
    {
     "name": "stderr",
     "output_type": "stream",
     "text": [
      "100%|██████████| 998/998 [00:00<00:00, 496137.89it/s]\n"
     ]
    }
   ],
   "source": [
    "match_counts = defaultdict(list)\n",
    "for match in tqdm(solr_matches):\n",
    "    try:\n",
    "        counts = len(terms_and_ids[match['stem']])\n",
    "    except KeyError:\n",
    "        counts = len(terms_and_ids[match['stem'].strip()])\n",
    "    assert counts > 0\n",
    "    match_counts[match['source']].append(counts)"
   ],
   "metadata": {
    "collapsed": false,
    "ExecuteTime": {
     "start_time": "2023-04-08T16:41:31.226026Z",
     "end_time": "2023-04-08T16:41:31.239399Z"
    }
   }
  },
  {
   "cell_type": "code",
   "execution_count": 67,
   "outputs": [
    {
     "name": "stdout",
     "output_type": "stream",
     "text": [
      "MDRGER 24.74\n",
      "MSHGER 22.1\n",
      "DMDICD10 2.84\n",
      "LNC-DE-DE 0.04\n",
      "LNC-DE-CH 0.46\n",
      "DMDUMD 1.29\n",
      "WHOGER 4.72\n",
      "WIKTIONARY 43.26\n",
      "ICPCGER 0.54\n",
      "LNC-DE-AT 0.0\n",
      "Total 100.0\n",
      "total 7392\n"
     ]
    }
   ],
   "source": [
    "total_counts = sum([sum(counts) for counts in match_counts.values()])\n",
    "match_counts['Total'] = [total_counts]\n",
    "for wumls_table_row in wumls_table_data:\n",
    "    ontology = wumls_table_row['ontology']\n",
    "    counts = match_counts[ontology]\n",
    "    share_of_matches = round(sum(counts)/total_counts * 100, 2)\n",
    "    print(ontology, share_of_matches)\n",
    "    \n",
    "    wumls_table_row['share_of_matches'] = share_of_matches\n",
    "print(\"total\", total_counts)"
   ],
   "metadata": {
    "collapsed": false,
    "ExecuteTime": {
     "start_time": "2023-04-08T20:02:08.319820Z",
     "end_time": "2023-04-08T20:02:08.366463Z"
    }
   }
  },
  {
   "cell_type": "code",
   "execution_count": 68,
   "outputs": [
    {
     "name": "stdout",
     "output_type": "stream",
     "text": [
      "\\begin{table}[h]\n",
      "\\centering\n",
      "\\label{tab:wumls_ontologies}\n",
      "\\begin{tabular}{|lrrr|}\n",
      "\\toprule\n",
      "  Ontology & Name Count & Concept Count & Share of matched concepts (in \\%) \\\\\n",
      "\\midrule\n",
      "    MDRGER &      99061 &         52249 &                            24.74 \\\\\n",
      "    MSHGER &      80864 &         39852 &                            22.10 \\\\\n",
      "  DMDICD10 &      11864 &         11208 &                             2.84 \\\\\n",
      " LNC-DE-DE &      11059 &         11043 &                             0.04 \\\\\n",
      " LNC-DE-CH &       4941 &          4941 &                             0.46 \\\\\n",
      "    DMDUMD &       3373 &          3296 &                             1.29 \\\\\n",
      "    WHOGER &       3332 &          2733 &                             4.72 \\\\\n",
      "WIKTIONARY &       3082 &           768 &                            43.26 \\\\\n",
      "   ICPCGER &        716 &           715 &                             0.54 \\\\\n",
      " LNC-DE-AT &        188 &           186 &                             0.00 \\\\\n",
      "     Total &     218483 &        110121 &                           100.00 \\\\\n",
      "\\bottomrule\n",
      "\\end{tabular}\n",
      "\\end{table}\n",
      "\n"
     ]
    },
    {
     "name": "stderr",
     "output_type": "stream",
     "text": [
      "<ipython-input-68-806e40879211>:1: FutureWarning: In future versions `DataFrame.to_latex` is expected to utilise the base implementation of `Styler.to_latex` for formatting and rendering. The arguments signature may therefore change. It is recommended instead to use `DataFrame.style.to_latex` which also contains additional functionality.\n",
      "  table = pd.DataFrame.from_records(wumls_table_data).to_latex(position='h', index=False, header=[\"Ontology\", \"Name Count\", \"Concept Count\", \"Share of matched concepts (in %)\"], label=\"tab:wumls_ontologies\", column_format='|lrrr|')\n"
     ]
    }
   ],
   "source": [
    "table = pd.DataFrame.from_records(wumls_table_data).to_latex(position='h', index=False, header=[\"Ontology\", \"Name Count\", \"Concept Count\", \"Share of matched concepts (in %)\"], label=\"tab:wumls_ontologies\", column_format='|lrrr|')\n",
    "print(table)"
   ],
   "metadata": {
    "collapsed": false,
    "ExecuteTime": {
     "start_time": "2023-04-08T20:02:10.888069Z",
     "end_time": "2023-04-08T20:02:10.911553Z"
    }
   }
  },
  {
   "cell_type": "code",
   "execution_count": null,
   "outputs": [],
   "source": [],
   "metadata": {
    "collapsed": false
   }
  }
 ],
 "metadata": {
  "kernelspec": {
   "display_name": "Python 3",
   "language": "python",
   "name": "python3"
  },
  "language_info": {
   "codemirror_mode": {
    "name": "ipython",
    "version": 2
   },
   "file_extension": ".py",
   "mimetype": "text/x-python",
   "name": "python",
   "nbconvert_exporter": "python",
   "pygments_lexer": "ipython2",
   "version": "2.7.6"
  }
 },
 "nbformat": 4,
 "nbformat_minor": 0
}
