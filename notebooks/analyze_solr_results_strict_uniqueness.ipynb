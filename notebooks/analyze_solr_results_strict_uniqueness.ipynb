{
 "cells": [
  {
   "cell_type": "code",
   "execution_count": 2,
   "metadata": {
    "ExecuteTime": {
     "end_time": "2023-06-02T09:22:23.772625282Z",
     "start_time": "2023-06-02T09:22:21.239606183Z"
    }
   },
   "outputs": [],
   "source": [
    "import json\n",
    "import random\n",
    "from pathlib import Path\n",
    "\n",
    "import matplotlib.pyplot as plt\n",
    "import numpy as np\n",
    "from termcolor import colored\n",
    "\n",
    "from data_loading import load_tlc_samples\n",
    "from models import Match, SampleCollection\n",
    "from config import TLCPaths"
   ]
  },
  {
   "cell_type": "code",
   "execution_count": 3,
   "metadata": {
    "ExecuteTime": {
     "end_time": "2023-06-02T09:22:26.534826324Z",
     "start_time": "2023-06-02T09:22:26.518424698Z"
    }
   },
   "outputs": [],
   "source": [
    "def show_search_score_proportion(matches):\n",
    "    nums_matched = []\n",
    "    x = np.linspace(0, 1, 10)\n",
    "    for threshold in x:\n",
    "        num_matched = len([match for match in matches if match['score'] > threshold])\n",
    "        nums_matched.append(num_matched / len(matches))\n",
    "\n",
    "    fig, ax = plt.subplots()\n",
    "    ax.plot(x, nums_matched)\n",
    "    ax.set_xlabel(\"score threshold\")\n",
    "    ax.set_ylabel(\"% matched\")\n",
    "    ax.grid()\n",
    "    plt.show()\n"
   ]
  },
  {
   "cell_type": "code",
   "execution_count": 4,
   "metadata": {
    "ExecuteTime": {
     "end_time": "2023-06-02T09:22:27.092964311Z",
     "start_time": "2023-06-02T09:22:27.071307887Z"
    }
   },
   "outputs": [
    {
     "name": "stdout",
     "output_type": "stream",
     "text": [
      "matched_solr_20230602-111758.json\n",
      "not_matched_solr_20230602-111759.json\n"
     ]
    }
   ],
   "source": [
    "for file in TLCPaths.project_data_path.iterdir():\n",
    "    if \"matched_solr\" in str(file.name):\n",
    "        print(file.name)"
   ]
  },
  {
   "cell_type": "code",
   "execution_count": 5,
   "metadata": {
    "ExecuteTime": {
     "end_time": "2023-06-02T09:22:53.293114491Z",
     "start_time": "2023-06-02T09:22:53.245105111Z"
    }
   },
   "outputs": [],
   "source": [
    "matched_file_path = TLCPaths.project_data_path.joinpath(\"matched_solr_20230602-111758.json\")\n",
    "not_matched_file_path = TLCPaths.project_data_path.joinpath(\"not_matched_solr_20230602-111759.json\")\n",
    "# load the two json files \n",
    "with open(matched_file_path, \"r\") as f:\n",
    "    matched = [x for x in json.load(f)]\n",
    "with open(not_matched_file_path, \"r\") as f:\n",
    "    not_matched = [x for x in json.load(f)]"
   ]
  },
  {
   "cell_type": "code",
   "execution_count": 6,
   "metadata": {
    "ExecuteTime": {
     "end_time": "2023-06-02T09:22:53.907103349Z",
     "start_time": "2023-06-02T09:22:53.903083193Z"
    }
   },
   "outputs": [
    {
     "name": "stdout",
     "output_type": "stream",
     "text": [
      "len(matched)=997\n",
      "len(not_matched)=0\n"
     ]
    }
   ],
   "source": [
    "print(f\"{len(matched)=}\")\n",
    "print(f\"{len(not_matched)=}\")\n"
   ]
  },
  {
   "cell_type": "code",
   "execution_count": 7,
   "metadata": {
    "ExecuteTime": {
     "end_time": "2023-06-02T09:22:58.937957593Z",
     "start_time": "2023-06-02T09:22:58.764539440Z"
    }
   },
   "outputs": [
    {
     "data": {
      "text/plain": "<Figure size 432x288 with 1 Axes>",
      "image/png": "[encoded data removed]"
     },
     "metadata": {
      "needs_background": "light"
     },
     "output_type": "display_data"
    }
   ],
   "source": [
    "show_search_score_proportion(matched)"
   ]
  },
  {
   "cell_type": "code",
   "execution_count": 8,
   "metadata": {
    "ExecuteTime": {
     "end_time": "2023-06-02T09:22:59.862241133Z",
     "start_time": "2023-06-02T09:22:59.856571066Z"
    }
   },
   "outputs": [
    {
     "data": {
      "text/plain": "{'cui': ['C0016204'],\n 'source': ['MDRGER'],\n 'language': ['GER'],\n 'name': ['Flatulenz'],\n 'index_term': ['flatulenz'],\n 'id': '724154c9-63d4-4658-ba0d-d6b1708574bf',\n '_version_': 1760194257559224321,\n 'score': 1.0,\n 'stem': 'flatulenz'}"
     },
     "execution_count": 8,
     "metadata": {},
     "output_type": "execute_result"
    }
   ],
   "source": [
    "matched[0]"
   ]
  },
  {
   "cell_type": "code",
   "execution_count": 9,
   "metadata": {
    "ExecuteTime": {
     "end_time": "2023-06-02T09:23:03.072830760Z",
     "start_time": "2023-06-02T09:23:03.030674736Z"
    }
   },
   "outputs": [
    {
     "name": "stdout",
     "output_type": "stream",
     "text": [
      "oraler glukosetoleranztest  matched with  ['glukosetoleranztest'] (score = 0.7307692)\n",
      "\n",
      "harnleiterstriktur  matched with  ['harnleiterstriktur'] (score = 1.0)\n",
      "\n",
      "sedierung  matched with  ['sedierung uebermaessig'] (score = 1.0)\n",
      "\n",
      "hypothyreo  matched with  ['hypothyreo'] (score = 1.0)\n",
      "\n",
      "normofrequ  matched with  ['formocresol'] (score = 0.5454545)\n",
      "\n",
      "symptom der nierenbeckenentzundung  matched with  ['oberkieferhohlenentzundung'] (score = 0.5294118)\n",
      "\n",
      "krankenhau  matched with  ['zahnmedizinisch personal, krankenhau'] (score = 1.0)\n",
      "\n",
      "umbilicu  matched with  ['umbilicu'] (score = 1.0)\n",
      "\n",
      "zu viel protein im uri  matched with  ['multiproteinkomplex'] (score = 0.45454544)\n",
      "\n",
      "abs  matched with  ['fta-abs-test'] (score = 1.0)\n",
      "\n"
     ]
    }
   ],
   "source": [
    "def print_n_matches(matches, n=10):\n",
    "    for matched_item in random.sample(matches, n):\n",
    "        print(matched_item['stem'], \" matched with \", matched_item['index_term'],\n",
    "              f\"(score = {matched_item['score']})\")\n",
    "        print()\n",
    "\n",
    "\n",
    "print_n_matches(matched)"
   ]
  },
  {
   "cell_type": "code",
   "execution_count": 10,
   "metadata": {
    "ExecuteTime": {
     "end_time": "2023-06-02T09:23:20.328697276Z",
     "start_time": "2023-06-02T09:23:20.306883126Z"
    }
   },
   "outputs": [
    {
     "name": "stdout",
     "output_type": "stream",
     "text": [
      "672 / 997\n",
      "not initially matched:  0\n",
      "parasthesie  matched with  ['parasthesie'] (score = 1.0)\n",
      "\n",
      "entfernung  matched with  ['entfernung'] (score = 1.0)\n",
      "\n",
      "hypnotikum  matched with  ['hypnotika'] (score = 0.8)\n",
      "\n",
      "ersetz  matched with  ['immunglobuli leich ketten, ersatz'] (score = 0.8333333)\n",
      "\n",
      "magenulcu  matched with  ['magenulku'] (score = 0.8888889)\n",
      "\n",
      "internist  matched with  ['internet'] (score = 0.7777778)\n",
      "\n",
      "afebril  matched with  ['afebril krampfanfall'] (score = 1.0)\n",
      "\n",
      "nierenzellkarzinom  matched with  ['nierenzellkarzinom unbekann stadium'] (score = 1.0)\n",
      "\n",
      "pharynx  matched with  ['pharynx'] (score = 1.0)\n",
      "\n",
      "anasthesie  matched with  ['anasthesie'] (score = 1.0)\n",
      "\n"
     ]
    }
   ],
   "source": [
    "threshold = 0.75  # some false negatives with .7, so .69 seems to work good\n",
    "cutoff_matches = [match for match in matched if match['score'] > threshold]\n",
    "below_cutoff = [match for match in matched if match['score'] <= threshold]\n",
    "print(len(cutoff_matches), '/', len(matched))\n",
    "print(\"not initially matched: \", len(not_matched))\n",
    "print_n_matches(cutoff_matches)"
   ]
  },
  {
   "cell_type": "code",
   "execution_count": 11,
   "metadata": {
    "ExecuteTime": {
     "end_time": "2023-06-02T09:23:32.488896267Z",
     "start_time": "2023-06-02T09:23:32.446693531Z"
    }
   },
   "outputs": [
    {
     "name": "stdout",
     "output_type": "stream",
     "text": [
      "antivertiginosa  matched with  ['antipruriginosa'] (score = 0.73333335)\n",
      "\n",
      "akute pankreatiti  matched with  ['lupuspankreatiti'] (score = 0.7058823)\n",
      "\n",
      "nako  matched with  ['naio'] (score = 0.75)\n",
      "\n",
      "perfusionsstorung  matched with  ['herzfunktionsstoerung postoperativ'] (score = 0.71428573)\n",
      "\n",
      "symptom am ehesten bedingt durch muskelkontraktionen aufgrund von nierenstein-abgang  matched with  ['zahnprothesenidentifikationsmarkierung'] (score = 0.26190478)\n",
      "\n",
      "uniklinik  matched with  ['poliklinik'] (score = 0.7)\n",
      "\n",
      "normoglykamie  matched with  ['hypoglykamie'] (score = 0.6923077)\n",
      "\n",
      "infertil  matched with  ['nosokomial infektio'] (score = 0.75)\n",
      "\n",
      "infrascapular  matched with  ['membranen, intrazellular-'] (score = 0.6153846)\n",
      "\n",
      "zervikale lymphadenopathie  matched with  ['lymphadenopathie sklerosier'] (score = 0.6153846)\n",
      "\n"
     ]
    }
   ],
   "source": [
    "print_n_matches(below_cutoff)"
   ]
  },
  {
   "cell_type": "code",
   "execution_count": 12,
   "metadata": {
    "ExecuteTime": {
     "end_time": "2023-06-02T09:23:36.317714611Z",
     "start_time": "2023-06-02T09:23:36.299867368Z"
    }
   },
   "outputs": [],
   "source": [
    "# print_n_matches(not_matched)"
   ]
  },
  {
   "cell_type": "code",
   "execution_count": 13,
   "metadata": {
    "ExecuteTime": {
     "end_time": "2023-06-02T09:23:37.445949091Z",
     "start_time": "2023-06-02T09:23:37.433272941Z"
    }
   },
   "outputs": [],
   "source": [
    "# combine not matched by score and not matched by solr\n",
    "below_cutoff = not_matched + below_cutoff"
   ]
  },
  {
   "cell_type": "code",
   "execution_count": 14,
   "metadata": {
    "ExecuteTime": {
     "end_time": "2023-06-02T09:23:39.000889838Z",
     "start_time": "2023-06-02T09:23:38.989644950Z"
    }
   },
   "outputs": [
    {
     "name": "stdout",
     "output_type": "stream",
     "text": [
      "Unique matched terms = 672\n",
      "Unique non-matched terms = 325\n"
     ]
    }
   ],
   "source": [
    "print(\n",
    "    f\"Unique matched terms = {len(cutoff_matches)}\")\n",
    "print(\n",
    "    f\"Unique non-matched terms = {len(below_cutoff)}\")\n"
   ]
  },
  {
   "cell_type": "code",
   "execution_count": 19,
   "outputs": [
    {
     "data": {
      "text/plain": "{'cui': ['C0016204'],\n 'source': ['MDRGER'],\n 'language': ['GER'],\n 'name': ['Flatulenz'],\n 'index_term': ['flatulenz'],\n 'id': '724154c9-63d4-4658-ba0d-d6b1708574bf',\n '_version_': 1760194257559224321,\n 'score': 1.0,\n 'stem': 'flatulenz'}"
     },
     "execution_count": 19,
     "metadata": {},
     "output_type": "execute_result"
    }
   ],
   "source": [
    "cutoff_matches[0]"
   ],
   "metadata": {
    "collapsed": false,
    "ExecuteTime": {
     "end_time": "2023-06-02T09:31:52.400435978Z",
     "start_time": "2023-06-02T09:31:52.388379476Z"
    }
   }
  },
  {
   "cell_type": "code",
   "execution_count": 15,
   "metadata": {
    "ExecuteTime": {
     "end_time": "2023-06-02T09:25:09.612437691Z",
     "start_time": "2023-06-02T09:25:09.571227309Z"
    }
   },
   "outputs": [],
   "source": [
    "samples_to_annotate_path = TLCPaths.project_data_path.joinpath(\"samples_to_annotate.json\")\n",
    "samples_to_validate_path = TLCPaths.project_data_path.joinpath(\"samples_to_validate.json\")\n",
    "with open(samples_to_annotate_path, \"w\") as fp:\n",
    "    json.dump([sample for sample in below_cutoff], fp)\n",
    "    \n",
    "with open(samples_to_validate_path, \"w\") as fp:\n",
    "    json.dump([sample for sample in cutoff_matches], fp)"
   ]
  },
  {
   "cell_type": "markdown",
   "metadata": {},
   "source": [
    "## Analyze not mached mentions"
   ]
  },
  {
   "cell_type": "code",
   "execution_count": 17,
   "metadata": {
    "ExecuteTime": {
     "end_time": "2023-06-02T09:25:48.187090690Z",
     "start_time": "2023-06-02T09:25:46.743888122Z"
    }
   },
   "outputs": [],
   "source": [
    "sample_collection = SampleCollection(load_tlc_samples())\n",
    "annotations = [ann for sample in load_tlc_samples() for ann in sample.annotations]\n",
    "\n",
    "with open(TLCPaths.project_data_path.joinpath('search_terms_single_and_ids.json'), 'r') as fp:\n",
    "    terms_and_ids = json.load(fp)\n",
    "    \n",
    "import os\n",
    "os.environ[\"FORCE_COLOR\"] = \"1\""
   ]
  },
  {
   "cell_type": "code",
   "execution_count": 18,
   "metadata": {
    "ExecuteTime": {
     "end_time": "2023-06-02T09:25:48.240718900Z",
     "start_time": "2023-06-02T09:25:48.190976348Z"
    }
   },
   "outputs": [
    {
     "name": "stdout",
     "output_type": "stream",
     "text": [
      "Thread: [Unerklärliche Bauchschmerzen]\n",
      "Text: [Hallo!\n",
      "Auch ich dachte laut der Beschwerden von einigen von euch gleich an \u001B[31mGallensteine\u001B[0m.\n",
      "Beim Ultraschall muss man komplett nüchtern sein, d.h. nicht mal Wasser trinken vorher, sonst kann man bei der Gallenblase nichts erkennen. Es gibt auch Gallensteine in den Gallengängen, wobei leider eine Ultraschalluntersuchungen meistens nicht reicht um diese zu erkennen. Da kann man eine ERCP (Sp\\u00edegelung) machen.\n",
      "Obwohl ich aber glaube, dass sie eure Ärzte die einen Oberbauchultraschall bei euch gemacht haben, sich die Gallenblasen sicher genau angesehen haben, da die Beschwerden ja auch dafür in Frage kommen.]\n",
      "\n",
      "Thread: [Ständiges Völlegefühl, \u001B[31mAufstoßen\u001B[0m, Blähungen]\n",
      "Text: [Wenn du Helicobacter hast hält es an bis du behandelt wurdest. Man kann ihn relativ leicht bei einer Magenspiegelung nachweisen.\n",
      "Eine Gastritis heilt, wenn sie schon länger besteht, nicht von heute auf morgen. Dazu braucht es leichte Kost, und meist gibt man PPI. Das Ranitidin dämmt die Säure auch ein, aber eben nicht so stark wie Omeprazol oder dergeichen.]\n",
      "\n",
      "Thread: [Ständiges Völlegefühl, \u001B[31mAufstoßen\u001B[0m, Blähungen]\n",
      "Text: [Wenn du Helicobacter hast hält es an bis du behandelt wurdest. Man kann ihn relativ leicht bei einer Magenspiegelung nachweisen.\n",
      "Eine Gastritis heilt, wenn sie schon länger besteht, nicht von heute auf morgen. Dazu braucht es leichte Kost, und meist gibt man PPI. Das Ranitidin dämmt die Säure auch ein, aber eben nicht so stark wie Omeprazol oder dergeichen.]\n",
      "\n",
      "Thread: [Nierenbluten]\n",
      "Text: [hallo..\n",
      "mein freund hatte gestern einen relativ schweren unfall. er war heute im krankenhaus. 2 rippen gebrochen, gehirnerschütterung und \u001B[31mnierenbluten\u001B[0m.\n",
      "ich mach mir schreckliche sorgen. ich konnte leider nicht viel darüber erfahren.kann sein dass ich grad echt zu blöd bin dafür. aber ich weiß nicht genau was da jetzt eigentlich passieren kann oder was beim nierenbluten genau passiert?\n",
      "kann er jetzt wirklich sterben?\n",
      "können medikamente helfen?\n",
      "könnt ihr mir da weiterhelfen?\n",
      "ich wäre wirklich dankbar über jede info..\n",
      "danke schonmal im vorraus..]\n",
      "\n",
      "Thread: [\u001B[31mNierenbluten\u001B[0m]\n",
      "Text: [hallo..\n",
      "mein freund hatte gestern einen relativ schweren unfall. er war heute im krankenhaus. 2 rippen gebrochen, gehirnerschütterung und nierenbluten.\n",
      "ich mach mir schreckliche sorgen. ich konnte leider nicht viel darüber erfahren.kann sein dass ich grad echt zu blöd bin dafür. aber ich weiß nicht genau was da jetzt eigentlich passieren kann oder was beim nierenbluten genau passiert?\n",
      "kann er jetzt wirklich sterben?\n",
      "können medikamente helfen?\n",
      "könnt ihr mir da weiterhelfen?\n",
      "ich wäre wirklich dankbar über jede info..\n",
      "danke schonmal im vorraus..]\n",
      "\n",
      "Thread: [\u001B[31mMagen Darm Grippe\u001B[0m in Dauerschleife]\n",
      "Text: [Wie kann es dann aber sein, dass nur sie sich immer wieder neu ansteckt und wir anderen drei noch nicht?]\n",
      "\n",
      "Thread: [\u001B[31mHarnleiterschiene\u001B[0m, werden die Schmerzen besser?]\n",
      "Text: [Mir wurde einfach der Termin in 5,5 Wochen gegeben. Der Arzt sagte mir was von mindestens 2 Wochen Dehnungszeit. Mit 2 Wochen könnt ich noch irgendwie leben aber so lange??? Ich gehe die Woche nochmal zu meinem niedergelassenem Urologen, mal sehen was der sagt. er wird sich bestimmt für mich einsetzen oder mich beraten, denn er ist ein ganz netter.\n",
      "Am liebsten würd ich mir das Ding in 10 Tagen wieder ziehen lassen und hoffen dass der Stein mitkommt. Der wäre auch so garantiert noch rausgekommen, hätte man nicht so einen Druck gemacht. Ob das nötig war wegen einem Stau 1 Grades ohne Beschwerden :/\n",
      "Momentan ist es etwas besser im Unterbauch, dafür ist die Niere jetzt recht schmerzhaft, mal sehen wie es in den nächsten Tagen wird.]\n",
      "\n",
      "Thread: [Harnleiterschiene, werden die Schmerzen besser?]\n",
      "Text: [Mir wurde einfach der Termin in 5,5 Wochen gegeben. Der Arzt sagte mir was von mindestens 2 Wochen Dehnungszeit. Mit 2 Wochen könnt ich noch irgendwie leben aber so lange??? Ich gehe die Woche nochmal zu meinem niedergelassenem Urologen, mal sehen was der sagt. er wird sich bestimmt für mich einsetzen oder mich beraten, denn er ist ein ganz netter.\n",
      "Am liebsten würd ich mir das Ding in 10 Tagen wieder ziehen lassen und hoffen dass der Stein mitkommt. Der wäre auch so garantiert noch rausgekommen, hätte man nicht so einen Druck gemacht. Ob das nötig war wegen einem Stau 1 Grades ohne Beschwerden :/\n",
      "Momentan ist es etwas besser im Unterbauch, dafür ist die \u001B[31mNiere jetzt recht schmerzhaft\u001B[0m, mal sehen wie es in den nächsten Tagen wird.]\n",
      "\n",
      "Thread: [Appetitlosigkeit]\n",
      "Text: [Hallo Liebe med1 Mitglieder,\n",
      "Vorgeschichte in der Kurzfassung:\n",
      "- Sept 16 - März 17 linke Unterbauchschmerzen bis der \u001B[31mBlinddarm im März rauskam\u001B[0m (war nicht entzunden, aber Verwachsung wurden gelöst)\n",
      "- März 17 ist mein Daddy nach langem Kampf gg Leberzirrhosen mit multiplem Organversagen gestorben\n",
      "- Gastritis Typ C - Pantropazol bei Bedarf\n",
      "Nun das Problem:\n",
      "Seit ca. 4 Monaten hab ich echt wenig Hunger. Teils gar nicht, teils bin ich so schnell satt.\n",
      "Selbst nach einem Tag mit Bergtour 0 Appetit.\n",
      "Sind das noch die Folge der o.g. Ereignisse durch die Belastungen (auch Psyche) und des \\verlernen\\ des viel essens oder sollte man das doch mal abklären?! (War eigtl immer eine sehr gute Esserin).\n",
      "Nur selbst wenn ich mehr esse denk ich mich zerreist es od ich muss mich übergeben.\n",
      "Abnehmen tu ich jedoch nicht.\n",
      "(1,75 cm, 64 kg, 30 Jahre)\n",
      "Bsp. Heute Hunger ohne Ende auf Arbeit. 5 min Terrine gegessen und war selbst da nach der Hälfte satt. (War aber auch net der Hammer). Nun abends zwar was gegessen, aber 0 Hunger. Wäre auch ohne gegangen.\n",
      "Lg]\n",
      "\n",
      "Thread: [Appetitlosigkeit]\n",
      "Text: [Hallo Liebe med1 Mitglieder,\n",
      "Vorgeschichte in der Kurzfassung:\n",
      "- Sept 16 - März 17 linke Unterbauchschmerzen bis der Blinddarm im März rauskam (war nicht entzunden, aber \u001B[31mVerwachsung\u001B[0m wurden gelöst)\n",
      "- März 17 ist mein Daddy nach langem Kampf gg Leberzirrhosen mit multiplem Organversagen gestorben\n",
      "- Gastritis Typ C - Pantropazol bei Bedarf\n",
      "Nun das Problem:\n",
      "Seit ca. 4 Monaten hab ich echt wenig Hunger. Teils gar nicht, teils bin ich so schnell satt.\n",
      "Selbst nach einem Tag mit Bergtour 0 Appetit.\n",
      "Sind das noch die Folge der o.g. Ereignisse durch die Belastungen (auch Psyche) und des \\verlernen\\ des viel essens oder sollte man das doch mal abklären?! (War eigtl immer eine sehr gute Esserin).\n",
      "Nur selbst wenn ich mehr esse denk ich mich zerreist es od ich muss mich übergeben.\n",
      "Abnehmen tu ich jedoch nicht.\n",
      "(1,75 cm, 64 kg, 30 Jahre)\n",
      "Bsp. Heute Hunger ohne Ende auf Arbeit. 5 min Terrine gegessen und war selbst da nach der Hälfte satt. (War aber auch net der Hammer). Nun abends zwar was gegessen, aber 0 Hunger. Wäre auch ohne gegangen.\n",
      "Lg]\n",
      "\n"
     ]
    }
   ],
   "source": [
    "for search_term in below_cutoff[:10]:\n",
    "    unique_ids = terms_and_ids[search_term['stem']]\n",
    "    annotation = next(ann for ann in annotations if ann.id in unique_ids)\n",
    "    sample = sample_collection.get_sample_by_annotation_id(annotation.id)\n",
    "    text = sample.text\n",
    "    colored_mention = colored(text[annotation.span_start:annotation.span_end], \"red\")\n",
    "    text_with_colors = text[:annotation.span_start] + colored_mention + text[annotation.span_end:]\n",
    "    print(text_with_colors)"
   ]
  },
  {
   "cell_type": "code",
   "execution_count": 17,
   "metadata": {
    "ExecuteTime": {
     "start_time": "2023-04-03T11:52:27.626087Z",
     "end_time": "2023-04-03T11:52:27.626525Z"
    }
   },
   "outputs": [],
   "source": []
  }
 ],
 "metadata": {
  "kernelspec": {
   "display_name": "Python 3",
   "language": "python",
   "name": "python3"
  },
  "language_info": {
   "codemirror_mode": {
    "name": "ipython",
    "version": 3
   },
   "file_extension": ".py",
   "mimetype": "text/x-python",
   "name": "python",
   "nbconvert_exporter": "python",
   "pygments_lexer": "ipython3",
   "version": "3.11.2"
  }
 },
 "nbformat": 4,
 "nbformat_minor": 1
}
